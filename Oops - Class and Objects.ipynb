{
 "cells": [
  {
   "cell_type": "markdown",
   "id": "4699f3cf",
   "metadata": {},
   "source": [
    "### Class"
   ]
  },
  {
   "cell_type": "markdown",
   "id": "332250f8",
   "metadata": {},
   "source": [
    "* Class is a template / blue-print for real world entities\n",
    "* A python class is a group of attributes and methods."
   ]
  },
  {
   "cell_type": "markdown",
   "id": "b3831281",
   "metadata": {},
   "source": [
    "We all are surrounded with objects like mobile phone , bike , dog and even ourself is also an object in real world entities."
   ]
  },
  {
   "cell_type": "markdown",
   "id": "fc0c7363",
   "metadata": {},
   "source": [
    "Example  :\n",
    "                  \n",
    "                      Phone\n",
    "                   \n",
    "                        |\n",
    "            --------------------------------\n",
    "            |                              |\n",
    "        Properties/Attributes         Behaviour / Method\n",
    "        * color                         * make calls\n",
    "        * cost                          * watch videos\n",
    "        * Battery life                  * play game\n",
    "        * processor\n",
    "        * memory"
   ]
  },
  {
   "cell_type": "markdown",
   "id": "a481c79d",
   "metadata": {},
   "source": [
    "* Class is a user-defined datatypes\n",
    "* In this user-defined datatypes we have attributes & methods.\n",
    "\n",
    "class classname:\n",
    "\n",
    "\n",
    "  def__init__(self):\n",
    "  \n",
    "  \n",
    "    self.variable_name=value\n",
    "    self.variable_name='value'\n",
    "    \n",
    "  def method_name(self):\n",
    "  \n",
    "  \n",
    "    Body of method\n",
    "    \n",
    "    \n",
    "  def method_name(self,f1,f2):\n",
    "  \n",
    "  \n",
    "    Body of method\n"
   ]
  },
  {
   "cell_type": "markdown",
   "id": "1bab1b43",
   "metadata": {},
   "source": [
    "### Creating the class with classname as Phone\n"
   ]
  },
  {
   "cell_type": "code",
   "execution_count": 1,
   "id": "837c2df1",
   "metadata": {},
   "outputs": [],
   "source": [
    "class Phone:\n",
    "    def make_call(self):\n",
    "        print(\"Making Phone call\")\n",
    "    def play_game(self):\n",
    "        print(\"Playing Game\")\n",
    "        \n",
    "   # you are defining a method or behaviour "
   ]
  },
  {
   "cell_type": "markdown",
   "id": "8de66a5b",
   "metadata": {},
   "source": [
    "### Instantiating the \"x\" object"
   ]
  },
  {
   "cell_type": "markdown",
   "id": "7d83eda2",
   "metadata": {},
   "source": [
    "* Object is class type variable or class instance. \n",
    "* to use a class we should create an object to the class.\n",
    "* syntax:\n",
    "   object_name = class_name()"
   ]
  },
  {
   "cell_type": "code",
   "execution_count": 3,
   "id": "143036ae",
   "metadata": {},
   "outputs": [],
   "source": [
    "x=Phone()"
   ]
  },
  {
   "cell_type": "markdown",
   "id": "3a4d4cfa",
   "metadata": {},
   "source": [
    "### Invoking methods through object"
   ]
  },
  {
   "cell_type": "code",
   "execution_count": 4,
   "id": "6659d4b4",
   "metadata": {},
   "outputs": [
    {
     "name": "stdout",
     "output_type": "stream",
     "text": [
      "Making Phone call\n",
      "Playing Game\n"
     ]
    }
   ],
   "source": [
    "x.make_call()\n",
    "x.play_game()"
   ]
  },
  {
   "cell_type": "markdown",
   "id": "ef59b505",
   "metadata": {},
   "source": [
    "### Adding parameters to the class"
   ]
  },
  {
   "cell_type": "code",
   "execution_count": 18,
   "id": "7615b1a6",
   "metadata": {},
   "outputs": [],
   "source": [
    "class Phone:\n",
    "    def set_color(self,color):\n",
    "        self.color = color\n",
    "    def set_cost(self,cost):\n",
    "        self.cost = cost\n",
    "    def show_color(self):\n",
    "        return self.color\n",
    "    def show_cost(self):\n",
    "        return self.cost    "
   ]
  },
  {
   "cell_type": "code",
   "execution_count": 19,
   "id": "fde2c352",
   "metadata": {},
   "outputs": [],
   "source": [
    "x=Phone()\n",
    "x.set_color('Blue')\n",
    "x.set_cost(50000)"
   ]
  },
  {
   "cell_type": "code",
   "execution_count": 21,
   "id": "67ff9c24",
   "metadata": {},
   "outputs": [
    {
     "data": {
      "text/plain": [
       "'Blue'"
      ]
     },
     "execution_count": 21,
     "metadata": {},
     "output_type": "execute_result"
    }
   ],
   "source": [
    "x.show_color()\n"
   ]
  },
  {
   "cell_type": "code",
   "execution_count": 22,
   "id": "fc9123d0",
   "metadata": {},
   "outputs": [
    {
     "data": {
      "text/plain": [
       "50000"
      ]
     },
     "execution_count": 22,
     "metadata": {},
     "output_type": "execute_result"
    }
   ],
   "source": [
    "x.show_cost()"
   ]
  },
  {
   "cell_type": "code",
   "execution_count": 23,
   "id": "6c9c3d59",
   "metadata": {},
   "outputs": [],
   "source": [
    "class Phone:\n",
    "    def set_color(self,color):\n",
    "        self.color = color\n",
    "    def set_cost(self,cost):\n",
    "        self.cost = cost\n",
    "    def show_color(self):\n",
    "        return self.color\n",
    "    def show_cost(self):\n",
    "        return self.cost  \n",
    "    def make_call(self):\n",
    "        print(\"Making Phone call\")\n",
    "    def play_game(self):\n",
    "        print(\"Playing Game\")\n",
    "    "
   ]
  },
  {
   "cell_type": "code",
   "execution_count": 24,
   "id": "28e5ed86",
   "metadata": {},
   "outputs": [
    {
     "name": "stdout",
     "output_type": "stream",
     "text": [
      "Making Phone call\n"
     ]
    }
   ],
   "source": [
    "x=Phone()\n",
    "x.make_call()"
   ]
  },
  {
   "cell_type": "code",
   "execution_count": 25,
   "id": "59a5d14f",
   "metadata": {},
   "outputs": [
    {
     "name": "stdout",
     "output_type": "stream",
     "text": [
      "Playing Game\n"
     ]
    }
   ],
   "source": [
    "x.play_game()"
   ]
  },
  {
   "cell_type": "markdown",
   "id": "38893533",
   "metadata": {},
   "source": [
    "### Creating a class with constructor"
   ]
  },
  {
   "cell_type": "markdown",
   "id": "0dfaaf38",
   "metadata": {},
   "source": [
    "Sntax:\n",
    "    \n",
    "    class classname:\n",
    "        \n",
    "        def __init__(self):\n",
    "            \n",
    "            self.variavle_name = value\n",
    "            self.variable_name = 'value'\n",
    "            \n",
    "            \n",
    "            \n",
    " *   _ _init_ _() - This method is used to initialize the variable. \n",
    " * This is a special method. we dont call this method explicitly.\n",
    " * self is variable which refers to current class instance/Object"
   ]
  },
  {
   "cell_type": "code",
   "execution_count": 26,
   "id": "fbb47862",
   "metadata": {},
   "outputs": [],
   "source": [
    "# Example : 1\n",
    "\n",
    "class Employee:\n",
    "    def __init__(self,name,age,salary,gender):\n",
    "        self.name = name\n",
    "        self.age = age\n",
    "        self.salary = salary\n",
    "        self.gender = gender\n",
    "    def employee_details(self):\n",
    "        print(\"Name of Employee is\" , self.name)\n",
    "        print(\"Age of Employee is \" , self.age)\n",
    "        print(\"Salary of Employee is \" , self.salary)\n",
    "        print(\"Gender of Employee is \" , self.gender)\n",
    "        \n",
    "    "
   ]
  },
  {
   "cell_type": "markdown",
   "id": "2ad40419",
   "metadata": {},
   "source": [
    "### Instantiating Object"
   ]
  },
  {
   "cell_type": "code",
   "execution_count": 31,
   "id": "ad0dcf78",
   "metadata": {},
   "outputs": [],
   "source": [
    "x1 = Employee('sam',32,85000,'male')"
   ]
  },
  {
   "cell_type": "code",
   "execution_count": 33,
   "id": "0627c8c7",
   "metadata": {},
   "outputs": [
    {
     "name": "stdout",
     "output_type": "stream",
     "text": [
      "Name of Employee is sam\n",
      "Age of Employee is  32\n",
      "Salary of Employee is  85000\n",
      "Gender of Employee is  male\n"
     ]
    }
   ],
   "source": [
    "# Invoking the employee_details method\n",
    "\n",
    "x1.employee_details()"
   ]
  },
  {
   "cell_type": "code",
   "execution_count": 41,
   "id": "7bffcd07",
   "metadata": {},
   "outputs": [],
   "source": [
    "# Example -2\n",
    "\n",
    "class Human:\n",
    "    def __init__(self,n,o):\n",
    "        self.name = n\n",
    "        self.occupation = o\n",
    "    def do_work(self):\n",
    "        if self.occupation == \"football player\":\n",
    "            print(self.name , \"Plays football\")\n",
    "        elif self.occupation == 'actor':\n",
    "            print(self.name , \"Shoots film\")\n",
    "        elif self.occupation == \"Data Scientist\":\n",
    "            print(self.name , \"predict the insights of data\")\n",
    "    def speaks(self):\n",
    "        print(self.name ,\"says how are your ?\")\n",
    "    \n",
    "        \n",
    "    "
   ]
  },
  {
   "cell_type": "code",
   "execution_count": 42,
   "id": "0d49add3",
   "metadata": {},
   "outputs": [
    {
     "name": "stdout",
     "output_type": "stream",
     "text": [
      "Syed Imran Plays football\n",
      "Syed Imran says how are your ?\n"
     ]
    }
   ],
   "source": [
    "s1 = Human(\"Syed Imran\",\"football player\")\n",
    "s1.do_work()\n",
    "s1.speaks()"
   ]
  },
  {
   "cell_type": "code",
   "execution_count": 43,
   "id": "e382aff2",
   "metadata": {},
   "outputs": [
    {
     "name": "stdout",
     "output_type": "stream",
     "text": [
      "Syed Imran Shoots film\n",
      "Syed Imran says how are your ?\n"
     ]
    }
   ],
   "source": [
    "s1 = Human(\"Syed Imran\",\"actor\")\n",
    "s1.do_work()\n",
    "s1.speaks()"
   ]
  },
  {
   "cell_type": "code",
   "execution_count": 44,
   "id": "66a47dae",
   "metadata": {},
   "outputs": [
    {
     "name": "stdout",
     "output_type": "stream",
     "text": [
      "Syed Imran predict the insights of data\n",
      "Syed Imran says how are your ?\n"
     ]
    }
   ],
   "source": [
    "s1 = Human(\"Syed Imran\",\"Data Scientist\")\n",
    "s1.do_work()\n",
    "s1.speaks()"
   ]
  },
  {
   "cell_type": "code",
   "execution_count": 45,
   "id": "5aece7ee",
   "metadata": {},
   "outputs": [
    {
     "name": "stdout",
     "output_type": "stream",
     "text": [
      "Syed predict the insights of data\n",
      "Syed says how are your ?\n"
     ]
    }
   ],
   "source": [
    "s2 = Human(\"Syed\",\"Data Scientist\")\n",
    "s2.do_work()\n",
    "s2.speaks()"
   ]
  },
  {
   "cell_type": "code",
   "execution_count": 46,
   "id": "a13cb154",
   "metadata": {},
   "outputs": [],
   "source": [
    "# Example 3\n",
    "class Car:\n",
    "    base_price = 100000   ## class variable\n",
    "    def __init__(self,windows,doors,power):\n",
    "        self.windows = windows\n",
    "        self.doors = doors\n",
    "        self.power = power\n",
    "    def what_based_price(self):\n",
    "        print(\"The base price is {}\".format(self.base_price))\n",
    "        "
   ]
  },
  {
   "cell_type": "code",
   "execution_count": 52,
   "id": "9f9eb02e",
   "metadata": {},
   "outputs": [
    {
     "data": {
      "text/plain": [
       "100000"
      ]
     },
     "execution_count": 52,
     "metadata": {},
     "output_type": "execute_result"
    }
   ],
   "source": [
    "car1 = Car(4,5,2000)\n",
    "car1.base_price"
   ]
  },
  {
   "cell_type": "code",
   "execution_count": 53,
   "id": "37abf858",
   "metadata": {},
   "outputs": [
    {
     "data": {
      "text/plain": [
       "100000"
      ]
     },
     "execution_count": 53,
     "metadata": {},
     "output_type": "execute_result"
    }
   ],
   "source": [
    "Car.base_price"
   ]
  },
  {
   "cell_type": "code",
   "execution_count": 55,
   "id": "a32d5568",
   "metadata": {},
   "outputs": [
    {
     "name": "stdout",
     "output_type": "stream",
     "text": [
      "The base price is 100000\n"
     ]
    }
   ],
   "source": [
    "car1.what_based_price()"
   ]
  },
  {
   "cell_type": "code",
   "execution_count": 57,
   "id": "36895ded",
   "metadata": {},
   "outputs": [],
   "source": [
    "class Car:\n",
    "    base_price = 100000   ## class variable\n",
    "    def __init__(self,windows,doors,power):\n",
    "        self.windows = windows\n",
    "        self.doors = doors\n",
    "        self.power = power\n",
    "    def what_based_price(self):\n",
    "        print(\"The base price is {}\".format(self.base_price))\n",
    "    @classmethod\n",
    "    def revise_base_price(cls,inflation):\n",
    "        cls.base_price = cls.base_price + cls.base_price * inflation"
   ]
  },
  {
   "cell_type": "code",
   "execution_count": 59,
   "id": "1891a09b",
   "metadata": {},
   "outputs": [],
   "source": [
    "Car.revise_base_price(0.10)"
   ]
  },
  {
   "cell_type": "code",
   "execution_count": 60,
   "id": "4c0e2b20",
   "metadata": {},
   "outputs": [
    {
     "data": {
      "text/plain": [
       "110000.0"
      ]
     },
     "execution_count": 60,
     "metadata": {},
     "output_type": "execute_result"
    }
   ],
   "source": [
    "Car.base_price"
   ]
  },
  {
   "cell_type": "code",
   "execution_count": 64,
   "id": "18b73419",
   "metadata": {},
   "outputs": [],
   "source": [
    "car1= Car(4,5,2000)\n",
    "car1.revise_base_price(0.20)"
   ]
  },
  {
   "cell_type": "code",
   "execution_count": 65,
   "id": "3c9599ac",
   "metadata": {},
   "outputs": [
    {
     "data": {
      "text/plain": [
       "132000.0"
      ]
     },
     "execution_count": 65,
     "metadata": {},
     "output_type": "execute_result"
    }
   ],
   "source": [
    "car1.base_price"
   ]
  },
  {
   "cell_type": "code",
   "execution_count": null,
   "id": "a017c5a4",
   "metadata": {},
   "outputs": [],
   "source": []
  }
 ],
 "metadata": {
  "kernelspec": {
   "display_name": "Python 3",
   "language": "python",
   "name": "python3"
  },
  "language_info": {
   "codemirror_mode": {
    "name": "ipython",
    "version": 3
   },
   "file_extension": ".py",
   "mimetype": "text/x-python",
   "name": "python",
   "nbconvert_exporter": "python",
   "pygments_lexer": "ipython3",
   "version": "3.8.8"
  }
 },
 "nbformat": 4,
 "nbformat_minor": 5
}
