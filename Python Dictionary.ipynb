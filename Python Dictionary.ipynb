{
 "cells": [
  {
   "cell_type": "markdown",
   "id": "8f3fc69e",
   "metadata": {},
   "source": [
    "## Python Dictionary"
   ]
  },
  {
   "cell_type": "code",
   "execution_count": 1,
   "id": "195ebf35",
   "metadata": {},
   "outputs": [],
   "source": [
    "# Python dictionary is an unordered collection of items. \n",
    "# Each item of a dictionary has a key/value pair.\n",
    "# Dictionaries are optimized to retrieve values when the key is known.\n"
   ]
  },
  {
   "cell_type": "markdown",
   "id": "d4c851a0",
   "metadata": {},
   "source": [
    "## Creating Python Dictionary"
   ]
  },
  {
   "cell_type": "code",
   "execution_count": 12,
   "id": "44b37798",
   "metadata": {},
   "outputs": [],
   "source": [
    "# Creating a dictionary is as simple as placing items inside curly braces {} separated by commas.\n",
    "# An item has a key and a corresponding value that is expressed as a pair (key: value).\n",
    "# While the values can be of any data type and can repeat,\n",
    "# Must be unique.\n"
   ]
  },
  {
   "cell_type": "code",
   "execution_count": 6,
   "id": "f91fd225",
   "metadata": {},
   "outputs": [
    {
     "name": "stdout",
     "output_type": "stream",
     "text": [
      "{}\n",
      "{1: 'apple', 2: 'ball'}\n",
      "{'name': 'Syed Imran', 1: [2, 4, 3]}\n",
      "{1: 'apple', 2: 'ball'}\n",
      "{1: 'apple', 2: 'ball'}\n"
     ]
    }
   ],
   "source": [
    "# Example -1\n",
    "\n",
    "# empty dictionary using build in function\n",
    "my_dict = {}\n",
    "print(my_dict)\n",
    "\n",
    "# dictionary with integer keys\n",
    "my_dict = {1: 'apple', 2: 'ball'}\n",
    "print(my_dict)\n",
    "\n",
    "# dictionary with mixed keys\n",
    "my_dict = {'name': 'Syed Imran', 1: [2, 4, 3]}\n",
    "print(my_dict)\n",
    "\n",
    "# using dict()\n",
    "my_dict = dict({1:'apple', 2:'ball'})\n",
    "print(my_dict)\n",
    "\n",
    "# from sequence having each item as a pair\n",
    "my_dict = dict([(1,'apple'), (2,'ball')])\n",
    "print(my_dict)"
   ]
  },
  {
   "cell_type": "markdown",
   "id": "4d1a8fc5",
   "metadata": {},
   "source": [
    "## Accessing Elements from Dictionary"
   ]
  },
  {
   "cell_type": "code",
   "execution_count": 10,
   "id": "ff4d6016",
   "metadata": {},
   "outputs": [],
   "source": [
    "# While indexing is used with other data types to access values, a dictionary uses keys. \n",
    "# Keys can be used either inside square brackets [] or with the get() method.\n",
    "# If we use the square brackets [], KeyError is raised in case a key is not found in the dictionary.\n",
    "# get() method returns None if the key is not found."
   ]
  },
  {
   "cell_type": "code",
   "execution_count": 11,
   "id": "32d80eb0",
   "metadata": {},
   "outputs": [
    {
     "name": "stdout",
     "output_type": "stream",
     "text": [
      "Syed Imran\n",
      "26\n",
      "None\n"
     ]
    },
    {
     "ename": "KeyError",
     "evalue": "'address'",
     "output_type": "error",
     "traceback": [
      "\u001b[1;31m---------------------------------------------------------------------------\u001b[0m",
      "\u001b[1;31mKeyError\u001b[0m                                  Traceback (most recent call last)",
      "\u001b[1;32m<ipython-input-11-d5ae425f0e85>\u001b[0m in \u001b[0;36m<module>\u001b[1;34m\u001b[0m\n\u001b[0;32m     15\u001b[0m \u001b[1;33m\u001b[0m\u001b[0m\n\u001b[0;32m     16\u001b[0m \u001b[1;31m# KeyError\u001b[0m\u001b[1;33m\u001b[0m\u001b[1;33m\u001b[0m\u001b[1;33m\u001b[0m\u001b[0m\n\u001b[1;32m---> 17\u001b[1;33m \u001b[0mprint\u001b[0m\u001b[1;33m(\u001b[0m\u001b[0mmy_dict\u001b[0m\u001b[1;33m[\u001b[0m\u001b[1;34m'address'\u001b[0m\u001b[1;33m]\u001b[0m\u001b[1;33m)\u001b[0m\u001b[1;33m\u001b[0m\u001b[1;33m\u001b[0m\u001b[0m\n\u001b[0m",
      "\u001b[1;31mKeyError\u001b[0m: 'address'"
     ]
    }
   ],
   "source": [
    "# Example -1\n",
    "\n",
    "# get vs [] for retrieving elements\n",
    "my_dict = {'name': 'Syed Imran', 'age': 26}\n",
    "\n",
    "# Output: Syed Imran\n",
    "print(my_dict['name'])\n",
    "\n",
    "# Output: 26\n",
    "print(my_dict.get('age'))\n",
    "\n",
    "# Trying to access keys which doesn't exist throws error\n",
    "# Output None\n",
    "print(my_dict.get('address'))\n",
    "\n",
    "# KeyError\n",
    "print(my_dict['address'])"
   ]
  },
  {
   "cell_type": "markdown",
   "id": "3c386825",
   "metadata": {},
   "source": [
    "## Changing and Adding Dictionary elements"
   ]
  },
  {
   "cell_type": "code",
   "execution_count": 13,
   "id": "59e5083d",
   "metadata": {},
   "outputs": [],
   "source": [
    "# Dictionaries are mutable.\n",
    "# We can add new items or change the value of existing items using an assignment operator.\n",
    "# If the key is already present, then the existing value gets updated.\n",
    "# In case the key is not present, a new (key: value) pair is added to the dictionary."
   ]
  },
  {
   "cell_type": "code",
   "execution_count": 14,
   "id": "33a4b588",
   "metadata": {},
   "outputs": [
    {
     "name": "stdout",
     "output_type": "stream",
     "text": [
      "{'name': 'Syed Imran', 'age': 27}\n",
      "{'name': 'Syed Imran', 'age': 27, 'address': 'Downtown'}\n"
     ]
    }
   ],
   "source": [
    "# Example -2\n",
    "\n",
    "# Changing and adding Dictionary Elements\n",
    "my_dict = {'name': 'Syed Imran', 'age': 26}\n",
    "\n",
    "# update value\n",
    "my_dict['age'] = 27\n",
    "\n",
    "#Output: {'age': 27, 'name': 'Syed Imran'}\n",
    "print(my_dict)\n",
    "\n",
    "# add item\n",
    "my_dict['address'] = 'Downtown'\n",
    "\n",
    "# Output: {'address': 'Downtown', 'age': 27, 'name': 'Syed Imran'}\n",
    "print(my_dict)"
   ]
  },
  {
   "cell_type": "markdown",
   "id": "57189486",
   "metadata": {},
   "source": [
    "## Removing elements from Dictionary"
   ]
  },
  {
   "cell_type": "code",
   "execution_count": 15,
   "id": "5f6a7b0f",
   "metadata": {},
   "outputs": [],
   "source": [
    "# We can remove a particular item in a dictionary by using the pop() method. \n",
    "# This method removes an item with the provided key and returns the value.\n",
    "# All the items can be removed at once, using the clear() method.\n",
    "# We can also use the del keyword to remove individual items or the entire dictionary itself."
   ]
  },
  {
   "cell_type": "code",
   "execution_count": 16,
   "id": "72c5635d",
   "metadata": {},
   "outputs": [
    {
     "name": "stdout",
     "output_type": "stream",
     "text": [
      "16\n",
      "{1: 1, 2: 4, 3: 9, 5: 25}\n",
      "(5, 25)\n",
      "{1: 1, 2: 4, 3: 9}\n",
      "{}\n"
     ]
    },
    {
     "ename": "NameError",
     "evalue": "name 'squares' is not defined",
     "output_type": "error",
     "traceback": [
      "\u001b[1;31m---------------------------------------------------------------------------\u001b[0m",
      "\u001b[1;31mNameError\u001b[0m                                 Traceback (most recent call last)",
      "\u001b[1;32m<ipython-input-16-2bf17c66d467>\u001b[0m in \u001b[0;36m<module>\u001b[1;34m\u001b[0m\n\u001b[0;32m     30\u001b[0m \u001b[1;33m\u001b[0m\u001b[0m\n\u001b[0;32m     31\u001b[0m \u001b[1;31m# Throws Error\u001b[0m\u001b[1;33m\u001b[0m\u001b[1;33m\u001b[0m\u001b[1;33m\u001b[0m\u001b[0m\n\u001b[1;32m---> 32\u001b[1;33m \u001b[0mprint\u001b[0m\u001b[1;33m(\u001b[0m\u001b[0msquares\u001b[0m\u001b[1;33m)\u001b[0m\u001b[1;33m\u001b[0m\u001b[1;33m\u001b[0m\u001b[0m\n\u001b[0m",
      "\u001b[1;31mNameError\u001b[0m: name 'squares' is not defined"
     ]
    }
   ],
   "source": [
    "# Example -3\n",
    "\n",
    "# Removing elements from a dictionary\n",
    "\n",
    "# create a dictionary\n",
    "squares = {1: 1, 2: 4, 3: 9, 4: 16, 5: 25}\n",
    "\n",
    "# remove a particular item, returns its value\n",
    "# Output: 16\n",
    "print(squares.pop(4))\n",
    "\n",
    "# Output: {1: 1, 2: 4, 3: 9, 5: 25}\n",
    "print(squares)\n",
    "\n",
    "# remove an arbitrary item, return (key,value)\n",
    "# Output: (5, 25)\n",
    "print(squares.popitem())\n",
    "\n",
    "# Output: {1: 1, 2: 4, 3: 9}\n",
    "print(squares)\n",
    "\n",
    "# remove all items\n",
    "squares.clear()\n",
    "\n",
    "# Output: {}\n",
    "print(squares)\n",
    "\n",
    "# delete the dictionary itself\n",
    "del squares\n",
    "\n",
    "# Throws Error\n",
    "print(squares)"
   ]
  },
  {
   "cell_type": "code",
   "execution_count": 17,
   "id": "d128100a",
   "metadata": {},
   "outputs": [
    {
     "name": "stdout",
     "output_type": "stream",
     "text": [
      "{1: 1, 3: 9, 5: 25, 7: 49, 9: 81}\n"
     ]
    }
   ],
   "source": [
    "# Example -4\n",
    "\n",
    "# Dictionary Comprehension with if conditional\n",
    "odd_squares = {x: x*x for x in range(11) if x % 2 == 1}\n",
    "\n",
    "print(odd_squares)"
   ]
  },
  {
   "cell_type": "markdown",
   "id": "46066971",
   "metadata": {},
   "source": [
    "## Dictionary Membership"
   ]
  },
  {
   "cell_type": "code",
   "execution_count": 19,
   "id": "bd8d4d1f",
   "metadata": {},
   "outputs": [
    {
     "name": "stdout",
     "output_type": "stream",
     "text": [
      "True\n",
      "True\n",
      "False\n"
     ]
    }
   ],
   "source": [
    "# Example-5\n",
    "\n",
    "# Membership Test for Dictionary Keys\n",
    "squares = {1: 1, 3: 9, 5: 25, 7: 49, 9: 81}\n",
    "\n",
    "# Output: True\n",
    "print(1 in squares)\n",
    "\n",
    "# Output: True\n",
    "print(2 not in squares)\n",
    "\n",
    "# membership tests for key only not value\n",
    "# Output: False\n",
    "print(49 in squares)"
   ]
  },
  {
   "cell_type": "markdown",
   "id": "6c5ce67b",
   "metadata": {},
   "source": [
    "## Iterating Through a Dictionary"
   ]
  },
  {
   "cell_type": "code",
   "execution_count": 21,
   "id": "7cec67d8",
   "metadata": {},
   "outputs": [
    {
     "name": "stdout",
     "output_type": "stream",
     "text": [
      "1\n",
      "9\n",
      "25\n",
      "49\n",
      "81\n"
     ]
    }
   ],
   "source": [
    "# Example -6\n",
    "# We can iterate through each key in a dictionary using a for loop.\n",
    "\n",
    "# Iterating through a Dictionary\n",
    "squares = {1: 1, 3: 9, 5: 25, 7: 49, 9: 81}\n",
    "for i in squares:\n",
    "    print(squares[i])"
   ]
  },
  {
   "cell_type": "code",
   "execution_count": 22,
   "id": "83dfc839",
   "metadata": {},
   "outputs": [
    {
     "name": "stdout",
     "output_type": "stream",
     "text": [
      "5\n",
      "[1, 3, 5, 7, 9]\n"
     ]
    }
   ],
   "source": [
    "# Dictionary Built-in Functions\n",
    "print(len(squares))\n",
    "print(sorted(squares))"
   ]
  },
  {
   "cell_type": "code",
   "execution_count": null,
   "id": "d2ac597e",
   "metadata": {},
   "outputs": [],
   "source": []
  }
 ],
 "metadata": {
  "kernelspec": {
   "display_name": "Python 3",
   "language": "python",
   "name": "python3"
  },
  "language_info": {
   "codemirror_mode": {
    "name": "ipython",
    "version": 3
   },
   "file_extension": ".py",
   "mimetype": "text/x-python",
   "name": "python",
   "nbconvert_exporter": "python",
   "pygments_lexer": "ipython3",
   "version": "3.8.8"
  }
 },
 "nbformat": 4,
 "nbformat_minor": 5
}
