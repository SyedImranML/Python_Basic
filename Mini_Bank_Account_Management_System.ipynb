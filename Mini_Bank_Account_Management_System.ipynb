{
  "nbformat": 4,
  "nbformat_minor": 0,
  "metadata": {
    "colab": {
      "provenance": [],
      "authorship_tag": "ABX9TyO3EbKc9BPN22OqyjmxvRUl",
      "include_colab_link": true
    },
    "kernelspec": {
      "name": "python3",
      "display_name": "Python 3"
    },
    "language_info": {
      "name": "python"
    }
  },
  "cells": [
    {
      "cell_type": "markdown",
      "metadata": {
        "id": "view-in-github",
        "colab_type": "text"
      },
      "source": [
        "<a href=\"https://colab.research.google.com/github/SyedImranML/Python_Basic/blob/main/Mini_Bank_Account_Management_System.ipynb\" target=\"_parent\"><img src=\"https://colab.research.google.com/assets/colab-badge.svg\" alt=\"Open In Colab\"/></a>"
      ]
    },
    {
      "cell_type": "markdown",
      "source": [
        "**Project Title: Mini Bank Account Management System (Python CLI App)**"
      ],
      "metadata": {
        "id": "gas4h0Fnyudc"
      }
    },
    {
      "cell_type": "markdown",
      "source": [
        "Project Objective:\n",
        "To create a simple console-based banking system where users can:\n",
        "\n",
        "* Create a new account\n",
        "* Deposit and withdraw money\n",
        "* Check account balance\n",
        "* Exit the system"
      ],
      "metadata": {
        "id": "_WmBSHCRy9h7"
      }
    },
    {
      "cell_type": "markdown",
      "source": [
        "**Features to Implement:**\n",
        "* Create a new customer account\n",
        "* Deposit money\n",
        "* Withdraw money\n",
        "* Check account balance\n",
        "* Exit the system"
      ],
      "metadata": {
        "id": "4u0SedxezLoj"
      }
    },
    {
      "cell_type": "code",
      "execution_count": null,
      "metadata": {
        "colab": {
          "base_uri": "https://localhost:8080/"
        },
        "id": "in6_orqyyrNC",
        "outputId": "41c06fa9-3119-4d0e-f79e-97b007268e7f"
      },
      "outputs": [
        {
          "output_type": "stream",
          "name": "stdout",
          "text": [
            "\n",
            "---- Welcome to Python Bank ----\n",
            "1. Create Account\n",
            "2. Deposit Money\n",
            "3. Withdraw Money\n",
            "4. Check Balance\n",
            "5. Exit\n",
            "Enter your choice: 1\n",
            "Enter new Account Number: 1234\n",
            "Enter account holder's name: Ali\n",
            "Account created successfully for Ali.\n",
            "\n",
            "---- Welcome to Python Bank ----\n",
            "1. Create Account\n",
            "2. Deposit Money\n",
            "3. Withdraw Money\n",
            "4. Check Balance\n",
            "5. Exit\n",
            "Enter your choice: 2\n",
            "Enter Account Number: 1234\n",
            "Enter amount to deposit: 2000\n",
            "Amount deposited successfully.\n",
            "\n",
            "---- Welcome to Python Bank ----\n",
            "1. Create Account\n",
            "2. Deposit Money\n",
            "3. Withdraw Money\n",
            "4. Check Balance\n",
            "5. Exit\n",
            "Enter your choice: 4\n",
            "Enter Account Number: 1234\n",
            "Account Balance: ₹2000.0\n",
            "\n",
            "---- Welcome to Python Bank ----\n",
            "1. Create Account\n",
            "2. Deposit Money\n",
            "3. Withdraw Money\n",
            "4. Check Balance\n",
            "5. Exit\n"
          ]
        }
      ],
      "source": [
        "# Mini Bank Management System in Python\n",
        "\n",
        "# A simple dictionary to store account details\n",
        "accounts = {}\n",
        "\n",
        "def create_account():\n",
        "    acc_num = input(\"Enter new Account Number: \")\n",
        "    if acc_num in accounts:\n",
        "        print(\"Account already exists!\")\n",
        "        return\n",
        "    name = input(\"Enter account holder's name: \")\n",
        "    accounts[acc_num] = {\"name\": name, \"balance\": 0}\n",
        "    print(f\"Account created successfully for {name}.\")\n",
        "\n",
        "def deposit():\n",
        "    acc_num = input(\"Enter Account Number: \")\n",
        "    if acc_num not in accounts:\n",
        "        print(\"Account not found!\")\n",
        "        return\n",
        "    amount = float(input(\"Enter amount to deposit: \"))\n",
        "    accounts[acc_num][\"balance\"] += amount\n",
        "    print(\"Amount deposited successfully.\")\n",
        "\n",
        "def withdraw():\n",
        "    acc_num = input(\"Enter Account Number: \")\n",
        "    if acc_num not in accounts:\n",
        "        print(\"Account not found!\")\n",
        "        return\n",
        "    amount = float(input(\"Enter amount to withdraw: \"))\n",
        "    if amount > accounts[acc_num][\"balance\"]:\n",
        "        print(\"Insufficient balance.\")\n",
        "    else:\n",
        "        accounts[acc_num][\"balance\"] -= amount\n",
        "        print(\"Withdrawal successful.\")\n",
        "\n",
        "def check_balance():\n",
        "    acc_num = input(\"Enter Account Number: \")\n",
        "    if acc_num not in accounts:\n",
        "        print(\"Account not found!\")\n",
        "        return\n",
        "    print(f\"Account Balance: ₹{accounts[acc_num]['balance']}\")\n",
        "\n",
        "def main():\n",
        "    while True:\n",
        "        print(\"\\n---- Welcome to Python Bank ----\")\n",
        "        print(\"1. Create Account\")\n",
        "        print(\"2. Deposit Money\")\n",
        "        print(\"3. Withdraw Money\")\n",
        "        print(\"4. Check Balance\")\n",
        "        print(\"5. Exit\")\n",
        "        choice = input(\"Enter your choice: \")\n",
        "\n",
        "        if choice == '1':\n",
        "            create_account()\n",
        "        elif choice == '2':\n",
        "            deposit()\n",
        "        elif choice == '3':\n",
        "            withdraw()\n",
        "        elif choice == '4':\n",
        "            check_balance()\n",
        "        elif choice == '5':\n",
        "            print(\"Thank you for using Python Bank. Goodbye!\")\n",
        "            break\n",
        "        else:\n",
        "            print(\"Invalid choice! Please try again.\")\n",
        "\n",
        "if __name__ == \"__main__\":\n",
        "    main()\n"
      ]
    },
    {
      "cell_type": "markdown",
      "source": [
        "* accounts = {}\n",
        "This creates an empty dictionary to store all the bank accounts.\n",
        "Each account is stored with an account number as the key, and a dictionary as its value containing:\n",
        "name of the account holder\n",
        "balance of the account\n",
        "\n"
      ],
      "metadata": {
        "id": "ElL-Sw1A5nOT"
      }
    },
    {
      "cell_type": "markdown",
      "source": [
        "* Takes the name of the person who is opening the account.\n",
        "    accounts[acc_num] = {\"name\": name, \"balance\": 0}\n",
        "    example:\n",
        "    Adds a new entry in the dictionary like:\n",
        "    {'12345': {'name': 'Syed', 'balance': 0}}\n"
      ],
      "metadata": {
        "id": "7UnTlW_m6Ne8"
      }
    },
    {
      "cell_type": "markdown",
      "source": [
        "* Takes the deposit amount as a number.\n",
        "   accounts[acc_num][\"balance\"] += amount\n"
      ],
      "metadata": {
        "id": "TS_DyWxd7BVK"
      }
    },
    {
      "cell_type": "markdown",
      "source": [
        "if __name__ == \"__main__\":\n",
        "    main()\n",
        "This line makes sure the main() function runs only if the script is executed directly (not imported somewhere else).\n",
        "\n"
      ],
      "metadata": {
        "id": "Hy0GAnuw7jNG"
      }
    },
    {
      "cell_type": "code",
      "source": [],
      "metadata": {
        "id": "iNeeC9zjy83L"
      },
      "execution_count": null,
      "outputs": []
    }
  ]
}