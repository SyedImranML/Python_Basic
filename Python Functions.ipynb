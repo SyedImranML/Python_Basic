{
 "cells": [
  {
   "cell_type": "markdown",
   "id": "2055b65b",
   "metadata": {},
   "source": [
    "# Python Functions"
   ]
  },
  {
   "cell_type": "code",
   "execution_count": 1,
   "id": "e301f959",
   "metadata": {},
   "outputs": [],
   "source": [
    "# In Python, a function is a group of related statements that performs a specific task.\n",
    "# Functions help break our program into smaller and modular chunks.\n",
    "# As our program grows larger and larger, functions make it more organized and manageable.\n",
    "# it avoids repetition and makes the code reusable."
   ]
  },
  {
   "cell_type": "code",
   "execution_count": 2,
   "id": "aae87363",
   "metadata": {},
   "outputs": [],
   "source": [
    "# Keyword def that marks the start of the function header.\n",
    "# A function name to uniquely identify the function.\n",
    "# A colon (:) to mark the end of the function header."
   ]
  },
  {
   "cell_type": "code",
   "execution_count": 4,
   "id": "db918881",
   "metadata": {},
   "outputs": [],
   "source": [
    "# Example : 1 \n",
    "\n",
    "def func(name):\n",
    "    \"\"\"\n",
    "    This function greets to\n",
    "    the person passed in as\n",
    "    a parameter\n",
    "    \"\"\"\n",
    "    print(\"Hello, \" + name + \". Good morning!\")"
   ]
  },
  {
   "cell_type": "code",
   "execution_count": 5,
   "id": "66438532",
   "metadata": {},
   "outputs": [
    {
     "name": "stdout",
     "output_type": "stream",
     "text": [
      "Hello, Syed Imran. Good morning!\n"
     ]
    }
   ],
   "source": [
    "func('Syed Imran')"
   ]
  },
  {
   "cell_type": "code",
   "execution_count": 6,
   "id": "ca67fcdf",
   "metadata": {},
   "outputs": [
    {
     "name": "stdout",
     "output_type": "stream",
     "text": [
      "Hello, Syed Imran. Good morning!\n"
     ]
    }
   ],
   "source": [
    "# Example : 2\n",
    "\n",
    "def func(name):\n",
    "    \"\"\"\n",
    "    This function greets to\n",
    "    the person passed in as\n",
    "    a parameter\n",
    "    \"\"\"\n",
    "    print(\"Hello, \" + name + \". Good morning!\")\n",
    "\n",
    "func('Syed Imran')"
   ]
  },
  {
   "cell_type": "code",
   "execution_count": 8,
   "id": "71318e19",
   "metadata": {},
   "outputs": [
    {
     "name": "stdout",
     "output_type": "stream",
     "text": [
      "Hello, SYed. Good morning!\n"
     ]
    }
   ],
   "source": [
    "# Note: In python, the function definition should always be present before the function call.\n",
    "# Otherwise, we will get an error. For example, \n",
    "\n",
    "# function call\n",
    "func('SYed')\n",
    "\n",
    "# function definition\n",
    "def func(name):\n",
    "    \"\"\"\n",
    "    This function greets to\n",
    "    the person passed in as\n",
    "    a parameter\n",
    "    \"\"\"\n",
    "    print(\"Hello, \" + name + \". Good morning!\")\n",
    "\n",
    "# Erro: name 'greet' is not defined"
   ]
  },
  {
   "cell_type": "code",
   "execution_count": 9,
   "id": "adb20fc8",
   "metadata": {},
   "outputs": [
    {
     "name": "stdout",
     "output_type": "stream",
     "text": [
      "\n",
      "    This function greets to\n",
      "    the person passed in as\n",
      "    a parameter\n",
      "    \n"
     ]
    }
   ],
   "source": [
    "print(func.__doc__)"
   ]
  },
  {
   "cell_type": "code",
   "execution_count": 11,
   "id": "ff694127",
   "metadata": {},
   "outputs": [
    {
     "name": "stdout",
     "output_type": "stream",
     "text": [
      "2\n",
      "9\n"
     ]
    }
   ],
   "source": [
    "# Example: 3  of return\n",
    "\n",
    "def absolute_value(num):\n",
    "    \"\"\"This function returns the absolute\n",
    "    value of the entered number\"\"\"\n",
    "\n",
    "    if num >= 0:\n",
    "        return num\n",
    "    else:\n",
    "        return -num\n",
    "\n",
    "\n",
    "print(absolute_value(2))\n",
    "\n",
    "print(absolute_value(-9))"
   ]
  },
  {
   "cell_type": "markdown",
   "id": "f803a5d4",
   "metadata": {},
   "source": [
    "# Python Function Arguments"
   ]
  },
  {
   "cell_type": "code",
   "execution_count": 13,
   "id": "6912ccb1",
   "metadata": {},
   "outputs": [
    {
     "name": "stdout",
     "output_type": "stream",
     "text": [
      "Hello Syed Imran, Good morning!\n"
     ]
    }
   ],
   "source": [
    "# Example -1\n",
    "def func(name, msg):\n",
    "    print(\"Hello\", name + ', ' + msg)\n",
    "\n",
    "func(\"Syed Imran\", \"Good morning!\")"
   ]
  },
  {
   "cell_type": "code",
   "execution_count": 15,
   "id": "87b5abc9",
   "metadata": {},
   "outputs": [
    {
     "ename": "TypeError",
     "evalue": "func() missing 1 required positional argument: 'msg'",
     "output_type": "error",
     "traceback": [
      "\u001b[1;31m---------------------------------------------------------------------------\u001b[0m",
      "\u001b[1;31mTypeError\u001b[0m                                 Traceback (most recent call last)",
      "\u001b[1;32m<ipython-input-15-c60f0e97b4eb>\u001b[0m in \u001b[0;36m<module>\u001b[1;34m\u001b[0m\n\u001b[1;32m----> 1\u001b[1;33m \u001b[0mfunc\u001b[0m\u001b[1;33m(\u001b[0m\u001b[1;34m\"Syed\"\u001b[0m\u001b[1;33m)\u001b[0m    \u001b[1;31m# only one argument\u001b[0m\u001b[1;33m\u001b[0m\u001b[1;33m\u001b[0m\u001b[0m\n\u001b[0m\u001b[0;32m      2\u001b[0m \u001b[1;31m# TypeError: func() missing 1 required positional argument: 'msg'\u001b[0m\u001b[1;33m\u001b[0m\u001b[1;33m\u001b[0m\u001b[1;33m\u001b[0m\u001b[0m\n",
      "\u001b[1;31mTypeError\u001b[0m: func() missing 1 required positional argument: 'msg'"
     ]
    }
   ],
   "source": [
    "func(\"Syed\")    # only one argument\n",
    "# TypeError: func() missing 1 required positional argument: 'msg'"
   ]
  },
  {
   "cell_type": "code",
   "execution_count": 16,
   "id": "3762614c",
   "metadata": {},
   "outputs": [
    {
     "ename": "TypeError",
     "evalue": "func() missing 2 required positional arguments: 'name' and 'msg'",
     "output_type": "error",
     "traceback": [
      "\u001b[1;31m---------------------------------------------------------------------------\u001b[0m",
      "\u001b[1;31mTypeError\u001b[0m                                 Traceback (most recent call last)",
      "\u001b[1;32m<ipython-input-16-a222e974e7da>\u001b[0m in \u001b[0;36m<module>\u001b[1;34m\u001b[0m\n\u001b[1;32m----> 1\u001b[1;33m \u001b[0mfunc\u001b[0m\u001b[1;33m(\u001b[0m\u001b[1;33m)\u001b[0m    \u001b[1;31m# no arguments\u001b[0m\u001b[1;33m\u001b[0m\u001b[1;33m\u001b[0m\u001b[0m\n\u001b[0m\u001b[0;32m      2\u001b[0m \u001b[1;31m#TypeError: func() missing 2 required positional arguments: 'name' and 'msg'\u001b[0m\u001b[1;33m\u001b[0m\u001b[1;33m\u001b[0m\u001b[1;33m\u001b[0m\u001b[0m\n",
      "\u001b[1;31mTypeError\u001b[0m: func() missing 2 required positional arguments: 'name' and 'msg'"
     ]
    }
   ],
   "source": [
    "func()    # no arguments\n",
    "#TypeError: func() missing 2 required positional arguments: 'name' and 'msg'"
   ]
  },
  {
   "cell_type": "markdown",
   "id": "80fcc1de",
   "metadata": {},
   "source": [
    "# Variable Function Arguments"
   ]
  },
  {
   "cell_type": "code",
   "execution_count": 17,
   "id": "e207042c",
   "metadata": {},
   "outputs": [],
   "source": [
    "# functions had a fixed number of arguments. \n",
    "# In Python, there are other ways to define a function that can take variable number of arguments.\n",
    "# Three different type\n",
    "# 1. Python Default Arguments"
   ]
  },
  {
   "cell_type": "markdown",
   "id": "c823e64c",
   "metadata": {},
   "source": [
    "###  Python Default Arguments"
   ]
  },
  {
   "cell_type": "code",
   "execution_count": 18,
   "id": "e37f443d",
   "metadata": {},
   "outputs": [],
   "source": [
    "# Function arguments can have default values in Python.\n",
    "# We can provide a default value to an argument by using the assignment operator (=)."
   ]
  },
  {
   "cell_type": "code",
   "execution_count": 1,
   "id": "3a5ae691",
   "metadata": {},
   "outputs": [
    {
     "name": "stdout",
     "output_type": "stream",
     "text": [
      "Hello Syed, Good morning!\n",
      "Hello Imran, How do you do?\n"
     ]
    }
   ],
   "source": [
    "# Example -1:\n",
    "\n",
    "def func(name, msg=\"Good morning!\"):\n",
    "    \"\"\"\n",
    "    This function \n",
    "    Python Programming!\"\n",
    "    \"\"\"\n",
    "\n",
    "    print(\"Hello\", name + ', ' + msg)\n",
    "\n",
    "\n",
    "func(\"Syed\")\n",
    "func(\"Imran\", \"How do you do?\")"
   ]
  },
  {
   "cell_type": "markdown",
   "id": "bf121582",
   "metadata": {},
   "source": [
    "### Python Keyword Arguments"
   ]
  },
  {
   "cell_type": "code",
   "execution_count": 2,
   "id": "a64e4d5b",
   "metadata": {},
   "outputs": [],
   "source": [
    "# When we call a function with some values, these values get assigned to the arguments\n",
    "# according to their position."
   ]
  },
  {
   "cell_type": "code",
   "execution_count": 4,
   "id": "211dbc42",
   "metadata": {},
   "outputs": [
    {
     "name": "stdout",
     "output_type": "stream",
     "text": [
      "Hello Syed Imran, How do you do?\n",
      "Hello Syed Imran, How do you do?\n",
      "Hello Syed , How do you do?\n"
     ]
    }
   ],
   "source": [
    "\n",
    "\n",
    "def func(name, msg=\"Good morning!\"):\n",
    "    \"\"\"\n",
    "    This function \n",
    "    Python Programming!\"\n",
    "    \"\"\"\n",
    "\n",
    "    print(\"Hello\", name + ', ' + msg)\n",
    "\n",
    "\n",
    "# 2 keyword arguments\n",
    "func(name = \"Syed Imran\",msg = \"How do you do?\")\n",
    "\n",
    "# 2 keyword arguments (out of order)\n",
    "func(msg = \"How do you do?\",name = \"Syed Imran\") \n",
    "\n",
    "# 1 positional, 1 keyword argument\n",
    "func(\"Syed \", msg = \"How do you do?\")           "
   ]
  },
  {
   "cell_type": "code",
   "execution_count": 9,
   "id": "6f501e54",
   "metadata": {},
   "outputs": [
    {
     "ename": "SyntaxError",
     "evalue": "positional argument follows keyword argument (<ipython-input-9-6b8a4a170450>, line 1)",
     "output_type": "error",
     "traceback": [
      "\u001b[1;36m  File \u001b[1;32m\"<ipython-input-9-6b8a4a170450>\"\u001b[1;36m, line \u001b[1;32m1\u001b[0m\n\u001b[1;33m    func(name=\"Bruce\",\"How do you do?\")\u001b[0m\n\u001b[1;37m                      ^\u001b[0m\n\u001b[1;31mSyntaxError\u001b[0m\u001b[1;31m:\u001b[0m positional argument follows keyword argument\n"
     ]
    }
   ],
   "source": [
    "func(name=\"Ahmed\",\"How do you do?\")"
   ]
  },
  {
   "cell_type": "markdown",
   "id": "cfd02f9b",
   "metadata": {},
   "source": [
    "### Python Arbitrary Arguments"
   ]
  },
  {
   "cell_type": "code",
   "execution_count": 10,
   "id": "1f3114c8",
   "metadata": {},
   "outputs": [],
   "source": [
    "# we do not know in advance the number of arguments that will be passed into a function.\n",
    "# Python allows us to handle this kind of situation through function calls \n",
    "# with an arbitrary number of arguments.\n",
    "# we use an asterisk (*) before the parameter."
   ]
  },
  {
   "cell_type": "code",
   "execution_count": 12,
   "id": "e1fd2ad8",
   "metadata": {},
   "outputs": [
    {
     "name": "stdout",
     "output_type": "stream",
     "text": [
      "Hello Syed Imran\n",
      "Hello Allen\n",
      "Hello Steve\n",
      "Hello John\n"
     ]
    }
   ],
   "source": [
    "# Example : 1\n",
    "\n",
    "def func(*names):\n",
    "   \n",
    "    for name in names:\n",
    "        print(\"Hello\", name)\n",
    "\n",
    "\n",
    "func(\"Syed Imran\", \"Allen\", \"Steve\", \"John\")"
   ]
  },
  {
   "cell_type": "markdown",
   "id": "5559af0a",
   "metadata": {},
   "source": [
    "# Python Recursion"
   ]
  },
  {
   "cell_type": "code",
   "execution_count": 13,
   "id": "96879c59",
   "metadata": {},
   "outputs": [],
   "source": [
    "# In Python, we know that a function can call other functions. \n",
    "# It is even possible for the function to call itself. "
   ]
  },
  {
   "cell_type": "code",
   "execution_count": 15,
   "id": "8d49b0a2",
   "metadata": {},
   "outputs": [
    {
     "name": "stdout",
     "output_type": "stream",
     "text": [
      "The factorial of 4 is 24\n"
     ]
    }
   ],
   "source": [
    "#  Example : 1 \n",
    "\n",
    "def factorial(x):\n",
    "    \"\"\"This is a recursive function\n",
    "    to find the factorial of an integer\"\"\"\n",
    "\n",
    "    if x == 1:\n",
    "        return 1\n",
    "    else:\n",
    "        return (x * factorial(x-1))\n",
    "\n",
    "\n",
    "num = 4\n",
    "print(\"The factorial of\", num, \"is\", factorial(num))"
   ]
  },
  {
   "cell_type": "code",
   "execution_count": 17,
   "id": "c3605152",
   "metadata": {},
   "outputs": [],
   "source": [
    "\n",
    "# factorial(3)          # 1st call with 3\n",
    "# 3 * factorial(2)      # 2nd call with 2\n",
    "# 3 * 2 * factorial(1)  # 3rd call with 1\n",
    "# 3 * 2 * 1             # return from 3rd call as number=1\n",
    "# 3 * 2                 # return from 2nd call\n",
    "# 6                     # return from 1st call '''"
   ]
  },
  {
   "cell_type": "markdown",
   "id": "fe9ce06a",
   "metadata": {},
   "source": [
    "# Python Lambda"
   ]
  },
  {
   "cell_type": "code",
   "execution_count": 18,
   "id": "cb46a978",
   "metadata": {},
   "outputs": [],
   "source": [
    "# In Python, an anonymous function is a function that is defined without a name.\n",
    "\n",
    "# While normal functions are defined using the def keyword in Python, anonymous functions are defined \n",
    "# using the lambda keyword.\n",
    "# Hence, anonymous functions are also called lambda functions.\n",
    "# Syntax of Lambda Function in python\n",
    "# lambda arguments: expression"
   ]
  },
  {
   "cell_type": "code",
   "execution_count": 19,
   "id": "3ca1b341",
   "metadata": {},
   "outputs": [
    {
     "name": "stdout",
     "output_type": "stream",
     "text": [
      "10\n"
     ]
    }
   ],
   "source": [
    "# Example : 1\n",
    "\n",
    "# Program to show the use of lambda functions\n",
    "double = lambda x: x * 2\n",
    "\n",
    "print(double(5))"
   ]
  },
  {
   "cell_type": "code",
   "execution_count": 23,
   "id": "fbbd7d59",
   "metadata": {},
   "outputs": [
    {
     "name": "stdout",
     "output_type": "stream",
     "text": [
      "12\n"
     ]
    }
   ],
   "source": [
    "# nearly the same as:\n",
    "\n",
    "def double(x):\n",
    "   return x * 2\n",
    "\n",
    "print(double(6))"
   ]
  },
  {
   "cell_type": "code",
   "execution_count": 30,
   "id": "1d9baaad",
   "metadata": {},
   "outputs": [
    {
     "data": {
      "text/plain": [
       "8"
      ]
     },
     "execution_count": 30,
     "metadata": {},
     "output_type": "execute_result"
    }
   ],
   "source": [
    "# lambda Function - To create anonymous functions , without using def\n",
    "\n",
    "# Normal Function\n",
    "def cubefn(num):\n",
    "    return num**3\n",
    "\n",
    "cubefn(2)\n",
    "\n"
   ]
  },
  {
   "cell_type": "code",
   "execution_count": 31,
   "id": "76e937ad",
   "metadata": {},
   "outputs": [
    {
     "data": {
      "text/plain": [
       "27"
      ]
     },
     "execution_count": 31,
     "metadata": {},
     "output_type": "execute_result"
    }
   ],
   "source": [
    "# Using LAMBDA\n",
    "\n",
    "cubefnc = lambda num:num**3\n",
    "\n",
    "cubefnc(3)"
   ]
  },
  {
   "cell_type": "code",
   "execution_count": 34,
   "id": "9b116d71",
   "metadata": {},
   "outputs": [
    {
     "name": "stdout",
     "output_type": "stream",
     "text": [
      "[0, 2, 4, 6, 8, 10]\n",
      "[True, False, True, False, True, False, True, False, True, False, True]\n"
     ]
    }
   ],
   "source": [
    "# The filter() function in Python takes in a function and a list as arguments.\n",
    "# filter Functions- yields items of iterable in which function is true\n",
    "\n",
    "def evenfn(num):\n",
    "    return num%2==0\n",
    "a =[0,1,2,3,4,5,6,7,8,9,10]\n",
    "\n",
    "print(list(filter(evenfn,a)))\n",
    "print(list(map(evenfn,a)))"
   ]
  },
  {
   "cell_type": "code",
   "execution_count": 24,
   "id": "8c26d46b",
   "metadata": {},
   "outputs": [
    {
     "name": "stdout",
     "output_type": "stream",
     "text": [
      "[4, 6, 8, 12]\n"
     ]
    }
   ],
   "source": [
    "# Example use with filter()\n",
    "\n",
    "\n",
    "# Program to filter out only the even items from a list\n",
    "my_list = [1, 5, 4, 6, 8, 11, 3, 12]\n",
    "\n",
    "new_list = list(filter(lambda x: (x%2 == 0) , my_list))\n",
    "\n",
    "print(new_list)"
   ]
  },
  {
   "cell_type": "code",
   "execution_count": 35,
   "id": "05e95f4e",
   "metadata": {},
   "outputs": [
    {
     "name": "stdout",
     "output_type": "stream",
     "text": [
      "[2, 10, 8, 12, 16, 22, 6, 24]\n"
     ]
    }
   ],
   "source": [
    "# Program to double each item in a list using map()\n",
    "\n",
    "my_list = [1, 5, 4, 6, 8, 11, 3, 12]\n",
    "\n",
    "new_list = list(map(lambda x: x * 2 , my_list))\n",
    "\n",
    "print(new_list)"
   ]
  },
  {
   "cell_type": "code",
   "execution_count": 40,
   "id": "00ef2972",
   "metadata": {},
   "outputs": [
    {
     "name": "stdout",
     "output_type": "stream",
     "text": [
      "[1, 8, 27, 64, 125]\n"
     ]
    }
   ],
   "source": [
    "# Map function - map a function to an iterable object\n",
    "\n",
    "def cubefn(num):\n",
    "    return num**3\n",
    "a=[1,2,3,4,5]\n",
    "list(map(cubefn,a))\n",
    "print(list(map(cubefn,a)))"
   ]
  },
  {
   "cell_type": "markdown",
   "id": "ccfecaed",
   "metadata": {},
   "source": [
    "# Python Global, Local Variables"
   ]
  },
  {
   "cell_type": "code",
   "execution_count": 41,
   "id": "495bbd45",
   "metadata": {},
   "outputs": [],
   "source": [
    "# Global Variables\n",
    "# In Python, a variable declared outside of the function or in global scope is known as a global variable.\n",
    "# This means that a global variable can be accessed inside or outside of the function."
   ]
  },
  {
   "cell_type": "code",
   "execution_count": 45,
   "id": "c2e66cc9",
   "metadata": {},
   "outputs": [
    {
     "name": "stdout",
     "output_type": "stream",
     "text": [
      "x inside: global\n",
      "x outside: global\n"
     ]
    }
   ],
   "source": [
    "# Example 1: Create a Global Variable\n",
    "\n",
    "x = \"global\"\n",
    "\n",
    "def func():\n",
    "    print(\"x inside:\", x)\n",
    "\n",
    "\n",
    "func()\n",
    "print(\"x outside:\", x)"
   ]
  },
  {
   "cell_type": "code",
   "execution_count": 48,
   "id": "2a325076",
   "metadata": {},
   "outputs": [
    {
     "name": "stdout",
     "output_type": "stream",
     "text": [
      "Local Local \n"
     ]
    }
   ],
   "source": [
    "# Example : 2\n",
    "\n",
    "def func():\n",
    "    x = \"Local \"\n",
    "    x = x * 2\n",
    "    print(x)\n",
    "\n",
    "func()"
   ]
  },
  {
   "cell_type": "code",
   "execution_count": 49,
   "id": "1e0b8e75",
   "metadata": {},
   "outputs": [],
   "source": [
    "# Local Variables\n",
    "# A variable declared A variable declared inside the function's body\n",
    "# or in the local scope is known as a local variable."
   ]
  },
  {
   "cell_type": "code",
   "execution_count": 50,
   "id": "a2fef042",
   "metadata": {},
   "outputs": [
    {
     "ename": "NameError",
     "evalue": "name 'y' is not defined",
     "output_type": "error",
     "traceback": [
      "\u001b[1;31m---------------------------------------------------------------------------\u001b[0m",
      "\u001b[1;31mNameError\u001b[0m                                 Traceback (most recent call last)",
      "\u001b[1;32m<ipython-input-50-75dd21b0fa83>\u001b[0m in \u001b[0;36m<module>\u001b[1;34m\u001b[0m\n\u001b[0;32m      5\u001b[0m \u001b[1;33m\u001b[0m\u001b[0m\n\u001b[0;32m      6\u001b[0m \u001b[0mfunc\u001b[0m\u001b[1;33m(\u001b[0m\u001b[1;33m)\u001b[0m\u001b[1;33m\u001b[0m\u001b[1;33m\u001b[0m\u001b[0m\n\u001b[1;32m----> 7\u001b[1;33m \u001b[0mprint\u001b[0m\u001b[1;33m(\u001b[0m\u001b[0my\u001b[0m\u001b[1;33m)\u001b[0m\u001b[1;33m\u001b[0m\u001b[1;33m\u001b[0m\u001b[0m\n\u001b[0m",
      "\u001b[1;31mNameError\u001b[0m: name 'y' is not defined"
     ]
    }
   ],
   "source": [
    "# Example 2: Accessing local variable outside the scope\n",
    "def func():\n",
    "    y = \"local\"\n",
    "\n",
    "\n",
    "func()\n",
    "print(y)"
   ]
  },
  {
   "cell_type": "code",
   "execution_count": 51,
   "id": "9989db61",
   "metadata": {},
   "outputs": [
    {
     "name": "stdout",
     "output_type": "stream",
     "text": [
      "local\n"
     ]
    }
   ],
   "source": [
    "# Example 3: Create a Local Variable\n",
    "\n",
    "def func():\n",
    "    y = \"local\"\n",
    "    print(y)\n",
    "\n",
    "func()"
   ]
  },
  {
   "cell_type": "code",
   "execution_count": 52,
   "id": "729b8894",
   "metadata": {},
   "outputs": [
    {
     "name": "stdout",
     "output_type": "stream",
     "text": [
      "global global \n"
     ]
    }
   ],
   "source": [
    "# Example : 3.1 Global Variable\n",
    "x = \"global \"\n",
    "\n",
    "def func():\n",
    "    global x\n",
    "    x = x * 2\n",
    "    print(x)\n",
    "    \n",
    "\n",
    "func()"
   ]
  },
  {
   "cell_type": "code",
   "execution_count": 53,
   "id": "29ef1638",
   "metadata": {},
   "outputs": [
    {
     "name": "stdout",
     "output_type": "stream",
     "text": [
      "global global \n",
      "local\n"
     ]
    }
   ],
   "source": [
    "# Example 4: Using Global and Local variables in the same code\n",
    "\n",
    "x = \"global \"\n",
    "\n",
    "def func():\n",
    "    global x\n",
    "    y = \"local\"\n",
    "    x = x * 2\n",
    "    print(x)\n",
    "    print(y)\n",
    "\n",
    "func()"
   ]
  },
  {
   "cell_type": "code",
   "execution_count": 54,
   "id": "364d2077",
   "metadata": {},
   "outputs": [
    {
     "name": "stdout",
     "output_type": "stream",
     "text": [
      "Hello guyz welcome to python !!!!\n"
     ]
    }
   ],
   "source": [
    "# Initializing & Calling basic Function\n",
    "\n",
    "def welcome():\n",
    "    print(\"Hello guyz welcome to python !!!!\")\n",
    "    \n",
    "\n",
    "welcome()"
   ]
  },
  {
   "cell_type": "code",
   "execution_count": 56,
   "id": "fdc272fb",
   "metadata": {},
   "outputs": [
    {
     "name": "stdout",
     "output_type": "stream",
     "text": [
      "Hello  Syed Imran , welcome to python !!! \n"
     ]
    }
   ],
   "source": [
    "# Initializing & Calling basic function with argument\n",
    "\n",
    "def welcome(a):\n",
    "    print(\"Hello  {0} , welcome to python !!! \".format(a))\n",
    "    \n",
    "    \n",
    "welcome('Syed Imran')"
   ]
  },
  {
   "cell_type": "code",
   "execution_count": 59,
   "id": "e7206455",
   "metadata": {},
   "outputs": [
    {
     "name": "stdout",
     "output_type": "stream",
     "text": [
      "Sum of 10 and 5 is 15\n"
     ]
    }
   ],
   "source": [
    "# print & Return\n",
    "def add(a,b):\n",
    "    sum = a+b\n",
    "    print(\"Sum of {0} and {1} is {2}\".format(a,b,sum))\n",
    "\n",
    "add(10,5)"
   ]
  },
  {
   "cell_type": "code",
   "execution_count": 60,
   "id": "6dc4e488",
   "metadata": {},
   "outputs": [
    {
     "data": {
      "text/plain": [
       "30"
      ]
     },
     "execution_count": 60,
     "metadata": {},
     "output_type": "execute_result"
    }
   ],
   "source": [
    "def addR(a,b):\n",
    "    sum=a+b\n",
    "    return sum\n",
    "\n",
    "addR(10,20)"
   ]
  },
  {
   "cell_type": "code",
   "execution_count": 61,
   "id": "2f3fc9ec",
   "metadata": {},
   "outputs": [
    {
     "data": {
      "text/plain": [
       "60"
      ]
     },
     "execution_count": 61,
     "metadata": {},
     "output_type": "execute_result"
    }
   ],
   "source": [
    "# args and *kwargs\n",
    "\n",
    "# Normal function with function arguements\n",
    "\n",
    "def addr(a,b,c):\n",
    "    add=a+b+c\n",
    "    return add\n",
    "addr(10,20,30)"
   ]
  },
  {
   "cell_type": "code",
   "execution_count": 62,
   "id": "e5f80992",
   "metadata": {},
   "outputs": [
    {
     "data": {
      "text/plain": [
       "550"
      ]
     },
     "execution_count": 62,
     "metadata": {},
     "output_type": "execute_result"
    }
   ],
   "source": [
    "# Purpose of args\n",
    "\n",
    "def addr(*arg):\n",
    "    return sum(arg)\n",
    "\n",
    "addr(10,20,30,40,50,60,70,80,90,100)"
   ]
  },
  {
   "cell_type": "code",
   "execution_count": 64,
   "id": "27fe9f32",
   "metadata": {},
   "outputs": [
    {
     "name": "stdout",
     "output_type": "stream",
     "text": [
      "My name is Syed\n",
      "My name is 28\n"
     ]
    }
   ],
   "source": [
    "# ** kwargs -dictionary of key/value pairs\n",
    "def func(**kwargs):\n",
    "    if 'name' in kwargs:\n",
    "        print(\"My name is {0}\".format(kwargs['name']))\n",
    "    if 'age' in kwargs:\n",
    "        print(\"My name is {0}\".format(kwargs['age']))\n",
    "    else:\n",
    "        print(\"No key found\")\n",
    "    \n",
    "func(name='Syed',age=28)"
   ]
  },
  {
   "cell_type": "code",
   "execution_count": 65,
   "id": "64ff887f",
   "metadata": {},
   "outputs": [
    {
     "name": "stdout",
     "output_type": "stream",
     "text": [
      "The value of pi is 3.141592653589793\n"
     ]
    }
   ],
   "source": [
    "# import only pi from math module\n",
    "\n",
    "from math import pi\n",
    "print(\"The value of pi is\", pi)"
   ]
  },
  {
   "cell_type": "code",
   "execution_count": 66,
   "id": "a937052b",
   "metadata": {},
   "outputs": [
    {
     "name": "stdout",
     "output_type": "stream",
     "text": [
      "The value of pi is 3.141592653589793\n"
     ]
    }
   ],
   "source": [
    "# import all names from the standard module math\n",
    "\n",
    "from math import *\n",
    "print(\"The value of pi is\", pi)"
   ]
  },
  {
   "cell_type": "code",
   "execution_count": 67,
   "id": "e63e50bb",
   "metadata": {},
   "outputs": [
    {
     "data": {
      "text/plain": [
       "['C:\\\\Users\\\\hp',\n",
       " 'C:\\\\ProgramData\\\\Anaconda3\\\\python38.zip',\n",
       " 'C:\\\\ProgramData\\\\Anaconda3\\\\DLLs',\n",
       " 'C:\\\\ProgramData\\\\Anaconda3\\\\lib',\n",
       " 'C:\\\\ProgramData\\\\Anaconda3',\n",
       " '',\n",
       " 'C:\\\\Users\\\\hp\\\\AppData\\\\Roaming\\\\Python\\\\Python38\\\\site-packages',\n",
       " 'C:\\\\ProgramData\\\\Anaconda3\\\\lib\\\\site-packages',\n",
       " 'C:\\\\ProgramData\\\\Anaconda3\\\\lib\\\\site-packages\\\\locket-0.2.1-py3.8.egg',\n",
       " 'C:\\\\ProgramData\\\\Anaconda3\\\\lib\\\\site-packages\\\\win32',\n",
       " 'C:\\\\ProgramData\\\\Anaconda3\\\\lib\\\\site-packages\\\\win32\\\\lib',\n",
       " 'C:\\\\ProgramData\\\\Anaconda3\\\\lib\\\\site-packages\\\\Pythonwin',\n",
       " 'C:\\\\ProgramData\\\\Anaconda3\\\\lib\\\\site-packages\\\\IPython\\\\extensions',\n",
       " 'C:\\\\Users\\\\hp\\\\.ipython']"
      ]
     },
     "execution_count": 67,
     "metadata": {},
     "output_type": "execute_result"
    }
   ],
   "source": [
    "import sys\n",
    "sys.path"
   ]
  },
  {
   "cell_type": "code",
   "execution_count": null,
   "id": "cbd09f04",
   "metadata": {},
   "outputs": [],
   "source": []
  }
 ],
 "metadata": {
  "kernelspec": {
   "display_name": "Python 3",
   "language": "python",
   "name": "python3"
  },
  "language_info": {
   "codemirror_mode": {
    "name": "ipython",
    "version": 3
   },
   "file_extension": ".py",
   "mimetype": "text/x-python",
   "name": "python",
   "nbconvert_exporter": "python",
   "pygments_lexer": "ipython3",
   "version": "3.8.8"
  }
 },
 "nbformat": 4,
 "nbformat_minor": 5
}
