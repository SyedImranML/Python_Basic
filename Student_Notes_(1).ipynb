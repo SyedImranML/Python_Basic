{
  "cells": [
    {
      "cell_type": "markdown",
      "metadata": {
        "id": "view-in-github",
        "colab_type": "text"
      },
      "source": [
        "<a href=\"https://colab.research.google.com/github/SyedImranML/Python_Basic/blob/main/Student_Notes_(1).ipynb\" target=\"_parent\"><img src=\"https://colab.research.google.com/assets/colab-badge.svg\" alt=\"Open In Colab\"/></a>"
      ]
    },
    {
      "cell_type": "markdown",
      "id": "0edac2d2",
      "metadata": {
        "id": "0edac2d2"
      },
      "source": [
        "## 02 - Array Mathematics\n",
        "\n",
        "Consider this scenario in an Excel sheet. You are given 4 columns, `principal`, `rate_of_interest`, `num_of_years` and `simple_interest` as shown below.\n",
        "\n",
        "| principal | rate_of_interest | num_of_years | simple_interest |\n",
        "| -- | -- | -- | -- |\n",
        "| 12000 | 6 | 3 | |\n",
        "| 18000 | 6.25 | 4 | |\n",
        "| 82000 | 7 | 2 | |\n",
        "| 45000 | 6.75 | 5 | |\n",
        "\n",
        "How would you calculate the `simple_interest` column in this case? Of course, you will multiply the three cells in the first row and then divide it by 100. You will then drag down the formula to the cells below to obtain the result for the remaining cells. Quite Easily Done!\n",
        "\n",
        "But how will you do this in Python? Remember this thumb rule, we represent the columns in the spreadsheet as arrays in Python! So,\n",
        "\n",
        "```py\n",
        "principal = [12000, 18000, 82000, 45000]\n",
        "rate_of_interest = [6, 6.25, 7, 6.75]\n",
        "num_of_years = [3, 4, 2, 5]\n",
        "simple_interest = []\n",
        "\n",
        "# pythonic way of finding simple interest\n",
        "for i in range(0, len(principal)):\n",
        "    si = principal[i]*rate_of_interest[i]*num_of_years[i]/100\n",
        "    simple_interest.append(si)\n",
        "print(simple_interest)\n",
        "```\n",
        "But this is quite tedious! It was so simple to do the same thing in Excel, but in Python - we need loops, lists and what not! Can we improve upon this?? The answer is yes! And for that, we will use numpy."
      ]
    },
    {
      "cell_type": "markdown",
      "id": "a78018b2",
      "metadata": {
        "id": "a78018b2"
      },
      "source": [
        "### 02.1 - Element-wise Arithmetic Operations\n",
        "\n",
        "What will happen in Python if we add two lists as shown below?\n",
        "\n",
        "```py\n",
        "a = [1, 2, 3, 4]\n",
        "b = [5, 6, 7, 8]\n",
        "print(a + b)\n",
        "```\n",
        "\n",
        "The output will be `[1, 2, 3, 4, 5, 6, 7, 8]`. Two lists got appended! Moreover, operations like `a - b, a*b and a/b` doesn't make sense!\n",
        "\n",
        "What if I need output as `[6, 8, 10, 12]` which is the element-wise addition? In Python, we will need to write loop for that. However, numpy arrays allow us to do this element-wise operation easily.\n",
        "\n",
        "*Note that:* To perform element-wise operations, you will need two arrays of same shape and size. Otherwise, you will get an error."
      ]
    },
    {
      "cell_type": "code",
      "execution_count": null,
      "id": "b3633f48",
      "metadata": {
        "id": "b3633f48"
      },
      "outputs": [],
      "source": [
        "import numpy as np\n",
        "\n",
        "a = np.array([1, 2, 3, 4])\n",
        "b = np.array([5, 6, 7, 8])\n"
      ]
    },
    {
      "cell_type": "code",
      "execution_count": null,
      "id": "bd65a322",
      "metadata": {
        "id": "bd65a322",
        "outputId": "ee9eb8e4-113b-4dea-b923-0016f5dc134b"
      },
      "outputs": [
        {
          "name": "stdout",
          "output_type": "stream",
          "text": [
            "[ 6  8 10 12]\n"
          ]
        }
      ],
      "source": [
        "print(a + b)   # Addition of two arrays\n"
      ]
    },
    {
      "cell_type": "code",
      "execution_count": null,
      "id": "82899bfc",
      "metadata": {
        "id": "82899bfc",
        "outputId": "1d3bb4b6-b701-450e-db60-fb27588f8dd9"
      },
      "outputs": [
        {
          "name": "stdout",
          "output_type": "stream",
          "text": [
            "[4 4 4 4]\n",
            "----------\n",
            "[ 5 12 21 32]\n",
            "----------\n",
            "[5.         3.         2.33333333 2.        ]\n",
            "----------\n",
            "[    1    64  2187 65536]\n"
          ]
        }
      ],
      "source": [
        "print(b - a)   # Subtraction of two arrays\n",
        "print('-'*10)\n",
        "print(a*b)     # Multiplication of two arrays\n",
        "print('-'*10)\n",
        "print(b/a)     # Division of two arrays\n",
        "print('-'*10)\n",
        "print(a**b)    # One array raised to power of another"
      ]
    },
    {
      "cell_type": "markdown",
      "id": "85f0df2f",
      "metadata": {
        "id": "85f0df2f"
      },
      "source": [
        "Once we have the ability to perform this element-wise operation, finding the `simple_interest` becomes easy and a one line instruction."
      ]
    },
    {
      "cell_type": "code",
      "execution_count": null,
      "id": "14490a06",
      "metadata": {
        "id": "14490a06"
      },
      "outputs": [],
      "source": [
        "principal = np.array([12000, 18000, 82000, 45000])\n",
        "rate_of_interest = np.array([6, 6.25, 7, 6.75])\n",
        "num_of_years = np.array([3, 4, 2, 5])"
      ]
    },
    {
      "cell_type": "code",
      "execution_count": null,
      "id": "42a7537b",
      "metadata": {
        "id": "42a7537b",
        "outputId": "1b853571-202d-46d0-90c5-7a1025dec477"
      },
      "outputs": [
        {
          "name": "stdout",
          "output_type": "stream",
          "text": [
            "[ 2160.   4500.  11480.  15187.5]\n"
          ]
        }
      ],
      "source": [
        "simple_interest = principal*rate_of_interest*num_of_years/100\n",
        "print(simple_interest)"
      ]
    },
    {
      "cell_type": "markdown",
      "id": "f319f363",
      "metadata": {
        "id": "f319f363"
      },
      "source": [
        "### 02.2 Element-wise Comparison\n",
        "\n",
        "Imagine you have two groups of students: Group A and Group B. Each group has a list of test scores representing the performance of the students. You want to compare the test scores of the two groups to determine which group performed better overall.\n",
        "\n",
        "Using NumPy arrays, you can represent the test scores of Group A and Group B as follows:"
      ]
    },
    {
      "cell_type": "code",
      "execution_count": null,
      "id": "4f8e14fd",
      "metadata": {
        "id": "4f8e14fd"
      },
      "outputs": [],
      "source": [
        "group_a_scores = np.array([85, 92, 78, 90, 88])\n",
        "group_b_scores = np.array([80, 95, 85, 92, 87])"
      ]
    },
    {
      "cell_type": "markdown",
      "id": "164410b0",
      "metadata": {
        "id": "164410b0"
      },
      "source": [
        "Now, let's perform some comparisons using NumPy array operations:\n",
        "\n",
        "1. **Single Element Comparison:**\n",
        "\n",
        "Single element comparison allows you to compare corresponding elements of two arrays and returns a new array with the result of each element-wise comparison."
      ]
    },
    {
      "cell_type": "code",
      "execution_count": null,
      "id": "396705bf",
      "metadata": {
        "id": "396705bf",
        "outputId": "da846b53-ad5d-4da1-bf60-021b834de1bb"
      },
      "outputs": [
        {
          "name": "stdout",
          "output_type": "stream",
          "text": [
            "[ True False False False  True]\n"
          ]
        }
      ],
      "source": [
        "# Comparing scores element-wise\n",
        "comparison = group_a_scores > group_b_scores\n",
        "print(comparison)"
      ]
    },
    {
      "cell_type": "markdown",
      "id": "4e806b39",
      "metadata": {
        "id": "4e806b39"
      },
      "source": [
        "In this example, the resulting comparison array indicates True for elements where Group A has a higher score than Group B, and False for elements where Group A has a lower or equal score to Group B.\n",
        "\n",
        "2. **Overall Comparison:**\n",
        "\n",
        "You can use aggregate functions like `np.all()` and `np.any()` to determine if all or any elements of an array meet a specific condition."
      ]
    },
    {
      "cell_type": "code",
      "execution_count": null,
      "id": "0ea6d95c",
      "metadata": {
        "id": "0ea6d95c",
        "outputId": "18a8081e-dd87-4545-8718-e26ddde7f9d2"
      },
      "outputs": [
        {
          "name": "stdout",
          "output_type": "stream",
          "text": [
            "False\n"
          ]
        }
      ],
      "source": [
        "# Check if all scores in Group A are greater than Group B\n",
        "all_greater = np.all(group_a_scores > group_b_scores)\n",
        "print(all_greater)"
      ]
    },
    {
      "cell_type": "code",
      "execution_count": null,
      "id": "91899d30",
      "metadata": {
        "id": "91899d30",
        "outputId": "e343fab1-5f17-4a61-f452-2fbbebdee61e"
      },
      "outputs": [
        {
          "name": "stdout",
          "output_type": "stream",
          "text": [
            "True\n"
          ]
        }
      ],
      "source": [
        "# Check if any score in Group A is greater than Group B\n",
        "any_greater = np.any(group_a_scores > group_b_scores)\n",
        "print(any_greater)"
      ]
    },
    {
      "cell_type": "markdown",
      "id": "2e053a9d",
      "metadata": {
        "id": "2e053a9d"
      },
      "source": [
        "In this example, the all_greater variable returns False because not all scores in Group A are greater than Group B. However, the any_greater variable returns True because there is at least one score in Group A that is greater than Group B.\n",
        "\n",
        "Comparing NumPy arrays allows you to analyze and make decisions based on the elements they contain. Just like comparing real-life objects, you can use NumPy array comparison to determine relationships, find patterns, filter data, or make logical decisions in data analysis or scientific computing scenarios."
      ]
    },
    {
      "cell_type": "markdown",
      "id": "d4ea7cfc",
      "metadata": {
        "id": "d4ea7cfc"
      },
      "source": [
        "### 02.3 Aggregate Functions\n",
        "\n",
        "Aggregate functions in NumPy allow us to perform calculations on arrays, aggregating multiple values into a single result. You have studied these functions in Excel as well.\n",
        "\n",
        "1. **np.sum():**\n",
        "\n",
        "This function calculates the sum of all elements in an array.\n",
        "It can be used to find the total of a set of values or to calculate cumulative sums."
      ]
    },
    {
      "cell_type": "code",
      "execution_count": null,
      "id": "37def3e3",
      "metadata": {
        "id": "37def3e3",
        "outputId": "a1566ead-027d-4834-953f-5929fbb4d7ea"
      },
      "outputs": [
        {
          "name": "stdout",
          "output_type": "stream",
          "text": [
            "6\n"
          ]
        }
      ],
      "source": [
        "expenses = np.array([1, 2, 3])\n",
        "total_expenses = np.sum(expenses)\n",
        "print(total_expenses)"
      ]
    },
    {
      "cell_type": "markdown",
      "id": "475bef96",
      "metadata": {
        "id": "475bef96"
      },
      "source": [
        "2. **np.cumsum():**\n",
        "\n",
        "This function calculates the cumulative sum of elements in an array.\n",
        "It gives the running total of the values as we iterate through the array."
      ]
    },
    {
      "cell_type": "code",
      "execution_count": null,
      "id": "d3826403",
      "metadata": {
        "id": "d3826403",
        "outputId": "edd34437-5e2c-4090-eeba-5014f0ebbb63"
      },
      "outputs": [
        {
          "name": "stdout",
          "output_type": "stream",
          "text": [
            "[1 3 6]\n"
          ]
        }
      ],
      "source": [
        "sales = np.array([1, 2, 3])\n",
        "cumulative_sales = np.cumsum(sales)\n",
        "print(cumulative_sales)"
      ]
    },
    {
      "cell_type": "markdown",
      "id": "dc811a28",
      "metadata": {
        "id": "dc811a28"
      },
      "source": [
        "3. **np.min() and np.max():**\n",
        "\n",
        "These functions return the minimum and maximum values from an array, respectively.\n",
        "They are useful for finding the smallest or largest value in a dataset."
      ]
    },
    {
      "cell_type": "code",
      "execution_count": null,
      "id": "672694e3",
      "metadata": {
        "id": "672694e3",
        "outputId": "360114b8-198e-4162-c6b5-cfc2f175611d"
      },
      "outputs": [
        {
          "name": "stdout",
          "output_type": "stream",
          "text": [
            "20 35\n"
          ]
        }
      ],
      "source": [
        "temperatures = np.array([25, 30, 20, 35, 28])\n",
        "min_temp = np.min(temperatures)\n",
        "max_temp = np.max(temperatures)\n",
        "print(min_temp, max_temp)"
      ]
    },
    {
      "cell_type": "markdown",
      "id": "69ddb470",
      "metadata": {
        "id": "69ddb470"
      },
      "source": [
        "4. **np.mean() and np.median():**\n",
        "\n",
        "np.mean() calculates the arithmetic mean of an array, giving the average value.\n",
        "np.median() returns the median value, which is the middle value when the array is sorted."
      ]
    },
    {
      "cell_type": "code",
      "execution_count": null,
      "id": "850a3bd0",
      "metadata": {
        "id": "850a3bd0",
        "outputId": "8ebe9daf-b0c5-41a7-c1b0-14e339d35362"
      },
      "outputs": [
        {
          "name": "stdout",
          "output_type": "stream",
          "text": [
            "35.0 35.0\n"
          ]
        }
      ],
      "source": [
        "ages = np.array([25, 30, 35, 40, 45])\n",
        "average_age = np.mean(ages) #sum/count\n",
        "median_age = np.median(ages) # abs mid point / 50th %ile\n",
        "print(average_age, median_age)"
      ]
    },
    {
      "cell_type": "code",
      "execution_count": null,
      "id": "40806f95",
      "metadata": {
        "id": "40806f95"
      },
      "outputs": [],
      "source": [
        "# np.percentile() -- 50,60,91,99,1,100"
      ]
    },
    {
      "cell_type": "markdown",
      "id": "16298ae8",
      "metadata": {
        "id": "16298ae8"
      },
      "source": [
        "5. **np.std():**\n",
        "\n",
        "This function calculates the standard deviation of an array, which measures the spread or dispersion of the values.\n",
        "It provides a measure of how much the values deviate from the mean."
      ]
    },
    {
      "cell_type": "code",
      "execution_count": null,
      "id": "1e0463a9",
      "metadata": {
        "id": "1e0463a9",
        "outputId": "8c85b6fe-9a60-4e95-9c1f-99d96de82d04"
      },
      "outputs": [
        {
          "name": "stdout",
          "output_type": "stream",
          "text": [
            "7.0710678118654755\n"
          ]
        }
      ],
      "source": [
        "scores = np.array([80, 85, 90, 75, 95])\n",
        "std_dev = np.std(scores)\n",
        "print(std_dev)"
      ]
    },
    {
      "cell_type": "code",
      "execution_count": null,
      "id": "9bb483a4",
      "metadata": {
        "id": "9bb483a4"
      },
      "outputs": [],
      "source": []
    },
    {
      "cell_type": "code",
      "execution_count": null,
      "id": "2f0ee6c7",
      "metadata": {
        "id": "2f0ee6c7"
      },
      "outputs": [],
      "source": []
    },
    {
      "cell_type": "code",
      "execution_count": null,
      "id": "244c9af9",
      "metadata": {
        "id": "244c9af9"
      },
      "outputs": [],
      "source": []
    }
  ],
  "metadata": {
    "kernelspec": {
      "display_name": "Python 3 (ipykernel)",
      "language": "python",
      "name": "python3"
    },
    "language_info": {
      "codemirror_mode": {
        "name": "ipython",
        "version": 3
      },
      "file_extension": ".py",
      "mimetype": "text/x-python",
      "name": "python",
      "nbconvert_exporter": "python",
      "pygments_lexer": "ipython3",
      "version": "3.9.7"
    },
    "colab": {
      "provenance": [],
      "include_colab_link": true
    }
  },
  "nbformat": 4,
  "nbformat_minor": 5
}