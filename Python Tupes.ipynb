{
 "cells": [
  {
   "cell_type": "markdown",
   "id": "22f8bbc2",
   "metadata": {},
   "source": [
    "## Tuples"
   ]
  },
  {
   "cell_type": "code",
   "execution_count": 1,
   "id": "90278ae0",
   "metadata": {},
   "outputs": [],
   "source": [
    "#1. Tuple is an ordered sequence of items same as a list.\n",
    "#2. It is defined within parantheses () where items are seperated by commas.\n",
    "#3. Immutable datatype i.e cannot be added/updated\n",
    "#4. Faster than list\n",
    "#5. It Contains multiple Values.\n",
    "#6. Specific element cannot be removed.\n",
    "#7. Cannot be reversed.\n",
    "#8. Index-searching given element which returns the position.\n",
    "#9. Already sorted.\n"
   ]
  },
  {
   "cell_type": "markdown",
   "id": "cec1add9",
   "metadata": {},
   "source": [
    "## Creating a Tuple"
   ]
  },
  {
   "cell_type": "code",
   "execution_count": 2,
   "id": "3d242976",
   "metadata": {},
   "outputs": [],
   "source": [
    "# 1. A tuple is created by placing all the items (elements) inside parentheses () seperated by commas\n",
    "# 2. The parentheses are optional, however, it is a good practice to use them.\n",
    "# 3. A tuple can have any number of items and they may be of different types (integer, float, list, string, etc.).\n",
    "\n"
   ]
  },
  {
   "cell_type": "code",
   "execution_count": 3,
   "id": "96337608",
   "metadata": {},
   "outputs": [
    {
     "name": "stdout",
     "output_type": "stream",
     "text": [
      "()\n",
      "(1, 2, 3)\n",
      "(1, 'Hello Syed Imran', 3.4)\n",
      "('Computer', [8, 4, 6], (1, 2, 3))\n"
     ]
    }
   ],
   "source": [
    "# Example -1\n",
    "\n",
    "# Different types of tuples\n",
    "\n",
    "# Empty tuple\n",
    "my_tuple = ()    \n",
    "print(my_tuple)\n",
    "\n",
    "# Tuple having integers\n",
    "my_tuple = (1, 2, 3)\n",
    "print(my_tuple)\n",
    "\n",
    "# tuple with mixed datatypes\n",
    "my_tuple = (1, \"Hello Syed Imran\", 3.4)\n",
    "print(my_tuple)\n",
    "\n",
    "# nested tuple\n",
    "my_tuple = (\"Computer\", [8, 4, 6], (1, 2, 3))\n",
    "print(my_tuple)"
   ]
  },
  {
   "cell_type": "code",
   "execution_count": 5,
   "id": "8480210c",
   "metadata": {},
   "outputs": [
    {
     "name": "stdout",
     "output_type": "stream",
     "text": [
      "(5, 2.6, 'Computer')\n",
      "<class 'tuple'>\n",
      "5\n",
      "2.6\n",
      "Computer\n"
     ]
    }
   ],
   "source": [
    "# A tuple can also be created without using parentheses. This is known as tuple packing.\n",
    "my_tuple = 5, 2.6, \"Computer\"\n",
    "print(my_tuple)\n",
    "print(type(my_tuple))\n",
    "\n",
    "# tuple unpacking is also possible\n",
    "a, b, c = my_tuple\n",
    "\n",
    "print(a)      # 5\n",
    "print(b)      # 2.6\n",
    "print(c)      # Computer"
   ]
  },
  {
   "cell_type": "markdown",
   "id": "51180017",
   "metadata": {},
   "source": [
    "## Creating a tuple with one element \n",
    "\n"
   ]
  },
  {
   "cell_type": "code",
   "execution_count": 7,
   "id": "5eb42c71",
   "metadata": {},
   "outputs": [
    {
     "name": "stdout",
     "output_type": "stream",
     "text": [
      "<class 'str'>\n",
      "<class 'tuple'>\n",
      "<class 'tuple'>\n"
     ]
    }
   ],
   "source": [
    "# Having one element within parentheses is not enough to consider as tuple We  need a trailing comma to indicate that it is, in fact, a tuple.\n",
    "\n",
    "# Example -2\n",
    "\n",
    "my_tuple = (\"Welcome to Python\")\n",
    "print(type(my_tuple))  # <class 'str'>\n",
    "\n",
    "# Creating a tuple having one element\n",
    "my_tuple = (\"Welcome to Python\",)\n",
    "print(type(my_tuple))  # <class 'tuple'>\n",
    "\n",
    "# Parentheses is optional\n",
    "my_tuple = \"Welcome to Python\",\n",
    "print(type(my_tuple))  # <class 'tuple'>\n"
   ]
  },
  {
   "cell_type": "markdown",
   "id": "3872a267",
   "metadata": {},
   "source": [
    "## Access Tuple Elements"
   ]
  },
  {
   "cell_type": "code",
   "execution_count": 8,
   "id": "a12715f6",
   "metadata": {},
   "outputs": [],
   "source": [
    "# There are various ways in which we can access the elements of a tuple.\n",
    "# 1. Indexing\n",
    "# We can use the index operator [] to access an item in a tuple, where the index starts from 0.\n",
    "# So, a tuple having 6 elements will have indices from 0 to 5.\n",
    "# Trying to access an index outside of the tuple index range(6,7,...) will raise an IndexError.\n",
    "# The index must be an integer only, so we cannot use float or other types. This will result in TypeError.\n",
    "# Nested tuples are accessed using nested indexing"
   ]
  },
  {
   "cell_type": "code",
   "execution_count": 12,
   "id": "bc2f6084",
   "metadata": {},
   "outputs": [
    {
     "name": "stdout",
     "output_type": "stream",
     "text": [
      "p\n",
      "n\n"
     ]
    }
   ],
   "source": [
    "# Accessing tuple elements using indexing\n",
    "\n",
    "my_tuple = ('p','y','t','h','o','n')\n",
    "\n",
    "print(my_tuple[0])   # 'p' \n",
    "print(my_tuple[5])   # 't'\n",
    "\n",
    "# IndexError: list index out of range\n",
    "# print(my_tuple[6])\n",
    "\n",
    "# Index must be an integer\n",
    "# TypeError: list indices must be integers, not float\n",
    "# my_tuple[4.0]\n",
    "\n"
   ]
  },
  {
   "cell_type": "code",
   "execution_count": 14,
   "id": "0bccdbc1",
   "metadata": {},
   "outputs": [
    {
     "name": "stdout",
     "output_type": "stream",
     "text": [
      "p\n",
      "4\n"
     ]
    }
   ],
   "source": [
    "# Example -3\n",
    "\n",
    "# nested tuple\n",
    "\n",
    "n_tuple = (\"Computer\", [5, 4, 3], (1, 2, 3))\n",
    "\n",
    "# nested index\n",
    "print(n_tuple[0][3])       # 'p'\n",
    "print(n_tuple[1][1])       # 4"
   ]
  },
  {
   "cell_type": "markdown",
   "id": "f5e2d3c9",
   "metadata": {},
   "source": [
    "## 2. Negative Indexing\n",
    "\n"
   ]
  },
  {
   "cell_type": "code",
   "execution_count": null,
   "id": "2523d0f8",
   "metadata": {},
   "outputs": [],
   "source": [
    "# Example -2\n",
    "\n",
    "# Python allows negative indexing for its sequences.\n",
    "# The index of -1 refers to the last item, -2 to the second last item and so on.\n",
    "# Negative indexing for accessing tuple elements.\n",
    "\n",
    "my_tuple = ('p', 'y', 't', 'h', 'o', 'n')\n",
    "\n",
    "# Output: 'n'\n",
    "print(my_tuple[-1])\n",
    "\n",
    "# Output: 'p'\n",
    "print(my_tuple[-6])"
   ]
  },
  {
   "cell_type": "markdown",
   "id": "e4c2d39a",
   "metadata": {},
   "source": [
    "## 3. Slicing"
   ]
  },
  {
   "cell_type": "code",
   "execution_count": 17,
   "id": "04ab1b11",
   "metadata": {},
   "outputs": [
    {
     "name": "stdout",
     "output_type": "stream",
     "text": [
      "('y', 't', 'h')\n",
      "('P', 'y', 't')\n",
      "('o', 'd', 'e')\n",
      "('P', 'y', 't', 'h', 'o', 'n', 'c', 'o', 'd', 'e')\n"
     ]
    }
   ],
   "source": [
    "# We can access a range of items in a tuple by using the slicing operator colon :\n",
    "\n",
    "# Accessing tuple elements using slicing.\n",
    "\n",
    "my_tuple = ('P','y','t','h','o','n','c','o','d','e')\n",
    "\n",
    "# elements 2nd to 4th\n",
    "# Output: ('y', 't', 'h')\n",
    "print(my_tuple[1:4])\n",
    "\n",
    "# elements beginning to 2nd\n",
    "# Output: ('p', 'y','t')\n",
    "print(my_tuple[:-7])\n",
    "\n",
    "# elements 8th to end\n",
    "# Output: ('o', 'd', 'e')\n",
    "print(my_tuple[7:])\n",
    "\n",
    "# elements beginning to end\n",
    "# Output: ('P', 'y', 't', 'h', 'o', 'n', 'c', 'o', 'd', 'e')\n",
    "print(my_tuple[:])"
   ]
  },
  {
   "cell_type": "markdown",
   "id": "d12d4e47",
   "metadata": {},
   "source": [
    "## Changing a Tuple"
   ]
  },
  {
   "cell_type": "code",
   "execution_count": 22,
   "id": "f4675fa1",
   "metadata": {},
   "outputs": [],
   "source": [
    "# Unlike lists, tuples are immutable.\n",
    "# This means that elements of a tuple cannot be changed once they have been assigned. \n",
    "# But, if the element is itself a mutable data type like a list, its nested items can be changed.\n",
    "# We can also assign a tuple to different values (reassignment)."
   ]
  },
  {
   "cell_type": "code",
   "execution_count": 27,
   "id": "d8ad2d93",
   "metadata": {},
   "outputs": [],
   "source": [
    "# Changing tuple values\n",
    "\n",
    "my_tuple = (7, 1, 3, [3, 5])\n",
    "\n",
    "\n",
    "# TypeError: 'tuple' object does not support item assignment\n",
    "# my_tuple[1] = 9\n",
    "\n"
   ]
  },
  {
   "cell_type": "code",
   "execution_count": 28,
   "id": "77c4746a",
   "metadata": {},
   "outputs": [
    {
     "name": "stdout",
     "output_type": "stream",
     "text": [
      "(7, 1, 3, [9, 5])\n"
     ]
    }
   ],
   "source": [
    "# However, item of mutable element can be changed\n",
    "\n",
    "my_tuple[3][0] = 9    # Output: (7, 1, 3, [9, 5])\n",
    "print(my_tuple)\n",
    "\n"
   ]
  },
  {
   "cell_type": "code",
   "execution_count": 30,
   "id": "fb9925a2",
   "metadata": {},
   "outputs": [
    {
     "name": "stdout",
     "output_type": "stream",
     "text": [
      "('P', 'y', 't', 'h', 'o', 'n', 'c', 'o', 'd', 'e')\n",
      "<class 'tuple'>\n"
     ]
    }
   ],
   "source": [
    "# Tuples can be reassigned\n",
    "\n",
    "my_tuple = ('P', 'y', 't', 'h', 'o', 'n', 'c', 'o', 'd', 'e')\n",
    "\n",
    "# Output: ('P', 'y', 't', 'h', 'o', 'n', 'c', 'o', 'd', 'e')\n",
    "print(my_tuple)\n",
    "print(type(my_tuple))"
   ]
  },
  {
   "cell_type": "code",
   "execution_count": 31,
   "id": "b6107437",
   "metadata": {},
   "outputs": [
    {
     "name": "stdout",
     "output_type": "stream",
     "text": [
      "(1, 2, 3, 4, 5, 6)\n",
      "('SyedImran', 'SyedImran', 'SyedImran')\n"
     ]
    }
   ],
   "source": [
    "# We can use + operator to combine two tuples. This is called concatenation.\n",
    "# We can also repeat the elements in a tuple for a given number of times using the * operator.\n",
    "# Both + and * operations result in a new tuple.\n",
    "\n",
    "# Concatenation\n",
    "# Output: (1, 2, 3, 4, 5, 6)\n",
    "print((1, 2, 3) + (4, 5, 6))\n",
    "\n",
    "# Repeat\n",
    "# Output: ('SyedImran', 'SyedImran', 'SyedImran')\n",
    "print((\"SyedImran\",) * 3)"
   ]
  },
  {
   "cell_type": "markdown",
   "id": "cb66aa62",
   "metadata": {},
   "source": [
    "## Deleting a Tuple"
   ]
  },
  {
   "cell_type": "code",
   "execution_count": 37,
   "id": "b303b3a9",
   "metadata": {},
   "outputs": [
    {
     "ename": "NameError",
     "evalue": "name 'my_tuple' is not defined",
     "output_type": "error",
     "traceback": [
      "\u001b[1;31m---------------------------------------------------------------------------\u001b[0m",
      "\u001b[1;31mNameError\u001b[0m                                 Traceback (most recent call last)",
      "\u001b[1;32m<ipython-input-37-e2d6f7ae0ea7>\u001b[0m in \u001b[0;36m<module>\u001b[1;34m\u001b[0m\n\u001b[0;32m     14\u001b[0m \u001b[1;33m\u001b[0m\u001b[0m\n\u001b[0;32m     15\u001b[0m \u001b[1;31m# NameError: name 'my_tuple' is not defined\u001b[0m\u001b[1;33m\u001b[0m\u001b[1;33m\u001b[0m\u001b[1;33m\u001b[0m\u001b[0m\n\u001b[1;32m---> 16\u001b[1;33m \u001b[0mprint\u001b[0m\u001b[1;33m(\u001b[0m\u001b[0mmy_tuple\u001b[0m\u001b[1;33m)\u001b[0m\u001b[1;33m\u001b[0m\u001b[1;33m\u001b[0m\u001b[0m\n\u001b[0m",
      "\u001b[1;31mNameError\u001b[0m: name 'my_tuple' is not defined"
     ]
    }
   ],
   "source": [
    "# As we know that we cannot change the elements in a tuple. It means that we cannot delete or remove items from a tuple.\n",
    "# Deleting a tuple of  entire items , is possible using the keyword del.\n",
    "\n",
    "# Deleting tuples\n",
    "\n",
    "my_tuple = ('P', 'y', 't', 'h', 'o', 'n', 'c', 'o', 'd', 'e')\n",
    "\n",
    "# can't delete items\n",
    "# TypeError: 'tuple' object doesn't support item deletion\n",
    "# del my_tuple[3]\n",
    "\n",
    "# Can delete an entire tuple\n",
    "del my_tuple\n",
    "\n",
    "# NameError: name 'my_tuple' is not defined\n",
    "print(my_tuple)"
   ]
  },
  {
   "cell_type": "code",
   "execution_count": 44,
   "id": "3098eb1c",
   "metadata": {},
   "outputs": [
    {
     "name": "stdout",
     "output_type": "stream",
     "text": [
      "3\n"
     ]
    }
   ],
   "source": [
    "# Length of Tuple\n",
    "\n",
    "my_tuple=(\"Python\",22,99.34)\n",
    "print(len(my_tuple))"
   ]
  },
  {
   "cell_type": "markdown",
   "id": "73bc0b5e",
   "metadata": {},
   "source": [
    "## Tuple Methods"
   ]
  },
  {
   "cell_type": "code",
   "execution_count": 38,
   "id": "4c62825c",
   "metadata": {},
   "outputs": [],
   "source": [
    "# Methods that add items or remove items are not available with tuple. \n",
    "# There are two methods available.\n",
    "# Some examples of Python tuple methods"
   ]
  },
  {
   "cell_type": "code",
   "execution_count": 40,
   "id": "2f7daeed",
   "metadata": {},
   "outputs": [
    {
     "name": "stdout",
     "output_type": "stream",
     "text": [
      "0\n",
      "2\n"
     ]
    }
   ],
   "source": [
    "# Example\n",
    "\n",
    "my_tuple = ('P', 'y', 't', 'h', 'o','n',)\n",
    "\n",
    "print(my_tuple.count('p'))  # Output: 0\n",
    "print(my_tuple.index('t'))  # Output: 2"
   ]
  },
  {
   "cell_type": "markdown",
   "id": "fee04c1d",
   "metadata": {},
   "source": [
    "## Tuple Operations"
   ]
  },
  {
   "cell_type": "code",
   "execution_count": 41,
   "id": "57649acb",
   "metadata": {},
   "outputs": [
    {
     "name": "stdout",
     "output_type": "stream",
     "text": [
      "True\n",
      "False\n",
      "True\n"
     ]
    }
   ],
   "source": [
    "# 1. Tuple Membership \n",
    "# We can test if an item exists in a tuple or not, using the keyword in.\n",
    "\n",
    "# Membership test in tuple\n",
    "my_tuple = ('P', 'y', 't', 'h', 'o','n',)\n",
    "\n",
    "# In operation\n",
    "print('y' in my_tuple)\n",
    "print('k' in my_tuple)\n",
    "\n",
    "# Not in operation\n",
    "print('g' not in my_tuple)"
   ]
  },
  {
   "cell_type": "markdown",
   "id": "4b911a07",
   "metadata": {},
   "source": [
    "## 2. Iterating Through a Tuple\n"
   ]
  },
  {
   "cell_type": "code",
   "execution_count": 42,
   "id": "cfdfe216",
   "metadata": {},
   "outputs": [
    {
     "name": "stdout",
     "output_type": "stream",
     "text": [
      "Welcome to Python  Syed Imran\n",
      "Welcome to Python  Smith\n",
      "Welcome to Python  Ramesh\n"
     ]
    }
   ],
   "source": [
    "# We can use a for loop to iterate through each item in a tuple.\n",
    "\n",
    "# Using a for loop to iterate through a tuple\n",
    "for name in ('Syed Imran', 'Smith','Ramesh'):\n",
    "    print(\"Welcome to Python \", name)"
   ]
  },
  {
   "cell_type": "markdown",
   "id": "6d66bb3b",
   "metadata": {},
   "source": [
    "## Finally Advantages of Tuple over List "
   ]
  },
  {
   "cell_type": "code",
   "execution_count": null,
   "id": "5671c23b",
   "metadata": {},
   "outputs": [],
   "source": [
    "# 1. Since tuples are quite similar to lists, both of them are used in similar situations.\n",
    "# 2. We generally use tuples for heterogeneous (different) data types and lists for homogeneous (similar) data types.\n",
    "# 3. Since tuples are immutable, iterating through a tuple is faster than with list. So there is a slight performance boost.\n",
    "# 4. Tuples that contain immutable elements can be used as a key for a dictionary. With lists, this is not possible.\n",
    "# 5. If you have data that doesn't change, implementing it as tuple will guarantee that it remains write-protected."
   ]
  }
 ],
 "metadata": {
  "kernelspec": {
   "display_name": "Python 3",
   "language": "python",
   "name": "python3"
  },
  "language_info": {
   "codemirror_mode": {
    "name": "ipython",
    "version": 3
   },
   "file_extension": ".py",
   "mimetype": "text/x-python",
   "name": "python",
   "nbconvert_exporter": "python",
   "pygments_lexer": "ipython3",
   "version": "3.8.8"
  }
 },
 "nbformat": 4,
 "nbformat_minor": 5
}
