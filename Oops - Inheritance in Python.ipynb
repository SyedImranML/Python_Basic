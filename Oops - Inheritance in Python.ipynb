{
 "cells": [
  {
   "cell_type": "markdown",
   "id": "286ceb97",
   "metadata": {},
   "source": [
    "### Inheritance in Python"
   ]
  },
  {
   "cell_type": "markdown",
   "id": "af969e15",
   "metadata": {},
   "source": [
    "with inheritance one class can dervie the properties of another class"
   ]
  },
  {
   "cell_type": "markdown",
   "id": "e414ba27",
   "metadata": {},
   "source": [
    "### Creating the base class"
   ]
  },
  {
   "cell_type": "code",
   "execution_count": 1,
   "id": "d1646692",
   "metadata": {},
   "outputs": [],
   "source": [
    "# Example -1  \n",
    "\n",
    "class Vechicle:\n",
    "    def __init__(self,mileage,cost):\n",
    "        self.mileage = mileage\n",
    "        self.cost = cost\n",
    "    def show_details(self):\n",
    "        print(\"I am a Vechicle\")\n",
    "        print(\"Mileage of Vechicle\",self.mileage)\n",
    "        print(\"Cost of Vechicle\",self.cost)\n",
    "    "
   ]
  },
  {
   "cell_type": "markdown",
   "id": "02a39a3d",
   "metadata": {},
   "source": [
    "### Instantiating the object for base class"
   ]
  },
  {
   "cell_type": "code",
   "execution_count": 3,
   "id": "3d0057f2",
   "metadata": {},
   "outputs": [],
   "source": [
    "v1 = Vechicle(500,50000)"
   ]
  },
  {
   "cell_type": "markdown",
   "id": "b2cb57ea",
   "metadata": {},
   "source": [
    "### Invoking methods through object"
   ]
  },
  {
   "cell_type": "code",
   "execution_count": 4,
   "id": "bfe1e62b",
   "metadata": {},
   "outputs": [
    {
     "name": "stdout",
     "output_type": "stream",
     "text": [
      "I am a Vechicle\n",
      "Mileage of Vechicle 500\n",
      "Cost of Vechicle 50000\n"
     ]
    }
   ],
   "source": [
    "v1.show_details()"
   ]
  },
  {
   "cell_type": "markdown",
   "id": "d3c51d43",
   "metadata": {},
   "source": [
    "### Creating the child class"
   ]
  },
  {
   "cell_type": "code",
   "execution_count": 5,
   "id": "e73e0ce0",
   "metadata": {},
   "outputs": [],
   "source": [
    "class Car(Vechicle):\n",
    "    def show_car(self):\n",
    "        print(\"I am a Car\")"
   ]
  },
  {
   "cell_type": "markdown",
   "id": "c51d7068",
   "metadata": {},
   "source": [
    "### Instantiating the object for child class"
   ]
  },
  {
   "cell_type": "code",
   "execution_count": 7,
   "id": "87971cbd",
   "metadata": {},
   "outputs": [
    {
     "name": "stdout",
     "output_type": "stream",
     "text": [
      "I am a Vechicle\n",
      "Mileage of Vechicle 200\n",
      "Cost of Vechicle 1200\n"
     ]
    }
   ],
   "source": [
    "c1 = Car(200,1200)\n",
    "c1.show_details()"
   ]
  },
  {
   "cell_type": "markdown",
   "id": "debe104f",
   "metadata": {},
   "source": [
    "### Invoking the child class method\n"
   ]
  },
  {
   "cell_type": "code",
   "execution_count": 8,
   "id": "058a83e3",
   "metadata": {},
   "outputs": [
    {
     "name": "stdout",
     "output_type": "stream",
     "text": [
      "I am a Car\n"
     ]
    }
   ],
   "source": [
    "c1.show_car()"
   ]
  },
  {
   "cell_type": "code",
   "execution_count": 1,
   "id": "cad4fffb",
   "metadata": {},
   "outputs": [],
   "source": [
    "# Example 2:\n",
    "\n",
    "class Vehicle:\n",
    "    def general_usage(self):\n",
    "        print(\"general use : transpotation\")\n",
    "        \n",
    "class Car(Vehicle):\n",
    "    def __init__(self):\n",
    "        print(\"I'm Car\")\n",
    "        self.wheels = 4\n",
    "        self.has_roof = True\n",
    "    def specific_usage(self):\n",
    "        print(\"Specific use : commute to work , Vacation with family\")\n",
    "        \n",
    "class MotorCycle(Vehicle):\n",
    "    def __init__(self):\n",
    "        print(\"I'm motor cycle\")\n",
    "        self.wheels = 2\n",
    "        self.has_roof = False\n",
    "    def specific_usage(self):\n",
    "        print(\"Specific use :  road trip , racing\")\n"
   ]
  },
  {
   "cell_type": "markdown",
   "id": "8abcef3b",
   "metadata": {},
   "source": [
    "### Instantiating the object for child class"
   ]
  },
  {
   "cell_type": "code",
   "execution_count": 2,
   "id": "b5123ebc",
   "metadata": {},
   "outputs": [
    {
     "name": "stdout",
     "output_type": "stream",
     "text": [
      "I'm Car\n"
     ]
    }
   ],
   "source": [
    "c = Car()"
   ]
  },
  {
   "cell_type": "code",
   "execution_count": 3,
   "id": "2d8b740b",
   "metadata": {},
   "outputs": [
    {
     "name": "stdout",
     "output_type": "stream",
     "text": [
      "general use : transpotation\n"
     ]
    }
   ],
   "source": [
    "c.general_usage()"
   ]
  },
  {
   "cell_type": "code",
   "execution_count": 4,
   "id": "c6b183af",
   "metadata": {},
   "outputs": [
    {
     "name": "stdout",
     "output_type": "stream",
     "text": [
      "Specific use : commute to work , Vacation with family\n"
     ]
    }
   ],
   "source": [
    "c.specific_usage()"
   ]
  },
  {
   "cell_type": "code",
   "execution_count": 5,
   "id": "f0b1dd1d",
   "metadata": {},
   "outputs": [
    {
     "name": "stdout",
     "output_type": "stream",
     "text": [
      "I'm Car\n",
      "general use : transpotation\n",
      "Specific use : commute to work , Vacation with family\n"
     ]
    }
   ],
   "source": [
    "c = Car()\n",
    "c.general_usage()\n",
    "c.specific_usage()"
   ]
  },
  {
   "cell_type": "code",
   "execution_count": 9,
   "id": "cf80c0a8",
   "metadata": {},
   "outputs": [
    {
     "name": "stdout",
     "output_type": "stream",
     "text": [
      "I'm motor cycle\n",
      "general use : transpotation\n",
      "Specific use :  road trip , racing\n"
     ]
    }
   ],
   "source": [
    "m = MotorCycle()\n",
    "m.general_usage()\n",
    "m.specific_usage()"
   ]
  },
  {
   "cell_type": "code",
   "execution_count": 10,
   "id": "c1f591c1",
   "metadata": {},
   "outputs": [],
   "source": [
    "# Example : 3\n",
    "\n",
    "class Vehicle:\n",
    "    def general_usage(self):\n",
    "        print(\"general use : transpotation\")\n",
    "        \n",
    "class Car(Vehicle):\n",
    "    def __init__(self):\n",
    "        print(\"I'm Car\")\n",
    "        self.wheels = 4\n",
    "        self.has_roof = True\n",
    "    def specific_usage(self):\n",
    "        self.general_usage()\n",
    "        print(\"Specific use : commute to work , Vacation with family\")\n",
    "        \n",
    "class MotorCycle(Vehicle):\n",
    "    def __init__(self):\n",
    "        print(\"I'm motor cycle\")\n",
    "        self.wheels = 2\n",
    "        self.has_roof = False\n",
    "    def specific_usage(self):\n",
    "        self.general_usage()\n",
    "        print(\"Specific use :  road trip , racing\")"
   ]
  },
  {
   "cell_type": "code",
   "execution_count": 11,
   "id": "1059d5a3",
   "metadata": {},
   "outputs": [
    {
     "name": "stdout",
     "output_type": "stream",
     "text": [
      "I'm Car\n",
      "general use : transpotation\n",
      "Specific use : commute to work , Vacation with family\n"
     ]
    }
   ],
   "source": [
    "c = Car()\n",
    "c.specific_usage()"
   ]
  },
  {
   "cell_type": "code",
   "execution_count": 12,
   "id": "6e937c21",
   "metadata": {},
   "outputs": [
    {
     "name": "stdout",
     "output_type": "stream",
     "text": [
      "I'm motor cycle\n",
      "general use : transpotation\n",
      "Specific use :  road trip , racing\n"
     ]
    }
   ],
   "source": [
    "m = MotorCycle()\n",
    "m.specific_usage()"
   ]
  },
  {
   "cell_type": "markdown",
   "id": "fedebc4d",
   "metadata": {},
   "source": [
    "### isinstance and issubclass methods"
   ]
  },
  {
   "cell_type": "markdown",
   "id": "ca4dac8f",
   "metadata": {},
   "source": [
    "isinstance is build in function in python , it will tell if the object is for specific class or not."
   ]
  },
  {
   "cell_type": "code",
   "execution_count": 13,
   "id": "675d2abc",
   "metadata": {},
   "outputs": [
    {
     "name": "stdout",
     "output_type": "stream",
     "text": [
      "True\n"
     ]
    }
   ],
   "source": [
    "print(isinstance(c,Car))"
   ]
  },
  {
   "cell_type": "code",
   "execution_count": 14,
   "id": "48a5bdde",
   "metadata": {},
   "outputs": [
    {
     "name": "stdout",
     "output_type": "stream",
     "text": [
      "True\n"
     ]
    }
   ],
   "source": [
    "print(isinstance(c,Vehicle))"
   ]
  },
  {
   "cell_type": "code",
   "execution_count": 15,
   "id": "18a75bc7",
   "metadata": {},
   "outputs": [
    {
     "name": "stdout",
     "output_type": "stream",
     "text": [
      "False\n"
     ]
    }
   ],
   "source": [
    "print(isinstance(c,MotorCycle))"
   ]
  },
  {
   "cell_type": "markdown",
   "id": "1537447a",
   "metadata": {},
   "source": [
    "### issubclass methods"
   ]
  },
  {
   "cell_type": "code",
   "execution_count": 17,
   "id": "f713f10c",
   "metadata": {},
   "outputs": [
    {
     "name": "stdout",
     "output_type": "stream",
     "text": [
      "True\n"
     ]
    }
   ],
   "source": [
    "print(issubclass(Car,Vehicle))"
   ]
  },
  {
   "cell_type": "code",
   "execution_count": 18,
   "id": "3dd7f4d8",
   "metadata": {},
   "outputs": [
    {
     "name": "stdout",
     "output_type": "stream",
     "text": [
      "False\n"
     ]
    }
   ],
   "source": [
    "print(issubclass(Car,MotorCycle))"
   ]
  },
  {
   "cell_type": "code",
   "execution_count": 19,
   "id": "fedf38f0",
   "metadata": {},
   "outputs": [
    {
     "name": "stdout",
     "output_type": "stream",
     "text": [
      "True\n"
     ]
    }
   ],
   "source": [
    "print(issubclass(MotorCycle,Vehicle))"
   ]
  },
  {
   "cell_type": "code",
   "execution_count": 20,
   "id": "ff31ad6a",
   "metadata": {},
   "outputs": [
    {
     "name": "stdout",
     "output_type": "stream",
     "text": [
      "False\n"
     ]
    }
   ],
   "source": [
    "print(issubclass(Vehicle,MotorCycle))"
   ]
  },
  {
   "cell_type": "code",
   "execution_count": 21,
   "id": "3a2a04fd",
   "metadata": {},
   "outputs": [],
   "source": [
    "# Example -2   of  Car\n",
    "\n",
    "# All the class variables are public\n",
    "# for private __(two underscore)\n",
    "# for protected _(single underscore)\n",
    "# Car blue print\n",
    "\n",
    "class Car():\n",
    "    def __init__(self,windows,doors,enginetype):\n",
    "        self.windows = windows\n",
    "        self.doors = doors\n",
    "        self.enginetype = enginetype\n",
    "    def drive(self):\n",
    "        print(\"The persone drives the car\")"
   ]
  },
  {
   "cell_type": "markdown",
   "id": "c5e2469f",
   "metadata": {},
   "source": [
    "Instantiating the object for class"
   ]
  },
  {
   "cell_type": "code",
   "execution_count": 22,
   "id": "256c4625",
   "metadata": {},
   "outputs": [],
   "source": [
    "car =Car(4,5,\"diesel\")"
   ]
  },
  {
   "cell_type": "code",
   "execution_count": 23,
   "id": "ba98e683",
   "metadata": {},
   "outputs": [
    {
     "data": {
      "text/plain": [
       "4"
      ]
     },
     "execution_count": 23,
     "metadata": {},
     "output_type": "execute_result"
    }
   ],
   "source": [
    "car.windows"
   ]
  },
  {
   "cell_type": "code",
   "execution_count": 24,
   "id": "0440284f",
   "metadata": {},
   "outputs": [
    {
     "data": {
      "text/plain": [
       "'diesel'"
      ]
     },
     "execution_count": 24,
     "metadata": {},
     "output_type": "execute_result"
    }
   ],
   "source": [
    "car.enginetype"
   ]
  },
  {
   "cell_type": "code",
   "execution_count": 25,
   "id": "a8cceca3",
   "metadata": {},
   "outputs": [
    {
     "data": {
      "text/plain": [
       "5"
      ]
     },
     "execution_count": 25,
     "metadata": {},
     "output_type": "execute_result"
    }
   ],
   "source": [
    "car.doors"
   ]
  },
  {
   "cell_type": "code",
   "execution_count": 26,
   "id": "9bccefa0",
   "metadata": {},
   "outputs": [
    {
     "data": {
      "text/plain": [
       "['__class__',\n",
       " '__delattr__',\n",
       " '__dict__',\n",
       " '__dir__',\n",
       " '__doc__',\n",
       " '__eq__',\n",
       " '__format__',\n",
       " '__ge__',\n",
       " '__getattribute__',\n",
       " '__gt__',\n",
       " '__hash__',\n",
       " '__init__',\n",
       " '__init_subclass__',\n",
       " '__le__',\n",
       " '__lt__',\n",
       " '__module__',\n",
       " '__ne__',\n",
       " '__new__',\n",
       " '__reduce__',\n",
       " '__reduce_ex__',\n",
       " '__repr__',\n",
       " '__setattr__',\n",
       " '__sizeof__',\n",
       " '__str__',\n",
       " '__subclasshook__',\n",
       " '__weakref__',\n",
       " 'drive']"
      ]
     },
     "execution_count": 26,
     "metadata": {},
     "output_type": "execute_result"
    }
   ],
   "source": [
    "dir(Car)"
   ]
  },
  {
   "cell_type": "code",
   "execution_count": 29,
   "id": "419e360b",
   "metadata": {},
   "outputs": [
    {
     "name": "stdout",
     "output_type": "stream",
     "text": [
      "The persone drives the car\n"
     ]
    }
   ],
   "source": [
    "car.drive()"
   ]
  },
  {
   "cell_type": "code",
   "execution_count": 30,
   "id": "6e2a4923",
   "metadata": {},
   "outputs": [
    {
     "data": {
      "text/plain": [
       "['__class__',\n",
       " '__delattr__',\n",
       " '__dict__',\n",
       " '__dir__',\n",
       " '__doc__',\n",
       " '__eq__',\n",
       " '__format__',\n",
       " '__ge__',\n",
       " '__getattribute__',\n",
       " '__gt__',\n",
       " '__hash__',\n",
       " '__init__',\n",
       " '__init_subclass__',\n",
       " '__le__',\n",
       " '__lt__',\n",
       " '__module__',\n",
       " '__ne__',\n",
       " '__new__',\n",
       " '__reduce__',\n",
       " '__reduce_ex__',\n",
       " '__repr__',\n",
       " '__setattr__',\n",
       " '__sizeof__',\n",
       " '__str__',\n",
       " '__subclasshook__',\n",
       " '__weakref__',\n",
       " 'doors',\n",
       " 'drive',\n",
       " 'enginetype',\n",
       " 'windows']"
      ]
     },
     "execution_count": 30,
     "metadata": {},
     "output_type": "execute_result"
    }
   ],
   "source": [
    "dir(car)"
   ]
  },
  {
   "cell_type": "markdown",
   "id": "d079c7ea",
   "metadata": {},
   "source": [
    "### Creating child class as audi"
   ]
  },
  {
   "cell_type": "code",
   "execution_count": 46,
   "id": "7351e896",
   "metadata": {},
   "outputs": [],
   "source": [
    "class audi(Car):\n",
    "    def __init__(self,windows,doors,enginetype,enableai):\n",
    "        super().__init__(windows,doors,enginetype)\n",
    "        self.enableai = enableai\n",
    "    def selfdriving(self):\n",
    "        print(\"Audi support self driving\")\n",
    "        "
   ]
  },
  {
   "cell_type": "markdown",
   "id": "fb40cef1",
   "metadata": {},
   "source": [
    "Instantiating the object for class"
   ]
  },
  {
   "cell_type": "code",
   "execution_count": 47,
   "id": "140f4bfd",
   "metadata": {},
   "outputs": [],
   "source": [
    "audiQ7 = audi(5,5,\"diesel\",True)"
   ]
  },
  {
   "cell_type": "code",
   "execution_count": 48,
   "id": "7038ac7f",
   "metadata": {},
   "outputs": [
    {
     "data": {
      "text/plain": [
       "['__class__',\n",
       " '__delattr__',\n",
       " '__dict__',\n",
       " '__dir__',\n",
       " '__doc__',\n",
       " '__eq__',\n",
       " '__format__',\n",
       " '__ge__',\n",
       " '__getattribute__',\n",
       " '__gt__',\n",
       " '__hash__',\n",
       " '__init__',\n",
       " '__init_subclass__',\n",
       " '__le__',\n",
       " '__lt__',\n",
       " '__module__',\n",
       " '__ne__',\n",
       " '__new__',\n",
       " '__reduce__',\n",
       " '__reduce_ex__',\n",
       " '__repr__',\n",
       " '__setattr__',\n",
       " '__sizeof__',\n",
       " '__str__',\n",
       " '__subclasshook__',\n",
       " '__weakref__',\n",
       " 'doors',\n",
       " 'drive',\n",
       " 'enableai',\n",
       " 'enginetype',\n",
       " 'selfdriving',\n",
       " 'windows']"
      ]
     },
     "execution_count": 48,
     "metadata": {},
     "output_type": "execute_result"
    }
   ],
   "source": [
    "dir(audiQ7)"
   ]
  },
  {
   "cell_type": "code",
   "execution_count": 49,
   "id": "75e7d13d",
   "metadata": {},
   "outputs": [
    {
     "data": {
      "text/plain": [
       "5"
      ]
     },
     "execution_count": 49,
     "metadata": {},
     "output_type": "execute_result"
    }
   ],
   "source": [
    "audiQ7.windows"
   ]
  },
  {
   "cell_type": "code",
   "execution_count": 50,
   "id": "79332acc",
   "metadata": {},
   "outputs": [
    {
     "data": {
      "text/plain": [
       "5"
      ]
     },
     "execution_count": 50,
     "metadata": {},
     "output_type": "execute_result"
    }
   ],
   "source": [
    "audiQ7.doors"
   ]
  },
  {
   "cell_type": "code",
   "execution_count": 51,
   "id": "b371a2c8",
   "metadata": {},
   "outputs": [
    {
     "data": {
      "text/plain": [
       "True"
      ]
     },
     "execution_count": 51,
     "metadata": {},
     "output_type": "execute_result"
    }
   ],
   "source": [
    "audiQ7.enableai"
   ]
  },
  {
   "cell_type": "code",
   "execution_count": 52,
   "id": "2d6d8ecd",
   "metadata": {},
   "outputs": [
    {
     "data": {
      "text/plain": [
       "bool"
      ]
     },
     "execution_count": 52,
     "metadata": {},
     "output_type": "execute_result"
    }
   ],
   "source": [
    "type(audiQ7.enableai)"
   ]
  },
  {
   "cell_type": "code",
   "execution_count": 53,
   "id": "8c3dd7c4",
   "metadata": {},
   "outputs": [
    {
     "name": "stdout",
     "output_type": "stream",
     "text": [
      "The persone drives the car\n"
     ]
    }
   ],
   "source": [
    "audiQ7.drive()"
   ]
  },
  {
   "cell_type": "code",
   "execution_count": 55,
   "id": "5fd1f7c9",
   "metadata": {},
   "outputs": [
    {
     "name": "stdout",
     "output_type": "stream",
     "text": [
      "Audi support self driving\n"
     ]
    }
   ],
   "source": [
    "audiQ7.selfdriving()"
   ]
  },
  {
   "cell_type": "code",
   "execution_count": null,
   "id": "ebcc9cc6",
   "metadata": {},
   "outputs": [],
   "source": []
  }
 ],
 "metadata": {
  "kernelspec": {
   "display_name": "Python 3",
   "language": "python",
   "name": "python3"
  },
  "language_info": {
   "codemirror_mode": {
    "name": "ipython",
    "version": 3
   },
   "file_extension": ".py",
   "mimetype": "text/x-python",
   "name": "python",
   "nbconvert_exporter": "python",
   "pygments_lexer": "ipython3",
   "version": "3.8.8"
  }
 },
 "nbformat": 4,
 "nbformat_minor": 5
}
