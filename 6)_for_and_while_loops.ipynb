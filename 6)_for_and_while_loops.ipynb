{
  "cells": [
    {
      "cell_type": "markdown",
      "metadata": {
        "id": "view-in-github",
        "colab_type": "text"
      },
      "source": [
        "<a href=\"https://colab.research.google.com/github/SyedImranML/Python_Basic/blob/main/6)_for_and_while_loops.ipynb\" target=\"_parent\"><img src=\"https://colab.research.google.com/assets/colab-badge.svg\" alt=\"Open In Colab\"/></a>"
      ]
    },
    {
      "cell_type": "markdown",
      "metadata": {
        "id": "KCHqlU0wiINK"
      },
      "source": [
        " # Cafe 5 - For Loops and While Loops"
      ]
    },
    {
      "cell_type": "markdown",
      "metadata": {
        "id": "UBme2zI9iINO"
      },
      "source": [
        "Loops are a way to repeatedly execute some code! Today we will look at two types of loops:\n",
        "\n",
        "1. for loop\n",
        "2. while loop\n",
        "\n",
        "\n",
        "\n",
        "The for loop specifies\n",
        "\n",
        "the variable name to use (in this case, planet)\n",
        "the set of values to loop over (in this case, planets)\n",
        "You use the word \"in\" to link them together.\n",
        "\n",
        "The object to the right of the \"in\" can be any object that supports iteration. Basically, if it can be thought of as a group of things, you can probably loop over it. In addition to lists, we can iterate over the elements of a tuple"
      ]
    },
    {
      "cell_type": "markdown",
      "metadata": {
        "id": "GQi4IWbUiINP"
      },
      "source": [
        "# 1. For Loop\n",
        "\n",
        "### loops over a range of something - numbers, string, list, etc.\n",
        "\n",
        "- You know exactly the number of steps\n",
        "- You won't fall into an infinite\n",
        "- The index variable is automatically incremented\n",
        "\n",
        "The for loop specifies\n",
        "\n",
        "- the variable name to use\n",
        "- the set of values to loop over\n",
        "- You use the word \"in\" to link them together.\n",
        "\n",
        "The object to the right of the \"in\" can be any object that supports iteration. Basically, if it can be thought of as a group of things, you can probably loop over it. In addition to lists, we can iterate over the elements of a tuple\n",
        "\n",
        "Let's try some examples!"
      ]
    },
    {
      "cell_type": "code",
      "execution_count": null,
      "metadata": {
        "_cell_guid": "b1076dfc-b9ad-4769-8c92-a6c4dae69d19",
        "_uuid": "8f2839f25d086af736a60e9eeb907d3b93b6e0e5",
        "id": "TMti_3JiiINQ"
      },
      "outputs": [],
      "source": [
        "#Your Code Goes Here\n",
        "#Looping through characters of a string\n",
        "\n",
        "s2 = 'Toronto'\n",
        "\n",
        "for x in s2:\n",
        "    print(x)\n",
        ""
      ]
    },
    {
      "cell_type": "code",
      "execution_count": null,
      "metadata": {
        "id": "VQAIQyJhiINR"
      },
      "outputs": [],
      "source": [
        "#Your Code Goes Here\n",
        "#Looping through a range of numbers using the range() function\n",
        "#The range function - specify the number of times you loop through\n",
        "#It returns a sequence of numbers, starting from 0, by default, and increments\n",
        "# by 1, default, and ends at a specified number\n",
        "\n",
        "for x in range(0, 7):\n",
        "    print(x)"
      ]
    },
    {
      "cell_type": "code",
      "execution_count": null,
      "metadata": {
        "id": "XaJMMZcuiINS"
      },
      "outputs": [],
      "source": [
        "#Your Code Goes Here\n",
        "for x in range(3, 100, 5):\n",
        "    print(x)"
      ]
    },
    {
      "cell_type": "markdown",
      "metadata": {
        "id": "PNu5pXMKiINT"
      },
      "source": [
        "# 2. While Loop\n",
        "\n",
        "### loops until a specific condition is satisified\n",
        "\n",
        "- You don't know the number of steps\n",
        "- You can fall into an infinite loop.\n",
        "- You must explicitely increment the index variable\n",
        "\n",
        "Let's try some examples!\n"
      ]
    },
    {
      "cell_type": "code",
      "execution_count": null,
      "metadata": {
        "id": "QdAQsDY3iINT"
      },
      "outputs": [],
      "source": [
        "### Your Code Goes Here\n",
        "### With the while loop, we can execute a set of statements as long as a condition is true\n",
        "\n",
        "i = 1\n",
        "while (i < 6):\n",
        "    print(i)\n",
        "    i +=1\n",
        "    #i = i+1"
      ]
    }
  ],
  "metadata": {
    "kernelspec": {
      "display_name": "Python 3 (ipykernel)",
      "language": "python",
      "name": "python3"
    },
    "language_info": {
      "codemirror_mode": {
        "name": "ipython",
        "version": 3
      },
      "file_extension": ".py",
      "mimetype": "text/x-python",
      "name": "python",
      "nbconvert_exporter": "python",
      "pygments_lexer": "ipython3",
      "version": "3.9.7"
    },
    "colab": {
      "provenance": [],
      "include_colab_link": true
    }
  },
  "nbformat": 4,
  "nbformat_minor": 0
}