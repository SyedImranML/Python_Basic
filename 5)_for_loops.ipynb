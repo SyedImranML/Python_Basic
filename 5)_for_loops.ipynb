{
  "cells": [
    {
      "cell_type": "markdown",
      "metadata": {
        "id": "view-in-github",
        "colab_type": "text"
      },
      "source": [
        "<a href=\"https://colab.research.google.com/github/SyedImranML/Python_Basic/blob/main/5)_for_loops.ipynb\" target=\"_parent\"><img src=\"https://colab.research.google.com/assets/colab-badge.svg\" alt=\"Open In Colab\"/></a>"
      ]
    },
    {
      "cell_type": "markdown",
      "metadata": {
        "_uuid": "793ca8cfa78ab03207d7a5ab9dcc7dbf34d6ccef",
        "id": "4fblzMtFhc87"
      },
      "source": [
        "# for Loops\n",
        "\n",
        "A <code>for</code> loop acts as an iterator in Python; it goes through items that are in a *sequence* or any other iterable item. Objects that we've learned about that we can iterate over include strings, lists, tuples, and even built-in iterables for dictionaries, such as keys or values.\n",
        "\n",
        "We've already seen the <code>for</code> statement a little bit in past lectures but now let's formalize our understanding.\n",
        "\n",
        "Here's the general format for a <code>for</code> loop in Python:\n",
        "\n",
        "    for item in object:\n",
        "        statements to do stuff\n",
        "    "
      ]
    },
    {
      "cell_type": "code",
      "execution_count": null,
      "metadata": {
        "id": "p3a2-KQIhc8_"
      },
      "outputs": [],
      "source": [
        ".format{}"
      ]
    },
    {
      "cell_type": "markdown",
      "metadata": {
        "_uuid": "c324d0647cac6d6952fe7ff79a9785d529fc2cfc",
        "id": "kMdUVUI3hc9A"
      },
      "source": [
        "The variable name used for the item is completely up to the coder, so use your best judgment for choosing a name that makes sense and you will be able to understand when revisiting your code. This item name can then be referenced inside your loop, for example if you wanted to use <code>if</code> statements to perform checks.\n",
        "\n",
        "Let's go ahead and work through several example of <code>for</code> loops using a variety of data object types. We'll start simple and build more complexity later on.\n",
        "\n",
        "## Example 1\n",
        "Iterating through a list"
      ]
    },
    {
      "cell_type": "code",
      "execution_count": 1,
      "metadata": {
        "_uuid": "b31f4523bb0d483b11977f68142ff43e8b849fbc",
        "id": "-Pl0WxSdhc9B"
      },
      "outputs": [],
      "source": [
        "# We'll learn how to automate this sort of list in the next lecture\n",
        "list1 = [1,2,3,4,5,6,7,8,9,10]"
      ]
    },
    {
      "cell_type": "code",
      "execution_count": 2,
      "metadata": {
        "_uuid": "6a7728bd7e8cfe0c4182abdfb361921946b33e88",
        "id": "IpSV87l2hc9B",
        "outputId": "756818cb-0b5d-461c-e118-31c16cc1779e",
        "colab": {
          "base_uri": "https://localhost:8080/"
        }
      },
      "outputs": [
        {
          "output_type": "stream",
          "name": "stdout",
          "text": [
            "1\n",
            "2\n",
            "3\n",
            "4\n",
            "5\n",
            "6\n",
            "7\n",
            "8\n",
            "9\n",
            "10\n"
          ]
        }
      ],
      "source": [
        "for num in list1:\n",
        "    print(num)"
      ]
    },
    {
      "cell_type": "markdown",
      "metadata": {
        "_uuid": "e3876da875a634a60edb8b25d81a098f22bb0b30",
        "id": "3emCilo6hc9C"
      },
      "source": [
        "Great! Hopefully this makes sense. Now let's add an <code>if</code> statement to check for even numbers. We'll first introduce a new concept here--the modulo.\n",
        "### Modulo\n",
        "The modulo allows us to get the remainder in a division and uses the % symbol. For example:"
      ]
    },
    {
      "cell_type": "code",
      "execution_count": null,
      "metadata": {
        "_uuid": "6a392c15a201ee9078eff15b22da00547da7c571",
        "id": "YnMxaUV5hc9C",
        "outputId": "a3c4327b-466b-4adb-882d-00f5bd31948b"
      },
      "outputs": [
        {
          "data": {
            "text/plain": [
              "2"
            ]
          },
          "execution_count": 7,
          "metadata": {},
          "output_type": "execute_result"
        }
      ],
      "source": [
        "17 % 5"
      ]
    },
    {
      "cell_type": "markdown",
      "metadata": {
        "_uuid": "9b4e4532b7772ea3855fe25f9ec11a3f81c73dcd",
        "id": "eiBTXchBhc9D"
      },
      "source": [
        "This makes sense since 17 divided by 5 is 3 remainder 2. Let's see a few more quick examples:"
      ]
    },
    {
      "cell_type": "code",
      "execution_count": null,
      "metadata": {
        "_uuid": "859255e8a9103affa54f14e56993a2a764c70ee3",
        "id": "HaTUheGThc9E",
        "outputId": "274e2087-e192-474b-bdb1-86d9296b07ba"
      },
      "outputs": [
        {
          "data": {
            "text/plain": [
              "1"
            ]
          },
          "execution_count": 8,
          "metadata": {},
          "output_type": "execute_result"
        }
      ],
      "source": [
        "# 3 Remainder 1\n",
        "10 % 3"
      ]
    },
    {
      "cell_type": "code",
      "execution_count": null,
      "metadata": {
        "_uuid": "30a843006fa67541af5192f79d337c52d2f2ca4b",
        "id": "lc07YaW_hc9F",
        "outputId": "5a2cc347-d5f1-4466-e585-fbe8d18ab649"
      },
      "outputs": [
        {
          "data": {
            "text/plain": [
              "4"
            ]
          },
          "execution_count": 9,
          "metadata": {},
          "output_type": "execute_result"
        }
      ],
      "source": [
        "# 2 Remainder 4\n",
        "18 % 7"
      ]
    },
    {
      "cell_type": "code",
      "execution_count": null,
      "metadata": {
        "_uuid": "32b3a14f4ac2c9541a5830e4dc06dfe03df82ae3",
        "id": "Casz_NXqhc9F",
        "outputId": "64367bd6-a8f2-4834-b2ae-3c748870d4dd"
      },
      "outputs": [
        {
          "data": {
            "text/plain": [
              "0"
            ]
          },
          "execution_count": 10,
          "metadata": {},
          "output_type": "execute_result"
        }
      ],
      "source": [
        "# 2 no remainder\n",
        "4 % 2"
      ]
    },
    {
      "cell_type": "markdown",
      "metadata": {
        "_uuid": "ef41d3147a247546d0b6e3bb4a8926736b7c2a5c",
        "id": "tg_-7oRbhc9G"
      },
      "source": [
        "Notice that if a number is fully divisible with no remainder, the result of the modulo call is 0. We can use this to test for even numbers, since if a number modulo 2 is equal to 0, that means it is an even number!\n",
        "\n",
        "Back to the <code>for</code> loops!\n",
        "\n",
        "## Example 2\n",
        "Let's print only the even numbers from that list!"
      ]
    },
    {
      "cell_type": "code",
      "execution_count": null,
      "metadata": {
        "id": "1CQpjEEyhc9G",
        "outputId": "3bcc8e82-a9d5-4093-c9f2-fce24f2188a4"
      },
      "outputs": [
        {
          "data": {
            "text/plain": [
              "[1, 2, 3, 4, 5, 6, 7, 8, 9, 10]"
            ]
          },
          "execution_count": 11,
          "metadata": {},
          "output_type": "execute_result"
        }
      ],
      "source": [
        "list1"
      ]
    },
    {
      "cell_type": "code",
      "execution_count": null,
      "metadata": {
        "_uuid": "5d03b031f9ddf82c17613f0bae433baa7c6f786e",
        "id": "N9Lq03ouhc9G",
        "outputId": "179d6f61-e999-461f-ba1c-567eda433232"
      },
      "outputs": [
        {
          "name": "stdout",
          "output_type": "stream",
          "text": [
            "1\n",
            "3\n",
            "5\n",
            "7\n",
            "9\n"
          ]
        }
      ],
      "source": [
        "for num in list1:\n",
        "    if num % 2 != 0:\n",
        "        print(num)"
      ]
    },
    {
      "cell_type": "markdown",
      "metadata": {
        "_uuid": "f45f559badb9a3e8388ac5262ed7e6753d33032e",
        "id": "kgx-XuPphc9G"
      },
      "source": [
        "We could have also put an <code>else</code> statement in there:"
      ]
    },
    {
      "cell_type": "code",
      "execution_count": null,
      "metadata": {
        "_uuid": "7f4ce9cc0b0acf30f1492c4ceecdabcc2f1eb736",
        "id": "8eSIgvYIhc9H",
        "outputId": "199dcea1-6ef2-4cc0-b5c2-848d5d5e0286"
      },
      "outputs": [
        {
          "name": "stdout",
          "output_type": "stream",
          "text": [
            "Odd number\n",
            "2\n",
            "Odd number\n",
            "4\n",
            "Odd number\n",
            "6\n",
            "Odd number\n",
            "8\n",
            "Odd number\n",
            "10\n"
          ]
        }
      ],
      "source": [
        "for num in list1:\n",
        "    if num % 2 == 0:\n",
        "        print(num)\n",
        "    else:\n",
        "        print('Odd number')"
      ]
    },
    {
      "cell_type": "markdown",
      "metadata": {
        "_uuid": "c49f18be0a806ebf7612d3b49801add72a42ede4",
        "id": "-i4bHP21hc9H"
      },
      "source": [
        "## Example 3\n",
        "Another common idea during a <code>for</code> loop is keeping some sort of running tally during multiple loops. For example, let's create a <code>for</code> loop that sums up the list:"
      ]
    },
    {
      "cell_type": "code",
      "execution_count": null,
      "metadata": {
        "_uuid": "1b49aad919615833d3b049946e37b2ac11cbbbaf",
        "id": "_fyQKhY_hc9H"
      },
      "outputs": [],
      "source": [
        "# Start sum at zero\n",
        "list_sum = 0\n",
        "\n",
        "for num in list1:\n",
        "    list_sum = list_sum + num\n",
        "\n",
        "print(list_sum)"
      ]
    },
    {
      "cell_type": "markdown",
      "metadata": {
        "_uuid": "abdf0235dee33a1defe12410d68f136cf1123e5b",
        "id": "HVqhZtmNhc9I"
      },
      "source": [
        "Great! Read over the above cell and make sure you understand fully what is going on. Also we could have implemented a <code>+=</code> to perform the addition towards the sum. For example:"
      ]
    },
    {
      "cell_type": "code",
      "execution_count": null,
      "metadata": {
        "_uuid": "35cd824fb440fa8cf6adbe767cd6fba681276754",
        "id": "Y9wOTps0hc9I"
      },
      "outputs": [],
      "source": [
        "# Start sum at zero\n",
        "list_sum = 0\n",
        "\n",
        "for num in list1:\n",
        "    list_sum += num\n",
        "\n",
        "print(list_sum)"
      ]
    },
    {
      "cell_type": "markdown",
      "metadata": {
        "_uuid": "b2365b15c4acb2e488466503c0b31f74f5b471c2",
        "id": "9Lr2Wn9Lhc9K"
      },
      "source": [
        "## Example 4\n",
        "We've used <code>for</code> loops with lists, how about with strings? Remember strings are a sequence so when we iterate through them we will be accessing each item in that string."
      ]
    },
    {
      "cell_type": "code",
      "execution_count": null,
      "metadata": {
        "_uuid": "2782dbf7d7ff7ef90ae2f30e1a9a2a4440b0ef28",
        "id": "Amh1yuX8hc9K"
      },
      "outputs": [],
      "source": [
        "for letter in 'This is a string.':\n",
        "    print(letter)"
      ]
    },
    {
      "cell_type": "markdown",
      "metadata": {
        "_uuid": "ccadb678ebb2448632712b7892ca809d8dd1f720",
        "id": "zquBqXwJhc9K"
      },
      "source": [
        "## Example 5\n",
        "Let's now look at how a <code>for</code> loop can be used with a tuple:"
      ]
    },
    {
      "cell_type": "code",
      "execution_count": null,
      "metadata": {
        "_uuid": "0bb491621994415f24c5e5f5e9f937ae6ebb4def",
        "id": "5MINWJ5Chc9K"
      },
      "outputs": [],
      "source": [
        "tup = (1,2,3,4,5)\n",
        "\n",
        "for t in tup:\n",
        "    print(t)"
      ]
    },
    {
      "cell_type": "markdown",
      "metadata": {
        "_uuid": "900107c159b2ff44626070b7c6b69858e28d3574",
        "id": "CzXZtQTFhc9L"
      },
      "source": [
        "## Example 6\n",
        "Tuples have a special quality when it comes to <code>for</code> loops. If you are iterating through a sequence that contains tuples, the item can actually be the tuple itself, this is an example of *tuple unpacking*. During the <code>for</code> loop we will be unpacking the tuple inside of a sequence and we can access the individual items inside that tuple!"
      ]
    },
    {
      "cell_type": "code",
      "execution_count": null,
      "metadata": {
        "_uuid": "bf217f69859c34936c96559b9a9499a0b1e7c731",
        "id": "MX1u0B6Qhc9L"
      },
      "outputs": [],
      "source": [
        "list2 = [(2,4),(6,8),(10,12)]"
      ]
    },
    {
      "cell_type": "code",
      "execution_count": null,
      "metadata": {
        "_uuid": "b766d5fba70096ea4daf93affa0dfec82caae56d",
        "id": "8KQ4frVehc9L"
      },
      "outputs": [],
      "source": [
        "for tup in list2:\n",
        "    print(tup)"
      ]
    },
    {
      "cell_type": "code",
      "execution_count": null,
      "metadata": {
        "_uuid": "d69df28ab7f3202570cbd48aea0858e77f8f41ea",
        "id": "T7-jPo7qhc9M"
      },
      "outputs": [],
      "source": [
        "# Now with unpacking!\n",
        "for (t1,t2) in list2:\n",
        "    print(t1)"
      ]
    },
    {
      "cell_type": "markdown",
      "metadata": {
        "_uuid": "8d44a05cfa679bcc4460e04054e3e24e7ccbb7e6",
        "id": "QRTqVCOAhc9M"
      },
      "source": [
        "Cool! With tuples in a sequence we can access the items inside of them through unpacking! The reason this is important is because many objects will deliver their iterables through tuples. Let's start exploring iterating through Dictionaries to explore this further!"
      ]
    },
    {
      "cell_type": "markdown",
      "metadata": {
        "_uuid": "7876a64d449b91c90c7767a44bb2fd39effe4607",
        "id": "3JDvlkvNhc9M"
      },
      "source": [
        "## Example 7"
      ]
    },
    {
      "cell_type": "code",
      "execution_count": null,
      "metadata": {
        "_uuid": "2d8a38c1b60119d550dcd8f62a10d7cbe38a77e9",
        "id": "MhDQUsWHhc9M"
      },
      "outputs": [],
      "source": [
        "d = {'k1':1,'k2':2,'k3':3}"
      ]
    },
    {
      "cell_type": "code",
      "execution_count": null,
      "metadata": {
        "_uuid": "ba20c620b996337090a85423087b071485fc5020",
        "id": "L8fL26fWhc9M"
      },
      "outputs": [],
      "source": [
        "for item in d:\n",
        "    print(item)"
      ]
    },
    {
      "cell_type": "markdown",
      "metadata": {
        "_uuid": "6e3efdbe20a676a8bd59c8dceb6e16c12f9ebaec",
        "id": "ioBwDGSghc9N"
      },
      "source": [
        "Notice how this produces only the keys. So how can we get the values? Or both the keys and the values?\n",
        "\n",
        "We're going to introduce three new Dictionary methods: **.keys()**, **.values()** and **.items()**\n",
        "\n",
        "In Python each of these methods return a *dictionary view object*. It supports operations like membership test and iteration, but its contents are not independent of the original dictionary – it is only a view. Let's see it in action:"
      ]
    },
    {
      "cell_type": "code",
      "execution_count": null,
      "metadata": {
        "_uuid": "1e5046a3056c392f51bf97871a8599326aa213a7",
        "id": "KXMhhuSyhc9N"
      },
      "outputs": [],
      "source": [
        "# Create a dictionary view object\n",
        "d.items()"
      ]
    },
    {
      "cell_type": "markdown",
      "metadata": {
        "_uuid": "312adae202edd7b5c58f740b7c8ee553e167a135",
        "id": "w4RmgMnjhc9O"
      },
      "source": [
        "Since the .items() method supports iteration, we can perform *dictionary unpacking* to separate keys and values just as we did in the previous examples."
      ]
    },
    {
      "cell_type": "code",
      "execution_count": null,
      "metadata": {
        "_uuid": "58d3cd440a3dd831d4241b4af88d8262e2f95474",
        "id": "WuH1Te-Xhc9O"
      },
      "outputs": [],
      "source": [
        "# Dictionary unpacking\n",
        "for k,v in d.items():\n",
        "    print(k)\n",
        "    print(v)"
      ]
    },
    {
      "cell_type": "markdown",
      "metadata": {
        "_uuid": "acb92cbdcbdd2e5c014d54483f29dec227c11d61",
        "id": "Ro51ETYThc9O"
      },
      "source": [
        "If you want to obtain a true list of keys, values, or key/value tuples, you can *cast* the view as a list:"
      ]
    },
    {
      "cell_type": "code",
      "execution_count": null,
      "metadata": {
        "_uuid": "fad4a68e905045ad405fbfaf5effa418cbbc9d65",
        "id": "TWai1blBhc9O"
      },
      "outputs": [],
      "source": [
        "list(d.keys())"
      ]
    },
    {
      "cell_type": "markdown",
      "metadata": {
        "_uuid": "4c6f9dc39408c09f4dbc2eafbb4c1fddae083abb",
        "id": "tjfZh0pdhc9O"
      },
      "source": [
        "Remember that dictionaries are unordered, and that keys and values come back in arbitrary order. You can obtain a sorted list using sorted():"
      ]
    },
    {
      "cell_type": "code",
      "execution_count": null,
      "metadata": {
        "_uuid": "125b82e1e200f5555d9939de91ca08d1b15c3cec",
        "id": "iLTDRAi2hc9P"
      },
      "outputs": [],
      "source": [
        "sorted(d.values())"
      ]
    }
  ],
  "metadata": {
    "kernelspec": {
      "display_name": "Python 3 (ipykernel)",
      "language": "python",
      "name": "python3"
    },
    "language_info": {
      "codemirror_mode": {
        "name": "ipython",
        "version": 3
      },
      "file_extension": ".py",
      "mimetype": "text/x-python",
      "name": "python",
      "nbconvert_exporter": "python",
      "pygments_lexer": "ipython3",
      "version": "3.9.7"
    },
    "colab": {
      "provenance": [],
      "include_colab_link": true
    }
  },
  "nbformat": 4,
  "nbformat_minor": 0
}