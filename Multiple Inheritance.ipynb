{
 "cells": [
  {
   "cell_type": "markdown",
   "id": "83181a9e",
   "metadata": {},
   "source": [
    "If a class is derived from more than one parent class then it is called multiple Inheritance."
   ]
  },
  {
   "cell_type": "markdown",
   "id": "574d49b5",
   "metadata": {},
   "source": [
    "Object--> Parent1,Parent 2 (class Parents) --> child (child class)"
   ]
  },
  {
   "cell_type": "markdown",
   "id": "e171decd",
   "metadata": {},
   "source": [
    "Syntax:\n",
    "    \n",
    "    class Parent1:\n",
    "        \n",
    "        members of parent1 class\n",
    "        \n",
    "    class Parent2:\n",
    "        \n",
    "        members of parent2 class\n",
    "\n",
    "   \n",
    "    class child(parent1,parent2):\n",
    "        \n",
    "        members of child class"
   ]
  },
  {
   "cell_type": "code",
   "execution_count": 1,
   "id": "a0107cb1",
   "metadata": {},
   "outputs": [],
   "source": [
    "# Example -1\n",
    "class Father:\n",
    "    def showF(self):\n",
    "        print(\"Father class method\")\n",
    "class Mother:\n",
    "    def showM(self):\n",
    "        print(\"Mother class method\")\n",
    "class Son(Father,Mother):\n",
    "    def showS(self):\n",
    "        print(\"Son class Method\")"
   ]
  },
  {
   "cell_type": "code",
   "execution_count": 2,
   "id": "1aeb753a",
   "metadata": {},
   "outputs": [
    {
     "name": "stdout",
     "output_type": "stream",
     "text": [
      "Father class method\n",
      "Mother class method\n",
      "Son class Method\n"
     ]
    }
   ],
   "source": [
    "s =Son()\n",
    "s.showF()\n",
    "s.showM()\n",
    "s.showS()"
   ]
  },
  {
   "cell_type": "code",
   "execution_count": 4,
   "id": "9ed76f86",
   "metadata": {},
   "outputs": [],
   "source": [
    "# Example -2 Error\n",
    "class Father:\n",
    "    def showF(self):\n",
    "        print(\"Father class method\")\n",
    "class Mother:\n",
    "    def showM(self):\n",
    "        print(\"Mother class method\")\n",
    "class Son:\n",
    "    def showS(self):\n",
    "        print(\"Son class Method\")"
   ]
  },
  {
   "cell_type": "code",
   "execution_count": 5,
   "id": "edf32e87",
   "metadata": {},
   "outputs": [
    {
     "ename": "AttributeError",
     "evalue": "'Son' object has no attribute 'showF'",
     "output_type": "error",
     "traceback": [
      "\u001b[1;31m---------------------------------------------------------------------------\u001b[0m",
      "\u001b[1;31mAttributeError\u001b[0m                            Traceback (most recent call last)",
      "\u001b[1;32m<ipython-input-5-f7ef88c9e2d5>\u001b[0m in \u001b[0;36m<module>\u001b[1;34m\u001b[0m\n\u001b[0;32m      1\u001b[0m \u001b[0ms\u001b[0m \u001b[1;33m=\u001b[0m\u001b[0mSon\u001b[0m\u001b[1;33m(\u001b[0m\u001b[1;33m)\u001b[0m\u001b[1;33m\u001b[0m\u001b[1;33m\u001b[0m\u001b[0m\n\u001b[1;32m----> 2\u001b[1;33m \u001b[0ms\u001b[0m\u001b[1;33m.\u001b[0m\u001b[0mshowF\u001b[0m\u001b[1;33m(\u001b[0m\u001b[1;33m)\u001b[0m\u001b[1;33m\u001b[0m\u001b[1;33m\u001b[0m\u001b[0m\n\u001b[0m\u001b[0;32m      3\u001b[0m \u001b[0ms\u001b[0m\u001b[1;33m.\u001b[0m\u001b[0mshowM\u001b[0m\u001b[1;33m(\u001b[0m\u001b[1;33m)\u001b[0m\u001b[1;33m\u001b[0m\u001b[1;33m\u001b[0m\u001b[0m\n\u001b[0;32m      4\u001b[0m \u001b[0ms\u001b[0m\u001b[1;33m.\u001b[0m\u001b[0mshowS\u001b[0m\u001b[1;33m(\u001b[0m\u001b[1;33m)\u001b[0m\u001b[1;33m\u001b[0m\u001b[1;33m\u001b[0m\u001b[0m\n",
      "\u001b[1;31mAttributeError\u001b[0m: 'Son' object has no attribute 'showF'"
     ]
    }
   ],
   "source": [
    "s =Son()\n",
    "s.showF()\n",
    "s.showM()\n",
    "s.showS()"
   ]
  },
  {
   "cell_type": "markdown",
   "id": "6c50247a",
   "metadata": {},
   "source": [
    "### imagine if we have contructor at Son what will be the output."
   ]
  },
  {
   "cell_type": "code",
   "execution_count": 19,
   "id": "16ffa54d",
   "metadata": {},
   "outputs": [],
   "source": [
    "# same example \n",
    "class Father:\n",
    "    def showF(self):\n",
    "        print(\"Father class method\")\n",
    "class Mother:\n",
    "    def showM(self):\n",
    "        print(\"Mother class method\")\n",
    "class Son(Father,Mother):\n",
    "    def __init__(self):\n",
    "        print(\"Son class Constructor\")\n",
    "    def showS(self):\n",
    "        print(\"Son class Method\")\n"
   ]
  },
  {
   "cell_type": "code",
   "execution_count": 20,
   "id": "db8792ea",
   "metadata": {},
   "outputs": [
    {
     "name": "stdout",
     "output_type": "stream",
     "text": [
      "Son class Constructor\n"
     ]
    }
   ],
   "source": [
    "s=Son()"
   ]
  },
  {
   "cell_type": "markdown",
   "id": "e9aafdab",
   "metadata": {},
   "source": [
    "Here the constructor of son is automatically called"
   ]
  },
  {
   "cell_type": "markdown",
   "id": "4d63575b",
   "metadata": {},
   "source": [
    "### Suppose we have contructor at Father and mother as well what will be the output."
   ]
  },
  {
   "cell_type": "code",
   "execution_count": 21,
   "id": "d573a337",
   "metadata": {},
   "outputs": [],
   "source": [
    "# same example \n",
    "class Father:\n",
    "    def __init__(self):\n",
    "        print(\"Father class Constructor\")\n",
    "    def showF(self):\n",
    "        print(\"Father class method\")\n",
    "class Mother:\n",
    "    def __init__(self):\n",
    "        print(\"Mother class Constructor\")\n",
    "    def showM(self):\n",
    "        print(\"Mother class method\")\n",
    "class Son(Father,Mother):\n",
    "    def __init__(self):\n",
    "        print(\"Son class Constructor\")\n",
    "    def showS(self):\n",
    "        print(\"Son class Method\")"
   ]
  },
  {
   "cell_type": "code",
   "execution_count": 22,
   "id": "b6a73202",
   "metadata": {},
   "outputs": [
    {
     "name": "stdout",
     "output_type": "stream",
     "text": [
      "Son class Constructor\n"
     ]
    }
   ],
   "source": [
    "s=Son()  "
   ]
  },
  {
   "cell_type": "markdown",
   "id": "aca91139",
   "metadata": {},
   "source": [
    " Here again son constructor is called if you want parent constructor to be called we need super() method"
   ]
  },
  {
   "cell_type": "code",
   "execution_count": 25,
   "id": "337570b6",
   "metadata": {},
   "outputs": [],
   "source": [
    "# same example \n",
    "class Father:\n",
    "    def __init__(self):\n",
    "        print(\"Father class Constructor\")\n",
    "    def showF(self):\n",
    "        print(\"Father class method\")\n",
    "class Mother:\n",
    "    def __init__(self):\n",
    "        print(\"Mother class Constructor\")\n",
    "    def showM(self):\n",
    "        print(\"Mother class method\")\n",
    "class Son(Father,Mother):\n",
    "    def __init__(self):\n",
    "        super().__init__()   # Calling parent class constructor\n",
    "        print(\"Son class Constructor\")\n",
    "    def showS(self):\n",
    "        print(\"Son class Method\")"
   ]
  },
  {
   "cell_type": "code",
   "execution_count": 26,
   "id": "ff45ab04",
   "metadata": {},
   "outputs": [
    {
     "name": "stdout",
     "output_type": "stream",
     "text": [
      "Father class Constructor\n",
      "Son class Constructor\n"
     ]
    }
   ],
   "source": [
    "s=Son()"
   ]
  },
  {
   "cell_type": "code",
   "execution_count": 27,
   "id": "9b7070de",
   "metadata": {},
   "outputs": [],
   "source": [
    "# tp display mother constructor as well\n",
    "\n",
    "class Father:\n",
    "    def __init__(self):\n",
    "        super().__init__()\n",
    "        print(\"Father class Constructor\")\n",
    "    def showF(self):\n",
    "        print(\"Father class method\")\n",
    "class Mother:\n",
    "    def __init__(self):\n",
    "        super().__init__()\n",
    "        print(\"Mother class Constructor\")\n",
    "    def showM(self):\n",
    "        print(\"Mother class method\")\n",
    "class Son(Father,Mother):\n",
    "    def __init__(self):\n",
    "        super().__init__()   # Calling parent class constructor\n",
    "        print(\"Son class Constructor\")\n",
    "    def showS(self):\n",
    "        print(\"Son class Method\")"
   ]
  },
  {
   "cell_type": "code",
   "execution_count": 28,
   "id": "7c951091",
   "metadata": {},
   "outputs": [
    {
     "name": "stdout",
     "output_type": "stream",
     "text": [
      "Mother class Constructor\n",
      "Father class Constructor\n",
      "Son class Constructor\n"
     ]
    }
   ],
   "source": [
    "s=Son()"
   ]
  },
  {
   "cell_type": "code",
   "execution_count": 29,
   "id": "31940336",
   "metadata": {},
   "outputs": [],
   "source": [
    "# Need father first change prority level \n",
    "# tp display mother constructor as well\n",
    "\n",
    "class Father:\n",
    "    def __init__(self):\n",
    "        super().__init__()\n",
    "        print(\"Father class Constructor\")\n",
    "    def showF(self):\n",
    "        print(\"Father class method\")\n",
    "class Mother:\n",
    "    def __init__(self):\n",
    "        super().__init__()\n",
    "        print(\"Mother class Constructor\")\n",
    "    def showM(self):\n",
    "        print(\"Mother class method\")\n",
    "class Son(Mother,Father):              # change Mother and then Father\n",
    "    def __init__(self):\n",
    "        super().__init__()   # Calling parent class constructor\n",
    "        print(\"Son class Constructor\")\n",
    "    def showS(self):\n",
    "        print(\"Son class Method\")"
   ]
  },
  {
   "cell_type": "code",
   "execution_count": 30,
   "id": "d89b0a3a",
   "metadata": {},
   "outputs": [
    {
     "name": "stdout",
     "output_type": "stream",
     "text": [
      "Father class Constructor\n",
      "Mother class Constructor\n",
      "Son class Constructor\n"
     ]
    }
   ],
   "source": [
    "s=Son()  # Method Resolution Order(MRO)"
   ]
  },
  {
   "cell_type": "code",
   "execution_count": 31,
   "id": "f04b9dd7",
   "metadata": {},
   "outputs": [],
   "source": [
    "# Example -2\n",
    "class Father():\n",
    "    def gardening(self):\n",
    "        print(\"I enjoy gardening\")\n",
    "class Mother():\n",
    "    def cooking(self):\n",
    "        print(\"I love cooking\")\n",
    "class Child(Father,Mother):\n",
    "    def sports(self):\n",
    "        print(\"I enjoy Sports\")"
   ]
  },
  {
   "cell_type": "code",
   "execution_count": 33,
   "id": "048bbc1c",
   "metadata": {},
   "outputs": [
    {
     "name": "stdout",
     "output_type": "stream",
     "text": [
      "I enjoy gardening\n",
      "I love cooking\n",
      "I enjoy Sports\n"
     ]
    }
   ],
   "source": [
    "c=Child()\n",
    "c.gardening()\n",
    "c.cooking()\n",
    "c.sports()"
   ]
  },
  {
   "cell_type": "code",
   "execution_count": 43,
   "id": "21f775aa",
   "metadata": {},
   "outputs": [],
   "source": [
    "# Example -3\n",
    "class Father():\n",
    "    def skills(self):\n",
    "        print(\"gardening,programming\")\n",
    "class Mother():\n",
    "    def skils(self):\n",
    "        print(\"cooking,art\")\n",
    "class Child(Father,Mother):\n",
    "    def skills(self):\n",
    "        print(\"I enjoy Sports\")"
   ]
  },
  {
   "cell_type": "code",
   "execution_count": 44,
   "id": "ff716096",
   "metadata": {},
   "outputs": [
    {
     "name": "stdout",
     "output_type": "stream",
     "text": [
      "I enjoy Sports\n"
     ]
    }
   ],
   "source": [
    "c=Child()\n",
    "c.skills()"
   ]
  },
  {
   "cell_type": "code",
   "execution_count": 45,
   "id": "d67a0101",
   "metadata": {},
   "outputs": [],
   "source": [
    "# Example -4\n",
    "class Father():\n",
    "    def skills(self):\n",
    "        print(\"gardening,programming\")\n",
    "class Mother():\n",
    "    def skills(self):\n",
    "        print(\"cooking,art\")\n",
    "class Child(Father,Mother):\n",
    "    def skills(self):\n",
    "        Father.skills(self)\n",
    "        Mother.skills(self)\n",
    "        print(\"I enjoy Sports\")"
   ]
  },
  {
   "cell_type": "code",
   "execution_count": 46,
   "id": "fc55a856",
   "metadata": {},
   "outputs": [
    {
     "name": "stdout",
     "output_type": "stream",
     "text": [
      "gardening,programming\n",
      "cooking,art\n",
      "I enjoy Sports\n"
     ]
    }
   ],
   "source": [
    "c=Child()\n",
    "c.skills()"
   ]
  },
  {
   "cell_type": "code",
   "execution_count": null,
   "id": "a4201989",
   "metadata": {},
   "outputs": [],
   "source": []
  }
 ],
 "metadata": {
  "kernelspec": {
   "display_name": "Python 3",
   "language": "python",
   "name": "python3"
  },
  "language_info": {
   "codemirror_mode": {
    "name": "ipython",
    "version": 3
   },
   "file_extension": ".py",
   "mimetype": "text/x-python",
   "name": "python",
   "nbconvert_exporter": "python",
   "pygments_lexer": "ipython3",
   "version": "3.8.8"
  }
 },
 "nbformat": 4,
 "nbformat_minor": 5
}
