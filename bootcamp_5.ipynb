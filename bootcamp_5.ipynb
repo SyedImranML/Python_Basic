{
  "nbformat": 4,
  "nbformat_minor": 0,
  "metadata": {
    "colab": {
      "name": "bootcamp_5.ipynb",
      "provenance": [],
      "authorship_tag": "ABX9TyPHlQZLR1+y8zds26CRWdCS",
      "include_colab_link": true
    },
    "kernelspec": {
      "name": "python3",
      "display_name": "Python 3"
    },
    "language_info": {
      "name": "python"
    }
  },
  "cells": [
    {
      "cell_type": "markdown",
      "metadata": {
        "id": "view-in-github",
        "colab_type": "text"
      },
      "source": [
        "<a href=\"https://colab.research.google.com/github/SyedImranML/Python_Basic/blob/main/bootcamp_5.ipynb\" target=\"_parent\"><img src=\"https://colab.research.google.com/assets/colab-badge.svg\" alt=\"Open In Colab\"/></a>"
      ]
    },
    {
      "cell_type": "markdown",
      "source": [
        "**Web Scraping with Python | weather Data from Google**"
      ],
      "metadata": {
        "id": "ykX53uvKGAny"
      }
    },
    {
      "cell_type": "markdown",
      "source": [
        "Web scraping is the process of collecting and parsing raw data from the Web.\n",
        "You are going to access the data from web\n",
        "You are going to clean the raw data with the help of python programming and its libraries.\n",
        "Simply create a python script which extracts weather data from Google. we need to install two modules\n",
        "\n",
        "Requirements:-\n",
        "\n",
        "requests - https://pypi.org/project/requests/\n",
        "\n",
        "pip install requests\n",
        "\n",
        "beautifulsoup4 - https://pypi.org/project/beautifulsoup4/\n",
        "\n",
        "pip install beautifulsoup4\n",
        "\n",
        "Steps:\n",
        "\n",
        "* Import the module\n",
        "* Enter the city name with the URL\n",
        "* Make requests instance and pass the URL\n",
        "* Get the raw data\n",
        "* Extract the required data from soup\n",
        "* Finally print the required data.\n"
      ],
      "metadata": {
        "id": "ShcUkVi9GCPQ"
      }
    },
    {
      "cell_type": "code",
      "source": [
        "!pip install requests"
      ],
      "metadata": {
        "colab": {
          "base_uri": "https://localhost:8080/"
        },
        "id": "ehmGWVcxGJPN",
        "outputId": "87778065-52a1-4e09-cace-dc981682a25c"
      },
      "execution_count": 1,
      "outputs": [
        {
          "output_type": "stream",
          "name": "stdout",
          "text": [
            "Looking in indexes: https://pypi.org/simple, https://us-python.pkg.dev/colab-wheels/public/simple/\n",
            "Requirement already satisfied: requests in /usr/local/lib/python3.7/dist-packages (2.23.0)\n",
            "Requirement already satisfied: urllib3!=1.25.0,!=1.25.1,<1.26,>=1.21.1 in /usr/local/lib/python3.7/dist-packages (from requests) (1.24.3)\n",
            "Requirement already satisfied: certifi>=2017.4.17 in /usr/local/lib/python3.7/dist-packages (from requests) (2022.6.15)\n",
            "Requirement already satisfied: chardet<4,>=3.0.2 in /usr/local/lib/python3.7/dist-packages (from requests) (3.0.4)\n",
            "Requirement already satisfied: idna<3,>=2.5 in /usr/local/lib/python3.7/dist-packages (from requests) (2.10)\n"
          ]
        }
      ]
    },
    {
      "cell_type": "code",
      "source": [
        "!pip install bs4"
      ],
      "metadata": {
        "colab": {
          "base_uri": "https://localhost:8080/"
        },
        "id": "QKGEKP7UG9sO",
        "outputId": "1bd8300f-23de-425d-f760-ca3f1849a750"
      },
      "execution_count": 2,
      "outputs": [
        {
          "output_type": "stream",
          "name": "stdout",
          "text": [
            "Looking in indexes: https://pypi.org/simple, https://us-python.pkg.dev/colab-wheels/public/simple/\n",
            "Requirement already satisfied: bs4 in /usr/local/lib/python3.7/dist-packages (0.0.1)\n",
            "Requirement already satisfied: beautifulsoup4 in /usr/local/lib/python3.7/dist-packages (from bs4) (4.6.3)\n"
          ]
        }
      ]
    },
    {
      "cell_type": "code",
      "source": [
        "!pip install html\n",
        "!pip install lxml"
      ],
      "metadata": {
        "colab": {
          "base_uri": "https://localhost:8080/",
          "height": 436
        },
        "id": "i09AXStpHW6W",
        "outputId": "0bcb6e2b-cf63-46af-e25c-5a2a599dd67f"
      },
      "execution_count": 3,
      "outputs": [
        {
          "output_type": "stream",
          "name": "stdout",
          "text": [
            "Looking in indexes: https://pypi.org/simple, https://us-python.pkg.dev/colab-wheels/public/simple/\n",
            "Collecting html\n",
            "  Downloading html-1.16.tar.gz (7.6 kB)\n",
            "\u001b[33mWARNING: Discarding https://files.pythonhosted.org/packages/4a/df/0e3d22d50ee43274eb5116f49972a164d853bb3ab305a69a0540b6292252/html-1.16.tar.gz#sha256=ebc768f23b54a71350d731a75f2ef3a4a4dbdad9ae68d58b527664b66088e456 (from https://pypi.org/simple/html/). Command errored out with exit status 1: python setup.py egg_info Check the logs for full command output.\u001b[0m\n",
            "  Downloading html-1.15.tar.gz (6.9 kB)\n",
            "\u001b[33mWARNING: Discarding https://files.pythonhosted.org/packages/f0/8d/e7932a499dc8f83037bd00fdd6024b6f49165c933b521a08d894c20c1733/html-1.15.tar.gz#sha256=a69a4526c92b846adc8677b0a63ac7056e34409504e21b0a495c5fbec9acd8df (from https://pypi.org/simple/html/). Command errored out with exit status 1: python setup.py egg_info Check the logs for full command output.\u001b[0m\n",
            "  Downloading html-1.14.tar.gz (6.9 kB)\n",
            "\u001b[33mWARNING: Discarding https://files.pythonhosted.org/packages/8e/f4/a3baef36283c460c91bf0fc08d303419c96a64fb9f6127d590d33a615e80/html-1.14.tar.gz#sha256=5184b3c025c9054193fa85594551b9877c4c381e79fab99bd6cf279d29052d66 (from https://pypi.org/simple/html/). Command errored out with exit status 1: python setup.py egg_info Check the logs for full command output.\u001b[0m\n",
            "  Downloading html-1.13.tar.gz (6.7 kB)\n",
            "Building wheels for collected packages: html\n",
            "  Building wheel for html (setup.py) ... \u001b[?25l\u001b[?25hdone\n",
            "  Created wheel for html: filename=html-1.13-py3-none-any.whl size=8777 sha256=9cc328a07783ea2ff01cf3bdf82d8637c78885fe77f884029972c48801fd0b98\n",
            "  Stored in directory: /root/.cache/pip/wheels/46/15/fe/94f2b982501295155029d334ac6f70dcf0171e4879ab943a17\n",
            "Successfully built html\n",
            "Installing collected packages: html\n",
            "Successfully installed html-1.13\n"
          ]
        },
        {
          "output_type": "display_data",
          "data": {
            "application/vnd.colab-display-data+json": {
              "pip_warning": {
                "packages": [
                  "html"
                ]
              }
            }
          },
          "metadata": {}
        },
        {
          "output_type": "stream",
          "name": "stdout",
          "text": [
            "Looking in indexes: https://pypi.org/simple, https://us-python.pkg.dev/colab-wheels/public/simple/\n",
            "Requirement already satisfied: lxml in /usr/local/lib/python3.7/dist-packages (4.2.6)\n"
          ]
        }
      ]
    },
    {
      "cell_type": "code",
      "source": [
        "import requests\n",
        "from bs4 import BeautifulSoup"
      ],
      "metadata": {
        "id": "YrI2kSN8Hm_9"
      },
      "execution_count": 4,
      "outputs": []
    },
    {
      "cell_type": "code",
      "source": [
        "#taking input from user\n",
        "city=str(input(\"Enter City name \"))\n",
        "\n",
        "#creating URL\n",
        "url=\"https://www.google.com/search?q=\"+\"weather\"+city"
      ],
      "metadata": {
        "colab": {
          "base_uri": "https://localhost:8080/"
        },
        "id": "1EEWCg5OHpkb",
        "outputId": "6a4c0e8d-0e5e-41c1-bc25-c31a94289bcb"
      },
      "execution_count": 5,
      "outputs": [
        {
          "name": "stdout",
          "output_type": "stream",
          "text": [
            "Enter City name hyderabad\n"
          ]
        }
      ]
    },
    {
      "cell_type": "code",
      "source": [
        "#requests instance\n",
        "html=requests.get(url).content"
      ],
      "metadata": {
        "id": "ummO3a27H8Jk"
      },
      "execution_count": 6,
      "outputs": []
    },
    {
      "cell_type": "code",
      "source": [
        "#getting the raw data\n",
        "\n",
        "soup = BeautifulSoup(html,'html.parser')"
      ],
      "metadata": {
        "id": "Op8Cuju0H_xj"
      },
      "execution_count": 7,
      "outputs": []
    },
    {
      "cell_type": "code",
      "source": [
        "#getting the temperature\n",
        "\n",
        "temp=soup.find('div',attrs={'class':'BNeawe iBp4i AP7Wnd'}).text"
      ],
      "metadata": {
        "id": "FRWqWTfgIGJG"
      },
      "execution_count": 8,
      "outputs": []
    },
    {
      "cell_type": "code",
      "source": [
        "#getting the time and sky description\n",
        "time_skyDescription=soup.find('div',attrs={'class':'BNeawe tAd8D AP7Wnd'}).text"
      ],
      "metadata": {
        "id": "y3nQQGPFIb3v"
      },
      "execution_count": 10,
      "outputs": []
    },
    {
      "cell_type": "code",
      "source": [
        "# formatting the data\n",
        "data = time_skyDescription.split('\\n')\n",
        "time = data[0]\n",
        "sky = data[1]"
      ],
      "metadata": {
        "id": "-mCHwph8IY1s"
      },
      "execution_count": 11,
      "outputs": []
    },
    {
      "cell_type": "code",
      "source": [
        "# list which is having all div tags with particular class names\n",
        "\n",
        "listdiv = soup.findAll('div',attrs={'class':'BNeawe s3v9rd AP7Wnd'})"
      ],
      "metadata": {
        "id": "dzny6hjHIm-8"
      },
      "execution_count": 12,
      "outputs": []
    },
    {
      "cell_type": "code",
      "source": [
        "# the data we need is avaiable at index 5\n",
        "\n",
        "strd=listdiv[5].text"
      ],
      "metadata": {
        "id": "F0nY4tI6Io-s"
      },
      "execution_count": 13,
      "outputs": []
    },
    {
      "cell_type": "code",
      "source": [
        "#formatting the string\n",
        "pos = strd.find('wind')\n",
        "otherData = strd[pos:]"
      ],
      "metadata": {
        "id": "QyFd1DTkIyAr"
      },
      "execution_count": 14,
      "outputs": []
    },
    {
      "cell_type": "code",
      "source": [
        "#printing the data we need\n",
        "\n",
        "print(\"Temperature is\",temp)\n",
        "print(\"Time: \",time)\n",
        "print(\"sky Description : \",sky)\n",
        "print(otherData)"
      ],
      "metadata": {
        "colab": {
          "base_uri": "https://localhost:8080/"
        },
        "id": "sPq8KVk_I3Vm",
        "outputId": "51202d48-a38c-489b-a9d9-3b13a0fb4248"
      },
      "execution_count": 15,
      "outputs": [
        {
          "output_type": "stream",
          "name": "stdout",
          "text": [
            "Temperature is 73°F\n",
            "Time:  Friday 10:14 AM\n",
            "sky Description :  Light drizzle\n",
            ".\n"
          ]
        }
      ]
    },
    {
      "cell_type": "markdown",
      "source": [
        "Example -2 "
      ],
      "metadata": {
        "id": "DlfnbcaDKELS"
      }
    },
    {
      "cell_type": "code",
      "source": [
        "import requests\n",
        "import bs4\n",
        "res = requests.get('http://quotes.toscrape.com/')\n",
        "res.text\n",
        "soup=bs4.BeautifulSoup(res.text,'lxml')\n",
        "soup.select(\".author\")"
      ],
      "metadata": {
        "colab": {
          "base_uri": "https://localhost:8080/"
        },
        "id": "jVPCxAvnKGfJ",
        "outputId": "6438671e-a196-44fc-fa3f-cb456a025c29"
      },
      "execution_count": 16,
      "outputs": [
        {
          "output_type": "execute_result",
          "data": {
            "text/plain": [
              "[<small class=\"author\" itemprop=\"author\">Albert Einstein</small>,\n",
              " <small class=\"author\" itemprop=\"author\">J.K. Rowling</small>,\n",
              " <small class=\"author\" itemprop=\"author\">Albert Einstein</small>,\n",
              " <small class=\"author\" itemprop=\"author\">Jane Austen</small>,\n",
              " <small class=\"author\" itemprop=\"author\">Marilyn Monroe</small>,\n",
              " <small class=\"author\" itemprop=\"author\">Albert Einstein</small>,\n",
              " <small class=\"author\" itemprop=\"author\">André Gide</small>,\n",
              " <small class=\"author\" itemprop=\"author\">Thomas A. Edison</small>,\n",
              " <small class=\"author\" itemprop=\"author\">Eleanor Roosevelt</small>,\n",
              " <small class=\"author\" itemprop=\"author\">Steve Martin</small>]"
            ]
          },
          "metadata": {},
          "execution_count": 16
        }
      ]
    },
    {
      "cell_type": "code",
      "source": [
        "authors=set()\n",
        "for name in soup.select(\".author\"):\n",
        "    authors.add(name.text)\n",
        "authors"
      ],
      "metadata": {
        "colab": {
          "base_uri": "https://localhost:8080/"
        },
        "id": "fjXe-w64KWNi",
        "outputId": "4e219f1d-e8cf-40a3-fc8a-32069474d51b"
      },
      "execution_count": 17,
      "outputs": [
        {
          "output_type": "execute_result",
          "data": {
            "text/plain": [
              "{'Albert Einstein',\n",
              " 'André Gide',\n",
              " 'Eleanor Roosevelt',\n",
              " 'J.K. Rowling',\n",
              " 'Jane Austen',\n",
              " 'Marilyn Monroe',\n",
              " 'Steve Martin',\n",
              " 'Thomas A. Edison'}"
            ]
          },
          "metadata": {},
          "execution_count": 17
        }
      ]
    },
    {
      "cell_type": "code",
      "source": [
        "quotes=[]\n",
        "for quote in soup.select(\".text\"):\n",
        "    quotes.append(quote.text)\n",
        "quotes"
      ],
      "metadata": {
        "colab": {
          "base_uri": "https://localhost:8080/"
        },
        "id": "NjGWo9jOKnmY",
        "outputId": "1e08dc3f-2294-42c7-88f6-43a4d0c66606"
      },
      "execution_count": 18,
      "outputs": [
        {
          "output_type": "execute_result",
          "data": {
            "text/plain": [
              "['“The world as we have created it is a process of our thinking. It cannot be changed without changing our thinking.”',\n",
              " '“It is our choices, Harry, that show what we truly are, far more than our abilities.”',\n",
              " '“There are only two ways to live your life. One is as though nothing is a miracle. The other is as though everything is a miracle.”',\n",
              " '“The person, be it gentleman or lady, who has not pleasure in a good novel, must be intolerably stupid.”',\n",
              " \"“Imperfection is beauty, madness is genius and it's better to be absolutely ridiculous than absolutely boring.”\",\n",
              " '“Try not to become a man of success. Rather become a man of value.”',\n",
              " '“It is better to be hated for what you are than to be loved for what you are not.”',\n",
              " \"“I have not failed. I've just found 10,000 ways that won't work.”\",\n",
              " \"“A woman is like a tea bag; you never know how strong it is until it's in hot water.”\",\n",
              " '“A day without sunshine is like, you know, night.”']"
            ]
          },
          "metadata": {},
          "execution_count": 18
        }
      ]
    },
    {
      "cell_type": "code",
      "source": [
        "soup=bs4.BeautifulSoup(res.text,'lxml')\n",
        "soup.select('.tag-item')\n",
        "for item in soup.select(\".tag-item\"):\n",
        "    print(item.text)"
      ],
      "metadata": {
        "colab": {
          "base_uri": "https://localhost:8080/"
        },
        "id": "Ikuu0kKNKtoZ",
        "outputId": "a66a0384-d816-47f8-c5f8-4e89f896a52c"
      },
      "execution_count": 19,
      "outputs": [
        {
          "output_type": "stream",
          "name": "stdout",
          "text": [
            "\n",
            "love\n",
            "\n",
            "\n",
            "inspirational\n",
            "\n",
            "\n",
            "life\n",
            "\n",
            "\n",
            "humor\n",
            "\n",
            "\n",
            "books\n",
            "\n",
            "\n",
            "reading\n",
            "\n",
            "\n",
            "friendship\n",
            "\n",
            "\n",
            "friends\n",
            "\n",
            "\n",
            "truth\n",
            "\n",
            "\n",
            "simile\n",
            "\n"
          ]
        }
      ]
    },
    {
      "cell_type": "markdown",
      "source": [
        "**Working with Images**"
      ],
      "metadata": {
        "id": "UgnRjzsfK5Tb"
      }
    },
    {
      "cell_type": "code",
      "source": [
        "!pip install  Pillow"
      ],
      "metadata": {
        "colab": {
          "base_uri": "https://localhost:8080/"
        },
        "id": "k_tNhYAjK9vs",
        "outputId": "7c490804-6a17-4d8e-ae90-123ebc087964"
      },
      "execution_count": 20,
      "outputs": [
        {
          "output_type": "stream",
          "name": "stdout",
          "text": [
            "Looking in indexes: https://pypi.org/simple, https://us-python.pkg.dev/colab-wheels/public/simple/\n",
            "Requirement already satisfied: Pillow in /usr/local/lib/python3.7/dist-packages (7.1.2)\n"
          ]
        }
      ]
    },
    {
      "cell_type": "code",
      "source": [
        "from PIL import Image\n",
        "img=Image.open(\"coke_bottle.png\")\n",
        "img"
      ],
      "metadata": {
        "colab": {
          "base_uri": "https://localhost:8080/",
          "height": 517
        },
        "id": "fR_GBDo6LHfB",
        "outputId": "a87363fb-f370-4823-a203-404aec839dab"
      },
      "execution_count": 22,
      "outputs": [
        {
          "output_type": "execute_result",
          "data": {
            "text/plain": [
              "<PIL.PngImagePlugin.PngImageFile image mode=P size=500x500 at 0x7F9DB827B990>"
            ],
            "image/png": "[encoded data removed]"
          },
          "metadata": {},
          "execution_count": 22
        }
      ]
    },
    {
      "cell_type": "code",
      "source": [
        "#to see the shape of image\n",
        "\n",
        "print(img.size)"
      ],
      "metadata": {
        "colab": {
          "base_uri": "https://localhost:8080/"
        },
        "id": "DTw65PbTLqti",
        "outputId": "edd9b286-0053-41d2-a4e3-9f19dd028573"
      },
      "execution_count": 23,
      "outputs": [
        {
          "output_type": "stream",
          "name": "stdout",
          "text": [
            "(500, 500)\n"
          ]
        }
      ]
    }
  ]
}