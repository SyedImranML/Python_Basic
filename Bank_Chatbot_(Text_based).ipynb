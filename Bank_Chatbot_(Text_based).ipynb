{
  "nbformat": 4,
  "nbformat_minor": 0,
  "metadata": {
    "colab": {
      "provenance": [],
      "authorship_tag": "ABX9TyP4qb5vR7bPNRiFN9cD5OJD",
      "include_colab_link": true
    },
    "kernelspec": {
      "name": "python3",
      "display_name": "Python 3"
    },
    "language_info": {
      "name": "python"
    }
  },
  "cells": [
    {
      "cell_type": "markdown",
      "metadata": {
        "id": "view-in-github",
        "colab_type": "text"
      },
      "source": [
        "<a href=\"https://colab.research.google.com/github/SyedImranML/Python_Basic/blob/main/Bank_Chatbot_(Text_based).ipynb\" target=\"_parent\"><img src=\"https://colab.research.google.com/assets/colab-badge.svg\" alt=\"Open In Colab\"/></a>"
      ]
    },
    {
      "cell_type": "markdown",
      "source": [
        "**Banking Chatbot (Rule-Based)**"
      ],
      "metadata": {
        "id": "g1IzwAgSItaZ"
      }
    },
    {
      "cell_type": "markdown",
      "source": [
        "Features:\n",
        "\n",
        "\n",
        "* Greet user\n",
        "* Answer basic banking FAQs like:\n",
        "* Account balance\n",
        "* Loan process\n",
        "* Cheque book request\n",
        "* Branch hours\n",
        "* Exit\n",
        "\n",
        "\n",
        "\n"
      ],
      "metadata": {
        "id": "NlJJDi2kI3oA"
      }
    },
    {
      "cell_type": "code",
      "execution_count": null,
      "metadata": {
        "colab": {
          "base_uri": "https://localhost:8080/"
        },
        "id": "X3L1ojoNG2qo",
        "outputId": "bafb0945-6d4e-4c94-f493-cfdddd228530"
      },
      "outputs": [
        {
          "output_type": "stream",
          "name": "stdout",
          "text": [
            "🧾 Welcome to Python Bank Chatbot!\n",
            "Type 'exit' anytime to leave the chat.\n",
            "\n",
            "👤 You: Hello\n",
            "🤖 Bot: Hello! How can I help you today?\n",
            "👤 You: cheque book request\n",
            "🤖 Bot: You can request a cheque book using net banking or by visiting a branch.\n",
            "👤 You: loan interest rate\n",
            "🤖 Bot: I'm sorry, I didn’t understand that. You can ask about account opening, loans, balance, etc.\n",
            "👤 You: what is the loan interest rate\n",
            "🤖 Bot: Our personal loan interest rates start from 10.5% per annum.\n",
            "👤 You: exit\n",
            "🤖 Bot: Thank you for chatting with us. Goodbye!\n"
          ]
        }
      ],
      "source": [
        "# Simple Bank Chatbot - Rule Based\n",
        "# NGCC Software Technologies\n",
        "print(\"🧾 Welcome to Python Bank Chatbot!\")\n",
        "print(\"By Syed Imran\")\n",
        "print(\"Type 'exit' anytime to leave the chat.\\n\")\n",
        "\n",
        "# Pre-defined Q&A\n",
        "responses = {\n",
        "    \"hello\": \"Hello! How can I help you today?\",\n",
        "    \"hi\": \"Hi there! What banking help do you need?\",\n",
        "    \"how to open an account\": \"You can open an account by visiting the nearest branch with your KYC documents.\",\n",
        "    \"check balance\": \"You can check your balance via net banking or by visiting an ATM.\",\n",
        "    \"what is the loan interest rate\": \"Our personal loan interest rates start from 10.5% per annum.\",\n",
        "    \"how to apply for a loan\": \"You can apply online on our website or visit your nearest branch.\",\n",
        "    \"cheque book request\": \"You can request a cheque book using net banking or by visiting a branch.\",\n",
        "    \"branch timings\": \"Our branches are open from 9:30 AM to 4:00 PM, Monday to Friday.\",\n",
        "    \"bye\": \"Thank you for banking with us. Have a great day!\"\n",
        "}\n",
        "\n",
        "def chatbot():\n",
        "    while True:\n",
        "        user_input = input(\"👤 You: \").lower()\n",
        "\n",
        "        if user_input == 'exit':\n",
        "            print(\"🤖 Bot: Thank you for chatting with us. Goodbye!\")\n",
        "            break\n",
        "\n",
        "        response = responses.get(user_input,\n",
        "                    \"I'm sorry, I didn’t understand that. You can ask about account opening, loans, balance, etc.\")\n",
        "        print(f\"🤖 Bot: {response}\")\n",
        "\n",
        "chatbot()\n"
      ]
    },
    {
      "cell_type": "markdown",
      "source": [
        "Summary\n",
        "\n",
        "This chatbot is:\n",
        "Rule-based (not AI, just if-else via dictionary).\n",
        "Case-insensitive due to .lower().\n",
        "\n",
        "Easy to extend by adding more keys in the responses dictionary.\n",
        "This is a dictionary where:\n",
        "The key is the question or phrase the user might type.\n",
        "The value is the chatbot’s response.\n",
        "The chatbot keeps running using while True until the user types \"exit\".\n",
        "\n",
        "input() prompts the user to type a question.\n",
        "\n",
        ".lower() converts everything the user types to lowercase so it's easy to match with the keys in responses.\n",
        "\n",
        "responses.get(user_input, default):\n",
        "\n",
        "If the user input matches a key in the responses dictionary, it returns the related response.\n",
        "\n",
        "If not, it shows a default message: \"I'm sorry, I didn’t understand that.\""
      ],
      "metadata": {
        "id": "-Kb0vYXwRAD6"
      }
    },
    {
      "cell_type": "code",
      "source": [],
      "metadata": {
        "id": "7-Ei8mIVR559"
      },
      "execution_count": null,
      "outputs": []
    },
    {
      "cell_type": "code",
      "source": [],
      "metadata": {
        "id": "bxiLrBaWRCoG"
      },
      "execution_count": 1,
      "outputs": []
    }
  ]
}