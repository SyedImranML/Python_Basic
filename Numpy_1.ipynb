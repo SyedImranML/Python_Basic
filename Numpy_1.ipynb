{
  "cells": [
    {
      "cell_type": "markdown",
      "metadata": {
        "id": "view-in-github",
        "colab_type": "text"
      },
      "source": [
        "<a href=\"https://colab.research.google.com/github/SyedImranML/Python_Basic/blob/main/Numpy_1.ipynb\" target=\"_parent\"><img src=\"https://colab.research.google.com/assets/colab-badge.svg\" alt=\"Open In Colab\"/></a>"
      ]
    },
    {
      "cell_type": "markdown",
      "id": "b4c6023b",
      "metadata": {
        "id": "b4c6023b"
      },
      "source": [
        "## 01 - Introduction to Numpy\n",
        "\n",
        "NumPy (Numerical Python) is a powerful library for numerical computing in Python. It provides support for large, multi-dimensional arrays and matrices, along with a collection of mathematical functions to operate on these arrays efficiently. There are several reasons why you should consider using NumPy in your Python projects:\n",
        "\n",
        "1. NumPy provides fast and efficient operations on large arrays and matrices.\n",
        "2. It offers a wide range of mathematical functions for numerical computations.\n",
        "3. NumPy's multi-dimensional arrays enable efficient storage and manipulation of data.\n",
        "4. Broadcasting allows for efficient operations on arrays with different shapes.\n",
        "5. NumPy integrates seamlessly with other scientific libraries, expanding its capabilities.\n",
        "6. It provides advanced indexing and slicing options for data extraction and manipulation.\n",
        "7. NumPy's optimized C code delivers high-performance computing compared to Python lists.\n",
        "8. The library offers tools for file input/output and data persistence.\n",
        "9. NumPy is widely used and has extensive community support, ensuring its reliability and resources.\n",
        "10. It serves as a foundation for many scientific and data analysis tasks in Python.\n",
        "\n",
        "Don't worry if these reasons don't make enough sense to you at this point. You will learn all of these features very soon in the upcoming sections."
      ]
    },
    {
      "cell_type": "markdown",
      "id": "f37ed112",
      "metadata": {
        "id": "f37ed112"
      },
      "source": [
        "### 01.1 - How to use 'Numpy'?\n",
        "\n",
        "To use NumPy in your Python code, you need to follow these steps:\n",
        "\n",
        "1. **Install NumPy:** If you haven't already installed NumPy, you can use pip, the Python package installer, by running the command `pip install numpy` in your terminal or command prompt.\n",
        "\n",
        "2. **Import NumPy:** Once NumPy is installed, you need to import it into your Python script using the import statement as shown below."
      ]
    },
    {
      "cell_type": "code",
      "execution_count": null,
      "id": "7522132c",
      "metadata": {
        "id": "7522132c"
      },
      "outputs": [],
      "source": [
        "import numpy as np"
      ]
    },
    {
      "cell_type": "markdown",
      "id": "400d67f8",
      "metadata": {
        "id": "400d67f8"
      },
      "source": [
        "### 01.2 - The Numpy Arrays\n",
        "\n",
        "The soul of Numpy is the 'Numpy Arrays'. In NumPy, an array is like a container that can hold a collection of values. It's similar to a list in Python, but with some additional benefits. Arrays can be one-dimensional (1D), two-dimensional (2D), or even three-dimensional (3D).\n",
        "\n",
        "1. **1D Arrays** can be thought of as a single row of values. For example, imagine you have a list of temperatures recorded each day for a week: [25, 26, 24, 28, 27, 25, 23]. In NumPy, you can create a 1D array to store these values and perform operations on them more efficiently.\n",
        "\n",
        "2. **2D Arrays** are like a grid or a table. You can think of them as having rows and columns, just like a spreadsheet. For instance, consider a list of students and their corresponding marks in three subjects: Math, English, and Science. You can represent this data in a 2D array, where each row represents a student and each column represents a subject. This way, you can organize and analyze the data effectively.\n",
        "\n",
        "3. **3D Arrays** add another dimension to the grid. They can be visualized as a stack of 2D arrays. For example, imagine you have a collection of grayscale images, where each image is a 2D array representing pixel intensities. If you want to store multiple images, you can use a 3D array. The extra dimension allows you to stack multiple 2D images together, making it easier to process and manipulate the entire collection.\n",
        "\n",
        "Now, let's discuss the concept of **axes** in NumPy arrays. Each dimension of an array is called an axis. In a 2D array, the first axis refers to the rows, and the second axis refers to the columns.\n",
        "\n",
        "To illustrate this, imagine you have a 2D array representing a grid of numbers, where rows represent different stores, and columns represent the sales of different products. If you want to calculate the total sales for each store (across columns), you would sum along the axis 1 (columns). On the other hand, if you want to calculate the total sales for each product (across rows), you would sum along the axis 0 (rows).\n",
        "\n",
        "<img src=\"../img/numpy_arrays.png\" width=\"500\"></img>"
      ]
    },
    {
      "cell_type": "code",
      "execution_count": null,
      "id": "5802c81d",
      "metadata": {
        "id": "5802c81d"
      },
      "outputs": [],
      "source": [
        "### 1D Array Example\n",
        "temperatures = [25, 26, 24, 28, 27, 25, 23]\n",
        "temperatures_array = np.array(temperatures)\n",
        "print(temperatures_array)"
      ]
    },
    {
      "cell_type": "code",
      "execution_count": null,
      "id": "08269568",
      "metadata": {
        "scrolled": true,
        "id": "08269568",
        "outputId": "99e31e2f-eda7-468d-f621-59dedbacc58c"
      },
      "outputs": [
        {
          "data": {
            "text/plain": [
              "numpy.ndarray"
            ]
          },
          "execution_count": 4,
          "metadata": {},
          "output_type": "execute_result"
        }
      ],
      "source": [
        "type(temperatures_array)"
      ]
    }
  ],
  "metadata": {
    "kernelspec": {
      "display_name": "Python 3 (ipykernel)",
      "language": "python",
      "name": "python3"
    },
    "language_info": {
      "codemirror_mode": {
        "name": "ipython",
        "version": 3
      },
      "file_extension": ".py",
      "mimetype": "text/x-python",
      "name": "python",
      "nbconvert_exporter": "python",
      "pygments_lexer": "ipython3",
      "version": "3.9.7"
    },
    "colab": {
      "provenance": [],
      "include_colab_link": true
    }
  },
  "nbformat": 4,
  "nbformat_minor": 5
}