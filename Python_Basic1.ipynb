{
 "cells": [
  {
   "cell_type": "code",
   "execution_count": 17,
   "id": "6cfa2871",
   "metadata": {},
   "outputs": [
    {
     "data": {
      "text/plain": [
       "'C:\\\\Users\\\\hp'"
      ]
     },
     "execution_count": 17,
     "metadata": {},
     "output_type": "execute_result"
    }
   ],
   "source": [
    "#absolute path of the working directory\n",
    "import os\n",
    "os. getcwd()"
   ]
  },
  {
   "cell_type": "code",
   "execution_count": 18,
   "id": "74aeef8d",
   "metadata": {},
   "outputs": [
    {
     "name": "stdout",
     "output_type": "stream",
     "text": [
      "3.8.8 (default, Apr 13 2021, 15:08:03) [MSC v.1916 64 bit (AMD64)]\n"
     ]
    }
   ],
   "source": [
    "#How to Check Your Python Version\n",
    "import sys\n",
    "print(sys.version)"
   ]
  },
  {
   "cell_type": "code",
   "execution_count": 21,
   "id": "23b82fb6",
   "metadata": {},
   "outputs": [
    {
     "name": "stdout",
     "output_type": "stream",
     "text": [
      "3.8.8\n"
     ]
    }
   ],
   "source": [
    "#Another method to check the version\n",
    "from platform import python_version\n",
    "print(python_version())"
   ]
  },
  {
   "cell_type": "code",
   "execution_count": 1,
   "id": "6d5a33cf",
   "metadata": {},
   "outputs": [
    {
     "name": "stdout",
     "output_type": "stream",
     "text": [
      "10 10\n",
      "140725008869456 140725008869456\n"
     ]
    }
   ],
   "source": [
    "a=10\n",
    "b=10\n",
    "print(a,b)\n",
    "print(id(a),id(b)) #Stores based on values as memory address , id() is predefined function to check the memory address"
   ]
  },
  {
   "cell_type": "markdown",
   "id": "d1994bde",
   "metadata": {},
   "source": [
    "## Invalid Variable Name\n"
   ]
  },
  {
   "cell_type": "code",
   "execution_count": 2,
   "id": "da0f5025",
   "metadata": {},
   "outputs": [
    {
     "ename": "SyntaxError",
     "evalue": "invalid syntax (<ipython-input-2-7425e7110ba9>, line 1)",
     "output_type": "error",
     "traceback": [
      "\u001b[1;36m  File \u001b[1;32m\"<ipython-input-2-7425e7110ba9>\"\u001b[1;36m, line \u001b[1;32m1\u001b[0m\n\u001b[1;33m    1a=20      # Name should not start with number\u001b[0m\n\u001b[1;37m     ^\u001b[0m\n\u001b[1;31mSyntaxError\u001b[0m\u001b[1;31m:\u001b[0m invalid syntax\n"
     ]
    }
   ],
   "source": [
    "1a=20      # Name should not start with number\n",
    "a b=35     #No multiple words with space \n",
    "@a=20      #No symbol except underscore _\n",
    "if=20      #Avoid using keywords\n"
   ]
  },
  {
   "cell_type": "markdown",
   "id": "bfd79cce",
   "metadata": {},
   "source": [
    "## Valid Variable Name"
   ]
  },
  {
   "cell_type": "code",
   "execution_count": 6,
   "id": "6a85d3e4",
   "metadata": {},
   "outputs": [
    {
     "name": "stdout",
     "output_type": "stream",
     "text": [
      "20\n",
      "25\n",
      "12\n",
      "20\n",
      "60\n"
     ]
    }
   ],
   "source": [
    "a1=20       \n",
    "ab=25\n",
    "a_b=12\n",
    "_a=20\n",
    "A2=60                 #Small or capital letter can be used as variable name\n",
    "print(a1)\n",
    "print(ab)\n",
    "print(a_b)\n",
    "print(_a)\n",
    "print(A2) "
   ]
  },
  {
   "cell_type": "markdown",
   "id": "937b0961",
   "metadata": {},
   "source": [
    "## String Concatenation in Python"
   ]
  },
  {
   "cell_type": "code",
   "execution_count": null,
   "id": "b3c2ec4f",
   "metadata": {},
   "outputs": [],
   "source": [
    "# Two or more variable used for concatenate"
   ]
  },
  {
   "cell_type": "code",
   "execution_count": 8,
   "id": "af7befa6",
   "metadata": {},
   "outputs": [
    {
     "name": "stdout",
     "output_type": "stream",
     "text": [
      "Hellopython\n",
      "Hello python\n"
     ]
    }
   ],
   "source": [
    "a=\"Hello\"\n",
    "b=\"python\"\n",
    "print(a+b) # In case of string + act as concatenate symbol \n",
    "print(a + \" \" +b)  #to give space"
   ]
  },
  {
   "cell_type": "code",
   "execution_count": 9,
   "id": "d970a8c4",
   "metadata": {},
   "outputs": [
    {
     "ename": "TypeError",
     "evalue": "can only concatenate str (not \"int\") to str",
     "output_type": "error",
     "traceback": [
      "\u001b[1;31m---------------------------------------------------------------------------\u001b[0m",
      "\u001b[1;31mTypeError\u001b[0m                                 Traceback (most recent call last)",
      "\u001b[1;32m<ipython-input-9-e86c6330e572>\u001b[0m in \u001b[0;36m<module>\u001b[1;34m\u001b[0m\n\u001b[0;32m      1\u001b[0m \u001b[0mc\u001b[0m\u001b[1;33m=\u001b[0m\u001b[1;36m20\u001b[0m\u001b[1;33m\u001b[0m\u001b[1;33m\u001b[0m\u001b[0m\n\u001b[1;32m----> 2\u001b[1;33m \u001b[0mprint\u001b[0m\u001b[1;33m(\u001b[0m\u001b[0ma\u001b[0m\u001b[1;33m+\u001b[0m\u001b[0mc\u001b[0m\u001b[1;33m)\u001b[0m \u001b[1;31m#error becoz a is string and c is integer\u001b[0m\u001b[1;33m\u001b[0m\u001b[1;33m\u001b[0m\u001b[0m\n\u001b[0m\u001b[0;32m      3\u001b[0m \u001b[0mprint\u001b[0m\u001b[1;33m(\u001b[0m\u001b[0mc\u001b[0m\u001b[1;33m+\u001b[0m\u001b[1;36m30\u001b[0m\u001b[1;33m)\u001b[0m\u001b[1;33m\u001b[0m\u001b[1;33m\u001b[0m\u001b[0m\n",
      "\u001b[1;31mTypeError\u001b[0m: can only concatenate str (not \"int\") to str"
     ]
    }
   ],
   "source": [
    "c=20\n",
    "print(a+c) # expected error becoz a is string and c is integer here both should be string or ingeter\n"
   ]
  },
  {
   "cell_type": "code",
   "execution_count": 10,
   "id": "863e3b07",
   "metadata": {},
   "outputs": [
    {
     "name": "stdout",
     "output_type": "stream",
     "text": [
      "50\n"
     ]
    }
   ],
   "source": [
    "print(c+30) "
   ]
  },
  {
   "cell_type": "markdown",
   "id": "9f94dca4",
   "metadata": {},
   "source": [
    "# Arithmatic Operators in python\n"
   ]
  },
  {
   "cell_type": "code",
   "execution_count": 13,
   "id": "91b6356c",
   "metadata": {},
   "outputs": [],
   "source": [
    "# operator          Name            example\n",
    "#   +                Addition         x+y\n",
    "#   -                subtraction      x-y\n",
    "#   *                Multiplication   x*y\n",
    "#   /                Division         x/y\n",
    "#  **                exponent         x**y\n",
    "#  //                floor division   x//y"
   ]
  },
  {
   "cell_type": "code",
   "execution_count": 15,
   "id": "e92b3537",
   "metadata": {},
   "outputs": [
    {
     "name": "stdout",
     "output_type": "stream",
     "text": [
      "30\n",
      "-10\n",
      "200\n",
      "0.5\n",
      "100\n",
      "1000\n",
      "0\n"
     ]
    }
   ],
   "source": [
    "#Example\n",
    "a=10\n",
    "b=20\n",
    "print(a+b)\n",
    "print(a-b)\n",
    "print(a*b)\n",
    "print(a/b)\n",
    "print(a**2)\n",
    "print(a**3)\n",
    "print(a//b)\n"
   ]
  },
  {
   "cell_type": "markdown",
   "id": "cb295a31",
   "metadata": {},
   "source": [
    "# Assignment Operators"
   ]
  },
  {
   "cell_type": "code",
   "execution_count": 16,
   "id": "71305579",
   "metadata": {},
   "outputs": [],
   "source": [
    "#  Operator           Example                  Same As\n",
    "#  =                    x=5                     x=5\n",
    "#  +=                   x+=3                    x=x+3\n",
    "#  -=                   x-=3                    x=x-3"
   ]
  },
  {
   "cell_type": "code",
   "execution_count": 17,
   "id": "e0c42d1f",
   "metadata": {},
   "outputs": [
    {
     "name": "stdout",
     "output_type": "stream",
     "text": [
      "5\n",
      "10\n",
      "15\n",
      "10\n",
      "5\n"
     ]
    }
   ],
   "source": [
    "# Example\n",
    "x=5\n",
    "print(x)\n",
    "x=x+5\n",
    "print(x)\n",
    "x+=5\n",
    "print(x)\n",
    "x=x-5\n",
    "print(x)\n",
    "x-=5\n",
    "print(x)"
   ]
  },
  {
   "cell_type": "markdown",
   "id": "c8f23b70",
   "metadata": {},
   "source": [
    "## Python Comparision Operators\n"
   ]
  },
  {
   "cell_type": "code",
   "execution_count": 18,
   "id": "88eadef3",
   "metadata": {},
   "outputs": [],
   "source": [
    "# Comparision Operators\n",
    "# Operator         Name                  Example\n",
    "# ==               Equal                   x==y\n",
    "# !=               Not Equal               x!=y\n",
    "# >                Greater than            x>y\n",
    "# <                Less than               x<y\n",
    "# >=               Greater than equal to   x>=y\n",
    "# <=               Less than equal to      x<=y\n"
   ]
  },
  {
   "cell_type": "code",
   "execution_count": 19,
   "id": "d06884c0",
   "metadata": {},
   "outputs": [
    {
     "name": "stdout",
     "output_type": "stream",
     "text": [
      "True\n",
      "False\n",
      "False\n",
      "False\n",
      "True\n",
      "True\n"
     ]
    }
   ],
   "source": [
    "# Example 1\n",
    "x=10\n",
    "y=10\n",
    "print(x==y)\n",
    "print(x!=y)\n",
    "print(x>y)\n",
    "print(x<y)\n",
    "print(x>=y)\n",
    "print(x<=y)"
   ]
  },
  {
   "cell_type": "code",
   "execution_count": 20,
   "id": "44cd6104",
   "metadata": {},
   "outputs": [
    {
     "name": "stdout",
     "output_type": "stream",
     "text": [
      "False\n",
      "True\n",
      "False\n",
      "True\n",
      "False\n",
      "True\n"
     ]
    }
   ],
   "source": [
    "# Example 2\n",
    "x=10\n",
    "y=20\n",
    "print(x==y)\n",
    "print(x!=y)\n",
    "print(x>y)\n",
    "print(x<y)\n",
    "print(x>=y)\n",
    "print(x<=y)"
   ]
  },
  {
   "cell_type": "markdown",
   "id": "1112f7bb",
   "metadata": {},
   "source": [
    "## Logical Operator"
   ]
  },
  {
   "cell_type": "code",
   "execution_count": 21,
   "id": "e47bc115",
   "metadata": {},
   "outputs": [],
   "source": [
    "# Operator                   Description                               Example\n",
    "# and                        Returns True if stats are true            x<5 and x<10\n",
    "# or                         Returns True if one of the stats is true  x<5 or x<4\n",
    "# not                        Reverse the result returns false if the   not(x<5 and x<10)\n",
    "#                            the result is true"
   ]
  },
  {
   "cell_type": "code",
   "execution_count": 23,
   "id": "00e67a59",
   "metadata": {},
   "outputs": [
    {
     "name": "stdout",
     "output_type": "stream",
     "text": [
      "True\n",
      "False\n",
      "True\n",
      "True\n",
      "False\n",
      "True\n"
     ]
    }
   ],
   "source": [
    "# Example -1\n",
    "x=10\n",
    "y=20\n",
    "print(x==10 and x<y)\n",
    "print(x==10 and x<y and x==y)\n",
    "print(x==10 or x<y or x==y)\n",
    "print(x!=10 or  x<y or x==y)\n",
    "print(x!=10)\n",
    "print(not x!=10)"
   ]
  },
  {
   "cell_type": "markdown",
   "id": "2b063868",
   "metadata": {},
   "source": [
    "## Membership Operators in Python ( in , not in)"
   ]
  },
  {
   "cell_type": "code",
   "execution_count": 24,
   "id": "e5813349",
   "metadata": {},
   "outputs": [
    {
     "name": "stdout",
     "output_type": "stream",
     "text": [
      "False\n",
      "True\n"
     ]
    }
   ],
   "source": [
    "# Example -1\n",
    "s=\"Hello\"\n",
    "print('h' in s)\n",
    "print('H' in s)"
   ]
  },
  {
   "cell_type": "code",
   "execution_count": 25,
   "id": "95eabdbe",
   "metadata": {},
   "outputs": [
    {
     "name": "stdout",
     "output_type": "stream",
     "text": [
      "True\n",
      "False\n",
      "True\n",
      "False\n"
     ]
    }
   ],
   "source": [
    "# Example -2\n",
    "l=[10,20,'Imran','Python']\n",
    "print('Imran' in l)\n",
    "print('Allen' in l)\n",
    "print(20 in l)\n",
    "print(30in l)\n"
   ]
  },
  {
   "cell_type": "code",
   "execution_count": 26,
   "id": "94822bca",
   "metadata": {},
   "outputs": [
    {
     "name": "stdout",
     "output_type": "stream",
     "text": [
      "True\n"
     ]
    }
   ],
   "source": [
    "# Example 3 using not in\n",
    "print(50 not in l)"
   ]
  },
  {
   "cell_type": "markdown",
   "id": "aa64c2e7",
   "metadata": {},
   "source": [
    "## Identity Operators in Python\n"
   ]
  },
  {
   "cell_type": "code",
   "execution_count": 27,
   "id": "f75c7970",
   "metadata": {},
   "outputs": [],
   "source": [
    "#   Operator           Description                                           Example\n",
    "#    is                returns true if both variables are the same object     x is y \n",
    "#    is not            returns true if both variables are not same object     x is not y\n",
    "\n"
   ]
  },
  {
   "cell_type": "code",
   "execution_count": 28,
   "id": "a44fa19c",
   "metadata": {},
   "outputs": [
    {
     "name": "stdout",
     "output_type": "stream",
     "text": [
      "True\n",
      "True True\n"
     ]
    }
   ],
   "source": [
    "# Example -1 using is\n",
    "x=10\n",
    "y=10\n",
    "print(x is y)\n",
    "print(x is y ,x==y)  # both stats are same \n"
   ]
  },
  {
   "cell_type": "code",
   "execution_count": 29,
   "id": "83ac8d59",
   "metadata": {},
   "outputs": [
    {
     "name": "stdout",
     "output_type": "stream",
     "text": [
      "False False\n"
     ]
    }
   ],
   "source": [
    "# Example -2 using is not\n",
    "x=10\n",
    "y=10\n",
    "print(x is not y,x!=y)"
   ]
  },
  {
   "cell_type": "markdown",
   "id": "a1cc4484",
   "metadata": {},
   "source": [
    "## Bitwise Operators in Python"
   ]
  },
  {
   "cell_type": "code",
   "execution_count": 30,
   "id": "24b918f8",
   "metadata": {},
   "outputs": [],
   "source": [
    "# Operator                     Name                             Description\n",
    "#   &                          AND                               x & y            # both should be True\n",
    "#   |                          OR                                x|y              # One should be True\n",
    "#   ^                          XOR                               x^y              # if same -> False otherwise True\n",
    "#  "
   ]
  },
  {
   "cell_type": "code",
   "execution_count": 32,
   "id": "89026e2b",
   "metadata": {},
   "outputs": [
    {
     "name": "stdout",
     "output_type": "stream",
     "text": [
      "0b1010\n",
      "0b1000\n",
      "8 0b1000\n",
      "0b1000 8\n",
      "0b1010 10\n",
      "0b10 2\n"
     ]
    }
   ],
   "source": [
    "# Example -1\n",
    "x=10\n",
    "y=8\n",
    "print(bin(x))\n",
    "print(bin(y))\n",
    "print(x&y,bin(x&y))\n",
    "print(bin(x&y),x&y)\n",
    "print(bin(x|y),x|y)\n",
    "print(bin(x^y),x^y)"
   ]
  },
  {
   "cell_type": "markdown",
   "id": "d3f300dd",
   "metadata": {},
   "source": [
    "## Data Types"
   ]
  },
  {
   "cell_type": "code",
   "execution_count": 33,
   "id": "3f5525ec",
   "metadata": {},
   "outputs": [],
   "source": [
    "# 1. Integer                    # A number without decimal i.e whole number is an integer\n",
    "# 2. Float                      # A number with decimal value \n",
    "# 3. String                     # A string is a collection ofone or more charecter put in a single quote or double quote or triple quote\n",
    "# 4. List                       # List is an ordered sequence of items\n",
    "# 5. Dictionay                  # Unordered collection of data which stores data in key:value basis\n",
    "# 6. Set                        # A set is an unordered collection of items\n",
    "# 7. Tuple                      # Tuple is an ordered sequence of items same as a list\n",
    "# 8. Booleans                   # which is either True or False\n"
   ]
  },
  {
   "cell_type": "code",
   "execution_count": 34,
   "id": "83c94797",
   "metadata": {},
   "outputs": [],
   "source": [
    "# List vs  Tuple  Vs Set Vs Dictionary\n",
    "#           List                 |    Tuple                       |    Set                                    Dictionay\n",
    "# 1. Collection of ordered Data  | 1. Ordered collection of data  | 1. Unordered collection of data     |  1. unordered collection of key:value pair\n",
    "# 2. Square braces []            | 2. paranthesis ()              | 2. curly braces {}                  |  2. Curly braces {}\n",
    "# 3. Mutable datatype            | 3. Immutable datatype          | 3. Mutable but no duplicate allowed |  3. Mutable no duplicate\n",
    "# 4. append to add elements      | 4. cannot be added             | 4. add fn to add elements           |  4. update to add values with key\n",
    "# 5. pop - remove the element    | 5. specific ele cann't removed | 5. pop - remove the random element  |  5. pop - remove the specific element\n",
    "# 6. sort - sorting elements     | 6. already sorted              | 6. cannot be sorted                 |  6. sorted - sortings keys default\n",
    "# 7. Index - searching given ele | 7. Index - searching given ele | 7. cannot get index                 |  7. get - return value with element key\n",
    "# 8. reverse -reversethe element | 8. cannot reverse              | 8. cannot reverse                   |  8. cannot reverse"
   ]
  },
  {
   "cell_type": "code",
   "execution_count": 35,
   "id": "500cf1eb",
   "metadata": {},
   "outputs": [],
   "source": [
    "# Datatypes are of two types\n",
    "# 1. Mutable Datatype\n",
    "# 2. Immutable Datatype \n",
    "# Mutable object can change its state or contents and immutable cannot\n"
   ]
  },
  {
   "cell_type": "code",
   "execution_count": 36,
   "id": "b098f3af",
   "metadata": {},
   "outputs": [
    {
     "name": "stdout",
     "output_type": "stream",
     "text": [
      "5 is of type <class 'int'>\n",
      "4.3 is of type <class 'float'>\n",
      "(1+2j) is of type <class 'complex'>\n"
     ]
    }
   ],
   "source": [
    "# Example -1 Numeric Datatypes  1. Integer  2. Float  3. Complex\n",
    "a=5\n",
    "b=4.3\n",
    "c=1+2j\n",
    "print(a,\"is of type\",type(a))\n",
    "print(b,\"is of type\",type(b))\n",
    "print(c,\"is of type\",type(c))\n",
    "\n",
    "\n"
   ]
  },
  {
   "cell_type": "code",
   "execution_count": 37,
   "id": "c537a491",
   "metadata": {},
   "outputs": [
    {
     "name": "stdout",
     "output_type": "stream",
     "text": [
      "20 (10-6j) 100\n"
     ]
    }
   ],
   "source": [
    "a=10\n",
    "b=10\n",
    "c=3.14\n",
    "d=0.142\n",
    "e=10+3j\n",
    "f=6j\n",
    "print(a+b,b-f,a*b)\n"
   ]
  },
  {
   "cell_type": "code",
   "execution_count": 38,
   "id": "054f093a",
   "metadata": {},
   "outputs": [
    {
     "name": "stdout",
     "output_type": "stream",
     "text": [
      "20 2.998 (10-3j)\n",
      "6.859999999999999 (10-6j) 100\n"
     ]
    }
   ],
   "source": [
    "print(a+b,c-d,e-f,end='\\n')\n",
    "print(a-c,b-f,a*b,end='\\n')"
   ]
  },
  {
   "cell_type": "code",
   "execution_count": 39,
   "id": "1dc464b8",
   "metadata": {},
   "outputs": [
    {
     "name": "stdout",
     "output_type": "stream",
     "text": [
      "This is a string <class 'str'>\n"
     ]
    }
   ],
   "source": [
    "# Example -2  String - A string is a collection of one or more charecter put in a single quote or double quote or triple quote\n",
    "#                      Mutiline strings can be denoted  using triple quote ''' '''\n",
    "s=\"This is a string\"\n",
    "print(s,type(s))\n"
   ]
  },
  {
   "cell_type": "code",
   "execution_count": 40,
   "id": "fbeee525",
   "metadata": {},
   "outputs": [
    {
     "name": "stdout",
     "output_type": "stream",
     "text": [
      "Welcome to Python\n",
      "         Basic\n"
     ]
    }
   ],
   "source": [
    "s='''Welcome to Python\n",
    "         Basic'''\n",
    "print(s)"
   ]
  },
  {
   "cell_type": "code",
   "execution_count": 41,
   "id": "0c010f4f",
   "metadata": {},
   "outputs": [
    {
     "name": "stdout",
     "output_type": "stream",
     "text": [
      "10 <class 'str'>\n"
     ]
    }
   ],
   "source": [
    "c='10'\n",
    "print(c,type(c))"
   ]
  },
  {
   "cell_type": "code",
   "execution_count": 42,
   "id": "0790eb6a",
   "metadata": {},
   "outputs": [
    {
     "name": "stdout",
     "output_type": "stream",
     "text": [
      "hello@123 <class 'str'>\n",
      "hello@123 <class 'str'>\n"
     ]
    }
   ],
   "source": [
    "s='hello@123'\n",
    "s1=\"hello@123\"\n",
    "print(s,type(s))\n",
    "print(s1,type(s1))"
   ]
  },
  {
   "cell_type": "code",
   "execution_count": 43,
   "id": "1f911cbb",
   "metadata": {},
   "outputs": [
    {
     "name": "stdout",
     "output_type": "stream",
     "text": [
      "welcome to Python\n"
     ]
    }
   ],
   "source": [
    "w=\"welcome to Python\"\n",
    "print(w)\n"
   ]
  },
  {
   "cell_type": "markdown",
   "id": "23197899",
   "metadata": {},
   "source": [
    "## String Indexing"
   ]
  },
  {
   "cell_type": "code",
   "execution_count": 44,
   "id": "49661231",
   "metadata": {},
   "outputs": [],
   "source": [
    "#  Positive Indexing\n",
    "#  w =\" Welcome to Python\"\n",
    "#  | w  | e | l | c |  o |   m |   e  |   t   |  o   |   P  |   y  |   t  |   h  |  o  |  n  |\n",
    "#  | 0  | 1 | 2 | 3 |  4 |   5 |   6  |   7   |  8   |   9  |   10 |   11 |   12 |  13 |  14 |  # postive index start from 0\n",
    "\n",
    "\n",
    "#  Negative Indexing\n",
    "#  w =\" Welcome to Python\"\n",
    "#  | w  | e  |   l | c   |  o  |   m   |   e  |   t    |  o   |   P   |   y  |   t  |   h  |  o  |  n  |\n",
    "#  |-15 | -14| -13 | -12 | -11 |   -10 |   -9 |   -8   |  -7  |   -6  |   -5 |   -4 |   -3 |  -2 |  -1 |  # postive index start from 0"
   ]
  },
  {
   "cell_type": "code",
   "execution_count": 45,
   "id": "aa6c4625",
   "metadata": {},
   "outputs": [
    {
     "name": "stdout",
     "output_type": "stream",
     "text": [
      "m\n"
     ]
    }
   ],
   "source": [
    "print(w[5])"
   ]
  },
  {
   "cell_type": "code",
   "execution_count": 46,
   "id": "23607bd6",
   "metadata": {},
   "outputs": [
    {
     "name": "stdout",
     "output_type": "stream",
     "text": [
      "welcome\n"
     ]
    }
   ],
   "source": [
    "print(w[0:7]) # 0to 6 only"
   ]
  },
  {
   "cell_type": "code",
   "execution_count": 47,
   "id": "189d32fc",
   "metadata": {},
   "outputs": [
    {
     "name": "stdout",
     "output_type": "stream",
     "text": [
      "wel\n"
     ]
    }
   ],
   "source": [
    "print(w[0:3])"
   ]
  },
  {
   "cell_type": "code",
   "execution_count": 48,
   "id": "cd98e99b",
   "metadata": {},
   "outputs": [
    {
     "name": "stdout",
     "output_type": "stream",
     "text": [
      "c\n",
      "lcome to Python\n",
      "we\n",
      "n\n",
      "welcome to Pytho\n",
      "wloet yhn\n",
      "nohtyP ot emoclew\n"
     ]
    }
   ],
   "source": [
    "# String Index\n",
    "print(w[3])    # Identifing the element based on index\n",
    "print(w[2:])   # Grab the remaining elements except upto the index\n",
    "print(w[:2])   # Grab the elements upto the index\n",
    "print(w[-1])   # Grab the last element\n",
    "print(w[:-1])  # Grab the elemnet except last element\n",
    "print(w[::2])  # Grab everything with 2 steps\n",
    "print(w[::-1]) # print string in backward or reverse\n"
   ]
  },
  {
   "cell_type": "code",
   "execution_count": 51,
   "id": "46581add",
   "metadata": {},
   "outputs": [
    {
     "name": "stdout",
     "output_type": "stream",
     "text": [
      "eolw\n"
     ]
    }
   ],
   "source": [
    "w=\"welcome\"\n",
    "print(w[-1:-8:-2])"
   ]
  },
  {
   "cell_type": "code",
   "execution_count": 52,
   "id": "daa192ae",
   "metadata": {},
   "outputs": [
    {
     "name": "stdout",
     "output_type": "stream",
     "text": [
      "emoclew\n"
     ]
    }
   ],
   "source": [
    "#reverse of a string\n",
    "print(w[-1::-1])"
   ]
  },
  {
   "cell_type": "markdown",
   "id": "50960325",
   "metadata": {},
   "source": [
    "## Python String function\n"
   ]
  },
  {
   "cell_type": "code",
   "execution_count": 53,
   "id": "cf8e85a2",
   "metadata": {},
   "outputs": [],
   "source": [
    "# 1. lower()\n",
    "# 2. Upper()\n",
    "# 3. title()\n",
    "# 4. capitalize()\n",
    "# 5. find()\n",
    "# 6. index()\n",
    "# 7. isalpha()\n",
    "# 8. isdigit()\n",
    "# 9. isalnum()\n"
   ]
  },
  {
   "cell_type": "code",
   "execution_count": 55,
   "id": "f6e56042",
   "metadata": {},
   "outputs": [
    {
     "name": "stdout",
     "output_type": "stream",
     "text": [
      "WELCOME TO PYTHON\n",
      "welcome to python\n",
      "Welcome To Python\n",
      "Welcome to python\n"
     ]
    }
   ],
   "source": [
    "# Example -1 \n",
    "w=\"welcome to python\"\n",
    "s=\"WELCOME TO PYTHON\"\n",
    "print(w.upper()) \n",
    "print(s.lower())\n",
    "print(w.title())\n",
    "print(w.capitalize())"
   ]
  },
  {
   "cell_type": "code",
   "execution_count": 56,
   "id": "c8751015",
   "metadata": {},
   "outputs": [
    {
     "name": "stdout",
     "output_type": "stream",
     "text": [
      "1\n",
      "6\n",
      "-1\n"
     ]
    }
   ],
   "source": [
    "# Example -2 \n",
    "w=\"welcome\"\n",
    "print(w.find('e'))\n",
    "print(w.find('e',2)) # starts from 2 index\n",
    "print(w.find('z',2)) #returns -1 if not found"
   ]
  },
  {
   "cell_type": "code",
   "execution_count": 59,
   "id": "34bd15e1",
   "metadata": {},
   "outputs": [
    {
     "name": "stdout",
     "output_type": "stream",
     "text": [
      "3\n",
      "5\n"
     ]
    }
   ],
   "source": [
    "# Example -3\n",
    "w=\"welcome\"\n",
    "print(w.index('c'))\n",
    "print(w.index('m'))"
   ]
  },
  {
   "cell_type": "code",
   "execution_count": 60,
   "id": "13b310c5",
   "metadata": {},
   "outputs": [
    {
     "name": "stdout",
     "output_type": "stream",
     "text": [
      "True\n",
      "False\n"
     ]
    }
   ],
   "source": [
    "# Example -4\n",
    "w=\"welcome\"\n",
    "s=\"welcome123\"\n",
    "print(w.isalpha())\n",
    "print(s.isalpha())"
   ]
  },
  {
   "cell_type": "code",
   "execution_count": 61,
   "id": "2b9e9a47",
   "metadata": {},
   "outputs": [
    {
     "name": "stdout",
     "output_type": "stream",
     "text": [
      "False\n",
      "False\n",
      "True\n"
     ]
    }
   ],
   "source": [
    "# Example -4\n",
    "w=\"welcome\"\n",
    "s=\"welcome123\"\n",
    "d=\"123\"\n",
    "print(w.isdigit())\n",
    "print(s.isdigit())\n",
    "print(d.isdigit())"
   ]
  },
  {
   "cell_type": "code",
   "execution_count": 63,
   "id": "9376fbde",
   "metadata": {},
   "outputs": [
    {
     "name": "stdout",
     "output_type": "stream",
     "text": [
      "True\n",
      "True\n",
      "False\n",
      "True\n",
      "False\n"
     ]
    }
   ],
   "source": [
    "# Example -5\n",
    "w=\"welcome123\"\n",
    "s1=\"welcome\"\n",
    "s2=\"welcome@123\"\n",
    "s3=\"123\"\n",
    "s4=\"welcome to\"\n",
    "print(w.isalnum())\n",
    "print(s1.isalnum())\n",
    "print(s2.isalnum())\n",
    "print(s3.isalnum())\n",
    "print(s4.isalnum())"
   ]
  },
  {
   "cell_type": "code",
   "execution_count": 65,
   "id": "ea6b4138",
   "metadata": {},
   "outputs": [
    {
     "name": "stdout",
     "output_type": "stream",
     "text": [
      "['welcome', 'to', 'python']\n",
      "welcome\n",
      "to\n",
      "python\n"
     ]
    }
   ],
   "source": [
    "# split()\n",
    "a=\"welcome to python\"\n",
    "b=a.split()  # splitting string\n",
    "print(b)\n",
    "print(b[0]) # printing the splitting string based on index\n",
    "print(b[1]) # printing the splitting string based on index\n",
    "print(b[2]) # printing the splitting string based on index"
   ]
  },
  {
   "cell_type": "code",
   "execution_count": 67,
   "id": "b8a9fd60",
   "metadata": {},
   "outputs": [
    {
     "name": "stdout",
     "output_type": "stream",
     "text": [
      "['ElonMusk', 'Stevejobs', 'Billgates']\n",
      "ElonMusk\n"
     ]
    }
   ],
   "source": [
    "c=\"ElonMusk,Stevejobs,Billgates\"\n",
    "d=c.split(\",\")   #splitting string basedon delimitter here it is ,\n",
    "print(d)\n",
    "print(d[0])"
   ]
  },
  {
   "cell_type": "code",
   "execution_count": 68,
   "id": "c216c432",
   "metadata": {},
   "outputs": [
    {
     "name": "stdout",
     "output_type": "stream",
     "text": [
      "['ElonMusk', 'Stevejobs', 'Billgates']\n",
      "ElonMusk\n"
     ]
    }
   ],
   "source": [
    "c=\"ElonMusk Stevejobs Billgates\"\n",
    "d=c.split(\" \")   #splitting string basedon delimitter here it is space\n",
    "print(d)\n",
    "print(d[0])"
   ]
  },
  {
   "cell_type": "code",
   "execution_count": 69,
   "id": "1a75487b",
   "metadata": {},
   "outputs": [
    {
     "name": "stdout",
     "output_type": "stream",
     "text": [
      "['ElonMusk', 'Stevejobs', 'Billgates']\n",
      "ElonMusk\n"
     ]
    }
   ],
   "source": [
    "c=\"ElonMusk;Stevejobs;Billgates\"\n",
    "d=c.split(\";\")   #splitting string basedon delimitter here it is ,\n",
    "print(d)\n",
    "print(d[0])"
   ]
  },
  {
   "cell_type": "code",
   "execution_count": 71,
   "id": "0c3ac54b",
   "metadata": {},
   "outputs": [
    {
     "name": "stdout",
     "output_type": "stream",
     "text": [
      "welcome to python  Syed Imran !\n"
     ]
    }
   ],
   "source": [
    "a=\"Syed Imran\"\n",
    "print(f\"welcome to python  {a} !\")  #formatting string literals"
   ]
  },
  {
   "cell_type": "code",
   "execution_count": 75,
   "id": "ec03648f",
   "metadata": {},
   "outputs": [
    {
     "data": {
      "text/plain": [
       "'Hi How are you\\n I am Fine\\n How about you'"
      ]
     },
     "execution_count": 75,
     "metadata": {},
     "output_type": "execute_result"
    }
   ],
   "source": [
    "# Concate string to particular variable\n",
    "prompt = \"Hi How are you\"\n",
    "prompt += \"\\n I am Fine\"\n",
    "prompt += \"\\n How about you\"\n",
    "prompt\n"
   ]
  },
  {
   "cell_type": "code",
   "execution_count": 76,
   "id": "a37c70fa",
   "metadata": {},
   "outputs": [
    {
     "name": "stdout",
     "output_type": "stream",
     "text": [
      "Hi How are you\n",
      " I am Fine\n",
      " How about you\n"
     ]
    }
   ],
   "source": [
    "print(prompt)"
   ]
  },
  {
   "cell_type": "code",
   "execution_count": 2,
   "id": "00be4816",
   "metadata": {},
   "outputs": [
    {
     "ename": "SyntaxError",
     "evalue": "invalid syntax (<ipython-input-2-574cc451d346>, line 1)",
     "output_type": "error",
     "traceback": [
      "\u001b[1;36m  File \u001b[1;32m\"<ipython-input-2-574cc451d346>\"\u001b[1;36m, line \u001b[1;32m1\u001b[0m\n\u001b[1;33m    text='let's learn python'  #error becoz single quotion\u001b[0m\n\u001b[1;37m              ^\u001b[0m\n\u001b[1;31mSyntaxError\u001b[0m\u001b[1;31m:\u001b[0m invalid syntax\n"
     ]
    }
   ],
   "source": [
    "text='let's learn python'  #error becoz single quotion\n"
   ]
  },
  {
   "cell_type": "code",
   "execution_count": 6,
   "id": "b4501a12",
   "metadata": {},
   "outputs": [
    {
     "data": {
      "text/plain": [
       "\"let's learn python\""
      ]
     },
     "execution_count": 6,
     "metadata": {},
     "output_type": "execute_result"
    }
   ],
   "source": [
    "text1=\"let's learn python\"\n",
    "text1\n"
   ]
  },
  {
   "cell_type": "code",
   "execution_count": 7,
   "id": "83d60db9",
   "metadata": {},
   "outputs": [
    {
     "data": {
      "text/plain": [
       "'hello \"world\"'"
      ]
     },
     "execution_count": 7,
     "metadata": {},
     "output_type": "execute_result"
    }
   ],
   "source": [
    "text='hello \"world\"'\n",
    "text"
   ]
  },
  {
   "cell_type": "code",
   "execution_count": 8,
   "id": "55629748",
   "metadata": {},
   "outputs": [
    {
     "ename": "TypeError",
     "evalue": "can only concatenate str (not \"int\") to str",
     "output_type": "error",
     "traceback": [
      "\u001b[1;31m---------------------------------------------------------------------------\u001b[0m",
      "\u001b[1;31mTypeError\u001b[0m                                 Traceback (most recent call last)",
      "\u001b[1;32m<ipython-input-8-86f808de4612>\u001b[0m in \u001b[0;36m<module>\u001b[1;34m\u001b[0m\n\u001b[0;32m      1\u001b[0m \u001b[0ms\u001b[0m\u001b[1;33m=\u001b[0m\u001b[1;34m\"total states in USA #\"\u001b[0m\u001b[1;33m\u001b[0m\u001b[1;33m\u001b[0m\u001b[0m\n\u001b[0;32m      2\u001b[0m \u001b[0mnum\u001b[0m\u001b[1;33m=\u001b[0m\u001b[1;36m25\u001b[0m\u001b[1;33m\u001b[0m\u001b[1;33m\u001b[0m\u001b[0m\n\u001b[1;32m----> 3\u001b[1;33m \u001b[0ms\u001b[0m\u001b[1;33m+\u001b[0m\u001b[0mnum\u001b[0m  \u001b[1;31m#error as str and num cannot be concatenated so we need to convert num as string\u001b[0m\u001b[1;33m\u001b[0m\u001b[1;33m\u001b[0m\u001b[0m\n\u001b[0m",
      "\u001b[1;31mTypeError\u001b[0m: can only concatenate str (not \"int\") to str"
     ]
    }
   ],
   "source": [
    "s=\"total states in USA #\"\n",
    "num=25\n",
    "s+num  #error as str and num cannot be concatenated so we need to convert num as string"
   ]
  },
  {
   "cell_type": "code",
   "execution_count": 12,
   "id": "6dae578f",
   "metadata": {},
   "outputs": [
    {
     "data": {
      "text/plain": [
       "'total states in USA # 25'"
      ]
     },
     "execution_count": 12,
     "metadata": {},
     "output_type": "execute_result"
    }
   ],
   "source": [
    "s=\"total states in USA # \"\n",
    "num=25\n",
    "s+str(num)  #convert num as string"
   ]
  },
  {
   "cell_type": "markdown",
   "id": "a8a8a285",
   "metadata": {},
   "source": [
    "## List "
   ]
  },
  {
   "cell_type": "code",
   "execution_count": 78,
   "id": "72f6aa40",
   "metadata": {},
   "outputs": [],
   "source": [
    "#    1. List is an ordered sequence of items\n",
    "#    2. It is one of the most used datatype in python and is very flexiable\n",
    "#    3. Define in square braces []\n",
    "#    4. Mutable dataype'''"
   ]
  },
  {
   "cell_type": "code",
   "execution_count": 80,
   "id": "6308b4b9",
   "metadata": {},
   "outputs": [
    {
     "name": "stdout",
     "output_type": "stream",
     "text": [
      "[10, 20, 'python']\n",
      "<class 'list'>\n"
     ]
    }
   ],
   "source": [
    "# Example -1 \n",
    "a=[10,20,'python']\n",
    "print(a)\n",
    "print(type(a))"
   ]
  },
  {
   "cell_type": "code",
   "execution_count": 81,
   "id": "25e2f78f",
   "metadata": {},
   "outputs": [
    {
     "name": "stdout",
     "output_type": "stream",
     "text": [
      "[10, 'python', 5.2] <class 'list'>\n"
     ]
    }
   ],
   "source": [
    "l=[10,'python',5.2]\n",
    "print(l,type(l))"
   ]
  },
  {
   "cell_type": "code",
   "execution_count": 82,
   "id": "1cce0f19",
   "metadata": {},
   "outputs": [
    {
     "name": "stdout",
     "output_type": "stream",
     "text": [
      "[10, 'python', 10] <class 'list'>\n"
     ]
    }
   ],
   "source": [
    "l[2]=10           #can be changed \n",
    "print(l,type(l))"
   ]
  },
  {
   "cell_type": "code",
   "execution_count": 83,
   "id": "13108c3a",
   "metadata": {},
   "outputs": [
    {
     "name": "stdout",
     "output_type": "stream",
     "text": [
      "[1, 2, 3, 4, 5] ['champ', 22, 88.1]\n",
      "5\n",
      "champ\n",
      "[2, 3, 4, 5]\n",
      "[1, 2]\n",
      "[1, 2, 3, 4, 5, 'champ', 22, 88.1]\n"
     ]
    }
   ],
   "source": [
    "a=[1,2,3,4,5]\n",
    "b=[\"champ\",22,88.1]\n",
    "print(a,b)\n",
    "print(len(a))  # length of list\n",
    "print(b[0])    # locate list element based on index\n",
    "print(a[1:])   # print element except 1st\n",
    "print(a[:2])   # print element upto 2nd element\n",
    "print(a+b)     # concatenate 2 list"
   ]
  },
  {
   "cell_type": "markdown",
   "id": "9305277f",
   "metadata": {},
   "source": [
    "## Append List"
   ]
  },
  {
   "cell_type": "code",
   "execution_count": 85,
   "id": "8af5e388",
   "metadata": {},
   "outputs": [
    {
     "name": "stdout",
     "output_type": "stream",
     "text": [
      "[1, 2, 3, 4, 5, 6]\n",
      "[1, 2, 3, 4, 5, 6, 'python']\n"
     ]
    }
   ],
   "source": [
    "a=[1,2,3,4,5]\n",
    "a.append(6)    #inserting new element to the existing list\n",
    "print(a)\n",
    "a.append('python')\n",
    "print(a)"
   ]
  },
  {
   "cell_type": "code",
   "execution_count": 86,
   "id": "b3a4887d",
   "metadata": {},
   "outputs": [
    {
     "data": {
      "text/plain": [
       "[6, 5, 4, 3, 2, 1]"
      ]
     },
     "execution_count": 86,
     "metadata": {},
     "output_type": "execute_result"
    }
   ],
   "source": [
    "# Reverse List\n",
    "a=[1,2,3,4,5,6]\n",
    "a.reverse()  # reverse list\n",
    "a"
   ]
  },
  {
   "cell_type": "code",
   "execution_count": 16,
   "id": "a2732c5b",
   "metadata": {},
   "outputs": [
    {
     "data": {
      "text/plain": [
       "'C:\\\\Users\\\\hp'"
      ]
     },
     "execution_count": 16,
     "metadata": {},
     "output_type": "execute_result"
    }
   ],
   "source": [
    "import os\n",
    "os.getcwd()"
   ]
  },
  {
   "cell_type": "code",
   "execution_count": null,
   "id": "d38f64d9",
   "metadata": {},
   "outputs": [],
   "source": []
  }
 ],
 "metadata": {
  "kernelspec": {
   "display_name": "Python 3",
   "language": "python",
   "name": "python3"
  },
  "language_info": {
   "codemirror_mode": {
    "name": "ipython",
    "version": 3
   },
   "file_extension": ".py",
   "mimetype": "text/x-python",
   "name": "python",
   "nbconvert_exporter": "python",
   "pygments_lexer": "ipython3",
   "version": "3.8.8"
  }
 },
 "nbformat": 4,
 "nbformat_minor": 5
}
