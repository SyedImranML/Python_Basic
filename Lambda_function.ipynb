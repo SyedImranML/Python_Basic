{
  "nbformat": 4,
  "nbformat_minor": 0,
  "metadata": {
    "colab": {
      "provenance": [],
      "authorship_tag": "ABX9TyONWGzGedUn0VP1P0G+Unq6",
      "include_colab_link": true
    },
    "kernelspec": {
      "name": "python3",
      "display_name": "Python 3"
    },
    "language_info": {
      "name": "python"
    }
  },
  "cells": [
    {
      "cell_type": "markdown",
      "metadata": {
        "id": "view-in-github",
        "colab_type": "text"
      },
      "source": [
        "<a href=\"https://colab.research.google.com/github/SyedImranML/Python_Basic/blob/main/Lambda_function.ipynb\" target=\"_parent\"><img src=\"https://colab.research.google.com/assets/colab-badge.svg\" alt=\"Open In Colab\"/></a>"
      ]
    },
    {
      "cell_type": "code",
      "execution_count": null,
      "metadata": {
        "colab": {
          "base_uri": "https://localhost:8080/"
        },
        "id": "oTXb_pqPmlFw",
        "outputId": "0f8e699b-d957-4b42-c8ca-63612f5d1510"
      },
      "outputs": [
        {
          "output_type": "execute_result",
          "data": {
            "text/plain": [
              "7"
            ]
          },
          "metadata": {},
          "execution_count": 1
        }
      ],
      "source": [
        "(lambda x,y:x+y)(3,4)"
      ]
    },
    {
      "cell_type": "markdown",
      "source": [
        "#### Immediately invoke the function expression"
      ],
      "metadata": {
        "id": "BCV9US_NnwkG"
      }
    },
    {
      "cell_type": "code",
      "source": [
        "(lambda x,y:x*y)(30,5)"
      ],
      "metadata": {
        "colab": {
          "base_uri": "https://localhost:8080/"
        },
        "id": "Z0StQVRvnD-r",
        "outputId": "a90564b6-87d1-46b0-c4b6-8d5b792ce945"
      },
      "execution_count": null,
      "outputs": [
        {
          "output_type": "execute_result",
          "data": {
            "text/plain": [
              "150"
            ]
          },
          "metadata": {},
          "execution_count": 2
        }
      ]
    },
    {
      "cell_type": "code",
      "source": [
        "fun_1=lambda x,y,z: x+y*z\n",
        "fun_1(10,20,30)"
      ],
      "metadata": {
        "colab": {
          "base_uri": "https://localhost:8080/"
        },
        "id": "_Guzh7TcoApV",
        "outputId": "a53b70ea-f690-4ac9-c4b5-faefac129fb6"
      },
      "execution_count": null,
      "outputs": [
        {
          "output_type": "execute_result",
          "data": {
            "text/plain": [
              "610"
            ]
          },
          "metadata": {},
          "execution_count": 3
        }
      ]
    },
    {
      "cell_type": "code",
      "source": [
        "prices = [100,200,300,400,500]\n",
        "apply_discount = lambda prices : prices*0.9\n",
        "final_prices=map(apply_discount,prices)                 # map() apply all lambda function to all the prices in my list\n",
        "print('Price Before Discount :',prices)\n",
        "print('Price After Discount :',list(final_prices))"
      ],
      "metadata": {
        "colab": {
          "base_uri": "https://localhost:8080/"
        },
        "id": "51Q4INOWr-id",
        "outputId": "305e1ec0-4203-40a4-9c8d-f226078ae00d"
      },
      "execution_count": null,
      "outputs": [
        {
          "output_type": "stream",
          "name": "stdout",
          "text": [
            "Price Before Discount : [100, 200, 300, 400, 500]\n",
            "Price After Discount : [90.0, 180.0, 270.0, 360.0, 450.0]\n"
          ]
        }
      ]
    },
    {
      "cell_type": "code",
      "source": [
        "prices = [100,200,300,400,500]\n",
        "#apply_discount = lambda prices : prices*0.9\n",
        "final_prices=map(lambda prices : prices*0.9,prices)                 # map() apply all lambda function to all the prices in my list\n",
        "print('Price Before Discount :',prices)\n",
        "print('Price After Discount :',list(final_prices))"
      ],
      "metadata": {
        "colab": {
          "base_uri": "https://localhost:8080/"
        },
        "id": "NdoU1DrOx6O8",
        "outputId": "ed9484c4-6639-4f5d-cedb-d923688c8d1d"
      },
      "execution_count": null,
      "outputs": [
        {
          "output_type": "stream",
          "name": "stdout",
          "text": [
            "Price Before Discount : [100, 200, 300, 400, 500]\n",
            "Price After Discount : [90.0, 180.0, 270.0, 360.0, 450.0]\n"
          ]
        }
      ]
    },
    {
      "cell_type": "code",
      "source": [
        "def myfunc(n):\n",
        "  return len(n)\n",
        "\n",
        "x=map(myfunc,('Apple','Banana','Cherry'))\n",
        "print(list(x))"
      ],
      "metadata": {
        "colab": {
          "base_uri": "https://localhost:8080/"
        },
        "id": "BTyo-FXZvK5i",
        "outputId": "e1a74198-271c-4988-c39d-e5adf88ce679"
      },
      "execution_count": null,
      "outputs": [
        {
          "output_type": "stream",
          "name": "stdout",
          "text": [
            "[5, 6, 6]\n"
          ]
        }
      ]
    },
    {
      "cell_type": "code",
      "source": [
        "def myfunc(n):\n",
        "  return len(n)\n",
        "\n",
        "list1=['Apple','Banana','Cherry']    #map(function,iterable)\n",
        "x=map(myfunc,list1)\n",
        "print(list(x))"
      ],
      "metadata": {
        "colab": {
          "base_uri": "https://localhost:8080/"
        },
        "id": "L3qxUL1wsmTA",
        "outputId": "a619eec8-e947-4e24-cf71-043406d91cc2"
      },
      "execution_count": null,
      "outputs": [
        {
          "output_type": "stream",
          "name": "stdout",
          "text": [
            "[5, 6, 6]\n"
          ]
        }
      ]
    },
    {
      "cell_type": "code",
      "source": [
        "list1=['Apple','Banana','Cherry']\n",
        "\n",
        "len_list1 = lambda n : len(n)\n",
        "x=map(len_list1,list1)\n",
        "print(list(x))\n"
      ],
      "metadata": {
        "colab": {
          "base_uri": "https://localhost:8080/"
        },
        "id": "0BrcZlbuvzFg",
        "outputId": "988b5ca8-f79b-453d-fbf8-06f9c075e021"
      },
      "execution_count": null,
      "outputs": [
        {
          "output_type": "stream",
          "name": "stdout",
          "text": [
            "[5, 6, 6]\n"
          ]
        }
      ]
    },
    {
      "cell_type": "code",
      "source": [
        "# Multiply each number by 10\n",
        "\n",
        "list_1 = [10,29,39,579,89]\n",
        "\n",
        "mult = lambda x : x*10\n",
        "\n",
        "x=map(mult,list_1)\n",
        "print(list(x))"
      ],
      "metadata": {
        "colab": {
          "base_uri": "https://localhost:8080/"
        },
        "id": "JbMrTwRawu7X",
        "outputId": "621f72ab-8817-4ff2-e61e-b8fd2e430a75"
      },
      "execution_count": null,
      "outputs": [
        {
          "output_type": "stream",
          "name": "stdout",
          "text": [
            "[100, 290, 390, 5790, 890]\n"
          ]
        }
      ]
    },
    {
      "cell_type": "code",
      "source": [
        "list_1 = [10,29,39,579,89]\n",
        "y = filter(lambda x : x%2==0,list_1)\n",
        "print(list(y))"
      ],
      "metadata": {
        "colab": {
          "base_uri": "https://localhost:8080/"
        },
        "id": "4sNZU79v33lf",
        "outputId": "5002fd60-ac71-4b4b-c7f2-4beb07b8566f"
      },
      "execution_count": null,
      "outputs": [
        {
          "output_type": "stream",
          "name": "stdout",
          "text": [
            "[10]\n"
          ]
        }
      ]
    },
    {
      "cell_type": "code",
      "source": [
        "l1 = [10,29,39,579,89]\n",
        "l2 = [100,200,300,400,500]\n",
        "\n",
        "y = map(lambda n1,n2:n1+n2,l1,l2)\n",
        "print(list(y))"
      ],
      "metadata": {
        "colab": {
          "base_uri": "https://localhost:8080/"
        },
        "id": "ZS6vUzA34Osq",
        "outputId": "d695835c-e996-4ed6-b353-43665b1c1c4b"
      },
      "execution_count": null,
      "outputs": [
        {
          "output_type": "stream",
          "name": "stdout",
          "text": [
            "[110, 229, 339, 979, 589]\n"
          ]
        }
      ]
    },
    {
      "cell_type": "code",
      "source": [
        "l1 = [10,29,39,579,89]\n",
        "l2 = [100,200,300,400,500,900]\n",
        "\n",
        "y = map(lambda n1,n2:n1+n2,l1,l2)\n",
        "print(list(y))"
      ],
      "metadata": {
        "id": "xyWJgaET-qiI",
        "outputId": "49872b9b-8f43-45af-c113-98e3884c8801",
        "colab": {
          "base_uri": "https://localhost:8080/"
        }
      },
      "execution_count": null,
      "outputs": [
        {
          "output_type": "stream",
          "name": "stdout",
          "text": [
            "[110, 229, 339, 979, 589]\n"
          ]
        }
      ]
    }
  ]
}