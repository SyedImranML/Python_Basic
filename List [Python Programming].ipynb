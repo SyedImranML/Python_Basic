{
 "cells": [
  {
   "cell_type": "markdown",
   "id": "8353ab7b",
   "metadata": {},
   "source": [
    "## List [ Python Programming]"
   ]
  },
  {
   "cell_type": "code",
   "execution_count": 1,
   "id": "c97bb284",
   "metadata": {},
   "outputs": [],
   "source": [
    "# 1. List is an ordered sequence of items\n",
    "# 2. It is one of the most used datatype in python and is very flexible.\n",
    "# 3. Define in square braces []\n",
    "# 4. Mutable Datatype\n",
    "# 5. To reduce the number of variable we used list"
   ]
  },
  {
   "cell_type": "code",
   "execution_count": 3,
   "id": "88ac1b76",
   "metadata": {},
   "outputs": [
    {
     "data": {
      "text/plain": [
       "['Apple', 'Banana', 'Watermelon']"
      ]
     },
     "execution_count": 3,
     "metadata": {},
     "output_type": "execute_result"
    }
   ],
   "source": [
    "# Example -1 # Here every items are define indiviually in variable which is very tds\n",
    "a=\"Apple\"\n",
    "b=\"Banana\"\n",
    "c=\"Watermelon\"\n",
    "it=[\"Apple\",\"Banana\",\"Watermelon\"] # Now items are in list seperated by ,\n",
    "it\n"
   ]
  },
  {
   "cell_type": "code",
   "execution_count": 4,
   "id": "be80f488",
   "metadata": {},
   "outputs": [
    {
     "name": "stdout",
     "output_type": "stream",
     "text": [
      "['Apple', 'Banana', 'Watermelon'] <class 'list'>\n"
     ]
    }
   ],
   "source": [
    "print(it,type(it))"
   ]
  },
  {
   "cell_type": "markdown",
   "id": "99b10a2d",
   "metadata": {},
   "source": [
    "## List Allow Duplicates"
   ]
  },
  {
   "cell_type": "code",
   "execution_count": 5,
   "id": "aaab1278",
   "metadata": {},
   "outputs": [
    {
     "name": "stdout",
     "output_type": "stream",
     "text": [
      "['Apple', 'Banana', 'Watermelon', 'Banana', 'Pear']\n"
     ]
    }
   ],
   "source": [
    "my_list = [\"Apple\", \"Banana\", \"Watermelon\", \"Banana\", \"Pear\"]\n",
    "print(my_list)\n"
   ]
  },
  {
   "cell_type": "code",
   "execution_count": 6,
   "id": "e3763206",
   "metadata": {},
   "outputs": [
    {
     "name": "stdout",
     "output_type": "stream",
     "text": [
      "5\n"
     ]
    }
   ],
   "source": [
    "print(len(my_list)) #Print the number of items in the list"
   ]
  },
  {
   "cell_type": "code",
   "execution_count": 7,
   "id": "864b94ba",
   "metadata": {},
   "outputs": [
    {
     "name": "stdout",
     "output_type": "stream",
     "text": [
      "['Apple', 'Banana', 'Pear']\n",
      "[1, 5, 7, 9, 3]\n",
      "[True, False, False]\n",
      "[10, 'Python', 14.34, True]\n"
     ]
    }
   ],
   "source": [
    "# List items can be of any data type\n",
    "my_list1 = [\"Apple\", \"Banana\", \"Pear\"]\n",
    "my_list2 = [1, 5, 7, 9, 3]\n",
    "my_list3 = [True, False, False]\n",
    "my_list4 =[10,'Python',14.34,True]  # list with mixed data types\n",
    "print(my_list1)\n",
    "print(my_list2)\n",
    "print(my_list3)\n",
    "print(my_list4)"
   ]
  },
  {
   "cell_type": "code",
   "execution_count": 21,
   "id": "708dcafe",
   "metadata": {},
   "outputs": [
    {
     "name": "stdout",
     "output_type": "stream",
     "text": [
      "['apple', 'banana', 'cherry']\n"
     ]
    }
   ],
   "source": [
    "#Using the list() constructor to make a List\n",
    "my_list11 = list((\"apple\", \"banana\", \"cherry\")) # note the double round-brackets\n",
    "print(my_list11)"
   ]
  },
  {
   "cell_type": "code",
   "execution_count": 22,
   "id": "39dc93a3",
   "metadata": {},
   "outputs": [
    {
     "data": {
      "text/plain": [
       "list"
      ]
     },
     "execution_count": 22,
     "metadata": {},
     "output_type": "execute_result"
    }
   ],
   "source": [
    "type(my_list11)"
   ]
  },
  {
   "cell_type": "code",
   "execution_count": 24,
   "id": "aa4c1cff",
   "metadata": {},
   "outputs": [
    {
     "name": "stdout",
     "output_type": "stream",
     "text": [
      "[]\n"
     ]
    }
   ],
   "source": [
    "# empty list\n",
    "my_list12 = []\n",
    "print(my_list12)\n",
    "\n"
   ]
  },
  {
   "cell_type": "code",
   "execution_count": 26,
   "id": "1ce4d6ca",
   "metadata": {},
   "outputs": [
    {
     "name": "stdout",
     "output_type": "stream",
     "text": [
      "['Computer', [8, 4, 6], ['Laptop']]\n"
     ]
    }
   ],
   "source": [
    "# A list can also have another list as an item. This is called a nested list.\n",
    "# nested list\n",
    "my_list13 = [\"Computer\", [8, 4, 6], ['Laptop']]\n",
    "print(my_list13)"
   ]
  },
  {
   "cell_type": "markdown",
   "id": "306b99bb",
   "metadata": {},
   "source": [
    "## Access List Elements"
   ]
  },
  {
   "cell_type": "code",
   "execution_count": 27,
   "id": "781d9ebd",
   "metadata": {},
   "outputs": [],
   "source": [
    "# There are various ways in which we can access the elements of a list.\n",
    "# We can use the index operator [] to access an item in a list. In Python, indices start at 0.\n"
   ]
  },
  {
   "cell_type": "code",
   "execution_count": 32,
   "id": "fb7a61ed",
   "metadata": {},
   "outputs": [
    {
     "name": "stdout",
     "output_type": "stream",
     "text": [
      "P\n",
      "t\n",
      "o\n",
      "\n",
      "p\n",
      "6\n"
     ]
    }
   ],
   "source": [
    "# Example -1 \n",
    "# List indexing\n",
    "\n",
    "my_list = ['P', 'y', 't', 'h', 'o','n']\n",
    "\n",
    "print(my_list[0])  \n",
    "print(my_list[2])  \n",
    "print(my_list[4]) \n",
    "\n",
    "print()\n",
    "# Nested List\n",
    "n_list = [\"Computer\", [8, 4, 6], ['Laptop']]\n",
    "\n",
    "# Nested indexing\n",
    "print(n_list[0][3])\n",
    "print(n_list[1][2])\n",
    "\n"
   ]
  },
  {
   "cell_type": "code",
   "execution_count": 33,
   "id": "8ce8007f",
   "metadata": {},
   "outputs": [
    {
     "ename": "TypeError",
     "evalue": "list indices must be integers or slices, not float",
     "output_type": "error",
     "traceback": [
      "\u001b[1;31m---------------------------------------------------------------------------\u001b[0m",
      "\u001b[1;31mTypeError\u001b[0m                                 Traceback (most recent call last)",
      "\u001b[1;32m<ipython-input-33-b36699f2f7b3>\u001b[0m in \u001b[0;36m<module>\u001b[1;34m\u001b[0m\n\u001b[0;32m      1\u001b[0m \u001b[1;31m# Error! Only integer can be used for indexing\u001b[0m\u001b[1;33m\u001b[0m\u001b[1;33m\u001b[0m\u001b[1;33m\u001b[0m\u001b[0m\n\u001b[1;32m----> 2\u001b[1;33m \u001b[0mprint\u001b[0m\u001b[1;33m(\u001b[0m\u001b[0mmy_list\u001b[0m\u001b[1;33m[\u001b[0m\u001b[1;36m4.0\u001b[0m\u001b[1;33m]\u001b[0m\u001b[1;33m)\u001b[0m\u001b[1;33m\u001b[0m\u001b[1;33m\u001b[0m\u001b[0m\n\u001b[0m",
      "\u001b[1;31mTypeError\u001b[0m: list indices must be integers or slices, not float"
     ]
    }
   ],
   "source": [
    "# Error! Only integer can be used for indexing\n",
    "print(my_list[4.0])"
   ]
  },
  {
   "cell_type": "markdown",
   "id": "b321eb0d",
   "metadata": {},
   "source": [
    "## Negative indexing"
   ]
  },
  {
   "cell_type": "code",
   "execution_count": 34,
   "id": "2057658d",
   "metadata": {},
   "outputs": [],
   "source": [
    "# Python allows negative indexing for its sequences.\n",
    "# The index of -1 refers to the last item, -2 to the second last item and so on.\n",
    "\n"
   ]
  },
  {
   "cell_type": "code",
   "execution_count": 35,
   "id": "29e60976",
   "metadata": {},
   "outputs": [
    {
     "name": "stdout",
     "output_type": "stream",
     "text": [
      "n\n",
      "y\n"
     ]
    }
   ],
   "source": [
    "# Negative indexing in lists\n",
    "my_list = ['P', 'y', 't', 'h', 'o','n']\n",
    "\n",
    "print(my_list[-1])\n",
    "\n",
    "print(my_list[-5])"
   ]
  },
  {
   "cell_type": "markdown",
   "id": "fe8104f8",
   "metadata": {},
   "source": [
    "## Slicing Lists"
   ]
  },
  {
   "cell_type": "code",
   "execution_count": 36,
   "id": "325f8faa",
   "metadata": {},
   "outputs": [],
   "source": [
    "# We can access a range of items in a list by using the slicing operator :(colon)."
   ]
  },
  {
   "cell_type": "code",
   "execution_count": 37,
   "id": "1308a470",
   "metadata": {},
   "outputs": [
    {
     "name": "stdout",
     "output_type": "stream",
     "text": [
      "['o', 'g', 'r']\n",
      "['p', 'r']\n",
      "['a', 'm']\n",
      "['p', 'r', 'o', 'g', 'r', 'a', 'm']\n"
     ]
    }
   ],
   "source": [
    "# List slicing in Python\n",
    "\n",
    "my_list = ['p','r','o','g','r','a','m']\n",
    "\n",
    "# includes element at index 2, 3, 4\n",
    "# excludes element at index 5\n",
    "print(my_list[2:5])\n",
    "\n",
    "# elements beginning to 4th\n",
    "print(my_list[:-5])\n",
    "\n",
    "# elements 6th to end\n",
    "print(my_list[5:])\n",
    "\n",
    "# elements beginning to end\n",
    "print(my_list[:])"
   ]
  },
  {
   "cell_type": "markdown",
   "id": "847b7b73",
   "metadata": {},
   "source": [
    "## Add/Change List Elements"
   ]
  },
  {
   "cell_type": "code",
   "execution_count": 38,
   "id": "02a6a92b",
   "metadata": {},
   "outputs": [],
   "source": [
    "# Lists are mutable, meaning their elements can be changed unlike string or tuple.\n",
    "# We can use the assignment operator = to change an item or a range of items."
   ]
  },
  {
   "cell_type": "code",
   "execution_count": 39,
   "id": "c21b8f18",
   "metadata": {},
   "outputs": [
    {
     "name": "stdout",
     "output_type": "stream",
     "text": [
      "[1, 4, 6, 8]\n",
      "[1, 3, 5, 7]\n"
     ]
    }
   ],
   "source": [
    "# Correcting mistake values in a list\n",
    "odd = [2, 4, 6, 8]\n",
    "\n",
    "# change the 1st item    \n",
    "odd[0] = 1            \n",
    "\n",
    "print(odd)\n",
    "\n",
    "# change 2nd to 4th items\n",
    "odd[1:4] = [3, 5, 7]  \n",
    "\n",
    "print(odd)                   "
   ]
  },
  {
   "cell_type": "code",
   "execution_count": 42,
   "id": "0f0466a1",
   "metadata": {},
   "outputs": [
    {
     "name": "stdout",
     "output_type": "stream",
     "text": [
      "[1, 3, 5, 7]\n",
      "[1, 3, 5, 7, 9, 11, 13]\n"
     ]
    }
   ],
   "source": [
    "# We can add one item to a list using the append() method or add several items using the extend() method.\n",
    "# Appending and Extending lists in Python\n",
    "\n",
    "odd = [1, 3, 5]\n",
    "\n",
    "odd.append(7)\n",
    "\n",
    "print(odd)\n",
    "\n",
    "odd.extend([9, 11, 13])\n",
    "\n",
    "print(odd)"
   ]
  },
  {
   "cell_type": "code",
   "execution_count": 44,
   "id": "0495ae78",
   "metadata": {},
   "outputs": [
    {
     "name": "stdout",
     "output_type": "stream",
     "text": [
      "[1, 3, 5, 9, 7, 5]\n",
      "['Imran', 'Imran', 'Imran']\n"
     ]
    }
   ],
   "source": [
    "# We can also use + operator to combine two lists. This is also called concatenation.\n",
    "# The * operator repeats a list for the given number of times.\n",
    "\n",
    "# Concatenating and repeating lists\n",
    "\n",
    "odd = [1, 3, 5]\n",
    "\n",
    "print(odd + [9, 7, 5])\n",
    "\n",
    "print([\"Imran\"] * 3)"
   ]
  },
  {
   "cell_type": "code",
   "execution_count": 47,
   "id": "02c7829f",
   "metadata": {},
   "outputs": [
    {
     "name": "stdout",
     "output_type": "stream",
     "text": [
      "[1, 2, 9, 'Imran']\n",
      "['Apple', 'Banana', 'Pear', 9]\n"
     ]
    }
   ],
   "source": [
    "# we can insert one item at a desired location by using the method insert() or insert multiple items by squeezing it into an empty slice of a list.\n",
    "\n",
    "# Demonstration of list insert() method\n",
    "\n",
    "odd = [1,2, 9]\n",
    "odd.insert(3,\"Imran\") # Here 3 is the location where Imran is place\n",
    "\n",
    "print(odd)\n",
    "\n",
    "odd = ['Apple','Banana', 9]\n",
    "odd.insert(2,\"Pear\") # Here 3 is the location where Imran is place\n",
    "\n",
    "print(odd)\n",
    "\n"
   ]
  },
  {
   "cell_type": "code",
   "execution_count": 49,
   "id": "5343045b",
   "metadata": {},
   "outputs": [
    {
     "name": "stdout",
     "output_type": "stream",
     "text": [
      "['Apple', 'Banana', 'Watermelon', 'Cheery', 9]\n"
     ]
    }
   ],
   "source": [
    "odd = ['Apple','Banana', 9]\n",
    "odd[2:2] = ['Watermelon','Cheery']\n",
    "\n",
    "print(odd)"
   ]
  },
  {
   "cell_type": "markdown",
   "id": "a31a9ca6",
   "metadata": {},
   "source": [
    "## Delete List Elements"
   ]
  },
  {
   "cell_type": "code",
   "execution_count": 50,
   "id": "d15ccffe",
   "metadata": {},
   "outputs": [],
   "source": [
    "# We can delete one or more items from a list using the Python del statement. \n",
    "# It can even delete the list entirely."
   ]
  },
  {
   "cell_type": "code",
   "execution_count": 1,
   "id": "22b3405c",
   "metadata": {},
   "outputs": [
    {
     "name": "stdout",
     "output_type": "stream",
     "text": [
      "['p', 'y', 'h', 'o', 'n']\n",
      "['p']\n"
     ]
    },
    {
     "ename": "NameError",
     "evalue": "name 'my_list' is not defined",
     "output_type": "error",
     "traceback": [
      "\u001b[1;31m---------------------------------------------------------------------------\u001b[0m",
      "\u001b[1;31mNameError\u001b[0m                                 Traceback (most recent call last)",
      "\u001b[1;32m<ipython-input-1-9729cd741e5c>\u001b[0m in \u001b[0;36m<module>\u001b[1;34m\u001b[0m\n\u001b[0;32m     17\u001b[0m \u001b[1;33m\u001b[0m\u001b[0m\n\u001b[0;32m     18\u001b[0m \u001b[1;31m# Error: List not defined\u001b[0m\u001b[1;33m\u001b[0m\u001b[1;33m\u001b[0m\u001b[1;33m\u001b[0m\u001b[0m\n\u001b[1;32m---> 19\u001b[1;33m \u001b[0mprint\u001b[0m\u001b[1;33m(\u001b[0m\u001b[0mmy_list\u001b[0m\u001b[1;33m)\u001b[0m\u001b[1;33m\u001b[0m\u001b[1;33m\u001b[0m\u001b[0m\n\u001b[0m",
      "\u001b[1;31mNameError\u001b[0m: name 'my_list' is not defined"
     ]
    }
   ],
   "source": [
    "# Deleting list items\n",
    "my_list = ['p', 'y', 't', 'h', 'o', 'n']\n",
    "\n",
    "# delete one item\n",
    "del my_list[2]\n",
    "\n",
    "print(my_list)\n",
    "\n",
    "# delete multiple items\n",
    "del my_list[1:6]\n",
    "\n",
    "print(my_list)\n",
    "\n",
    "#expected Error becoz we cannot use del to delete entire list\n",
    "# delete the entire list\n",
    "del my_list\n",
    "\n",
    "# Error: List not defined\n",
    "print(my_list)"
   ]
  },
  {
   "cell_type": "code",
   "execution_count": null,
   "id": "ae986ac1",
   "metadata": {},
   "outputs": [],
   "source": [
    "# We can use remove() to remove the given item or pop() to remove an item at the given index.\n",
    "# The pop() method removes and returns the last item if the index is not provided. \n",
    "# This helps us implement lists as stacks (first in, last out data structure).\n",
    "# And, if we have to empty the whole list, we can use the clear() method."
   ]
  },
  {
   "cell_type": "code",
   "execution_count": 59,
   "id": "da95256c",
   "metadata": {},
   "outputs": [
    {
     "name": "stdout",
     "output_type": "stream",
     "text": [
      "['y', 't', 'h', 'o', 'n']\n",
      "\n",
      "t\n",
      "['y', 'h', 'o', 'n']\n",
      "\n",
      "n\n",
      "['y', 'h', 'o']\n",
      "[]\n"
     ]
    }
   ],
   "source": [
    "my_list = ['p', 'y', 't', 'h', 'o', 'n']\n",
    "my_list.remove('p')\n",
    "\n",
    "print(my_list)\n",
    "\n",
    "print()\n",
    "\n",
    "\n",
    "print(my_list.pop(1))\n",
    "print(my_list)\n",
    "print()\n",
    "\n",
    "\n",
    "print(my_list.pop())\n",
    "print(my_list)\n",
    "\n",
    "my_list.clear()\n",
    "print(my_list)"
   ]
  },
  {
   "cell_type": "code",
   "execution_count": 60,
   "id": "f3a13cfc",
   "metadata": {},
   "outputs": [
    {
     "data": {
      "text/plain": [
       "['p', 'r', 'm']"
      ]
     },
     "execution_count": 60,
     "metadata": {},
     "output_type": "execute_result"
    }
   ],
   "source": [
    "my_list = ['p','r','o','b','l','e','m']\n",
    "my_list[2:3] = []\n",
    "my_list\n",
    "my_list[2:5] = []\n",
    "my_list\n"
   ]
  },
  {
   "cell_type": "code",
   "execution_count": 2,
   "id": "b693442f",
   "metadata": {},
   "outputs": [
    {
     "data": {
      "text/plain": [
       "['p', 'r', 'b', 'l', 'e', 'm']"
      ]
     },
     "execution_count": 2,
     "metadata": {},
     "output_type": "execute_result"
    }
   ],
   "source": [
    "my_list = ['p','r','o','b','l','e','m']\n",
    "my_list[2:3] = []\n",
    "my_list"
   ]
  },
  {
   "cell_type": "code",
   "execution_count": 3,
   "id": "d35fdff3",
   "metadata": {},
   "outputs": [
    {
     "data": {
      "text/plain": [
       "['p', 'r', 'm']"
      ]
     },
     "execution_count": 3,
     "metadata": {},
     "output_type": "execute_result"
    }
   ],
   "source": [
    "my_list[2:5] = []\n",
    "my_list"
   ]
  },
  {
   "cell_type": "code",
   "execution_count": 9,
   "id": "16f1deda",
   "metadata": {},
   "outputs": [
    {
     "data": {
      "text/plain": [
       "['h', 'o']"
      ]
     },
     "execution_count": 9,
     "metadata": {},
     "output_type": "execute_result"
    }
   ],
   "source": [
    "a=['h','e','l','l','o']\n",
    "a[1:4]=[]\n",
    "a"
   ]
  },
  {
   "cell_type": "code",
   "execution_count": 1,
   "id": "279739b7",
   "metadata": {},
   "outputs": [],
   "source": [
    "# Methods                               Descriptions\n",
    "# append()                      adds an element to the end of the list\n",
    "# extend()                      adds all elements of a list to another list\n",
    "# insert()                      inserts an item at the defined index\n",
    "# remove()                      removes an item from the list\n",
    "# pop()                         returns and removes an element at the given index\n",
    "# clear()                       removes all items from the list\n",
    "# count()                       returns the count of the number of items passed as an argument\n",
    "# "
   ]
  },
  {
   "cell_type": "code",
   "execution_count": 2,
   "id": "18bb5d38",
   "metadata": {},
   "outputs": [
    {
     "name": "stdout",
     "output_type": "stream",
     "text": [
      "[3, 8, 1, 6, 8, 8, 4, 'a']\n",
      "1\n",
      "3\n"
     ]
    }
   ],
   "source": [
    "# Example \n",
    "\n",
    "my_list = [3, 8, 1, 6, 8, 8, 4]\n",
    "\n",
    "# Add 'a' to the end\n",
    "my_list.append('a')\n",
    "\n",
    "# Output: [3, 8, 1, 6, 0, 8, 4, 'a']\n",
    "print(my_list)\n",
    "\n",
    "# Index of first occurrence of 8\n",
    "print(my_list.index(8))   # Output: 1\n",
    "\n",
    "# Count of 8 in the list\n",
    "print(my_list.count(8))  # Output: 3 "
   ]
  },
  {
   "cell_type": "code",
   "execution_count": 7,
   "id": "d1d3671e",
   "metadata": {},
   "outputs": [
    {
     "name": "stdout",
     "output_type": "stream",
     "text": [
      "0\n",
      "1\n",
      "2\n",
      "3\n",
      "4\n",
      "5\n",
      "6\n",
      "7\n",
      "8\n",
      "9\n"
     ]
    }
   ],
   "source": [
    "for x in range(10):\n",
    "    print(x)"
   ]
  },
  {
   "cell_type": "code",
   "execution_count": 9,
   "id": "b827591d",
   "metadata": {},
   "outputs": [
    {
     "name": "stdout",
     "output_type": "stream",
     "text": [
      "[0, 1, 4, 9, 16, 25, 36, 49, 64, 81]\n"
     ]
    }
   ],
   "source": [
    "# Here is an example to make a list with each item being increasing power of 2\n",
    "pow2 = [x ** 2 for x in range(10)]\n",
    "print(pow2)"
   ]
  },
  {
   "cell_type": "markdown",
   "id": "b21b8d01",
   "metadata": {},
   "source": [
    "## List Membership "
   ]
  },
  {
   "cell_type": "code",
   "execution_count": 10,
   "id": "cf50032d",
   "metadata": {},
   "outputs": [
    {
     "name": "stdout",
     "output_type": "stream",
     "text": [
      "True\n",
      "False\n",
      "True\n"
     ]
    }
   ],
   "source": [
    "my_list = ['p', 'y', 't', 'h', 'o', 'n']\n",
    "\n",
    "# Output: True\n",
    "print('p' in my_list)\n",
    "\n",
    "# Output: False\n",
    "print('a' in my_list)\n",
    "\n",
    "# Output: True\n",
    "print('c' not in my_list)"
   ]
  },
  {
   "cell_type": "markdown",
   "id": "7951c5e3",
   "metadata": {},
   "source": [
    "## Iterating Through a List"
   ]
  },
  {
   "cell_type": "code",
   "execution_count": 11,
   "id": "9600ff1c",
   "metadata": {},
   "outputs": [
    {
     "name": "stdout",
     "output_type": "stream",
     "text": [
      "I like apple\n",
      "I like banana\n",
      "I like mango\n"
     ]
    }
   ],
   "source": [
    "# Using a for loop we can iterate through each item in a list.\n",
    "\n",
    "for fruit in ['apple','banana','mango']:\n",
    "    print(\"I like\",fruit)"
   ]
  },
  {
   "cell_type": "code",
   "execution_count": 12,
   "id": "67d5fbc3",
   "metadata": {},
   "outputs": [
    {
     "name": "stdout",
     "output_type": "stream",
     "text": [
      "[1, 2, 3, 4, 5] ['Python', 21, 99.5]\n",
      "5\n",
      "Python\n",
      "[2, 3, 4, 5]\n",
      "[1, 2]\n",
      "[1, 2, 3, 4, 5, 'Python', 21, 99.5]\n"
     ]
    }
   ],
   "source": [
    "# Example \n",
    "a=[1,2,3,4,5]\n",
    "b=[\"Python\",21,99.5]\n",
    "print(a,b)\n",
    "print(len(a)) # length of list\n",
    "print(b[0])  # locate list element based on index\n",
    "print(a[1:]) \n",
    "print(a[:2])\n",
    "print(a+b) #concatenate 2 list\n"
   ]
  },
  {
   "cell_type": "code",
   "execution_count": 13,
   "id": "165a91ba",
   "metadata": {},
   "outputs": [
    {
     "name": "stdout",
     "output_type": "stream",
     "text": [
      "[5, 4, 3, 2, 1]\n"
     ]
    }
   ],
   "source": [
    "# reverse()\n",
    "a=[1,2,3,4,5]\n",
    "a.reverse()  #reverse list\n",
    "print(a)"
   ]
  },
  {
   "cell_type": "code",
   "execution_count": 14,
   "id": "bd3f0049",
   "metadata": {},
   "outputs": [
    {
     "name": "stdout",
     "output_type": "stream",
     "text": [
      "[[1, 2, 3], [4, 5, 6]]\n"
     ]
    }
   ],
   "source": [
    "# Example \n",
    "a=[1,2,3]\n",
    "b=[4,5,6]\n",
    "c=[a,b]  #Nested list Matrix\n",
    "print(c)\n"
   ]
  },
  {
   "cell_type": "code",
   "execution_count": 18,
   "id": "5a796583",
   "metadata": {},
   "outputs": [
    {
     "name": "stdout",
     "output_type": "stream",
     "text": [
      "[1, 2, 3]\n",
      "1\n",
      "2\n",
      "6\n"
     ]
    }
   ],
   "source": [
    "print(c[0])  #printing row\n",
    "print(c[0][0])\n",
    "print(c[0][1])\n",
    "print(c[1][2])"
   ]
  },
  {
   "cell_type": "code",
   "execution_count": null,
   "id": "149b6cc8",
   "metadata": {},
   "outputs": [],
   "source": []
  }
 ],
 "metadata": {
  "kernelspec": {
   "display_name": "Python 3",
   "language": "python",
   "name": "python3"
  },
  "language_info": {
   "codemirror_mode": {
    "name": "ipython",
    "version": 3
   },
   "file_extension": ".py",
   "mimetype": "text/x-python",
   "name": "python",
   "nbconvert_exporter": "python",
   "pygments_lexer": "ipython3",
   "version": "3.8.8"
  }
 },
 "nbformat": 4,
 "nbformat_minor": 5
}
