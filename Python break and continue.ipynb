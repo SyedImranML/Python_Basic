{
 "cells": [
  {
   "cell_type": "markdown",
   "id": "5729c9fa",
   "metadata": {},
   "source": [
    "# Python break and continue"
   ]
  },
  {
   "cell_type": "code",
   "execution_count": 1,
   "id": "bc722e6a",
   "metadata": {},
   "outputs": [],
   "source": [
    "# In Python, break and continue statements can alter the flow of a normal loop.\n",
    "# we wish to terminate the current iteration or even the whole loop without checking test expression.\n",
    "# The break and continue statements are used in these cases."
   ]
  },
  {
   "cell_type": "markdown",
   "id": "8208db44",
   "metadata": {},
   "source": [
    "# Python break statement"
   ]
  },
  {
   "cell_type": "code",
   "execution_count": 2,
   "id": "14765537",
   "metadata": {},
   "outputs": [],
   "source": [
    "# The break statement terminates the loop containing it."
   ]
  },
  {
   "cell_type": "code",
   "execution_count": 3,
   "id": "9d050ab9",
   "metadata": {},
   "outputs": [
    {
     "name": "stdout",
     "output_type": "stream",
     "text": [
      "s\n",
      "t\n",
      "r\n",
      "The end\n"
     ]
    }
   ],
   "source": [
    "# Example: 1  Python break\n",
    "\n",
    "# Use of break statement inside the loop\n",
    "\n",
    "for val in \"string\":\n",
    "    if val == \"i\":\n",
    "        break\n",
    "    print(val)\n",
    "\n",
    "print(\"The end\")"
   ]
  },
  {
   "cell_type": "markdown",
   "id": "51d460e1",
   "metadata": {},
   "source": [
    "# Python continue statement"
   ]
  },
  {
   "cell_type": "code",
   "execution_count": 4,
   "id": "7d40920d",
   "metadata": {},
   "outputs": [],
   "source": [
    "# The continue statement is used to skip the rest of the code inside a loop for the current iteration only. \n",
    "# Loop does not terminate but continues on with the next iteration."
   ]
  },
  {
   "cell_type": "code",
   "execution_count": 6,
   "id": "0c7b0eab",
   "metadata": {},
   "outputs": [
    {
     "name": "stdout",
     "output_type": "stream",
     "text": [
      "s\n",
      "t\n",
      "r\n",
      "n\n",
      "g\n",
      "The end\n"
     ]
    }
   ],
   "source": [
    "# Example: 2 Python continue\n",
    "\n",
    "# Program to show the use of continue statement inside loops\n",
    "\n",
    "for val in \"string\":\n",
    "    if val == \"i\":\n",
    "        continue\n",
    "    print(val)\n",
    "\n",
    "print(\"The end\")\n",
    "\n",
    "# We continue with the loop, if the string is i, not executing the rest of the block."
   ]
  },
  {
   "cell_type": "markdown",
   "id": "d052951f",
   "metadata": {},
   "source": [
    "# Python pass statement"
   ]
  },
  {
   "cell_type": "code",
   "execution_count": 7,
   "id": "81e04031",
   "metadata": {},
   "outputs": [],
   "source": [
    "# In Python programming, the pass statement is a null statement. \n",
    "# The difference between a comment and a pass statement in Python is that \n",
    "# while the interpreter ignores a comment entirely, pass is not ignored.\n",
    "# However, nothing happens when the pass is executed. It results in no operation (NOP)."
   ]
  },
  {
   "cell_type": "code",
   "execution_count": 8,
   "id": "bfef9305",
   "metadata": {},
   "outputs": [],
   "source": [
    "# We generally use it as a placeholder.\n",
    "# Syntax of pass\n",
    "#     pass"
   ]
  },
  {
   "cell_type": "code",
   "execution_count": 9,
   "id": "34cbfe0f",
   "metadata": {},
   "outputs": [],
   "source": [
    "# Example: pass Statement\n",
    "sequence = {'p', 'a', 's', 's'}\n",
    "for val in sequence:\n",
    "    pass"
   ]
  },
  {
   "cell_type": "code",
   "execution_count": 10,
   "id": "7e2cb614",
   "metadata": {},
   "outputs": [],
   "source": [
    "# We can do the same thing in an empty function or class as well.\n",
    "def function(args):\n",
    "    pass"
   ]
  },
  {
   "cell_type": "code",
   "execution_count": 11,
   "id": "7382202e",
   "metadata": {},
   "outputs": [],
   "source": [
    "class Example:\n",
    "    pass"
   ]
  },
  {
   "cell_type": "code",
   "execution_count": null,
   "id": "87e00ec5",
   "metadata": {},
   "outputs": [],
   "source": []
  }
 ],
 "metadata": {
  "kernelspec": {
   "display_name": "Python 3",
   "language": "python",
   "name": "python3"
  },
  "language_info": {
   "codemirror_mode": {
    "name": "ipython",
    "version": 3
   },
   "file_extension": ".py",
   "mimetype": "text/x-python",
   "name": "python",
   "nbconvert_exporter": "python",
   "pygments_lexer": "ipython3",
   "version": "3.8.8"
  }
 },
 "nbformat": 4,
 "nbformat_minor": 5
}
