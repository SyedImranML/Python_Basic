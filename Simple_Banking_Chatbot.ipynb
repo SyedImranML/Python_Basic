{
  "nbformat": 4,
  "nbformat_minor": 0,
  "metadata": {
    "colab": {
      "provenance": [],
      "authorship_tag": "ABX9TyNZd89yzsQjC3f4Cx4PX1NZ",
      "include_colab_link": true
    },
    "kernelspec": {
      "name": "python3",
      "display_name": "Python 3"
    },
    "language_info": {
      "name": "python"
    }
  },
  "cells": [
    {
      "cell_type": "markdown",
      "metadata": {
        "id": "view-in-github",
        "colab_type": "text"
      },
      "source": [
        "<a href=\"https://colab.research.google.com/github/SyedImranML/Python_Basic/blob/main/Simple_Banking_Chatbot.ipynb\" target=\"_parent\"><img src=\"https://colab.research.google.com/assets/colab-badge.svg\" alt=\"Open In Colab\"/></a>"
      ]
    },
    {
      "cell_type": "code",
      "execution_count": 2,
      "metadata": {
        "colab": {
          "base_uri": "https://localhost:8080/"
        },
        "id": "qQe-67bwYydg",
        "outputId": "f612d7e3-1806-41d0-ec4b-157f02de595d"
      },
      "outputs": [
        {
          "output_type": "stream",
          "name": "stdout",
          "text": [
            "Type 'exit' to stop: Hello\n",
            "You typed: Hello\n",
            "Type 'exit' to stop: exit\n",
            "Goodbye!\n"
          ]
        }
      ],
      "source": [
        "while True:                                       #while True: keeps looping indefinitely.\n",
        "    user_input = input(\"Type 'exit' to stop: \")\n",
        "    if user_input == \"exit\":\n",
        "        print(\"Goodbye!\")\n",
        "        break\n",
        "    print(\"You typed:\", user_input)"
      ]
    },
    {
      "cell_type": "code",
      "source": [
        "#Simple Banking Chatbot\n",
        "\n",
        "# Predefined responses\n",
        "responses = {\n",
        "    \"account opening\": \"Sure! You can open an account online or visit your nearest branch.\",\n",
        "    \"loans\": \"We offer home, personal, and education loans at competitive rates.\",\n",
        "    \"balance\": \"To check your balance, please log in to your online banking account.\",\n",
        "    \"atm\": \"You can find the nearest ATM using our mobile app or website.\"\n",
        "}\n",
        "\n",
        "# Infinite loop to keep the chatbot running\n",
        "while True:\n",
        "    user_input = input(\"👤 You: \").lower()\n",
        "\n",
        "    if user_input in [\"exit\", \"quit\"]:\n",
        "        print(\"🤖 Bot: Thank you for visiting. Have a nice day!\")\n",
        "        break\n",
        "\n",
        "    # Get the response or show default message\n",
        "    #responses.get(user_input, <default>) tries to fetch the response for what the user typed.\n",
        "\n",
        "    response = responses.get(\n",
        "        user_input,\n",
        "        \"I'm sorry, I didn’t understand that. You can ask about account opening, loans, balance, etc.\"\n",
        "    )\n",
        "    print(f\"🤖 Bot: {response}\")\n",
        "\n",
        "\n"
      ],
      "metadata": {
        "colab": {
          "base_uri": "https://localhost:8080/"
        },
        "id": "S7b3yyXrZFCY",
        "outputId": "12e3f747-fd6c-43e7-c4a0-ff8cc48be5e1"
      },
      "execution_count": 3,
      "outputs": [
        {
          "output_type": "stream",
          "name": "stdout",
          "text": [
            "👤 You: account opening\n",
            "🤖 Bot: Sure! You can open an account online or visit your nearest branch.\n",
            "👤 You: balance\n",
            "🤖 Bot: To check your balance, please log in to your online banking account.\n",
            "👤 You: quit\n",
            "🤖 Bot: Thank you for visiting. Have a nice day!\n"
          ]
        }
      ]
    },
    {
      "cell_type": "code",
      "source": [
        "# Initial balance\n",
        "balance = 1000.0  # Starting with ₹1000\n",
        "\n",
        "print(\"🤖 Bot: Welcome to SimpleBank! Type 'help' to see what I can do.\")\n",
        "\n",
        "while True:\n",
        "    user_input = input(\"👤 You: \").lower()\n",
        "\n",
        "    if user_input == \"help\":\n",
        "        print(\"🤖 Bot: You can type:\")\n",
        "        print(\"  - 'balance' to check your account balance\")\n",
        "        print(\"  - 'deposit' to add money to your account\")\n",
        "        print(\"  - 'withdraw' to take money out of your account\")\n",
        "        print(\"  - 'exit' to leave the chatbot\")\n",
        "\n",
        "    elif user_input == \"balance\":\n",
        "        print(f\"🤖 Bot: Your current balance is ₹{balance:.2f}\")\n",
        "\n",
        "    elif user_input == \"deposit\":\n",
        "        try:\n",
        "            amount = float(input(\"💰 Enter amount to deposit: ₹\"))\n",
        "            if amount > 0:\n",
        "                balance += amount\n",
        "                print(f\"🤖 Bot: ₹{amount:.2f} deposited. New balance is ₹{balance:.2f}\")\n",
        "            else:\n",
        "                print(\"🤖 Bot: Please enter a positive amount.\")\n",
        "        except ValueError:\n",
        "            print(\"🤖 Bot: Invalid amount entered.\")\n",
        "\n",
        "    elif user_input == \"withdraw\":\n",
        "        try:\n",
        "            amount = float(input(\"💸 Enter amount to withdraw: ₹\"))\n",
        "            if amount > 0:\n",
        "                if amount <= balance:\n",
        "                    balance -= amount\n",
        "                    print(f\"🤖 Bot: ₹{amount:.2f} withdrawn. New balance is ₹{balance:.2f}\")\n",
        "                else:\n",
        "                    print(\"🤖 Bot: Insufficient balance.\")\n",
        "            else:\n",
        "                print(\"🤖 Bot: Please enter a positive amount.\")\n",
        "        except ValueError:\n",
        "            print(\"🤖 Bot: Invalid amount entered.\")\n",
        "\n",
        "    elif user_input in [\"exit\", \"quit\"]:\n",
        "        print(\"🤖 Bot: Thank you for banking with us. Goodbye!\")\n",
        "        break\n",
        "\n",
        "    else:\n",
        "        print(\"🤖 Bot: Sorry, I didn’t understand that. Type 'help' for options.\")\n"
      ],
      "metadata": {
        "colab": {
          "base_uri": "https://localhost:8080/"
        },
        "id": "WcCtswIOaqyB",
        "outputId": "bf1e923e-8fe5-4b64-a139-94bafcad9026"
      },
      "execution_count": 6,
      "outputs": [
        {
          "output_type": "stream",
          "name": "stdout",
          "text": [
            "🤖 Bot: Welcome to SimpleBank! Type 'help' to see what I can do.\n",
            "👤 You: help\n",
            "🤖 Bot: You can type:\n",
            "  - 'balance' to check your account balance\n",
            "  - 'deposit' to add money to your account\n",
            "  - 'withdraw' to take money out of your account\n",
            "  - 'exit' to leave the chatbot\n",
            "👤 You: balance\n",
            "🤖 Bot: Your current balance is ₹1000.00\n",
            "👤 You: quit\n",
            "🤖 Bot: Thank you for banking with us. Goodbye!\n"
          ]
        }
      ]
    }
  ]
}