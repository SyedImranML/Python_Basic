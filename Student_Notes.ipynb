{
  "cells": [
    {
      "cell_type": "markdown",
      "metadata": {
        "id": "view-in-github",
        "colab_type": "text"
      },
      "source": [
        "<a href=\"https://colab.research.google.com/github/SyedImranML/Python_Basic/blob/main/Student_Notes.ipynb\" target=\"_parent\"><img src=\"https://colab.research.google.com/assets/colab-badge.svg\" alt=\"Open In Colab\"/></a>"
      ]
    },
    {
      "cell_type": "markdown",
      "id": "b4c6023b",
      "metadata": {
        "id": "b4c6023b"
      },
      "source": [
        "## 01 - Introduction to Numpy\n",
        "\n",
        "NumPy (Numerical Python) is a powerful library for numerical computing in Python. It provides support for large, multi-dimensional arrays and matrices, along with a collection of mathematical functions to operate on these arrays efficiently. There are several reasons why you should consider using NumPy in your Python projects:\n",
        "\n",
        "1. NumPy provides fast and efficient operations on large arrays and matrices.\n",
        "2. It offers a wide range of mathematical functions for numerical computations.\n",
        "3. NumPy's multi-dimensional arrays enable efficient storage and manipulation of data.\n",
        "4. Broadcasting allows for efficient operations on arrays with different shapes.\n",
        "5. NumPy integrates seamlessly with other scientific libraries, expanding its capabilities.\n",
        "6. It provides advanced indexing and slicing options for data extraction and manipulation.\n",
        "7. NumPy's optimized C code delivers high-performance computing compared to Python lists.\n",
        "8. The library offers tools for file input/output and data persistence.\n",
        "9. NumPy is widely used and has extensive community support, ensuring its reliability and resources.\n",
        "10. It serves as a foundation for many scientific and data analysis tasks in Python.\n",
        "\n",
        "Don't worry if these reasons don't make enough sense to you at this point. You will learn all of these features very soon in the upcoming sections."
      ]
    },
    {
      "cell_type": "markdown",
      "id": "f37ed112",
      "metadata": {
        "id": "f37ed112"
      },
      "source": [
        "### 01.1 - How to use 'Numpy'?\n",
        "\n",
        "To use NumPy in your Python code, you need to follow these steps:\n",
        "\n",
        "1. **Install NumPy:** If you haven't already installed NumPy, you can use pip, the Python package installer, by running the command `pip install numpy` in your terminal or command prompt.\n",
        "\n",
        "2. **Import NumPy:** Once NumPy is installed, you need to import it into your Python script using the import statement as shown below."
      ]
    },
    {
      "cell_type": "code",
      "execution_count": null,
      "id": "7522132c",
      "metadata": {
        "id": "7522132c"
      },
      "outputs": [],
      "source": [
        "import numpy as np"
      ]
    },
    {
      "cell_type": "markdown",
      "id": "400d67f8",
      "metadata": {
        "id": "400d67f8"
      },
      "source": [
        "### 01.2 - The Numpy Arrays\n",
        "\n",
        "The soul of Numpy is the 'Numpy Arrays'. In NumPy, an array is like a container that can hold a collection of values. It's similar to a list in Python, but with some additional benefits. Arrays can be one-dimensional (1D), two-dimensional (2D), or even three-dimensional (3D).\n",
        "\n",
        "1. **1D Arrays** can be thought of as a single row of values. For example, imagine you have a list of temperatures recorded each day for a week: [25, 26, 24, 28, 27, 25, 23]. In NumPy, you can create a 1D array to store these values and perform operations on them more efficiently.\n",
        "\n",
        "2. **2D Arrays** are like a grid or a table. You can think of them as having rows and columns, just like a spreadsheet. For instance, consider a list of students and their corresponding marks in three subjects: Math, English, and Science. You can represent this data in a 2D array, where each row represents a student and each column represents a subject. This way, you can organize and analyze the data effectively.\n",
        "\n",
        "3. **3D Arrays** add another dimension to the grid. They can be visualized as a stack of 2D arrays. For example, imagine you have a collection of grayscale images, where each image is a 2D array representing pixel intensities. If you want to store multiple images, you can use a 3D array. The extra dimension allows you to stack multiple 2D images together, making it easier to process and manipulate the entire collection.\n",
        "\n",
        "Now, let's discuss the concept of **axes** in NumPy arrays. Each dimension of an array is called an axis. In a 2D array, the first axis refers to the rows, and the second axis refers to the columns.\n",
        "\n",
        "To illustrate this, imagine you have a 2D array representing a grid of numbers, where rows represent different stores, and columns represent the sales of different products. If you want to calculate the total sales for each store (across columns), you would sum along the axis 1 (columns). On the other hand, if you want to calculate the total sales for each product (across rows), you would sum along the axis 0 (rows).\n",
        "\n",
        "<img src=\"../img/numpy_arrays.png\" width=\"500\"></img>"
      ]
    },
    {
      "cell_type": "code",
      "execution_count": null,
      "id": "5802c81d",
      "metadata": {
        "id": "5802c81d",
        "outputId": "51b4ab20-8407-455c-d5e5-d79e6cedf997"
      },
      "outputs": [
        {
          "name": "stdout",
          "output_type": "stream",
          "text": [
            "[25 26 24 28 27 25 23]\n"
          ]
        }
      ],
      "source": [
        "### 1D Array Example\n",
        "temperatures = [25, 26, 24, 28, 27, 25, 23]\n",
        "temperatures_array = np.array(temperatures)\n",
        "print(temperatures_array)"
      ]
    },
    {
      "cell_type": "code",
      "execution_count": null,
      "id": "08269568",
      "metadata": {
        "scrolled": true,
        "id": "08269568",
        "outputId": "f86e006e-a139-4408-ab33-2a03d0984a97"
      },
      "outputs": [
        {
          "data": {
            "text/plain": [
              "numpy.ndarray"
            ]
          },
          "execution_count": 3,
          "metadata": {},
          "output_type": "execute_result"
        }
      ],
      "source": [
        "type(temperatures_array)"
      ]
    },
    {
      "cell_type": "code",
      "execution_count": null,
      "id": "4de6ea42",
      "metadata": {
        "scrolled": false,
        "id": "4de6ea42",
        "outputId": "02759afa-1b88-4a78-a1e3-426d9793dc5a"
      },
      "outputs": [
        {
          "name": "stdout",
          "output_type": "stream",
          "text": [
            "[[80 75 85]\n",
            " [90 88 92]\n",
            " [77 80 85]]\n"
          ]
        }
      ],
      "source": [
        "### 2D Array Example\n",
        "marks = [\n",
        "    [80, 75, 85],  # Marks of the first student [Math, English, Science]\n",
        "    [90, 88, 92],  # Marks of the second student [Math, English, Science]\n",
        "    [77, 80, 85],  # Marks of the third student [Math, English, Science]\n",
        "]\n",
        "marks_array = np.array(marks)\n",
        "print(marks_array)\n",
        "\n",
        "# 3x3  -2d  matrix"
      ]
    },
    {
      "cell_type": "code",
      "execution_count": null,
      "id": "bb377782",
      "metadata": {
        "id": "bb377782"
      },
      "outputs": [],
      "source": [
        "### 3D Array Example\n",
        "image1 = [\n",
        "    [100, 120, 105],\n",
        "    [115, 110, 90],\n",
        "    [90, 95, 100]\n",
        "]\n",
        "\n",
        "image2 = [\n",
        "    [80, 70, 85],\n",
        "    [95, 100, 110],\n",
        "    [105, 100, 95]\n",
        "]"
      ]
    },
    {
      "cell_type": "code",
      "execution_count": null,
      "id": "a2edd1ce",
      "metadata": {
        "id": "a2edd1ce",
        "outputId": "efa98d2a-d64f-4b7c-843a-a7ca0bea78dd"
      },
      "outputs": [
        {
          "name": "stdout",
          "output_type": "stream",
          "text": [
            "[[[100 120 105]\n",
            "  [115 110  90]\n",
            "  [ 90  95 100]]\n",
            "\n",
            " [[ 80  70  85]\n",
            "  [ 95 100 110]\n",
            "  [105 100  95]]]\n"
          ]
        }
      ],
      "source": [
        "images = [image1, image2]\n",
        "images_array = np.array(images)\n",
        "print(images_array)"
      ]
    },
    {
      "cell_type": "markdown",
      "id": "dc44e7c2",
      "metadata": {
        "id": "dc44e7c2"
      },
      "source": [
        "Let's explore the functions in NumPy that allow us to create arrays with initial placeholders.\n",
        "\n",
        "1. **np.zeros()**: This function creates an array filled with zeros. </br> Example: Suppose you want to create an array of size 5, representing the number of seats available in a row in a movie theater. You can use np.zeros() to create the array with all seats initially set to zero. </br></br>\n",
        "2. **np.ones():** This function creates an array filled with ones.</br> Example: Let's say you want to create an array to represent the number of goals scored by a football team in five matches. You can use np.ones() to create the array with all elements initially set to one.</br></br>\n",
        "3. **np.arange():** This function creates an array with a sequence of numbers. </br> Example: Imagine you need an array containing numbers from 0 to 9. You can utilize np.arange() to create the array with the desired sequence.</br></br>\n",
        "4. **np.linspace():** This function creates an array with evenly spaced values between a specified range. </br>Example: Suppose you want to create an array of 6 values ranging from 0 to 1, representing intervals of time. You can use np.linspace() to achieve this.</br></br>\n",
        "5. **np.full():** This function creates an array with all elements set to a specific value. </br> Example: Let's say you want to create an array representing the brightness levels of pixels in a grayscale image, where all pixels have an initial brightness value of 128. You can utilize np.full() to create the array with the desired value.</br></br>\n",
        "6. **np.empty():** This function creates an array without initializing its elements to any particular value. The values in the array can be arbitrary and vary each time the function is called. </br> Example: Suppose you need an array of size 4, representing the scores of participants in a competition. You can use np.empty() to create the array without initializing the values."
      ]
    },
    {
      "cell_type": "code",
      "execution_count": null,
      "id": "40f2556f",
      "metadata": {
        "id": "40f2556f",
        "outputId": "b76fba2c-5f0c-4972-c0da-dd63731281dd"
      },
      "outputs": [
        {
          "name": "stdout",
          "output_type": "stream",
          "text": [
            "[[0. 0.]\n",
            " [0. 0.]]\n"
          ]
        }
      ],
      "source": [
        "### Examples\n",
        "\n",
        "seats = np.zeros((2,2))\n",
        "print(seats)"
      ]
    },
    {
      "cell_type": "code",
      "execution_count": null,
      "id": "26dec943",
      "metadata": {
        "id": "26dec943",
        "outputId": "2b453b5f-43e6-4f03-80eb-c1c3d3ed9bc1"
      },
      "outputs": [
        {
          "name": "stdout",
          "output_type": "stream",
          "text": [
            "[1. 1. 1. 1. 1.]\n"
          ]
        }
      ],
      "source": [
        "goals = np.ones(5)\n",
        "print(goals)"
      ]
    },
    {
      "cell_type": "code",
      "execution_count": null,
      "id": "becb48f3",
      "metadata": {
        "id": "becb48f3",
        "outputId": "50ae24e6-9ac2-4161-e5ae-15f697e788fd"
      },
      "outputs": [
        {
          "name": "stdout",
          "output_type": "stream",
          "text": [
            "[0 1 2 3 4]\n"
          ]
        }
      ],
      "source": [
        "numbers = np.arange(5)\n",
        "print(numbers)\n",
        "\n",
        "# try out, do shift tab inside arange!"
      ]
    },
    {
      "cell_type": "code",
      "execution_count": null,
      "id": "9d21e4fe",
      "metadata": {
        "id": "9d21e4fe",
        "outputId": "8b8f79ff-d470-426e-98c8-d54d447c90ed"
      },
      "outputs": [
        {
          "name": "stdout",
          "output_type": "stream",
          "text": [
            "False -  [1.  1.2 1.4 1.6 1.8]\n",
            "True -  [1.   1.25 1.5  1.75 2.  ]\n"
          ]
        }
      ],
      "source": [
        "time_intervals = np.linspace(1,2,5,endpoint=False)\n",
        "time_intervals2 = np.linspace(1,2,5,endpoint=True)\n",
        "print(\"False - \", time_intervals)\n",
        "print(\"True - \", time_intervals2)"
      ]
    },
    {
      "cell_type": "code",
      "execution_count": null,
      "id": "66b49ae0",
      "metadata": {
        "id": "66b49ae0",
        "outputId": "ccb01fbe-affe-40ce-dbfa-d37715316783"
      },
      "outputs": [
        {
          "name": "stdout",
          "output_type": "stream",
          "text": [
            "False -  (array([1.  , 1.25, 1.5 , 1.75, 2.  ]), 0.25)\n"
          ]
        }
      ],
      "source": [
        "time_intervals = np.linspace(1,2,5,endpoint=True,retstep=True)\n",
        "print(\"False - \", time_intervals)"
      ]
    },
    {
      "cell_type": "code",
      "execution_count": null,
      "id": "3e25421f",
      "metadata": {
        "id": "3e25421f",
        "outputId": "4b15554e-61e9-4175-d3ac-7b434971b927"
      },
      "outputs": [
        {
          "name": "stdout",
          "output_type": "stream",
          "text": [
            "[[1 1 1]\n",
            " [1 1 1]\n",
            " [1 1 1]]\n"
          ]
        }
      ],
      "source": [
        "brightness_levels = np.full((3, 3), 1)\n",
        "print(brightness_levels)"
      ]
    },
    {
      "cell_type": "code",
      "execution_count": null,
      "id": "0cccc7d4",
      "metadata": {
        "id": "0cccc7d4",
        "outputId": "e0ad020c-50de-4536-e5be-c76f9c4b217f"
      },
      "outputs": [
        {
          "data": {
            "text/plain": [
              "array([[0.43497649, 0.16299854],\n",
              "       [0.76879016, 0.19012133]])"
            ]
          },
          "execution_count": 55,
          "metadata": {},
          "output_type": "execute_result"
        }
      ],
      "source": [
        "np.random.rand(2,2)"
      ]
    },
    {
      "cell_type": "code",
      "execution_count": null,
      "id": "5964b324",
      "metadata": {
        "id": "5964b324",
        "outputId": "53169c38-dcc4-4a50-e59b-2f3edb7341c7"
      },
      "outputs": [
        {
          "name": "stdout",
          "output_type": "stream",
          "text": [
            "[0.60633328 0.27587643 0.90135999 0.62911928]\n"
          ]
        }
      ],
      "source": [
        "scores = np.empty(4)\n",
        "print(scores)"
      ]
    },
    {
      "cell_type": "code",
      "execution_count": null,
      "id": "4b42aaab",
      "metadata": {
        "id": "4b42aaab",
        "outputId": "d4faf39c-817d-4ef0-e769-62efbd683c33"
      },
      "outputs": [
        {
          "name": "stdout",
          "output_type": "stream",
          "text": [
            "[0.60633328 0.27587643 0.90135999 0.62911928]\n"
          ]
        }
      ],
      "source": [
        "scores = np.empty(4)\n",
        "print(scores)"
      ]
    },
    {
      "cell_type": "code",
      "execution_count": null,
      "id": "df0e6609",
      "metadata": {
        "id": "df0e6609",
        "outputId": "ca74c93a-333b-4822-9548-d7bd61a48d5e"
      },
      "outputs": [
        {
          "data": {
            "text/plain": [
              "array([4.50150503, 4.95262669, 3.61837899, 2.73420123, 3.00705283,\n",
              "       2.90135709, 3.9146769 , 2.28632418, 3.29671763, 4.8109803 ])"
            ]
          },
          "execution_count": 60,
          "metadata": {},
          "output_type": "execute_result"
        }
      ],
      "source": [
        "# random value between\n",
        "np.random.uniform(2,5,10)"
      ]
    },
    {
      "cell_type": "markdown",
      "id": "b160fdc5",
      "metadata": {
        "id": "b160fdc5"
      },
      "source": [
        "The values in the output of np.empty() are not predictable and can vary each time the function is called. This is because np.empty() does not initialize the array elements to any particular value. Instead, it allocates memory for the array without setting the values explicitly.\n",
        "\n",
        "You might wonder why one would use np.empty() instead of np.zeros() or np.ones(). The reason is performance. np.empty() is faster than np.zeros() or np.ones() because it does not waste time initializing the values. It can be useful when you know you will be overwriting the array values with your own data shortly after its creation.\n",
        "\n",
        "Example: Suppose you have a simulation where you need to generate a large array and then fill it with calculated values. You can use np.empty() to create the array efficiently without wasting time initializing the elements.\n",
        "\n",
        "```py\n",
        "import numpy as np\n",
        "\n",
        "size = 1000000\n",
        "simulation_data = np.empty(size)\n",
        "# Perform calculations to fill the array with meaningful values\n",
        "# ...\n",
        "```\n",
        "\n",
        "In the example above, we create an array of size 1,000,000 using np.empty(). We then perform calculations to fill the array with meaningful values specific to our simulation. Since we will overwrite the values anyway, using np.empty() helps save unnecessary initialization time compared to np.zeros() or np.ones().\n",
        "\n",
        "It's important to note that while np.empty() can be more efficient, it leaves the array with uninitialized values, and accessing those values without proper assignment may lead to unexpected results. Therefore, it is essential to ensure you initialize or overwrite the values in the array appropriately after using np.empty().\n",
        "\n",
        "In summary, the functions np.zeros(), np.ones(), np.arange(), np.linspace(), np.full(), and np.empty() provide convenient ways to create NumPy arrays with initial placeholders."
      ]
    },
    {
      "cell_type": "markdown",
      "id": "4d059a83",
      "metadata": {
        "id": "4d059a83"
      },
      "source": [
        "### 01.3 - I/O with Numpy Arrays\n",
        "\n",
        "In NumPy, I/O refers to input/output operations that allow us to read data from external files or write data to files. NumPy provides functions for efficient I/O operations, making it easier to work with data in various formats. Let's explore why and when we might need to use NumPy I/O functions, and introduce some common ones.\n",
        "\n",
        "**Why should we use NumPy I/O?**\n",
        "\n",
        "* NumPy I/O functions provide efficient and convenient ways to read and write data in various formats, such as text files, binary files, and NumPy's own .npy format.\n",
        "* NumPy I/O functions are optimized for working with large datasets, allowing for faster processing and reduced memory consumption.\n",
        "* NumPy I/O functions seamlessly integrate with other NumPy functions, enabling smooth data manipulation and analysis workflows.\n",
        "\n",
        "**When might we need to use NumPy I/O?**\n",
        "\n",
        "* When we have large datasets that are stored in external files and we want to read them into NumPy arrays for further processing or analysis.\n",
        "* When we want to save NumPy arrays to files, either for later use or for sharing with others.\n",
        "* When we need to exchange data with other scientific computing libraries or tools that support NumPy-compatible file formats.\n",
        "\n",
        "Now, let's introduce some commonly used NumPy I/O functions along with some examples.\n",
        "\n",
        "1. **np.load()** and **np.save()**:\n",
        "- np.load() is used to load data from a .npy file into a NumPy array.\n",
        "- np.save() is used to save a NumPy array to a .npy file.\n",
        "\n",
        "2. **np.loadtxt()** and **np.savetxt()**:\n",
        "- np.loadtxt() is used to load data from a text file into a NumPy array.\n",
        "- np.savetxt() is used to save a NumPy array to a text file."
      ]
    },
    {
      "cell_type": "code",
      "execution_count": null,
      "id": "b12c7890",
      "metadata": {
        "id": "b12c7890"
      },
      "outputs": [],
      "source": [
        "student_names = np.array(['Alice', 'Bob', 'Charlie', 'David'])\n",
        "np.save('student_names.npy', student_names)\n",
        "\n",
        "loaded_names = np.load('student_names.npy')\n",
        "print(loaded_names)"
      ]
    },
    {
      "cell_type": "markdown",
      "id": "dcefff9a",
      "metadata": {
        "id": "dcefff9a"
      },
      "source": [
        "In this example, we use np.save() to save the student_names array to a file. Later, we use np.load() to load the saved array from the file and assign it to the loaded_names array.\n",
        "\n",
        "Suppose you have a text file named 'data.txt' containing comma-separated values (CSV) representing student scores:\n",
        "```\n",
        "Alice,95\n",
        "Bob,87\n",
        "Charlie,92\n",
        "David,88\n",
        "```\n"
      ]
    },
    {
      "cell_type": "code",
      "execution_count": null,
      "id": "b9d7650d",
      "metadata": {
        "id": "b9d7650d"
      },
      "outputs": [],
      "source": [
        "data = np.loadtxt('data.txt', delimiter=',', dtype=str)\n",
        "print(data)\n",
        "\n",
        "scores = np.array([95, 87, 92, 88])\n",
        "np.savetxt('scores.txt', scores, delimiter=',')"
      ]
    },
    {
      "cell_type": "markdown",
      "id": "7afa69e3",
      "metadata": {
        "id": "7afa69e3"
      },
      "source": [
        "In this example, we use np.loadtxt() to load the data from the text file 'data.txt'. We specify the delimiter as , to indicate that the values are comma-separated. The resulting NumPy array, data, contains the loaded data.\n",
        "\n",
        "We then save the scores array to a text file named 'scores.txt', with values separated by commas.\n",
        "\n",
        "In summary, NumPy provides functions like `np.load()`, `np.save()`, `np.loadtxt()`, and `np.savetxt()` to facilitate input/output operations with external files. These functions allow us to efficiently read data from files into NumPy arrays or save NumPy arrays to files, enabling seamless integration with various data formats and external tools. Whether it's loading pre-existing data or saving results for future use, NumPy I/O functions offer convenient ways to work with data in real-life scenarios.\n"
      ]
    },
    {
      "cell_type": "markdown",
      "id": "0e05c71c",
      "metadata": {
        "id": "0e05c71c"
      },
      "source": [
        "### 01.4 - Inspecting your Numpy Array\n",
        "\n",
        "When working with NumPy arrays, it's essential to inspect their properties to understand their dimensions, shape, size, and data type. Let's explore some key attributes for inspecting NumPy arrays:\n",
        "\n",
        "1. **a.shape:**\n",
        "- This attribute returns a tuple indicating the dimensions of the array.\n",
        "- The shape attribute provides the size of each dimension, indicating the number of elements along each axis."
      ]
    },
    {
      "cell_type": "code",
      "execution_count": null,
      "id": "70bdb5f9",
      "metadata": {
        "id": "70bdb5f9"
      },
      "outputs": [],
      "source": [
        "a = np.array([[1, 2, 3], [4, 5, 6]])\n",
        "print(a.shape)"
      ]
    },
    {
      "cell_type": "markdown",
      "id": "14385d2c",
      "metadata": {
        "id": "14385d2c"
      },
      "source": [
        "In this example, the NumPy array a has a shape of (2, 3), indicating that it has 2 rows and 3 columns.\n",
        "\n",
        "2. **a.ndim:**\n",
        "- This attribute returns an integer indicating the number of dimensions (axes) of the array."
      ]
    },
    {
      "cell_type": "code",
      "execution_count": null,
      "id": "0e73e16b",
      "metadata": {
        "id": "0e73e16b"
      },
      "outputs": [],
      "source": [
        "a = np.array([[1, 2, 3], [4, 5, 6]])\n",
        "print(a.ndim)"
      ]
    },
    {
      "cell_type": "markdown",
      "id": "31c52ecf",
      "metadata": {
        "id": "31c52ecf"
      },
      "source": [
        "In this example, the NumPy array a has a dimension of 2 since it is a 2-dimensional array.\n",
        "\n",
        "3. **a.size**\n",
        "- This attribute returns the total number of elements in the array."
      ]
    },
    {
      "cell_type": "code",
      "execution_count": null,
      "id": "a6c133a7",
      "metadata": {
        "id": "a6c133a7"
      },
      "outputs": [],
      "source": [
        "a = np.array([[1, 2, 3], [4, 5, 6]])\n",
        "print(a.size)"
      ]
    },
    {
      "cell_type": "markdown",
      "id": "2e51c00f",
      "metadata": {
        "id": "2e51c00f"
      },
      "source": [
        "In this example, the NumPy array a has a total of 6 elements.\n",
        "\n",
        "4. **a.dtype:**\n",
        "- This attribute returns the data type of the elements in the array.\n"
      ]
    },
    {
      "cell_type": "code",
      "execution_count": null,
      "id": "389cb77a",
      "metadata": {
        "id": "389cb77a"
      },
      "outputs": [],
      "source": [
        "a = np.array([1, 2, 3])\n",
        "print(a.dtype)"
      ]
    },
    {
      "cell_type": "markdown",
      "id": "ddaaff5d",
      "metadata": {
        "id": "ddaaff5d"
      },
      "source": [
        "In this example, the NumPy array a contains integers, and its data type is int64.\n",
        "\n",
        "Inspecting these attributes provides crucial information about the structure and content of the NumPy array. It allows us to understand the dimensions, shape, size, and data type, which are essential for performing operations, manipulating data, and ensuring compatibility with other array-based functions or libraries.\n",
        "\n",
        "<hr>"
      ]
    },
    {
      "cell_type": "code",
      "execution_count": null,
      "id": "df09ae8f",
      "metadata": {
        "id": "df09ae8f"
      },
      "outputs": [],
      "source": []
    }
  ],
  "metadata": {
    "kernelspec": {
      "display_name": "Python 3 (ipykernel)",
      "language": "python",
      "name": "python3"
    },
    "language_info": {
      "codemirror_mode": {
        "name": "ipython",
        "version": 3
      },
      "file_extension": ".py",
      "mimetype": "text/x-python",
      "name": "python",
      "nbconvert_exporter": "python",
      "pygments_lexer": "ipython3",
      "version": "3.9.7"
    },
    "colab": {
      "provenance": [],
      "include_colab_link": true
    }
  },
  "nbformat": 4,
  "nbformat_minor": 5
}