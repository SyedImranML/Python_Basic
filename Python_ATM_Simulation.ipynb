{
  "nbformat": 4,
  "nbformat_minor": 0,
  "metadata": {
    "colab": {
      "provenance": [],
      "authorship_tag": "ABX9TyPlxjhEfz9IG9dksUnf4K7W",
      "include_colab_link": true
    },
    "kernelspec": {
      "name": "python3",
      "display_name": "Python 3"
    },
    "language_info": {
      "name": "python"
    }
  },
  "cells": [
    {
      "cell_type": "markdown",
      "metadata": {
        "id": "view-in-github",
        "colab_type": "text"
      },
      "source": [
        "<a href=\"https://colab.research.google.com/github/SyedImranML/Python_Basic/blob/main/Python_ATM_Simulation.ipynb\" target=\"_parent\"><img src=\"https://colab.research.google.com/assets/colab-badge.svg\" alt=\"Open In Colab\"/></a>"
      ]
    },
    {
      "cell_type": "markdown",
      "source": [
        " Python ATM Simulation project using a menu-driven approach, where users can:\n",
        "\n",
        "* Enter their PIN\n",
        "* Check balance\n",
        "* Withdraw money\n",
        "* Exit"
      ],
      "metadata": {
        "id": "z0pM4i67_F8d"
      }
    },
    {
      "cell_type": "markdown",
      "source": [
        "**ATM Simulation in Python**"
      ],
      "metadata": {
        "id": "uiG_yNv7_Uqe"
      }
    },
    {
      "cell_type": "code",
      "execution_count": 2,
      "metadata": {
        "colab": {
          "base_uri": "https://localhost:8080/"
        },
        "id": "s896us-9_ADJ",
        "outputId": "04e23267-5ab1-4c31-b517-c642a0dc1f30"
      },
      "outputs": [
        {
          "output_type": "stream",
          "name": "stdout",
          "text": [
            "🏧 Welcome to the Python ATM Simulator\n",
            "\n",
            "📋 ATM Menu:\n",
            "1. Balance Inquiry\n",
            "2. Withdraw Money\n",
            "3. Change PIN\n",
            "4. Exit\n",
            "❌ Incorrect current PIN.\n",
            "\n",
            "📋 ATM Menu:\n",
            "1. Balance Inquiry\n",
            "2. Withdraw Money\n",
            "3. Change PIN\n",
            "4. Exit\n",
            "❌ Invalid option. Please try again.\n",
            "\n",
            "📋 ATM Menu:\n",
            "1. Balance Inquiry\n",
            "2. Withdraw Money\n",
            "3. Change PIN\n",
            "4. Exit\n",
            "✅ PIN changed successfully.\n",
            "\n",
            "📋 ATM Menu:\n",
            "1. Balance Inquiry\n",
            "2. Withdraw Money\n",
            "3. Change PIN\n",
            "4. Exit\n",
            "💰 Your current balance is ₹10000.00\n",
            "\n",
            "📋 ATM Menu:\n",
            "1. Balance Inquiry\n",
            "2. Withdraw Money\n",
            "3. Change PIN\n",
            "4. Exit\n",
            "👉 Enter your choice (1-4): 4\n",
            "🙏 Thank you for using the Python ATM. Goodbye!\n"
          ]
        }
      ],
      "source": [
        "# Dictionary to simulate ATM user data\n",
        "atm_user = {\n",
        "    \"pin\": \"1234\",  # Default PIN\n",
        "    \"balance\": 10000.0  # Initial balance\n",
        "}\n",
        "\n",
        "def check_pin():\n",
        "    \"\"\"Check if the entered PIN is correct.\"\"\"\n",
        "    entered_pin = input(\"🔐 Enter your 4-digit PIN: \")\n",
        "    if entered_pin == atm_user[\"pin\"]:\n",
        "        return True\n",
        "    else:\n",
        "        print(\"❌ Incorrect PIN!\")\n",
        "        return False\n",
        "\n",
        "def balance_inquiry():\n",
        "    \"\"\"Display the current balance.\"\"\"\n",
        "    print(f\"💰 Your current balance is ₹{atm_user['balance']:.2f}\")\n",
        "\n",
        "def withdraw_money():\n",
        "    \"\"\"Withdraw money from the ATM.\"\"\"\n",
        "    amount = float(input(\"💸 Enter amount to withdraw: ₹\"))\n",
        "    if amount <= 0:\n",
        "        print(\"❗ Enter a valid amount.\")\n",
        "    elif amount > atm_user[\"balance\"]:\n",
        "        print(\"⚠️ Insufficient balance.\")\n",
        "    else:\n",
        "        atm_user[\"balance\"] -= amount\n",
        "        print(f\"✅ Please collect your cash: ₹{amount:.2f}\")\n",
        "        balance_inquiry()\n",
        "\n",
        "def change_pin():\n",
        "    \"\"\"Change the ATM PIN.\"\"\"\n",
        "    old_pin = input(\"🔑 Enter current PIN: \")\n",
        "    if old_pin == atm_user[\"pin\"]:\n",
        "        new_pin = input(\"🔁 Enter new PIN: \")\n",
        "        confirm_pin = input(\"🔁 Confirm new PIN: \")\n",
        "        if new_pin == confirm_pin:\n",
        "            atm_user[\"pin\"] = new_pin\n",
        "            print(\"✅ PIN changed successfully.\")\n",
        "        else:\n",
        "            print(\"❌ PINs do not match.\")\n",
        "    else:\n",
        "        print(\"❌ Incorrect current PIN.\")\n",
        "\n",
        "def main():\n",
        "    print(\"🏧 Welcome to the Python ATM Simulator\")\n",
        "\n",
        "    # Authenticate user with PIN\n",
        "    if not check_pin():\n",
        "        return\n",
        "\n",
        "    while True:\n",
        "        print(\"\\n📋 ATM Menu:\")\n",
        "        print(\"1. Balance Inquiry\")\n",
        "        print(\"2. Withdraw Money\")\n",
        "        print(\"3. Change PIN\")\n",
        "        print(\"4. Exit\")\n",
        "\n",
        "        choice = input(\"👉 Enter your choice (1-4): \")\n",
        "\n",
        "        if choice == '1':\n",
        "            balance_inquiry()\n",
        "        elif choice == '2':\n",
        "            withdraw_money()\n",
        "        elif choice == '3':\n",
        "            change_pin()\n",
        "        elif choice == '4':\n",
        "            print(\"🙏 Thank you for using the Python ATM. Goodbye!\")\n",
        "            break\n",
        "        else:\n",
        "            print(\"❌ Invalid option. Please try again.\")\n",
        "\n",
        "if __name__ == \"__main__\":\n",
        "    main()\n"
      ]
    }
  ]
}