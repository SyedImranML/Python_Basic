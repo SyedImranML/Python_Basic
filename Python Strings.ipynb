{
 "cells": [
  {
   "cell_type": "markdown",
   "id": "972180d9",
   "metadata": {},
   "source": [
    "## Python Strings"
   ]
  },
  {
   "cell_type": "code",
   "execution_count": 1,
   "id": "7bc7d153",
   "metadata": {},
   "outputs": [],
   "source": [
    "# What is String in Python?\n",
    "# A string is a sequence of characters."
   ]
  },
  {
   "cell_type": "markdown",
   "id": "41635726",
   "metadata": {},
   "source": [
    "## How to create a string in Python?"
   ]
  },
  {
   "cell_type": "code",
   "execution_count": 2,
   "id": "f5a23569",
   "metadata": {},
   "outputs": [
    {
     "name": "stdout",
     "output_type": "stream",
     "text": [
      "Hello Python\n",
      "Hello Python\n",
      "Hello Python\n",
      "Hello, welcome to\n",
      "           the world of Python\n"
     ]
    }
   ],
   "source": [
    "# Strings can be created by enclosing characters inside a single quote or double-quotes.\n",
    "# Even triple quotes can be used in Python but generally used to represent multiline strings and docstrings\n",
    "\n",
    "# Defining strings in Python\n",
    "# All of the following are equivalent\n",
    "\n",
    "my_string = 'Hello Python'\n",
    "print(my_string)\n",
    "\n",
    "my_string = \"Hello Python\"\n",
    "print(my_string)\n",
    "\n",
    "my_string = '''Hello Python'''\n",
    "print(my_string)\n",
    "\n",
    "# triple quotes string can extend multiple lines\n",
    "my_string = \"\"\"Hello, welcome to\n",
    "           the world of Python\"\"\"\n",
    "print(my_string)\n"
   ]
  },
  {
   "cell_type": "markdown",
   "id": "464e8dfa",
   "metadata": {},
   "source": [
    "## How to access characters in a string?"
   ]
  },
  {
   "cell_type": "code",
   "execution_count": 1,
   "id": "0f211bdc",
   "metadata": {},
   "outputs": [],
   "source": [
    "# We can access individual characters using indexing and a range of characters using slicing.\n",
    "# Index starts from 0.\n",
    "# Trying to access a character out of index range will raise an IndexError.\n",
    "# Python allows negative indexing for its sequences.\n",
    "# The index of -1 refers to the last item, -2 to the second last item and so on.\n",
    "# We can access a range of items in a string by using the slicing operator :(colon).\n",
    "\n",
    "\n"
   ]
  },
  {
   "cell_type": "code",
   "execution_count": 5,
   "id": "09846702",
   "metadata": {},
   "outputs": [
    {
     "name": "stdout",
     "output_type": "stream",
     "text": [
      "str =  Python\n",
      "str[0] =  P\n",
      "str[-1] =  n\n",
      "str[1:5] =  ytho\n",
      "str[5:-2] =  h\n"
     ]
    }
   ],
   "source": [
    "#Accessing string characters in Python\n",
    "str = 'Python'\n",
    "print('str = ', str)\n",
    "\n",
    "#first character\n",
    "print('str[0] = ', str[0])\n",
    "\n",
    "#last character\n",
    "print('str[-1] = ', str[-1])\n",
    "\n",
    "#slicing 2nd to 5th character\n",
    "print('str[1:5] = ', str[1:5])\n",
    "\n",
    "#slicing 6th to 2nd last character\n",
    "print('str[5:-2] = ', str[3:-2])"
   ]
  },
  {
   "cell_type": "code",
   "execution_count": 6,
   "id": "5265665a",
   "metadata": {},
   "outputs": [
    {
     "ename": "SyntaxError",
     "evalue": "invalid syntax (<ipython-input-6-bc37c2667ebe>, line 7)",
     "output_type": "error",
     "traceback": [
      "\u001b[1;36m  File \u001b[1;32m\"<ipython-input-6-bc37c2667ebe>\"\u001b[1;36m, line \u001b[1;32m7\u001b[0m\n\u001b[1;33m    IndexError: string index out of range\u001b[0m\n\u001b[1;37m                       ^\u001b[0m\n\u001b[1;31mSyntaxError\u001b[0m\u001b[1;31m:\u001b[0m invalid syntax\n"
     ]
    }
   ],
   "source": [
    "# If we try to access an index out of the range or use numbers other than an integer, \n",
    "# we will get errors.\n",
    "\n",
    "# index must be in range\n",
    "str[15]  \n",
    "...\n",
    "IndexError: string index out of range\n",
    "\n",
    "\n"
   ]
  },
  {
   "cell_type": "code",
   "execution_count": 7,
   "id": "85000a87",
   "metadata": {},
   "outputs": [
    {
     "ename": "SyntaxError",
     "evalue": "invalid syntax (<ipython-input-7-eab7ff9d4a9f>, line 4)",
     "output_type": "error",
     "traceback": [
      "\u001b[1;36m  File \u001b[1;32m\"<ipython-input-7-eab7ff9d4a9f>\"\u001b[1;36m, line \u001b[1;32m4\u001b[0m\n\u001b[1;33m    TypeError: string indices must be integers\u001b[0m\n\u001b[1;37m                      ^\u001b[0m\n\u001b[1;31mSyntaxError\u001b[0m\u001b[1;31m:\u001b[0m invalid syntax\n"
     ]
    }
   ],
   "source": [
    "# index must be an integer\n",
    "str[1.5] \n",
    "...\n",
    "TypeError: string indices must be integers\n"
   ]
  },
  {
   "cell_type": "markdown",
   "id": "16850590",
   "metadata": {},
   "source": [
    "## How to change or delete a string?"
   ]
  },
  {
   "cell_type": "code",
   "execution_count": 8,
   "id": "94f832a8",
   "metadata": {},
   "outputs": [],
   "source": [
    "# Strings are immutable. \n",
    "# This means that elements of a string cannot be changed once they have been assigned. \n",
    "# We can simply reassign different strings to the same name.\n"
   ]
  },
  {
   "cell_type": "code",
   "execution_count": 9,
   "id": "a42b9fe5",
   "metadata": {},
   "outputs": [
    {
     "ename": "SyntaxError",
     "evalue": "invalid syntax (<ipython-input-9-c66575a70d89>, line 4)",
     "output_type": "error",
     "traceback": [
      "\u001b[1;36m  File \u001b[1;32m\"<ipython-input-9-c66575a70d89>\"\u001b[1;36m, line \u001b[1;32m4\u001b[0m\n\u001b[1;33m    TypeError: 'str' object does not support item assignment\u001b[0m\n\u001b[1;37m                     ^\u001b[0m\n\u001b[1;31mSyntaxError\u001b[0m\u001b[1;31m:\u001b[0m invalid syntax\n"
     ]
    }
   ],
   "source": [
    "my_str = 'Python'\n",
    "my_str[5] = 'a'\n",
    "...\n",
    "TypeError: 'str' object does not support item assignment\n"
   ]
  },
  {
   "cell_type": "code",
   "execution_count": 10,
   "id": "e95d12ef",
   "metadata": {},
   "outputs": [
    {
     "data": {
      "text/plain": [
       "'Syed Imran'"
      ]
     },
     "execution_count": 10,
     "metadata": {},
     "output_type": "execute_result"
    }
   ],
   "source": [
    "my_str = 'Syed Imran' # Reassign different strings to the same name\n",
    "my_str\n",
    "'Syed Imran'"
   ]
  },
  {
   "cell_type": "code",
   "execution_count": 11,
   "id": "06842e5b",
   "metadata": {},
   "outputs": [
    {
     "ename": "SyntaxError",
     "evalue": "invalid syntax (<ipython-input-11-f1345e165bf8>, line 6)",
     "output_type": "error",
     "traceback": [
      "\u001b[1;36m  File \u001b[1;32m\"<ipython-input-11-f1345e165bf8>\"\u001b[1;36m, line \u001b[1;32m6\u001b[0m\n\u001b[1;33m    TypeError: 'str' object doesn't support item deletion\u001b[0m\n\u001b[1;37m                     ^\u001b[0m\n\u001b[1;31mSyntaxError\u001b[0m\u001b[1;31m:\u001b[0m invalid syntax\n"
     ]
    }
   ],
   "source": [
    "# We cannot delete or remove characters from a string. \n",
    "# But deleting the string entirely is possible using the del keyword.\n",
    "\n",
    "del my_str[1]\n",
    "...\n",
    "TypeError: 'str' object doesn't support item deletion\n"
   ]
  },
  {
   "cell_type": "code",
   "execution_count": 12,
   "id": "3529a184",
   "metadata": {},
   "outputs": [
    {
     "ename": "SyntaxError",
     "evalue": "invalid syntax (<ipython-input-12-8b201ada78ec>, line 4)",
     "output_type": "error",
     "traceback": [
      "\u001b[1;36m  File \u001b[1;32m\"<ipython-input-12-8b201ada78ec>\"\u001b[1;36m, line \u001b[1;32m4\u001b[0m\n\u001b[1;33m    NameError: name 'my_string' is not defined\u001b[0m\n\u001b[1;37m                    ^\u001b[0m\n\u001b[1;31mSyntaxError\u001b[0m\u001b[1;31m:\u001b[0m invalid syntax\n"
     ]
    }
   ],
   "source": [
    "del my_str # Deleting the string entirely\n",
    "my_str\n",
    "...\n",
    "NameError: name 'my_string' is not defined\n"
   ]
  },
  {
   "cell_type": "markdown",
   "id": "8c38dc09",
   "metadata": {},
   "source": [
    "## Python String Operations"
   ]
  },
  {
   "cell_type": "code",
   "execution_count": null,
   "id": "cc350215",
   "metadata": {},
   "outputs": [],
   "source": [
    "# Concatenation of Two or More Strings\n",
    "\n",
    "# Joining of two or more strings into a single one is called concatenation.\n",
    "# The + operator does this in Python.\n",
    "# The * operator can be used to repeat the string for a given number of times.\n",
    "\n"
   ]
  },
  {
   "cell_type": "code",
   "execution_count": 14,
   "id": "124159b6",
   "metadata": {},
   "outputs": [
    {
     "name": "stdout",
     "output_type": "stream",
     "text": [
      "str1 + str2 =  Hello World!\n",
      "str1 * 3 = Hello Hello Hello \n"
     ]
    }
   ],
   "source": [
    "# Python String Operations\n",
    "\n",
    "str1 = 'Hello '\n",
    "str2 ='World!'\n",
    "\n",
    "# using +\n",
    "print('str1 + str2 = ', str1 + str2)\n",
    "\n",
    "# using *\n",
    "print('str1 * 3 =', str1 * 3)"
   ]
  },
  {
   "cell_type": "code",
   "execution_count": 16,
   "id": "ece11425",
   "metadata": {},
   "outputs": [
    {
     "data": {
      "text/plain": [
       "'Hello World!'"
      ]
     },
     "execution_count": 16,
     "metadata": {},
     "output_type": "execute_result"
    }
   ],
   "source": [
    "# two string literals together\n",
    "'Hello ''World!'\n",
    " \n",
    "\n",
    "  "
   ]
  },
  {
   "cell_type": "code",
   "execution_count": 19,
   "id": "b6e84ea8",
   "metadata": {},
   "outputs": [
    {
     "data": {
      "text/plain": [
       "'Hello World'"
      ]
     },
     "execution_count": 19,
     "metadata": {},
     "output_type": "execute_result"
    }
   ],
   "source": [
    "# using parentheses\n",
    "str = ('Hello '\n",
    "             'World')\n",
    "str\n"
   ]
  },
  {
   "cell_type": "code",
   "execution_count": 20,
   "id": "2cf7c66d",
   "metadata": {},
   "outputs": [],
   "source": [
    "# Iterating Through a string\n",
    "# We can iterate through a string using a for loop. \n",
    "# Example to count the number of 'l's in a string.\n",
    "\n"
   ]
  },
  {
   "cell_type": "code",
   "execution_count": 21,
   "id": "77b4d920",
   "metadata": {},
   "outputs": [
    {
     "name": "stdout",
     "output_type": "stream",
     "text": [
      "3 letters found\n"
     ]
    }
   ],
   "source": [
    "# Iterating through a string\n",
    "count = 0\n",
    "for letter in 'Hello World':\n",
    "    if(letter == 'l'):\n",
    "        count += 1\n",
    "print(count,'letters found')"
   ]
  },
  {
   "cell_type": "markdown",
   "id": "ffc00729",
   "metadata": {},
   "source": [
    "## String Membership"
   ]
  },
  {
   "cell_type": "code",
   "execution_count": 22,
   "id": "e55b8be3",
   "metadata": {},
   "outputs": [],
   "source": [
    "# if a substring exists within a string or not, using the keyword in "
   ]
  },
  {
   "cell_type": "code",
   "execution_count": 27,
   "id": "9de99e1c",
   "metadata": {},
   "outputs": [
    {
     "data": {
      "text/plain": [
       "True"
      ]
     },
     "execution_count": 27,
     "metadata": {},
     "output_type": "execute_result"
    }
   ],
   "source": [
    "'y' in 'Python'\n",
    "#Output : True\n",
    "\n"
   ]
  },
  {
   "cell_type": "code",
   "execution_count": 32,
   "id": "1c411618",
   "metadata": {},
   "outputs": [
    {
     "data": {
      "text/plain": [
       "False"
      ]
     },
     "execution_count": 32,
     "metadata": {},
     "output_type": "execute_result"
    }
   ],
   "source": [
    "'rl' not in 'Hello World!'\n"
   ]
  },
  {
   "cell_type": "code",
   "execution_count": 34,
   "id": "2f0b77d2",
   "metadata": {},
   "outputs": [
    {
     "data": {
      "text/plain": [
       "True"
      ]
     },
     "execution_count": 34,
     "metadata": {},
     "output_type": "execute_result"
    }
   ],
   "source": [
    "'ld' in 'Hello World!'"
   ]
  },
  {
   "cell_type": "markdown",
   "id": "ba3337dc",
   "metadata": {},
   "source": [
    "## Built-in functions to Work with Python"
   ]
  },
  {
   "cell_type": "code",
   "execution_count": 35,
   "id": "beda8e1f",
   "metadata": {},
   "outputs": [],
   "source": [
    "# Various built-in functions that work with strings as well.\n",
    "# Some of the commonly used ones are enumerate() and len(). \n",
    "# The enumerate() function returns an enumerate object. \n",
    "   # It contains the index and value of all the items in the string as pairs. \n",
    "   # This can be useful for iteration.\n",
    "\n",
    "# Similarly, len() returns the length (number of characters) of the string.\n",
    "\n"
   ]
  },
  {
   "cell_type": "code",
   "execution_count": 38,
   "id": "2294e2c2",
   "metadata": {},
   "outputs": [
    {
     "name": "stdout",
     "output_type": "stream",
     "text": [
      "list(enumerate(str) =  [(0, 'P'), (1, 'y'), (2, 't'), (3, 'h'), (4, 'o'), (5, 'n')]\n",
      "len(str) =  6\n"
     ]
    }
   ],
   "source": [
    "str = 'Python'\n",
    "\n",
    "# enumerate()\n",
    "list_enumerate = list(enumerate(str))\n",
    "print('list(enumerate(str) = ', list_enumerate)\n",
    "\n",
    "\n",
    "#character count\n",
    "print('len(str) = ', len(str))"
   ]
  },
  {
   "cell_type": "markdown",
   "id": "128bf654",
   "metadata": {},
   "source": [
    "## Python String Formatting"
   ]
  },
  {
   "cell_type": "code",
   "execution_count": 39,
   "id": "3c87e694",
   "metadata": {},
   "outputs": [],
   "source": [
    "# Escape Sequence\n",
    "\n",
    "# If we want to print a text like He said, \"What's there?\",\n",
    "# we can neither use single quotes nor double quotes. \n",
    "# This will result in a SyntaxError as the text itself contains both single and double quotes.\n",
    "\n"
   ]
  },
  {
   "cell_type": "code",
   "execution_count": 40,
   "id": "b88adce2",
   "metadata": {},
   "outputs": [
    {
     "ename": "SyntaxError",
     "evalue": "invalid syntax (<ipython-input-40-b701c8926236>, line 1)",
     "output_type": "error",
     "traceback": [
      "\u001b[1;36m  File \u001b[1;32m\"<ipython-input-40-b701c8926236>\"\u001b[1;36m, line \u001b[1;32m1\u001b[0m\n\u001b[1;33m    print(\"He said, \"What's there?\"\")\u001b[0m\n\u001b[1;37m                     ^\u001b[0m\n\u001b[1;31mSyntaxError\u001b[0m\u001b[1;31m:\u001b[0m invalid syntax\n"
     ]
    }
   ],
   "source": [
    "print(\"He said, \"What's there?\"\")\n",
    "...\n",
    "SyntaxError: invalid syntax\n",
    "      \n"
   ]
  },
  {
   "cell_type": "code",
   "execution_count": 41,
   "id": "5d4599d5",
   "metadata": {},
   "outputs": [
    {
     "ename": "SyntaxError",
     "evalue": "invalid syntax (<ipython-input-41-43a78fd6ea41>, line 1)",
     "output_type": "error",
     "traceback": [
      "\u001b[1;36m  File \u001b[1;32m\"<ipython-input-41-43a78fd6ea41>\"\u001b[1;36m, line \u001b[1;32m1\u001b[0m\n\u001b[1;33m    print('He said, \"What's there?\"')\u001b[0m\n\u001b[1;37m                          ^\u001b[0m\n\u001b[1;31mSyntaxError\u001b[0m\u001b[1;31m:\u001b[0m invalid syntax\n"
     ]
    }
   ],
   "source": [
    "print('He said, \"What's there?\"')\n",
    "...\n",
    "SyntaxError: invalid syntax"
   ]
  },
  {
   "cell_type": "code",
   "execution_count": 42,
   "id": "717fa583",
   "metadata": {},
   "outputs": [],
   "source": [
    "# One way to get around this problem is to use triple quotes. \n",
    "# otherwise , we can use escape sequences.\n",
    "# An escape sequence starts with a backslash and is interpreted\n"
   ]
  },
  {
   "cell_type": "code",
   "execution_count": 43,
   "id": "f0cadf68",
   "metadata": {},
   "outputs": [
    {
     "name": "stdout",
     "output_type": "stream",
     "text": [
      "He said, \"What's there?\"\n",
      "He said, \"What's there?\"\n",
      "He said, \"What's there?\"\n"
     ]
    }
   ],
   "source": [
    "# using triple quotes\n",
    "print('''He said, \"What's there?\"''')\n",
    "\n",
    "# escaping single quotes\n",
    "print('He said, \"What\\'s there?\"')\n",
    "\n",
    "# escaping double quotes\n",
    "print(\"He said, \\\"What's there?\\\"\")"
   ]
  },
  {
   "cell_type": "code",
   "execution_count": 52,
   "id": "34644bd2",
   "metadata": {},
   "outputs": [
    {
     "name": "stdout",
     "output_type": "stream",
     "text": [
      "C:\\Python32\\Lib\n",
      "This is printed\n",
      "in two lines\n",
      "This is HEX representation\n"
     ]
    }
   ],
   "source": [
    "print(\"C:\\\\Python32\\\\Lib\")\n",
    "\n",
    "#Output: C:\\Python32\\Lib\n",
    "\n",
    "print(\"This is printed\\nin two lines\")\n",
    "\n",
    "print(\"This is \\x48\\x45\\x58 representation\") # \\xHH\tCharacter with hexadecimal value HH\n",
    "\n",
    "\n"
   ]
  },
  {
   "cell_type": "markdown",
   "id": "4884c2f8",
   "metadata": {},
   "source": [
    "## Raw String to ignore escape sequence"
   ]
  },
  {
   "cell_type": "code",
   "execution_count": 53,
   "id": "9f2c6349",
   "metadata": {},
   "outputs": [],
   "source": [
    "# Sometimes we may wish to ignore the escape sequences inside a string. \n",
    "# To do this we can place r or R in front of the string. \n",
    "# This will imply that it is a raw string and any escape sequence inside it will be ignored."
   ]
  },
  {
   "cell_type": "code",
   "execution_count": 59,
   "id": "45bd0837",
   "metadata": {},
   "outputs": [
    {
     "name": "stdout",
     "output_type": "stream",
     "text": [
      "a\n",
      "b\n",
      "This is a  \n",
      "good example\n",
      "This is \\x61 \\ngood example\n"
     ]
    }
   ],
   "source": [
    "print('\\x61')\n",
    "print('\\x62')\n",
    "print(\"This is \\x61  \\ngood example\")\n",
    "print(r\"This is \\x61 \\ngood example\")\n"
   ]
  },
  {
   "cell_type": "markdown",
   "id": "3eb0e4d8",
   "metadata": {},
   "source": [
    "## The format() Method for Formatting Strings\n"
   ]
  },
  {
   "cell_type": "code",
   "execution_count": 60,
   "id": "eb8484e4",
   "metadata": {},
   "outputs": [],
   "source": [
    "# The format() method that is available with the string object is very versatile and powerful in formatting strings. \n",
    "# Format strings contain curly braces {} as placeholders or replacement fields which get replaced."
   ]
  },
  {
   "cell_type": "code",
   "execution_count": 64,
   "id": "8581ff1b",
   "metadata": {},
   "outputs": [
    {
     "name": "stdout",
     "output_type": "stream",
     "text": [
      "\n",
      "--- Default Order ---\n",
      "Welcome to , Syed Imran,Bill and Sean\n",
      "\n",
      "--- Positional Order ---\n",
      "Bill, John and Sean\n",
      "\n",
      "--- Keyword Order ---\n",
      "Sean, Bill and John\n"
     ]
    }
   ],
   "source": [
    "# Python string format() method\n",
    "\n",
    "# default(implicit) order\n",
    "\n",
    "default_order = \"{}, {},{} and {}\".format('Welcome to ','Syed Imran','Bill','Sean')\n",
    "print('\\n--- Default Order ---')\n",
    "print(default_order)\n",
    "\n",
    "# order using positional argument\n",
    "\n",
    "positional_order = \"{1}, {0} and {2}\".format('John','Bill','Sean')\n",
    "print('\\n--- Positional Order ---')\n",
    "print(positional_order)\n",
    "\n",
    "# order using keyword argument\n",
    "\n",
    "keyword_order = \"{s}, {b} and {j}\".format(j='John',b='Bill',s='Sean')\n",
    "print('\\n--- Keyword Order ---')\n",
    "print(keyword_order)"
   ]
  },
  {
   "cell_type": "code",
   "execution_count": 68,
   "id": "ebe74cc2",
   "metadata": {},
   "outputs": [
    {
     "data": {
      "text/plain": [
       "'Hello Syed Imran ,your balance is   230.235'"
      ]
     },
     "execution_count": 68,
     "metadata": {},
     "output_type": "execute_result"
    }
   ],
   "source": [
    "\"Hello {0},your balance is {1:9.3f}\".format(\"Syed Imran \",230.2346)"
   ]
  },
  {
   "cell_type": "code",
   "execution_count": 70,
   "id": "f5d01748",
   "metadata": {},
   "outputs": [
    {
     "name": "stdout",
     "output_type": "stream",
     "text": [
      "Hello Syed Imran, your balance is 230.2346.\n",
      "Hello Syed Imran, your balance is 230.2346.\n",
      "Hello Syed Imran, your balance is 230.2346.\n",
      "Hello Syed Imran, your balance is 230.2346.\n"
     ]
    }
   ],
   "source": [
    "# Exampe -2\n",
    "# default arguments\n",
    "print(\"Hello {}, your balance is {}.\".format(\"Syed Imran\", 230.2346))\n",
    "\n",
    "# positional arguments\n",
    "print(\"Hello {0}, your balance is {1}.\".format(\"Syed Imran\", 230.2346))\n",
    "\n",
    "# keyword arguments\n",
    "print(\"Hello {name}, your balance is {blc}.\".format(name=\"Syed Imran\", blc=230.2346))\n",
    "\n",
    "# mixed arguments\n",
    "print(\"Hello {0}, your balance is {blc}.\".format(\"Syed Imran\", blc=230.2346))"
   ]
  },
  {
   "cell_type": "code",
   "execution_count": 71,
   "id": "c353c02e",
   "metadata": {},
   "outputs": [
    {
     "name": "stdout",
     "output_type": "stream",
     "text": [
      "The number is:123\n",
      "The float number is:123.456790\n",
      "bin: 1100, oct: 14, hex: c\n"
     ]
    }
   ],
   "source": [
    "# Example 3: Simple number formatting\n",
    "\n",
    "# integer arguments\n",
    "print(\"The number is:{:d}\".format(123))\n",
    "\n",
    "# float arguments\n",
    "print(\"The float number is:{:f}\".format(123.4567898))\n",
    "\n",
    "# octal, binary and hexadecimal format\n",
    "print(\"bin: {0:b}, oct: {0:o}, hex: {0:x}\".format(12))"
   ]
  },
  {
   "cell_type": "code",
   "execution_count": 72,
   "id": "0e02b661",
   "metadata": {},
   "outputs": [
    {
     "name": "stdout",
     "output_type": "stream",
     "text": [
      "   12\n",
      "1234\n",
      "  12.235\n",
      "00012\n",
      "0012.235\n"
     ]
    }
   ],
   "source": [
    "# Example 4: Number formatting with padding for int and floats\n",
    "\n",
    "# integer numbers with minimum width\n",
    "print(\"{:5d}\".format(12))\n",
    "\n",
    "# width doesn't work for numbers longer than padding\n",
    "print(\"{:2d}\".format(1234))\n",
    "\n",
    "# padding for float numbers\n",
    "print(\"{:8.3f}\".format(12.2346))\n",
    "\n",
    "# integer numbers with minimum width filled with zeros\n",
    "print(\"{:05d}\".format(12))\n",
    "\n",
    "# padding for float numbers filled with zeros\n",
    "print(\"{:08.3f}\".format(12.2346))"
   ]
  },
  {
   "cell_type": "code",
   "execution_count": 74,
   "id": "d827fc6f",
   "metadata": {},
   "outputs": [
    {
     "name": "stdout",
     "output_type": "stream",
     "text": [
      "+12.230000 -12.230000\n",
      "12.230000 -12.230000\n",
      " 12.230000 -12.230000\n"
     ]
    }
   ],
   "source": [
    "# Example 5: Number formatting for signed numbers\n",
    "\n",
    "# show the + sign\n",
    "print(\"{:+f} {:+f}\".format(12.23, -12.23))\n",
    "\n",
    "# show the - sign only\n",
    "print(\"{:-f} {:-f}\".format(12.23, -12.23))\n",
    "\n",
    "# show space for + sign\n",
    "print(\"{: f} {: f}\".format(12.23, -12.23))"
   ]
  },
  {
   "cell_type": "code",
   "execution_count": 76,
   "id": "f37d0c50",
   "metadata": {},
   "outputs": [
    {
     "name": "stdout",
     "output_type": "stream",
     "text": [
      "   12\n",
      "  12.235  \n",
      "12000\n",
      "- 12.235\n"
     ]
    }
   ],
   "source": [
    "# Number formatting with alignment\n",
    "# The operators <, ^, > and = are used for alignment when assigned a certain width to the numbers.\n",
    "\n",
    "# Example 5: Number formatting with left, right and center alignment\n",
    "\n",
    "# integer numbers with right alignment\n",
    "print(\"{:5d}\".format(12))\n",
    "\n",
    "# float numbers with center alignment\n",
    "print(\"{:^10.3f}\".format(12.2346))\n",
    "\n",
    "# integer left alignment filled with zeros\n",
    "print(\"{:<05d}\".format(12))\n",
    "\n",
    "# float numbers with center alignment\n",
    "print(\"{:=8.3f}\".format(-12.2346))"
   ]
  },
  {
   "cell_type": "code",
   "execution_count": 82,
   "id": "baab5758",
   "metadata": {},
   "outputs": [
    {
     "name": "stdout",
     "output_type": "stream",
     "text": [
      "cat  \n",
      "  cat\n",
      " cat \n",
      "*cat*\n"
     ]
    }
   ],
   "source": [
    "# Example 6: String formatting with padding and alignment\n",
    "\n",
    "# string padding with left alignment\n",
    "print(\"{:5}\".format(\"cat\"))\n",
    "\n",
    "# string padding with right alignment\n",
    "print(\"{:>5}\".format(\"cat\"))\n",
    "\n",
    "# string padding with center alignment\n",
    "print(\"{:^5}\".format(\"cat\"))\n",
    "\n",
    "# string padding with center alignment\n",
    "# and '*' padding character\n",
    "print(\"{:*^5}\".format(\"cat\"))"
   ]
  },
  {
   "cell_type": "code",
   "execution_count": 83,
   "id": "d0c75a75",
   "metadata": {},
   "outputs": [
    {
     "name": "stdout",
     "output_type": "stream",
     "text": [
      "cat\n",
      "cat  \n",
      " cat \n"
     ]
    }
   ],
   "source": [
    "# Example 7: Truncating strings with format()\n",
    "\n",
    "# truncating strings to 3 letters\n",
    "print(\"{:.3}\".format(\"caterpillar\"))\n",
    "\n",
    "# truncating strings to 3 letters\n",
    "# and padding\n",
    "print(\"{:5.3}\".format(\"caterpillar\"))\n",
    "\n",
    "# truncating strings to 3 letters,\n",
    "# padding and center alignment\n",
    "print(\"{:^5.3}\".format(\"caterpillar\"))"
   ]
  },
  {
   "cell_type": "code",
   "execution_count": 85,
   "id": "2d5e70ee",
   "metadata": {},
   "outputs": [
    {
     "name": "stdout",
     "output_type": "stream",
     "text": [
      "Syed Imran's age is: 23\n"
     ]
    }
   ],
   "source": [
    "# Example 8: Formatting class members using format()\n",
    "\n",
    "# define Person class\n",
    "class Person:\n",
    "    age = 23\n",
    "    name = \"Syed Imran\"\n",
    "\n",
    "# format age\n",
    "print(\"{p.name}'s age is: {p.age}\".format(p=Person()))"
   ]
  },
  {
   "cell_type": "code",
   "execution_count": 87,
   "id": "a0fe8b44",
   "metadata": {},
   "outputs": [],
   "source": [
    "# In above Here Person object is passed as a keyword argument p.\n",
    "# Inside the template string, Person's name and age are accessed using .name and .age respectively.\n"
   ]
  },
  {
   "cell_type": "code",
   "execution_count": 88,
   "id": "dde72819",
   "metadata": {},
   "outputs": [
    {
     "name": "stdout",
     "output_type": "stream",
     "text": [
      "Syed Imran's age is: 23\n"
     ]
    }
   ],
   "source": [
    "# Example 9: Formatting dictionary members using format()\n",
    "\n",
    "# define Person dictionary\n",
    "person = {'age': 23, 'name': 'Syed Imran'}\n",
    "\n",
    "# format age\n",
    "print(\"{p[name]}'s age is: {p[age]}\".format(p=person))"
   ]
  },
  {
   "cell_type": "code",
   "execution_count": 89,
   "id": "c4950764",
   "metadata": {},
   "outputs": [
    {
     "name": "stdout",
     "output_type": "stream",
     "text": [
      "Syed Imran's age is: 23\n"
     ]
    }
   ],
   "source": [
    "# format dictionaries in Python using str.format(**mapping)\n",
    "# define Person dictionary\n",
    "person = {'age': 23, 'name': 'Syed Imran'}\n",
    "\n",
    "# format age\n",
    "print(\"{name}'s age is: {age}\".format(**person))"
   ]
  },
  {
   "cell_type": "code",
   "execution_count": 91,
   "id": "b3cd577f",
   "metadata": {},
   "outputs": [
    {
     "name": "stdout",
     "output_type": "stream",
     "text": [
      "It's now: 2021/11/10 13:03:32\n",
      "Real part: 1.0 and Imaginary part: 2.0\n",
      "Syed Imran's age is: 23\n"
     ]
    }
   ],
   "source": [
    "# Example 11: Type-specific formatting with format() and overriding __format__() method\n",
    "import datetime\n",
    "# datetime formatting\n",
    "date = datetime.datetime.now()\n",
    "print(\"It's now: {:%Y/%m/%d %H:%M:%S}\".format(date))\n",
    "\n",
    "# complex number formatting\n",
    "complexNumber = 1+2j\n",
    "print(\"Real part: {0.real} and Imaginary part: {0.imag}\".format(complexNumber))\n",
    "\n",
    "# custom __format__() method\n",
    "class Person:\n",
    "    def __format__(self, format):\n",
    "        if(format == 'age'):\n",
    "            return '23'\n",
    "        return 'None'\n",
    "\n",
    "print(\"Syed Imran's age is: {:age}\".format(Person()))"
   ]
  },
  {
   "cell_type": "code",
   "execution_count": null,
   "id": "f7b1517d",
   "metadata": {},
   "outputs": [],
   "source": [
    "# Here,For datetime:\n",
    "# Current datetime is passed as a positional argument to the format() method.\n",
    "# And, internally using __format__() method, format() accesses the year, month, day, hour, minutes and seconds.\n",
    "# For complex numbers:\n",
    "# 1+2j is internally converted to a ComplexNumber object.\n",
    "# Then accessing its attributes real and imag, the number is formatted.\n",
    "# Overriding __format__():\n",
    "# Like datetime, you can override your own __format__() method for custom formatting which returns age when accessed as {:age}"
   ]
  },
  {
   "cell_type": "code",
   "execution_count": 65,
   "id": "a2fd4942",
   "metadata": {},
   "outputs": [],
   "source": [
    "# The format() method can have optional format specifications. \n",
    "# They are separated from the field name using colon.\n",
    "# For example, we can left-justify <, right-justify > or center ^ a string in the given space."
   ]
  },
  {
   "cell_type": "code",
   "execution_count": null,
   "id": "6ae67f70",
   "metadata": {},
   "outputs": [],
   "source": [
    "# We can also format integers as binary, hexadecimal, etc. and floats can be rounded or displayed in the exponent format. \n",
    "# There are tons of formatting you can use. "
   ]
  }
 ],
 "metadata": {
  "kernelspec": {
   "display_name": "Python 3",
   "language": "python",
   "name": "python3"
  },
  "language_info": {
   "codemirror_mode": {
    "name": "ipython",
    "version": 3
   },
   "file_extension": ".py",
   "mimetype": "text/x-python",
   "name": "python",
   "nbconvert_exporter": "python",
   "pygments_lexer": "ipython3",
   "version": "3.8.8"
  }
 },
 "nbformat": 4,
 "nbformat_minor": 5
}
