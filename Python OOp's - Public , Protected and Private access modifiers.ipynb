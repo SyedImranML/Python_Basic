{
 "cells": [
  {
   "cell_type": "markdown",
   "id": "f8e8bcdf",
   "metadata": {},
   "source": [
    "### Public ,Protected and Private Access Modifiers"
   ]
  },
  {
   "cell_type": "markdown",
   "id": "3a7a80a5",
   "metadata": {},
   "source": [
    "Access modifiers are used to restrict or control the accessibility of class resources by \n",
    "declaring them as public, private and protected.\n",
    "Access Modifiers:\n",
    "    1. Public\n",
    "    2. Private\n",
    "    3. Protected\n"
   ]
  },
  {
   "cell_type": "markdown",
   "id": "010d6288",
   "metadata": {},
   "source": [
    "### Public \n"
   ]
  },
  {
   "cell_type": "markdown",
   "id": "3656141e",
   "metadata": {},
   "source": [
    "* public members are avaiable publicly, means can be accessed from anywhere.\n",
    "* By default every memberof class is public in python\n"
   ]
  },
  {
   "cell_type": "code",
   "execution_count": 44,
   "id": "4672d07d",
   "metadata": {},
   "outputs": [],
   "source": [
    "# Example 1\n",
    "class Test:\n",
    "    def __init__(self):\n",
    "        self.a = 50\n",
    "    def m1(self):\n",
    "            print(\"Method statement\")"
   ]
  },
  {
   "cell_type": "code",
   "execution_count": 45,
   "id": "9e52a872",
   "metadata": {},
   "outputs": [
    {
     "name": "stdout",
     "output_type": "stream",
     "text": [
      "Method statement\n",
      "50\n"
     ]
    }
   ],
   "source": [
    "t = Test()\n",
    "t.m1()\n",
    "print(t.a)"
   ]
  },
  {
   "cell_type": "markdown",
   "id": "550fbc7a",
   "metadata": {},
   "source": [
    "### Protected"
   ]
  },
  {
   "cell_type": "markdown",
   "id": "f29359a1",
   "metadata": {},
   "source": [
    "By convention to declare member as protected we write single underscore(_) before the identifier."
   ]
  },
  {
   "cell_type": "code",
   "execution_count": 47,
   "id": "50edc84b",
   "metadata": {},
   "outputs": [],
   "source": [
    "# Example 2\n",
    "class Test:\n",
    "    def __init__(self):\n",
    "        self._a = 50\n",
    "    def _m1(self):\n",
    "            print(\"Method statement\")"
   ]
  },
  {
   "cell_type": "code",
   "execution_count": 49,
   "id": "5f67efb5",
   "metadata": {},
   "outputs": [
    {
     "name": "stdout",
     "output_type": "stream",
     "text": [
      "Method statement\n",
      "50\n"
     ]
    }
   ],
   "source": [
    "t = Test()\n",
    "t._m1()\n",
    "print(t._a)"
   ]
  },
  {
   "cell_type": "markdown",
   "id": "ee791449",
   "metadata": {},
   "source": [
    "### Private"
   ]
  },
  {
   "cell_type": "markdown",
   "id": "dbdff232",
   "metadata": {},
   "source": [
    "By convention to declare member as protected we write double underscore(__) before the identifier."
   ]
  },
  {
   "cell_type": "code",
   "execution_count": 61,
   "id": "8e5b43cb",
   "metadata": {},
   "outputs": [],
   "source": [
    "# Example 3\n",
    "class Test:\n",
    "    def __init__(self):\n",
    "        self.__a = 50\n",
    "    def m1(self):\n",
    "            print(\"Method statement\",self.__a)"
   ]
  },
  {
   "cell_type": "code",
   "execution_count": 62,
   "id": "be05ed4a",
   "metadata": {},
   "outputs": [
    {
     "name": "stdout",
     "output_type": "stream",
     "text": [
      "Method statement 50\n"
     ]
    }
   ],
   "source": [
    "t = Test()\n",
    "t.m1()\n"
   ]
  },
  {
   "cell_type": "code",
   "execution_count": 65,
   "id": "f7d52810",
   "metadata": {},
   "outputs": [
    {
     "name": "stdout",
     "output_type": "stream",
     "text": [
      "50\n"
     ]
    }
   ],
   "source": [
    "# to acces private variables\n",
    "# syntax : object._class__variable\n",
    "print(t._Test__a)"
   ]
  },
  {
   "cell_type": "code",
   "execution_count": 4,
   "id": "11d914d4",
   "metadata": {},
   "outputs": [],
   "source": [
    "### All the class variables are public\n",
    "class Car:\n",
    "    def __init__(self,windows,doors,enginetype):\n",
    "        self.windows = windows\n",
    "        self.doors = doors\n",
    "        self.enginetype = enginetype\n",
    "    "
   ]
  },
  {
   "cell_type": "code",
   "execution_count": null,
   "id": "94107a69",
   "metadata": {},
   "outputs": [],
   "source": []
  },
  {
   "cell_type": "code",
   "execution_count": 5,
   "id": "69bc98f2",
   "metadata": {},
   "outputs": [],
   "source": [
    "audi = Car(4,5,\"Diesel\")"
   ]
  },
  {
   "cell_type": "code",
   "execution_count": 6,
   "id": "ecc10f3a",
   "metadata": {},
   "outputs": [
    {
     "data": {
      "text/plain": [
       "<__main__.Car at 0x17fcfe1f3a0>"
      ]
     },
     "execution_count": 6,
     "metadata": {},
     "output_type": "execute_result"
    }
   ],
   "source": [
    "audi"
   ]
  },
  {
   "cell_type": "code",
   "execution_count": 7,
   "id": "3dd43770",
   "metadata": {},
   "outputs": [
    {
     "data": {
      "text/plain": [
       "4"
      ]
     },
     "execution_count": 7,
     "metadata": {},
     "output_type": "execute_result"
    }
   ],
   "source": [
    "audi.windows"
   ]
  },
  {
   "cell_type": "code",
   "execution_count": 8,
   "id": "7bff0b1d",
   "metadata": {},
   "outputs": [],
   "source": [
    "# as it is public we can modify the values as well\n",
    "audi.windows = 5\n"
   ]
  },
  {
   "cell_type": "code",
   "execution_count": 9,
   "id": "acd83f07",
   "metadata": {},
   "outputs": [
    {
     "data": {
      "text/plain": [
       "5"
      ]
     },
     "execution_count": 9,
     "metadata": {},
     "output_type": "execute_result"
    }
   ],
   "source": [
    "audi.windows"
   ]
  },
  {
   "cell_type": "code",
   "execution_count": 10,
   "id": "5eed1f25",
   "metadata": {},
   "outputs": [
    {
     "data": {
      "text/plain": [
       "['__class__',\n",
       " '__delattr__',\n",
       " '__dict__',\n",
       " '__dir__',\n",
       " '__doc__',\n",
       " '__eq__',\n",
       " '__format__',\n",
       " '__ge__',\n",
       " '__getattribute__',\n",
       " '__gt__',\n",
       " '__hash__',\n",
       " '__init__',\n",
       " '__init_subclass__',\n",
       " '__le__',\n",
       " '__lt__',\n",
       " '__module__',\n",
       " '__ne__',\n",
       " '__new__',\n",
       " '__reduce__',\n",
       " '__reduce_ex__',\n",
       " '__repr__',\n",
       " '__setattr__',\n",
       " '__sizeof__',\n",
       " '__str__',\n",
       " '__subclasshook__',\n",
       " '__weakref__',\n",
       " 'doors',\n",
       " 'enginetype',\n",
       " 'windows']"
      ]
     },
     "execution_count": 10,
     "metadata": {},
     "output_type": "execute_result"
    }
   ],
   "source": [
    "dir(audi)"
   ]
  },
  {
   "cell_type": "code",
   "execution_count": 12,
   "id": "46bf4ac9",
   "metadata": {},
   "outputs": [],
   "source": [
    "### All the class variables are protected\n",
    "class Car:\n",
    "    def __init__(self,windows,doors,enginetype):\n",
    "        self._windows = windows\n",
    "        self._doors = doors\n",
    "        self._enginetype = enginetype"
   ]
  },
  {
   "cell_type": "code",
   "execution_count": 13,
   "id": "b27e8a1d",
   "metadata": {},
   "outputs": [],
   "source": [
    "audi = Car(4,5,\"Diesel\")"
   ]
  },
  {
   "cell_type": "code",
   "execution_count": 14,
   "id": "8565879b",
   "metadata": {},
   "outputs": [
    {
     "data": {
      "text/plain": [
       "['__class__',\n",
       " '__delattr__',\n",
       " '__dict__',\n",
       " '__dir__',\n",
       " '__doc__',\n",
       " '__eq__',\n",
       " '__format__',\n",
       " '__ge__',\n",
       " '__getattribute__',\n",
       " '__gt__',\n",
       " '__hash__',\n",
       " '__init__',\n",
       " '__init_subclass__',\n",
       " '__le__',\n",
       " '__lt__',\n",
       " '__module__',\n",
       " '__ne__',\n",
       " '__new__',\n",
       " '__reduce__',\n",
       " '__reduce_ex__',\n",
       " '__repr__',\n",
       " '__setattr__',\n",
       " '__sizeof__',\n",
       " '__str__',\n",
       " '__subclasshook__',\n",
       " '__weakref__',\n",
       " '_doors',\n",
       " '_enginetype',\n",
       " '_windows']"
      ]
     },
     "execution_count": 14,
     "metadata": {},
     "output_type": "execute_result"
    }
   ],
   "source": [
    "dir(audi)"
   ]
  },
  {
   "cell_type": "markdown",
   "id": "7964730d",
   "metadata": {},
   "source": [
    "### Creating Sub class"
   ]
  },
  {
   "cell_type": "code",
   "execution_count": 20,
   "id": "22c02c6b",
   "metadata": {},
   "outputs": [],
   "source": [
    "# protected variables is overriden when we have a class\n",
    "# Creating Sub class\n",
    "\n",
    "class Truck(Car):\n",
    "    def __init__(self,windows,doors,enginetype,horsepower):\n",
    "        super().__init__(windows,doors,enginetype)\n",
    "        self.horsepower = horsepower\n",
    "    "
   ]
  },
  {
   "cell_type": "code",
   "execution_count": 21,
   "id": "5dfc5743",
   "metadata": {},
   "outputs": [],
   "source": [
    "truck = Truck(4,4,\"Diesel\",4000)"
   ]
  },
  {
   "cell_type": "code",
   "execution_count": 22,
   "id": "69466277",
   "metadata": {},
   "outputs": [
    {
     "data": {
      "text/plain": [
       "['__class__',\n",
       " '__delattr__',\n",
       " '__dict__',\n",
       " '__dir__',\n",
       " '__doc__',\n",
       " '__eq__',\n",
       " '__format__',\n",
       " '__ge__',\n",
       " '__getattribute__',\n",
       " '__gt__',\n",
       " '__hash__',\n",
       " '__init__',\n",
       " '__init_subclass__',\n",
       " '__le__',\n",
       " '__lt__',\n",
       " '__module__',\n",
       " '__ne__',\n",
       " '__new__',\n",
       " '__reduce__',\n",
       " '__reduce_ex__',\n",
       " '__repr__',\n",
       " '__setattr__',\n",
       " '__sizeof__',\n",
       " '__str__',\n",
       " '__subclasshook__',\n",
       " '__weakref__',\n",
       " '_doors',\n",
       " '_enginetype',\n",
       " '_windows',\n",
       " 'horsepower']"
      ]
     },
     "execution_count": 22,
     "metadata": {},
     "output_type": "execute_result"
    }
   ],
   "source": [
    "dir(truck)"
   ]
  },
  {
   "cell_type": "code",
   "execution_count": 23,
   "id": "951a59d9",
   "metadata": {},
   "outputs": [],
   "source": [
    "truck._doors = 5"
   ]
  },
  {
   "cell_type": "code",
   "execution_count": 24,
   "id": "b4c930db",
   "metadata": {},
   "outputs": [
    {
     "data": {
      "text/plain": [
       "5"
      ]
     },
     "execution_count": 24,
     "metadata": {},
     "output_type": "execute_result"
    }
   ],
   "source": [
    "truck._doors"
   ]
  },
  {
   "cell_type": "code",
   "execution_count": 25,
   "id": "474e6dc5",
   "metadata": {},
   "outputs": [
    {
     "data": {
      "text/plain": [
       "4"
      ]
     },
     "execution_count": 25,
     "metadata": {},
     "output_type": "execute_result"
    }
   ],
   "source": [
    "truck._windows"
   ]
  },
  {
   "cell_type": "code",
   "execution_count": 26,
   "id": "41d84666",
   "metadata": {},
   "outputs": [],
   "source": [
    "truck._windows=5\n"
   ]
  },
  {
   "cell_type": "code",
   "execution_count": 27,
   "id": "46b68610",
   "metadata": {},
   "outputs": [
    {
     "data": {
      "text/plain": [
       "5"
      ]
     },
     "execution_count": 27,
     "metadata": {},
     "output_type": "execute_result"
    }
   ],
   "source": [
    "truck._windows"
   ]
  },
  {
   "cell_type": "code",
   "execution_count": 28,
   "id": "b16d579b",
   "metadata": {},
   "outputs": [
    {
     "data": {
      "text/plain": [
       "4000"
      ]
     },
     "execution_count": 28,
     "metadata": {},
     "output_type": "execute_result"
    }
   ],
   "source": [
    "truck.horsepower"
   ]
  },
  {
   "cell_type": "code",
   "execution_count": 31,
   "id": "9cc7719c",
   "metadata": {},
   "outputs": [],
   "source": [
    "### All the class variables are private\n",
    "class Car:\n",
    "    def __init__(self,windows,doors,enginetype):\n",
    "        self.__windows = windows\n",
    "        self.__doors = doors\n",
    "        self.__enginetype = enginetype"
   ]
  },
  {
   "cell_type": "code",
   "execution_count": 32,
   "id": "bcc7410b",
   "metadata": {},
   "outputs": [],
   "source": [
    "car = Car(4,5,\"petrol\")"
   ]
  },
  {
   "cell_type": "code",
   "execution_count": 33,
   "id": "15466a27",
   "metadata": {},
   "outputs": [
    {
     "data": {
      "text/plain": [
       "['_Car__doors',\n",
       " '_Car__enginetype',\n",
       " '_Car__windows',\n",
       " '__class__',\n",
       " '__delattr__',\n",
       " '__dict__',\n",
       " '__dir__',\n",
       " '__doc__',\n",
       " '__eq__',\n",
       " '__format__',\n",
       " '__ge__',\n",
       " '__getattribute__',\n",
       " '__gt__',\n",
       " '__hash__',\n",
       " '__init__',\n",
       " '__init_subclass__',\n",
       " '__le__',\n",
       " '__lt__',\n",
       " '__module__',\n",
       " '__ne__',\n",
       " '__new__',\n",
       " '__reduce__',\n",
       " '__reduce_ex__',\n",
       " '__repr__',\n",
       " '__setattr__',\n",
       " '__sizeof__',\n",
       " '__str__',\n",
       " '__subclasshook__',\n",
       " '__weakref__']"
      ]
     },
     "execution_count": 33,
     "metadata": {},
     "output_type": "execute_result"
    }
   ],
   "source": [
    "dir(car)"
   ]
  },
  {
   "cell_type": "code",
   "execution_count": 34,
   "id": "12143e4d",
   "metadata": {},
   "outputs": [
    {
     "data": {
      "text/plain": [
       "5"
      ]
     },
     "execution_count": 34,
     "metadata": {},
     "output_type": "execute_result"
    }
   ],
   "source": [
    "car._Car__doors"
   ]
  },
  {
   "cell_type": "code",
   "execution_count": 36,
   "id": "23dfe10d",
   "metadata": {},
   "outputs": [
    {
     "data": {
      "text/plain": [
       "'petrol'"
      ]
     },
     "execution_count": 36,
     "metadata": {},
     "output_type": "execute_result"
    }
   ],
   "source": [
    "car._Car__enginetype"
   ]
  },
  {
   "cell_type": "code",
   "execution_count": 38,
   "id": "ebba51a9",
   "metadata": {},
   "outputs": [
    {
     "data": {
      "text/plain": [
       "4"
      ]
     },
     "execution_count": 38,
     "metadata": {},
     "output_type": "execute_result"
    }
   ],
   "source": [
    "car._Car__windows"
   ]
  },
  {
   "cell_type": "code",
   "execution_count": 39,
   "id": "301a20cc",
   "metadata": {},
   "outputs": [],
   "source": [
    "car._Car__doors=6"
   ]
  },
  {
   "cell_type": "code",
   "execution_count": 40,
   "id": "7b8e2484",
   "metadata": {},
   "outputs": [
    {
     "data": {
      "text/plain": [
       "6"
      ]
     },
     "execution_count": 40,
     "metadata": {},
     "output_type": "execute_result"
    }
   ],
   "source": [
    "car._Car__doors"
   ]
  },
  {
   "cell_type": "code",
   "execution_count": null,
   "id": "c016a2d6",
   "metadata": {},
   "outputs": [],
   "source": []
  }
 ],
 "metadata": {
  "kernelspec": {
   "display_name": "Python 3",
   "language": "python",
   "name": "python3"
  },
  "language_info": {
   "codemirror_mode": {
    "name": "ipython",
    "version": 3
   },
   "file_extension": ".py",
   "mimetype": "text/x-python",
   "name": "python",
   "nbconvert_exporter": "python",
   "pygments_lexer": "ipython3",
   "version": "3.8.8"
  }
 },
 "nbformat": 4,
 "nbformat_minor": 5
}
