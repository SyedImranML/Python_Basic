{
 "cells": [
  {
   "cell_type": "markdown",
   "id": "245de286",
   "metadata": {},
   "source": [
    "### Remove an item from a list in Python (clear, pop, remove, del)\n"
   ]
  },
  {
   "cell_type": "markdown",
   "id": "fa2ff590",
   "metadata": {},
   "source": [
    "In Python, use list methods clear(), pop(), and remove() to remove items (elements) from a list. \n",
    "It is also possible to delete items using the del statement by specifying a position or range with an index or slice."
   ]
  },
  {
   "cell_type": "markdown",
   "id": "87fe0e42",
   "metadata": {},
   "source": [
    "Contents\n",
    "\n",
    "Remove all items: clear()\n",
    "\n",
    "Remove an item by index and get its value: pop()\n",
    "\n",
    "Remove an item by value: remove()\n",
    "\n",
    "Remove items by index or slice: del\n",
    "\n",
    "Remove items that meet the condition: List comprehensions"
   ]
  },
  {
   "cell_type": "markdown",
   "id": "18aca945",
   "metadata": {},
   "source": [
    "### Remove all items: clear()"
   ]
  },
  {
   "cell_type": "markdown",
   "id": "33eb6a1d",
   "metadata": {},
   "source": [
    "You can remove all items from a list with clear()."
   ]
  },
  {
   "cell_type": "code",
   "execution_count": 31,
   "id": "05d4ccd2",
   "metadata": {},
   "outputs": [
    {
     "name": "stdout",
     "output_type": "stream",
     "text": [
      "[]\n"
     ]
    }
   ],
   "source": [
    "l = [1, 2, 2]\n",
    "\n",
    "l.clear()\n",
    "print(l)\n"
   ]
  },
  {
   "cell_type": "markdown",
   "id": "fb94407c",
   "metadata": {},
   "source": [
    "### Remove an item by index and get its value: pop()"
   ]
  },
  {
   "cell_type": "markdown",
   "id": "66960ffd",
   "metadata": {},
   "source": [
    "You can remove the item at the specified position and get its value with pop(). The index starts at 0"
   ]
  },
  {
   "cell_type": "code",
   "execution_count": 32,
   "id": "c6e6720c",
   "metadata": {},
   "outputs": [
    {
     "name": "stdout",
     "output_type": "stream",
     "text": [
      "10\n",
      "[20, 30, 40, 50]\n",
      "50\n",
      "[20, 30, 40]\n"
     ]
    }
   ],
   "source": [
    "l = [10, 20, 30, 40, 50]\n",
    "\n",
    "item = l.pop(0)\n",
    "print(item)\n",
    "\n",
    "print(l)\n",
    "\n",
    "\n",
    "item = l.pop(3)\n",
    "print(item)\n",
    "\n",
    "\n",
    "print(l)\n"
   ]
  },
  {
   "cell_type": "markdown",
   "id": "d3ca84f7",
   "metadata": {},
   "source": [
    "Negative values can be used to specify a position from the end of the list, with the last index being -1"
   ]
  },
  {
   "cell_type": "code",
   "execution_count": 36,
   "id": "a82352e2",
   "metadata": {},
   "outputs": [
    {
     "name": "stdout",
     "output_type": "stream",
     "text": [
      "40\n",
      "[10, 20, 30, 50]\n"
     ]
    }
   ],
   "source": [
    "l = [10, 20, 30, 40, 50]\n",
    "item = l.pop(-2)\n",
    "print(item)\n",
    "\n",
    "\n",
    "print(l)\n"
   ]
  },
  {
   "cell_type": "markdown",
   "id": "1e16cac8",
   "metadata": {},
   "source": [
    "If no argument is provided, the last item in the list is removed."
   ]
  },
  {
   "cell_type": "code",
   "execution_count": 37,
   "id": "4b21ee6b",
   "metadata": {},
   "outputs": [
    {
     "name": "stdout",
     "output_type": "stream",
     "text": [
      "50\n",
      "[10, 20, 30]\n"
     ]
    }
   ],
   "source": [
    "item = l.pop()\n",
    "print(item)\n",
    "\n",
    "print(l)\n"
   ]
  },
  {
   "cell_type": "markdown",
   "id": "94139dcd",
   "metadata": {},
   "source": [
    "Specifying a nonexistent index will result in an error."
   ]
  },
  {
   "cell_type": "code",
   "execution_count": 38,
   "id": "368b6999",
   "metadata": {},
   "outputs": [
    {
     "ename": "IndexError",
     "evalue": "pop index out of range",
     "output_type": "error",
     "traceback": [
      "\u001b[1;31m---------------------------------------------------------------------------\u001b[0m",
      "\u001b[1;31mIndexError\u001b[0m                                Traceback (most recent call last)",
      "\u001b[1;32m<ipython-input-38-c6bc2fa515a2>\u001b[0m in \u001b[0;36m<module>\u001b[1;34m\u001b[0m\n\u001b[1;32m----> 1\u001b[1;33m \u001b[0mitem\u001b[0m \u001b[1;33m=\u001b[0m \u001b[0ml\u001b[0m\u001b[1;33m.\u001b[0m\u001b[0mpop\u001b[0m\u001b[1;33m(\u001b[0m\u001b[1;36m100\u001b[0m\u001b[1;33m)\u001b[0m\u001b[1;33m\u001b[0m\u001b[1;33m\u001b[0m\u001b[0m\n\u001b[0m\u001b[0;32m      2\u001b[0m \u001b[1;31m# IndexError: pop index out of range\u001b[0m\u001b[1;33m\u001b[0m\u001b[1;33m\u001b[0m\u001b[1;33m\u001b[0m\u001b[0m\n",
      "\u001b[1;31mIndexError\u001b[0m: pop index out of range"
     ]
    }
   ],
   "source": [
    "item = l.pop(100)\n",
    "# IndexError: pop index out of range"
   ]
  },
  {
   "cell_type": "markdown",
   "id": "9d552ac4",
   "metadata": {},
   "source": [
    "### Remove an item by value: remove()"
   ]
  },
  {
   "cell_type": "markdown",
   "id": "e6b2ecaf",
   "metadata": {},
   "source": [
    "You can remove the first item in the list whose value equals the specified value with remove()."
   ]
  },
  {
   "cell_type": "code",
   "execution_count": 40,
   "id": "9397e9eb",
   "metadata": {},
   "outputs": [
    {
     "name": "stdout",
     "output_type": "stream",
     "text": [
      "['Syed Imran', 'Charlie', 'Bob', 'Dave', 'Bob']\n"
     ]
    }
   ],
   "source": [
    "l = ['Akash', 'Syed Imran', 'Charlie', 'Bob', 'Dave','Bob']\n",
    "\n",
    "l.remove('Akash')\n",
    "print(l)"
   ]
  },
  {
   "cell_type": "markdown",
   "id": "5af974b5",
   "metadata": {},
   "source": [
    "If the list contains more than one item with the specified value, only the first occurrence is deleted."
   ]
  },
  {
   "cell_type": "code",
   "execution_count": 41,
   "id": "9f920efa",
   "metadata": {},
   "outputs": [
    {
     "name": "stdout",
     "output_type": "stream",
     "text": [
      "['Syed Imran', 'Charlie', 'Dave', 'Bob']\n"
     ]
    }
   ],
   "source": [
    "l.remove('Bob')\n",
    "print(l)"
   ]
  },
  {
   "cell_type": "markdown",
   "id": "05b0bef2",
   "metadata": {},
   "source": [
    "If you specify a nonexistent value, an error will be raised."
   ]
  },
  {
   "cell_type": "code",
   "execution_count": 42,
   "id": "9dd3e38a",
   "metadata": {},
   "outputs": [
    {
     "ename": "ValueError",
     "evalue": "list.remove(x): x not in list",
     "output_type": "error",
     "traceback": [
      "\u001b[1;31m---------------------------------------------------------------------------\u001b[0m",
      "\u001b[1;31mValueError\u001b[0m                                Traceback (most recent call last)",
      "\u001b[1;32m<ipython-input-42-9c36b8463261>\u001b[0m in \u001b[0;36m<module>\u001b[1;34m\u001b[0m\n\u001b[1;32m----> 1\u001b[1;33m \u001b[0ml\u001b[0m\u001b[1;33m.\u001b[0m\u001b[0mremove\u001b[0m\u001b[1;33m(\u001b[0m\u001b[1;34m'xxx'\u001b[0m\u001b[1;33m)\u001b[0m\u001b[1;33m\u001b[0m\u001b[1;33m\u001b[0m\u001b[0m\n\u001b[0m\u001b[0;32m      2\u001b[0m \u001b[1;31m# ValueError: list.remove(x): x not in list\u001b[0m\u001b[1;33m\u001b[0m\u001b[1;33m\u001b[0m\u001b[1;33m\u001b[0m\u001b[0m\n",
      "\u001b[1;31mValueError\u001b[0m: list.remove(x): x not in list"
     ]
    }
   ],
   "source": [
    "l.remove('xxx')\n",
    "# ValueError: list.remove(x): x not in list"
   ]
  },
  {
   "cell_type": "markdown",
   "id": "7cbbdca7",
   "metadata": {},
   "source": [
    "### Remove items by index or slice: del"
   ]
  },
  {
   "cell_type": "markdown",
   "id": "bfb35154",
   "metadata": {},
   "source": [
    "In addition to the list methods, you can remove elements from a list using the del statement.\n",
    "\n",
    "Specify the item to be deleted by index. The first index is 0, and the last is -1."
   ]
  },
  {
   "cell_type": "code",
   "execution_count": 43,
   "id": "1c07f981",
   "metadata": {},
   "outputs": [
    {
     "name": "stdout",
     "output_type": "stream",
     "text": [
      "[10, 20, 30, 40, 50]\n",
      "[10, 20, 30, 50]\n",
      "[10, 20, 30]\n",
      "[10, 30]\n"
     ]
    }
   ],
   "source": [
    "l = [0, 10, 20, 30, 40, 50]\n",
    "\n",
    "del l[0]\n",
    "print(l)\n",
    "\n",
    "\n",
    "del l[3]\n",
    "print(l)\n",
    "\n",
    "\n",
    "del l[-1]\n",
    "print(l)\n",
    "\n",
    "\n",
    "del l[-2]\n",
    "print(l)\n"
   ]
  },
  {
   "cell_type": "markdown",
   "id": "2972c060",
   "metadata": {},
   "source": [
    "### You can delete multiple items with slice notation."
   ]
  },
  {
   "cell_type": "code",
   "execution_count": 44,
   "id": "6afe346b",
   "metadata": {},
   "outputs": [
    {
     "name": "stdout",
     "output_type": "stream",
     "text": [
      "[0, 10, 50]\n",
      "[30, 40, 50]\n",
      "[0, 10, 20, 30]\n"
     ]
    }
   ],
   "source": [
    "l = [0, 10, 20, 30, 40, 50]\n",
    "del l[2:5]\n",
    "print(l)\n",
    "\n",
    "\n",
    "l = [0, 10, 20, 30, 40, 50]\n",
    "del l[:3]\n",
    "print(l)\n",
    "\n",
    "\n",
    "l = [0, 10, 20, 30, 40, 50]\n",
    "del l[-2:]\n",
    "print(l)\n"
   ]
  },
  {
   "cell_type": "markdown",
   "id": "3135954a",
   "metadata": {},
   "source": [
    "It is also possible to delete all items by specifying the entire range."
   ]
  },
  {
   "cell_type": "code",
   "execution_count": 45,
   "id": "49e991e3",
   "metadata": {},
   "outputs": [
    {
     "name": "stdout",
     "output_type": "stream",
     "text": [
      "[]\n"
     ]
    }
   ],
   "source": [
    "l = [0, 10, 20, 30, 40, 50]\n",
    "del l[:]\n",
    "print(l)"
   ]
  },
  {
   "cell_type": "markdown",
   "id": "43b28f44",
   "metadata": {},
   "source": [
    "You can specify step as [start:stop:step]"
   ]
  },
  {
   "cell_type": "code",
   "execution_count": 46,
   "id": "743cbc9e",
   "metadata": {},
   "outputs": [
    {
     "name": "stdout",
     "output_type": "stream",
     "text": [
      "[10, 30, 50]\n"
     ]
    }
   ],
   "source": [
    "l = [0, 10, 20, 30, 40, 50]\n",
    "del l[::2]\n",
    "print(l)"
   ]
  },
  {
   "cell_type": "markdown",
   "id": "cd48a15b",
   "metadata": {},
   "source": [
    "### Remove items that meet the condition: List comprehensions"
   ]
  },
  {
   "cell_type": "markdown",
   "id": "92eecc80",
   "metadata": {},
   "source": [
    "Removing items that satisfy a specific condition is equivalent to extracting items that do not satisfy the condition."
   ]
  },
  {
   "cell_type": "code",
   "execution_count": 47,
   "id": "f9a5a7c2",
   "metadata": {},
   "outputs": [
    {
     "name": "stdout",
     "output_type": "stream",
     "text": [
      "[0, 2, 4, 6, 8]\n",
      "[1, 3, 5, 7, 9]\n",
      "[0, 1, 2, 3, 4, 5, 6, 7, 8, 9]\n"
     ]
    }
   ],
   "source": [
    "l = [0, 1, 2, 3, 4, 5, 6, 7, 8, 9]\n",
    "\n",
    "evens = [i for i in l if i % 2 == 0]\n",
    "print(evens)\n",
    "\n",
    "\n",
    "odds = [i for i in l if i % 2 != 0]\n",
    "print(odds)\n",
    "\n",
    "\n",
    "print(l)\n"
   ]
  },
  {
   "cell_type": "code",
   "execution_count": 48,
   "id": "1c2014a8",
   "metadata": {},
   "outputs": [
    {
     "name": "stdout",
     "output_type": "stream",
     "text": [
      "['Alice', 'Bob', 'Charlie', 'Bob', 'David']\n",
      "['Alice', 'Charlie', 'David']\n",
      "['Alice', 'Charlie']\n"
     ]
    }
   ],
   "source": [
    "l = ['Alice', 'Bob', 'Charlie', 'Bob', 'David']\n",
    "print(l)\n",
    "\n",
    "\n",
    "print([s for s in l if s != 'Bob'])\n",
    "\n",
    "\n",
    "print([s for s in l if s.endswith('e')])\n"
   ]
  },
  {
   "cell_type": "markdown",
   "id": "be114adf",
   "metadata": {},
   "source": [
    "### To remove duplicate elements from a list, use set():"
   ]
  },
  {
   "cell_type": "code",
   "execution_count": 50,
   "id": "4a686b9b",
   "metadata": {},
   "outputs": [
    {
     "name": "stdout",
     "output_type": "stream",
     "text": [
      "['David', 'Bob', 'Charlie', 'Alice']\n"
     ]
    }
   ],
   "source": [
    "print(list(set(l)))"
   ]
  },
  {
   "cell_type": "code",
   "execution_count": 51,
   "id": "5010d0d4",
   "metadata": {},
   "outputs": [
    {
     "name": "stdout",
     "output_type": "stream",
     "text": [
      "Updated List:  ['Mumbai', 'London', 'Paris', 'New York', 'New Delhi', 'Washington DC']\n"
     ]
    }
   ],
   "source": [
    "cities = ['Mumbai', 'London', 'Paris', 'New York']\n",
    "capitals = {'New Delhi':'India','Washington DC':'USA'}\n",
    "cities.extend(capitals) # adds keys of dict as elements\n",
    "print(\"Updated List: \",cities)"
   ]
  },
  {
   "cell_type": "markdown",
   "id": "39069be3",
   "metadata": {},
   "source": [
    "### List Copy()"
   ]
  },
  {
   "cell_type": "code",
   "execution_count": 52,
   "id": "b0873b2a",
   "metadata": {},
   "outputs": [
    {
     "name": "stdout",
     "output_type": "stream",
     "text": [
      "Copied List: ['Geeks', 'for', 'Geeks']\n"
     ]
    }
   ],
   "source": [
    "lis = ['Geeks','for','Geeks']\n",
    "new_list = lis.copy()\n",
    "print('Copied List:', new_list)"
   ]
  },
  {
   "cell_type": "markdown",
   "id": "c2a2aad0",
   "metadata": {},
   "source": [
    "### List Sort\n",
    "\n"
   ]
  },
  {
   "cell_type": "code",
   "execution_count": 54,
   "id": "1594bfa1",
   "metadata": {},
   "outputs": [
    {
     "name": "stdout",
     "output_type": "stream",
     "text": [
      "['BMW', 'Ford', 'Volvo']\n"
     ]
    }
   ],
   "source": [
    "cars = ['Ford', 'BMW', 'Volvo']\n",
    "\n",
    "cars.sort()\n",
    "print(cars)"
   ]
  },
  {
   "cell_type": "markdown",
   "id": "9064747e",
   "metadata": {},
   "source": [
    "### Sort the list descending:"
   ]
  },
  {
   "cell_type": "code",
   "execution_count": 57,
   "id": "3f19819b",
   "metadata": {},
   "outputs": [
    {
     "name": "stdout",
     "output_type": "stream",
     "text": [
      "['BMW', 'Ford', 'Volvo']\n"
     ]
    }
   ],
   "source": [
    "cars = ['Ford', 'BMW', 'Volvo']\n",
    "\n",
    "cars.sort(reverse=False)\n",
    "print(cars)"
   ]
  },
  {
   "cell_type": "code",
   "execution_count": 58,
   "id": "93edf06b",
   "metadata": {},
   "outputs": [
    {
     "name": "stdout",
     "output_type": "stream",
     "text": [
      "['Volvo', 'Ford', 'BMW']\n"
     ]
    }
   ],
   "source": [
    "cars = ['Ford', 'BMW', 'Volvo']\n",
    "\n",
    "cars.sort(reverse=True)\n",
    "print(cars)"
   ]
  },
  {
   "cell_type": "code",
   "execution_count": 59,
   "id": "a9c2f328",
   "metadata": {},
   "outputs": [],
   "source": [
    "# A function that returns the length of the value:\n",
    "def myFunc(e):\n",
    "  return len(e)\n",
    "\n",
    "cars = ['Ford', 'Mitsubishi', 'BMW', 'VW']\n",
    "\n",
    "cars.sort(key=myFunc)"
   ]
  },
  {
   "cell_type": "code",
   "execution_count": 60,
   "id": "306ee0e5",
   "metadata": {},
   "outputs": [
    {
     "data": {
      "text/plain": [
       "['VW', 'BMW', 'Ford', 'Mitsubishi']"
      ]
     },
     "execution_count": 60,
     "metadata": {},
     "output_type": "execute_result"
    }
   ],
   "source": [
    "cars"
   ]
  },
  {
   "cell_type": "markdown",
   "id": "ebf44326",
   "metadata": {},
   "source": [
    "### Reverse Order"
   ]
  },
  {
   "cell_type": "code",
   "execution_count": 62,
   "id": "368486f4",
   "metadata": {},
   "outputs": [
    {
     "name": "stdout",
     "output_type": "stream",
     "text": [
      "List :  ['xyz', 'abc', 'zara', 'xyz', 123]\n"
     ]
    }
   ],
   "source": [
    "List = [123, 'xyz', 'zara', 'abc', 'xyz'];\n",
    "List.reverse();\n",
    "print (\"List : \", List)"
   ]
  },
  {
   "cell_type": "code",
   "execution_count": 63,
   "id": "cc6687f3",
   "metadata": {},
   "outputs": [
    {
     "name": "stdout",
     "output_type": "stream",
     "text": [
      "Reversed List: [7, 5, 3, 2]\n"
     ]
    }
   ],
   "source": [
    "# create a list of prime numbers\n",
    "prime_numbers = [2, 3, 5, 7]\n",
    "\n",
    "# reverse the order of list elements\n",
    "prime_numbers.reverse()\n",
    "\n",
    "\n",
    "print('Reversed List:', prime_numbers)\n",
    "\n"
   ]
  },
  {
   "cell_type": "markdown",
   "id": "e1b8cdee",
   "metadata": {},
   "source": [
    "### Reverse a List Using Slicing Operator"
   ]
  },
  {
   "cell_type": "code",
   "execution_count": 64,
   "id": "c6eaeb34",
   "metadata": {},
   "outputs": [
    {
     "name": "stdout",
     "output_type": "stream",
     "text": [
      "Original List: ['Windows', 'macOS', 'Linux']\n",
      "Updated List: ['Linux', 'macOS', 'Windows']\n"
     ]
    }
   ],
   "source": [
    "# Operating System List\n",
    "systems = ['Windows', 'macOS', 'Linux']\n",
    "print('Original List:', systems)\n",
    "\n",
    "\n",
    "reversed_list = systems[::-1]\n",
    "\n",
    "\n",
    "\n",
    "print('Updated List:', reversed_list)"
   ]
  },
  {
   "cell_type": "code",
   "execution_count": 65,
   "id": "d4a2e49c",
   "metadata": {},
   "outputs": [
    {
     "name": "stdout",
     "output_type": "stream",
     "text": [
      "Linux\n",
      "macOS\n",
      "Windows\n"
     ]
    }
   ],
   "source": [
    "systems = ['Windows', 'macOS', 'Linux']\n",
    "\n",
    "\n",
    "for o in reversed(systems):\n",
    "    print(o)"
   ]
  },
  {
   "cell_type": "code",
   "execution_count": null,
   "id": "0cac8b95",
   "metadata": {},
   "outputs": [],
   "source": []
  }
 ],
 "metadata": {
  "kernelspec": {
   "display_name": "Python 3",
   "language": "python",
   "name": "python3"
  },
  "language_info": {
   "codemirror_mode": {
    "name": "ipython",
    "version": 3
   },
   "file_extension": ".py",
   "mimetype": "text/x-python",
   "name": "python",
   "nbconvert_exporter": "python",
   "pygments_lexer": "ipython3",
   "version": "3.8.8"
  }
 },
 "nbformat": 4,
 "nbformat_minor": 5
}
