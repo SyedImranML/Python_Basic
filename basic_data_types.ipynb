{
  "cells": [
    {
      "cell_type": "markdown",
      "metadata": {
        "id": "view-in-github",
        "colab_type": "text"
      },
      "source": [
        "<a href=\"https://colab.research.google.com/github/SyedImranML/Python_Basic/blob/main/basic_data_types.ipynb\" target=\"_parent\"><img src=\"https://colab.research.google.com/assets/colab-badge.svg\" alt=\"Open In Colab\"/></a>"
      ]
    },
    {
      "cell_type": "markdown",
      "metadata": {
        "_cell_guid": "b1076dfc-b9ad-4769-8c92-a6c4dae69d19",
        "_uuid": "8f2839f25d086af736a60e9eeb907d3b93b6e0e5",
        "id": "tp_BD7_wKMAP"
      },
      "source": [
        "# Python for Data 3: Basic Data Types"
      ]
    },
    {
      "cell_type": "markdown",
      "metadata": {
        "id": "JDNo6uAeKMAa"
      },
      "source": [
        "# Integers"
      ]
    },
    {
      "cell_type": "code",
      "execution_count": null,
      "metadata": {
        "id": "0z-1OZEIKMAc"
      },
      "outputs": [],
      "source": [
        "a = 10\n",
        "# creating a var \"a\" which stores 10 as value - hey hello hi"
      ]
    },
    {
      "cell_type": "code",
      "execution_count": null,
      "metadata": {
        "id": "8RvyyttpKMAg"
      },
      "outputs": [],
      "source": [
        "type(a)"
      ]
    },
    {
      "cell_type": "code",
      "execution_count": null,
      "metadata": {
        "scrolled": true,
        "id": "EG7bvRX3KMAh"
      },
      "outputs": [],
      "source": [
        "type(1000)"
      ]
    },
    {
      "cell_type": "markdown",
      "metadata": {
        "id": "e7J24kr0KMAi"
      },
      "source": [
        "Integers or \"ints\" for short, are whole-numbered numeric values. Any positive or negative number (or 0) without a decimal is an integer in Python. Integer values have unlimited precision, meaning an integer is exact. You can check the type of a Python object with the type() function. Let's run type() on an integer:"
      ]
    },
    {
      "cell_type": "code",
      "execution_count": null,
      "metadata": {
        "id": "pA2mowMZKMAk"
      },
      "outputs": [],
      "source": [
        "a=12"
      ]
    },
    {
      "cell_type": "code",
      "execution_count": null,
      "metadata": {
        "id": "gooZ71vlKMAm"
      },
      "outputs": [],
      "source": [
        "type(a)"
      ]
    },
    {
      "cell_type": "code",
      "execution_count": null,
      "metadata": {
        "id": "sbLkbpEqKMAn"
      },
      "outputs": [],
      "source": [
        "type(12)"
      ]
    },
    {
      "cell_type": "markdown",
      "metadata": {
        "id": "nBtL8uwSKMAp"
      },
      "source": [
        "Above we see that the type of 12 is of type \"int\". You can also use the function isinstance() to check whether an object is an instance of a given type:"
      ]
    },
    {
      "cell_type": "code",
      "execution_count": null,
      "metadata": {
        "id": "de4LmrnzKMBb"
      },
      "outputs": [],
      "source": [
        "# Check if 12 is an instance of type \"int\"\n",
        "\n",
        "isinstance(12, int)"
      ]
    },
    {
      "cell_type": "markdown",
      "metadata": {
        "id": "dGk2Kk1FKMBd"
      },
      "source": [
        "The code output True confirms that 12 is an int.\n",
        "\n",
        "Integers support all the basic math operations we covered last time. If a math operation involving integers would result in a non-integer (decimal) value, the result is becomes a float:"
      ]
    },
    {
      "cell_type": "code",
      "execution_count": null,
      "metadata": {
        "id": "8XhWh-0RKMBe"
      },
      "outputs": [],
      "source": [
        "1/3  # A third is not a whole number*"
      ]
    },
    {
      "cell_type": "code",
      "execution_count": null,
      "metadata": {
        "id": "U-D4rcbjKMBe"
      },
      "outputs": [],
      "source": [
        "type(1/3)  # So the type of the result is not an int"
      ]
    },
    {
      "cell_type": "markdown",
      "metadata": {
        "id": "IJhmg-2yKMBf"
      },
      "source": [
        "*Note: In Python 2, integer division performs floor division instead of converting the ints to floats as we see here in Python 3.*"
      ]
    },
    {
      "cell_type": "markdown",
      "metadata": {
        "id": "YqX7wYtvKMBf"
      },
      "source": [
        "# Floats"
      ]
    },
    {
      "cell_type": "markdown",
      "metadata": {
        "id": "B16-WpP1KMBg"
      },
      "source": [
        "Floating point numbers or \"floats\" are numbers with decimal values. Unlike integers, floating point numbers don't have unlimited precision because irrational decimal numbers are infinitely long and therefore can't be stored in memory. Instead, the computer approximates the value of long decimals, so there can be small rounding errors in long floats. This error is so minuscule it usually isn't of concern to us, but it can add up in certain cases when making many repeated calculations.\n",
        "\n",
        "Every number in Python with a decimal point is a float, even if there are no non-zero numbers after the decimal:"
      ]
    },
    {
      "cell_type": "code",
      "execution_count": null,
      "metadata": {
        "id": "4ff4fT7_KMBg"
      },
      "outputs": [],
      "source": [
        "type(1.0)"
      ]
    },
    {
      "cell_type": "code",
      "execution_count": null,
      "metadata": {
        "id": "4vqTwOy6KMBg"
      },
      "outputs": [],
      "source": [
        "isinstance(2.1, float)"
      ]
    },
    {
      "cell_type": "code",
      "execution_count": null,
      "metadata": {
        "id": "4ELwoa3fKMBh"
      },
      "outputs": [],
      "source": [
        "a = 5.0 - 1\n",
        "a"
      ]
    },
    {
      "cell_type": "code",
      "execution_count": null,
      "metadata": {
        "id": "iG_yF-eQKMBh"
      },
      "outputs": [],
      "source": [
        "type(a)"
      ]
    },
    {
      "cell_type": "markdown",
      "metadata": {
        "id": "0RPdcjK6KMBh"
      },
      "source": [
        "The arithmetic operations we learned last time work on floats as well as ints. If you use both floats and ints in the same math expression the result is a float:"
      ]
    },
    {
      "cell_type": "code",
      "execution_count": null,
      "metadata": {
        "id": "1cRRTyQRKMBi"
      },
      "outputs": [],
      "source": [
        "5 + 1.0"
      ]
    },
    {
      "cell_type": "markdown",
      "metadata": {
        "id": "Qkw1qwyfKMBi"
      },
      "source": [
        "You can convert a float to an integer using the int() function:"
      ]
    },
    {
      "cell_type": "code",
      "execution_count": null,
      "metadata": {
        "id": "XINmzVHAKMBi"
      },
      "outputs": [],
      "source": [
        "int(6.0)"
      ]
    },
    {
      "cell_type": "markdown",
      "metadata": {
        "id": "GqYW-NVtKMBj"
      },
      "source": [
        "You can convert an integer to a float with the float() function:"
      ]
    },
    {
      "cell_type": "code",
      "execution_count": null,
      "metadata": {
        "id": "QHtKrVPNKMBj"
      },
      "outputs": [],
      "source": [
        "float(6)"
      ]
    },
    {
      "cell_type": "markdown",
      "metadata": {
        "id": "M1J192JUKMBj"
      },
      "source": [
        "Floats can also take on a few special values: Inf, -Inf and NaN. Inf and -Inf stand for infinity and negative infinity respectively and NaN stands for \"not a number\", which is sometimes used as a placeholder for missing or erroneous numerical values."
      ]
    },
    {
      "cell_type": "code",
      "execution_count": null,
      "metadata": {
        "id": "gQVuGtpTKMBj"
      },
      "outputs": [],
      "source": [
        "type ( float (\"Inf\") )"
      ]
    },
    {
      "cell_type": "code",
      "execution_count": null,
      "metadata": {
        "id": "P5gNY9LTKMBj"
      },
      "outputs": [],
      "source": [
        "type ( float (\"NaN\") )\n",
        "# null values"
      ]
    },
    {
      "cell_type": "markdown",
      "metadata": {
        "id": "mbfJbE9HKMBk"
      },
      "source": [
        "*Note: Python contains a third, uncommon numeric data type \"complex\" which is used to store complex numbers.*"
      ]
    },
    {
      "cell_type": "markdown",
      "metadata": {
        "id": "0LpTMt9RKMBk"
      },
      "source": [
        "# Booleans"
      ]
    },
    {
      "cell_type": "markdown",
      "metadata": {
        "id": "udkHCvvIKMBk"
      },
      "source": [
        "Booleans or \"bools\" are true/false values that result from logical statements. In Python, booleans start with the first letter capitalized so True and False are recognized as bools but true and false are not. We've already seen an example of booleans when we used the isinstance() function above."
      ]
    },
    {
      "cell_type": "code",
      "execution_count": null,
      "metadata": {
        "id": "b270VMtpKMBk"
      },
      "outputs": [],
      "source": [
        "type(True)"
      ]
    },
    {
      "cell_type": "code",
      "execution_count": null,
      "metadata": {
        "id": "vh16tUwKKMBl"
      },
      "outputs": [],
      "source": [
        "isinstance(False, bool)  # Check if False is of type bool"
      ]
    },
    {
      "cell_type": "markdown",
      "metadata": {
        "id": "M3NEbP5-KMBl"
      },
      "source": [
        "You can create boolean values with logical expressions. Python supports all of the standard logic operators you'd expect:"
      ]
    },
    {
      "cell_type": "code",
      "execution_count": null,
      "metadata": {
        "id": "jJEdNsJ-KMBl"
      },
      "outputs": [],
      "source": [
        "# Use >  and  < for greater than and less than:\n",
        "\n",
        "20 > 10"
      ]
    },
    {
      "cell_type": "code",
      "execution_count": null,
      "metadata": {
        "id": "aw_Wt8u7KMBl"
      },
      "outputs": [],
      "source": [
        "20 < 5"
      ]
    },
    {
      "cell_type": "code",
      "execution_count": null,
      "metadata": {
        "id": "WF2YKN3uKMBm"
      },
      "outputs": [],
      "source": [
        "# Use >= and  <= for greater than or equal and less than or equal:\n",
        "\n",
        "20 >= 20"
      ]
    },
    {
      "cell_type": "code",
      "execution_count": null,
      "metadata": {
        "id": "vnVCHaSQKMBu"
      },
      "outputs": [],
      "source": [
        "# Use == (two equal signs in a row) to check equality:\n",
        "\n",
        "10 == 10"
      ]
    },
    {
      "cell_type": "code",
      "execution_count": null,
      "metadata": {
        "id": "B5XRlgVhKMBv"
      },
      "outputs": [],
      "source": [
        "30 != 30.01"
      ]
    },
    {
      "cell_type": "code",
      "execution_count": null,
      "metadata": {
        "id": "3fRed5VqKMBv"
      },
      "outputs": [],
      "source": [
        "=="
      ]
    },
    {
      "cell_type": "code",
      "execution_count": null,
      "metadata": {
        "id": "hGzjsHgKKMBv"
      },
      "outputs": [],
      "source": [
        "!="
      ]
    },
    {
      "cell_type": "code",
      "execution_count": null,
      "metadata": {
        "id": "TyVS2AuaKMBv"
      },
      "outputs": [],
      "source": []
    },
    {
      "cell_type": "code",
      "execution_count": null,
      "metadata": {
        "id": "eE4ZUzQUKMBw"
      },
      "outputs": [],
      "source": [
        "40 == 40.00  # Equivalent ints and floats are considered equal"
      ]
    },
    {
      "cell_type": "code",
      "execution_count": null,
      "metadata": {
        "id": "gXMWYFuDKMBw"
      },
      "outputs": [],
      "source": [
        "# Use != to check inequality. (think of != as \"not equal to\")\n",
        "\n",
        "1 != 2"
      ]
    },
    {
      "cell_type": "code",
      "execution_count": null,
      "metadata": {
        "id": "bxq7nm5qKMBw"
      },
      "outputs": [],
      "source": [
        "# Use the keyword \"not\" for negation:\n",
        "\n",
        "not False"
      ]
    },
    {
      "cell_type": "code",
      "execution_count": null,
      "metadata": {
        "id": "bxLl9HLaKMBx"
      },
      "outputs": [],
      "source": [
        "# Use the keyword \"and\" for logical and:\n",
        "\n",
        "(2 > 1) and (10 > 11)"
      ]
    },
    {
      "cell_type": "code",
      "execution_count": null,
      "metadata": {
        "id": "8nOARc2LKMBx"
      },
      "outputs": [],
      "source": [
        "# Use the keyword \"or\" for logical or:\n",
        "\n",
        "(2 > 1) or (10 > 11)"
      ]
    },
    {
      "cell_type": "markdown",
      "metadata": {
        "id": "i665EMfMKMBx"
      },
      "source": [
        "Similar to math expressions, logical expressions have a fixed order of operations. In a logical statement, comparisons like >, < and == are executed first, followed by \"not\", then \"and\" and finally \"or\". See the following link to learn more: [Python operator precedence](https://docs.python.org/3/reference/expressions.html#operator-precedence). Use parentheses to enforce the desired order of operations."
      ]
    },
    {
      "cell_type": "code",
      "execution_count": null,
      "metadata": {
        "id": "i23z_FTsKMBy"
      },
      "outputs": [],
      "source": [
        "2 > 1 or 10 < 8 and not True"
      ]
    },
    {
      "cell_type": "code",
      "execution_count": null,
      "metadata": {
        "id": "pD5hUW7QKMBy"
      },
      "outputs": [],
      "source": [
        "((2 > 1) or (10 < 8)) and (not True)"
      ]
    },
    {
      "cell_type": "markdown",
      "metadata": {
        "id": "kCUWmYVZKMBy"
      },
      "source": [
        "You can convert numbers into boolean values using the bool() function. All numbers other than 0 convert to True:"
      ]
    },
    {
      "cell_type": "code",
      "execution_count": null,
      "metadata": {
        "id": "ePODy-ZeKMBy"
      },
      "outputs": [],
      "source": [
        "bool(1)"
      ]
    },
    {
      "cell_type": "code",
      "execution_count": null,
      "metadata": {
        "id": "urVX8hXgKMBz"
      },
      "outputs": [],
      "source": [
        "bool(0)"
      ]
    },
    {
      "cell_type": "markdown",
      "metadata": {
        "id": "ZYnhgAc4KMBz"
      },
      "source": [
        "# Strings"
      ]
    },
    {
      "cell_type": "markdown",
      "metadata": {
        "id": "RTNb5cV0KMB0"
      },
      "source": [
        "Text data in Python is known as a string or \"str\". Surround text with single or double quotation marks to create a string:"
      ]
    },
    {
      "cell_type": "code",
      "execution_count": null,
      "metadata": {
        "id": "pmPjkstZKMB0"
      },
      "outputs": [],
      "source": [
        "type(\" \") #empty strings"
      ]
    },
    {
      "cell_type": "code",
      "execution_count": null,
      "metadata": {
        "id": "BrxRZGz6KMB1"
      },
      "outputs": [],
      "source": [
        "type('1')"
      ]
    },
    {
      "cell_type": "code",
      "execution_count": null,
      "metadata": {
        "id": "ZfYen7fnKMB2"
      },
      "outputs": [],
      "source": [
        "type(1)"
      ]
    },
    {
      "cell_type": "code",
      "execution_count": null,
      "metadata": {
        "id": "JiZMgL_OKMB2"
      },
      "outputs": [],
      "source": [
        "type(\"cat\")"
      ]
    },
    {
      "cell_type": "code",
      "execution_count": null,
      "metadata": {
        "id": "1jSuJISKKMB3"
      },
      "outputs": [],
      "source": [
        "type('1')"
      ]
    },
    {
      "cell_type": "code",
      "execution_count": null,
      "metadata": {
        "id": "Yc-2SP9qKMB3"
      },
      "outputs": [],
      "source": [
        "type(\"\")"
      ]
    },
    {
      "cell_type": "markdown",
      "metadata": {
        "id": "v9bVCU_0KMB4"
      },
      "source": [
        "Two quotation marks right next to each other (such as '' or \"\") without anything in between them is known as the empty string. The empty string often represents a missing text value.\n",
        "\n",
        "Numeric data and logical data are generally well-behaved, but strings of text data can be very messy and difficult to work with. Cleaning text data is often one of the most laborious steps in preparing real data sets for analysis. We will revisit strings and functions to help you clean text data in future lesson."
      ]
    },
    {
      "cell_type": "code",
      "execution_count": null,
      "metadata": {
        "id": "ghn4xHIcKMB4"
      },
      "outputs": [],
      "source": []
    },
    {
      "cell_type": "code",
      "execution_count": null,
      "metadata": {
        "id": "CrFBvuXcKMB4"
      },
      "outputs": [],
      "source": []
    }
  ],
  "metadata": {
    "kernelspec": {
      "display_name": "Python 3 (ipykernel)",
      "language": "python",
      "name": "python3"
    },
    "language_info": {
      "codemirror_mode": {
        "name": "ipython",
        "version": 3
      },
      "file_extension": ".py",
      "mimetype": "text/x-python",
      "name": "python",
      "nbconvert_exporter": "python",
      "pygments_lexer": "ipython3",
      "version": "3.9.7"
    },
    "colab": {
      "provenance": [],
      "include_colab_link": true
    }
  },
  "nbformat": 4,
  "nbformat_minor": 0
}