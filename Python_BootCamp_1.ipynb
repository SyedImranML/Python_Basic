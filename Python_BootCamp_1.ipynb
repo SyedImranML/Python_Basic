{
 "cells": [
  {
   "cell_type": "markdown",
   "id": "60aff4e4",
   "metadata": {},
   "source": [
    "#### Python Decorators - Functions which modify the functionality of another function/Class"
   ]
  },
  {
   "cell_type": "markdown",
   "id": "35e47695",
   "metadata": {},
   "source": [
    "'''@decname\n",
    "\n",
    "     def func():\n",
    "     \n",
    "        print(\"Python\")\n",
    "  \n",
    "  Equal to\n",
    "  \n",
    "     def func():\n",
    "       print(\"Python\")\n",
    "    \n",
    "    func = decName(func)'''"
   ]
  },
  {
   "cell_type": "markdown",
   "id": "4fa1ff8b",
   "metadata": {},
   "source": [
    "#### Function as Object"
   ]
  },
  {
   "cell_type": "code",
   "execution_count": 3,
   "id": "fb822b2a",
   "metadata": {},
   "outputs": [
    {
     "name": "stdout",
     "output_type": "stream",
     "text": [
      "Hello camp , welcome topython bootcamp !!!\n"
     ]
    }
   ],
   "source": [
    "#Example -1:\n",
    "\n",
    "def welcome(a):\n",
    "    print(\"Hello {0} , welcome topython bootcamp !!!\".format(a))\n",
    "    \n",
    "welcome(\"camp\")"
   ]
  },
  {
   "cell_type": "code",
   "execution_count": 4,
   "id": "dcf71941",
   "metadata": {},
   "outputs": [
    {
     "name": "stdout",
     "output_type": "stream",
     "text": [
      "Hello Champ , welcome topython bootcamp !!!\n"
     ]
    }
   ],
   "source": [
    "#Example -2:\n",
    "\n",
    "def welcome(a):\n",
    "    print(\"Hello {0} , welcome topython bootcamp !!!\".format(a))\n",
    "    \n",
    "a = welcome  # no paranthesis,if its paranthesis it will call function. (Function as Object)\n",
    "\n",
    "a(\"Champ\")\n",
    "    "
   ]
  },
  {
   "cell_type": "markdown",
   "id": "b508068a",
   "metadata": {},
   "source": [
    "#### Function in Variable"
   ]
  },
  {
   "cell_type": "code",
   "execution_count": 5,
   "id": "d755d6c1",
   "metadata": {},
   "outputs": [
    {
     "name": "stdout",
     "output_type": "stream",
     "text": [
      "hello all ,welcome to python boot camp\n",
      "HELLO ALL ,WELCOME TO PYTHON BOOT CAMP\n"
     ]
    }
   ],
   "source": [
    "def lowerCase(welcome):\n",
    "    return welcome.lower()\n",
    "\n",
    "def upperCase(welcome):\n",
    "    return welcome.upper()\n",
    "\n",
    "def a(welcome):\n",
    "    message = welcome(\"Hello all ,welcome to python boot camp\") #Function in variable\n",
    "    print(message)\n",
    "\n",
    "a(lowerCase)\n",
    "a(upperCase)\n",
    "\n"
   ]
  },
  {
   "cell_type": "code",
   "execution_count": 13,
   "id": "051a7437",
   "metadata": {},
   "outputs": [
    {
     "name": "stdout",
     "output_type": "stream",
     "text": [
      "hello all ,welcome to python boot camp\n",
      "HELLO ALL ,WELCOME TO PYTHON BOOT CAMP\n"
     ]
    }
   ],
   "source": [
    "def lowerCase(text):\n",
    "    return text.lower()\n",
    "\n",
    "def upperCase(text):\n",
    "    return text.upper()\n",
    "\n",
    "def a(welcome):\n",
    "    message = welcome(\"Hello all ,welcome to python boot camp\") #Function in variable\n",
    "    print(message)\n",
    "\n",
    "a(lowerCase)\n",
    "a(upperCase)"
   ]
  },
  {
   "cell_type": "markdown",
   "id": "074869cf",
   "metadata": {},
   "source": [
    "#### Returning Function from another Function"
   ]
  },
  {
   "cell_type": "code",
   "execution_count": 14,
   "id": "5c2f84cc",
   "metadata": {},
   "outputs": [
    {
     "name": "stdout",
     "output_type": "stream",
     "text": [
      "100 75\n",
      "175\n"
     ]
    }
   ],
   "source": [
    "def addMain(a):\n",
    "    def addSub(b):\n",
    "        print(a,b)\n",
    "        return a+b\n",
    "    return addSub\n",
    "\n",
    "addition = addMain(100)\n",
    "print(addition(75))"
   ]
  },
  {
   "cell_type": "markdown",
   "id": "bd931914",
   "metadata": {},
   "source": [
    "#### Decorators in Action\n"
   ]
  },
  {
   "cell_type": "code",
   "execution_count": 30,
   "id": "84c36b64",
   "metadata": {},
   "outputs": [
    {
     "name": "stdout",
     "output_type": "stream",
     "text": [
      "Start\n",
      "Sub fn\n",
      "End\n"
     ]
    }
   ],
   "source": [
    "def decoratorFunc(welcome): #2. Decorator\n",
    "    def a():  # 3. Can access the outer local function like in this case \"welcome\"\n",
    "       print(\"Start\")\n",
    "       welcome() #4. Calling actual function.\n",
    "       print(\"End\")\n",
    "    return a\n",
    "    \n",
    "def subFunc():\n",
    "    print(\"Sub fn\")\n",
    "        \n",
    "subFunc = decoratorFunc(subFunc) \n",
    "\n",
    "subFunc()"
   ]
  },
  {
   "cell_type": "markdown",
   "id": "b62c1726",
   "metadata": {},
   "source": [
    "#### Python Generator is a simply way of creating iterator"
   ]
  },
  {
   "cell_type": "code",
   "execution_count": 31,
   "id": "6cbc893e",
   "metadata": {},
   "outputs": [],
   "source": [
    "# Example -1\n",
    "\n",
    "def remote_control_next():\n",
    "    yield \"BBC\"\n",
    "    yield \"Cnn\"\n",
    "    yield \"ABN\"\n",
    "    "
   ]
  },
  {
   "cell_type": "code",
   "execution_count": 34,
   "id": "f88131cd",
   "metadata": {},
   "outputs": [],
   "source": [
    "itr=remote_control_next()"
   ]
  },
  {
   "cell_type": "code",
   "execution_count": 35,
   "id": "483c6327",
   "metadata": {},
   "outputs": [
    {
     "data": {
      "text/plain": [
       "<generator object remote_control_next at 0x00000215619DAEB0>"
      ]
     },
     "execution_count": 35,
     "metadata": {},
     "output_type": "execute_result"
    }
   ],
   "source": [
    "itr  # it shows as generator object"
   ]
  },
  {
   "cell_type": "code",
   "execution_count": 36,
   "id": "46021ab6",
   "metadata": {},
   "outputs": [
    {
     "data": {
      "text/plain": [
       "'BBC'"
      ]
     },
     "execution_count": 36,
     "metadata": {},
     "output_type": "execute_result"
    }
   ],
   "source": [
    "next(itr)"
   ]
  },
  {
   "cell_type": "code",
   "execution_count": 37,
   "id": "e32f0afa",
   "metadata": {},
   "outputs": [
    {
     "data": {
      "text/plain": [
       "'Cnn'"
      ]
     },
     "execution_count": 37,
     "metadata": {},
     "output_type": "execute_result"
    }
   ],
   "source": [
    "next(itr)"
   ]
  },
  {
   "cell_type": "code",
   "execution_count": 38,
   "id": "69b557f5",
   "metadata": {},
   "outputs": [
    {
     "data": {
      "text/plain": [
       "'ABN'"
      ]
     },
     "execution_count": 38,
     "metadata": {},
     "output_type": "execute_result"
    }
   ],
   "source": [
    "next(itr)"
   ]
  },
  {
   "cell_type": "code",
   "execution_count": 39,
   "id": "05bddd03",
   "metadata": {},
   "outputs": [
    {
     "ename": "StopIteration",
     "evalue": "",
     "output_type": "error",
     "traceback": [
      "\u001b[1;31m---------------------------------------------------------------------------\u001b[0m",
      "\u001b[1;31mStopIteration\u001b[0m                             Traceback (most recent call last)",
      "\u001b[1;32m<ipython-input-39-6693cc261707>\u001b[0m in \u001b[0;36m<module>\u001b[1;34m\u001b[0m\n\u001b[1;32m----> 1\u001b[1;33m \u001b[0mnext\u001b[0m\u001b[1;33m(\u001b[0m\u001b[0mitr\u001b[0m\u001b[1;33m)\u001b[0m\u001b[1;33m\u001b[0m\u001b[1;33m\u001b[0m\u001b[0m\n\u001b[0m",
      "\u001b[1;31mStopIteration\u001b[0m: "
     ]
    }
   ],
   "source": [
    "next(itr)"
   ]
  },
  {
   "cell_type": "code",
   "execution_count": 41,
   "id": "442653a6",
   "metadata": {},
   "outputs": [
    {
     "name": "stdout",
     "output_type": "stream",
     "text": [
      "BBC\n",
      "Cnn\n",
      "ABN\n"
     ]
    }
   ],
   "source": [
    "# ALternative method is for loop also works on generator\n",
    "\n",
    "for i in remote_control_next():\n",
    "    print(i)"
   ]
  },
  {
   "cell_type": "code",
   "execution_count": 45,
   "id": "bdea3a6c",
   "metadata": {},
   "outputs": [],
   "source": [
    "# Example -2:\n",
    "\n",
    "def square(n):\n",
    "    for i in range(n):\n",
    "        yield i**2\n"
   ]
  },
  {
   "cell_type": "code",
   "execution_count": 47,
   "id": "31dca3c9",
   "metadata": {},
   "outputs": [
    {
     "name": "stdout",
     "output_type": "stream",
     "text": [
      "0\n"
     ]
    }
   ],
   "source": [
    "a=square(10)\n",
    "print(next(a))"
   ]
  },
  {
   "cell_type": "code",
   "execution_count": 48,
   "id": "89b12eb1",
   "metadata": {},
   "outputs": [
    {
     "name": "stdout",
     "output_type": "stream",
     "text": [
      "1\n"
     ]
    }
   ],
   "source": [
    "print(next(a))"
   ]
  },
  {
   "cell_type": "code",
   "execution_count": 49,
   "id": "779fd34a",
   "metadata": {},
   "outputs": [
    {
     "name": "stdout",
     "output_type": "stream",
     "text": [
      "4\n"
     ]
    }
   ],
   "source": [
    "print(next(a))"
   ]
  },
  {
   "cell_type": "markdown",
   "id": "c0feb1ec",
   "metadata": {},
   "source": [
    "#### Iterators\n",
    "\n"
   ]
  },
  {
   "cell_type": "code",
   "execution_count": 50,
   "id": "9a51d52d",
   "metadata": {},
   "outputs": [
    {
     "name": "stdout",
     "output_type": "stream",
     "text": [
      "hey\n",
      "bro\n",
      "you'r\n",
      "awesome\n"
     ]
    }
   ],
   "source": [
    "#Example:1\n",
    "\n",
    "a = [\"hey\",\"bro\",\"you'r\",\"awesome\"]\n",
    "\n",
    "for i in a:\n",
    "    print(i)"
   ]
  },
  {
   "cell_type": "code",
   "execution_count": 51,
   "id": "7ea0b851",
   "metadata": {},
   "outputs": [
    {
     "data": {
      "text/plain": [
       "['__add__',\n",
       " '__class__',\n",
       " '__contains__',\n",
       " '__delattr__',\n",
       " '__delitem__',\n",
       " '__dir__',\n",
       " '__doc__',\n",
       " '__eq__',\n",
       " '__format__',\n",
       " '__ge__',\n",
       " '__getattribute__',\n",
       " '__getitem__',\n",
       " '__gt__',\n",
       " '__hash__',\n",
       " '__iadd__',\n",
       " '__imul__',\n",
       " '__init__',\n",
       " '__init_subclass__',\n",
       " '__iter__',\n",
       " '__le__',\n",
       " '__len__',\n",
       " '__lt__',\n",
       " '__mul__',\n",
       " '__ne__',\n",
       " '__new__',\n",
       " '__reduce__',\n",
       " '__reduce_ex__',\n",
       " '__repr__',\n",
       " '__reversed__',\n",
       " '__rmul__',\n",
       " '__setattr__',\n",
       " '__setitem__',\n",
       " '__sizeof__',\n",
       " '__str__',\n",
       " '__subclasshook__',\n",
       " 'append',\n",
       " 'clear',\n",
       " 'copy',\n",
       " 'count',\n",
       " 'extend',\n",
       " 'index',\n",
       " 'insert',\n",
       " 'pop',\n",
       " 'remove',\n",
       " 'reverse',\n",
       " 'sort']"
      ]
     },
     "execution_count": 51,
     "metadata": {},
     "output_type": "execute_result"
    }
   ],
   "source": [
    "dir(a)"
   ]
  },
  {
   "cell_type": "code",
   "execution_count": 53,
   "id": "c454c3a4",
   "metadata": {},
   "outputs": [],
   "source": [
    "itr=iter(a)"
   ]
  },
  {
   "cell_type": "code",
   "execution_count": 54,
   "id": "302729da",
   "metadata": {},
   "outputs": [
    {
     "data": {
      "text/plain": [
       "'hey'"
      ]
     },
     "execution_count": 54,
     "metadata": {},
     "output_type": "execute_result"
    }
   ],
   "source": [
    "next(itr)"
   ]
  },
  {
   "cell_type": "code",
   "execution_count": 55,
   "id": "c87ae182",
   "metadata": {},
   "outputs": [
    {
     "data": {
      "text/plain": [
       "'bro'"
      ]
     },
     "execution_count": 55,
     "metadata": {},
     "output_type": "execute_result"
    }
   ],
   "source": [
    "next(itr)"
   ]
  },
  {
   "cell_type": "code",
   "execution_count": 56,
   "id": "1f95c443",
   "metadata": {},
   "outputs": [
    {
     "data": {
      "text/plain": [
       "\"you'r\""
      ]
     },
     "execution_count": 56,
     "metadata": {},
     "output_type": "execute_result"
    }
   ],
   "source": [
    "next(itr)"
   ]
  },
  {
   "cell_type": "code",
   "execution_count": 57,
   "id": "1d14015b",
   "metadata": {},
   "outputs": [
    {
     "data": {
      "text/plain": [
       "'awesome'"
      ]
     },
     "execution_count": 57,
     "metadata": {},
     "output_type": "execute_result"
    }
   ],
   "source": [
    "next(itr)"
   ]
  },
  {
   "cell_type": "code",
   "execution_count": 58,
   "id": "703266ff",
   "metadata": {},
   "outputs": [
    {
     "ename": "StopIteration",
     "evalue": "",
     "output_type": "error",
     "traceback": [
      "\u001b[1;31m---------------------------------------------------------------------------\u001b[0m",
      "\u001b[1;31mStopIteration\u001b[0m                             Traceback (most recent call last)",
      "\u001b[1;32m<ipython-input-58-6693cc261707>\u001b[0m in \u001b[0;36m<module>\u001b[1;34m\u001b[0m\n\u001b[1;32m----> 1\u001b[1;33m \u001b[0mnext\u001b[0m\u001b[1;33m(\u001b[0m\u001b[0mitr\u001b[0m\u001b[1;33m)\u001b[0m\u001b[1;33m\u001b[0m\u001b[1;33m\u001b[0m\u001b[0m\n\u001b[0m",
      "\u001b[1;31mStopIteration\u001b[0m: "
     ]
    }
   ],
   "source": [
    "next(itr)"
   ]
  },
  {
   "cell_type": "code",
   "execution_count": 59,
   "id": "b1ee8527",
   "metadata": {},
   "outputs": [
    {
     "name": "stdout",
     "output_type": "stream",
     "text": [
      "1\n",
      "2\n",
      "3\n"
     ]
    }
   ],
   "source": [
    "# Example:2\n",
    "\n",
    "for element in [1,2,3]:\n",
    "    print(element)"
   ]
  },
  {
   "cell_type": "code",
   "execution_count": 60,
   "id": "8c566f59",
   "metadata": {},
   "outputs": [
    {
     "name": "stdout",
     "output_type": "stream",
     "text": [
      "1\n",
      "2\n",
      "3\n"
     ]
    }
   ],
   "source": [
    "for element in (1,2,3):\n",
    "    print(element)"
   ]
  },
  {
   "cell_type": "code",
   "execution_count": 61,
   "id": "1304802d",
   "metadata": {},
   "outputs": [
    {
     "name": "stdout",
     "output_type": "stream",
     "text": [
      "one\n",
      "two\n"
     ]
    }
   ],
   "source": [
    "for key in {'one':1,'two':2}:\n",
    "    print(key)"
   ]
  },
  {
   "cell_type": "code",
   "execution_count": 62,
   "id": "0174aec3",
   "metadata": {},
   "outputs": [
    {
     "name": "stdout",
     "output_type": "stream",
     "text": [
      "1\n",
      "2\n",
      "3\n"
     ]
    }
   ],
   "source": [
    "for char in \"123\":\n",
    "    print(char)"
   ]
  },
  {
   "cell_type": "code",
   "execution_count": 63,
   "id": "3c714110",
   "metadata": {},
   "outputs": [
    {
     "name": "stdout",
     "output_type": "stream",
     "text": [
      "p\n",
      "y\n",
      "t\n",
      "h\n",
      "o\n",
      "n\n"
     ]
    }
   ],
   "source": [
    "for char in \"python\":\n",
    "    print(char)"
   ]
  },
  {
   "cell_type": "code",
   "execution_count": 64,
   "id": "390b332e",
   "metadata": {},
   "outputs": [
    {
     "name": "stdout",
     "output_type": "stream",
     "text": [
      "welcome\n",
      "to \n",
      "python"
     ]
    }
   ],
   "source": [
    "for line in open(\"myfile.txt\"):\n",
    "    print(line,end='')"
   ]
  },
  {
   "cell_type": "markdown",
   "id": "f09556c4",
   "metadata": {},
   "source": [
    "#### Reversed Method"
   ]
  },
  {
   "cell_type": "code",
   "execution_count": 65,
   "id": "13fc5123",
   "metadata": {},
   "outputs": [],
   "source": [
    "a = [\"hey\",\"bro\",\"you'r\",\"awesome\"]\n",
    "itr=reversed(a)"
   ]
  },
  {
   "cell_type": "code",
   "execution_count": 66,
   "id": "65006e28",
   "metadata": {},
   "outputs": [
    {
     "data": {
      "text/plain": [
       "'awesome'"
      ]
     },
     "execution_count": 66,
     "metadata": {},
     "output_type": "execute_result"
    }
   ],
   "source": [
    "next(itr)"
   ]
  },
  {
   "cell_type": "code",
   "execution_count": 67,
   "id": "0174f3ae",
   "metadata": {},
   "outputs": [
    {
     "data": {
      "text/plain": [
       "\"you'r\""
      ]
     },
     "execution_count": 67,
     "metadata": {},
     "output_type": "execute_result"
    }
   ],
   "source": [
    "next(itr)"
   ]
  },
  {
   "cell_type": "code",
   "execution_count": 68,
   "id": "e1b6597d",
   "metadata": {},
   "outputs": [
    {
     "data": {
      "text/plain": [
       "'bro'"
      ]
     },
     "execution_count": 68,
     "metadata": {},
     "output_type": "execute_result"
    }
   ],
   "source": [
    "next(itr)"
   ]
  },
  {
   "cell_type": "code",
   "execution_count": 69,
   "id": "42a23330",
   "metadata": {},
   "outputs": [
    {
     "data": {
      "text/plain": [
       "'hey'"
      ]
     },
     "execution_count": 69,
     "metadata": {},
     "output_type": "execute_result"
    }
   ],
   "source": [
    "next(itr)"
   ]
  },
  {
   "cell_type": "code",
   "execution_count": 70,
   "id": "b463509e",
   "metadata": {},
   "outputs": [
    {
     "ename": "StopIteration",
     "evalue": "",
     "output_type": "error",
     "traceback": [
      "\u001b[1;31m---------------------------------------------------------------------------\u001b[0m",
      "\u001b[1;31mStopIteration\u001b[0m                             Traceback (most recent call last)",
      "\u001b[1;32m<ipython-input-70-6693cc261707>\u001b[0m in \u001b[0;36m<module>\u001b[1;34m\u001b[0m\n\u001b[1;32m----> 1\u001b[1;33m \u001b[0mnext\u001b[0m\u001b[1;33m(\u001b[0m\u001b[0mitr\u001b[0m\u001b[1;33m)\u001b[0m\u001b[1;33m\u001b[0m\u001b[1;33m\u001b[0m\u001b[0m\n\u001b[0m",
      "\u001b[1;31mStopIteration\u001b[0m: "
     ]
    }
   ],
   "source": [
    "next(itr)"
   ]
  },
  {
   "cell_type": "code",
   "execution_count": 71,
   "id": "35f7bc37",
   "metadata": {},
   "outputs": [
    {
     "data": {
      "text/plain": [
       "['__add__',\n",
       " '__class__',\n",
       " '__contains__',\n",
       " '__delattr__',\n",
       " '__delitem__',\n",
       " '__dir__',\n",
       " '__doc__',\n",
       " '__eq__',\n",
       " '__format__',\n",
       " '__ge__',\n",
       " '__getattribute__',\n",
       " '__getitem__',\n",
       " '__gt__',\n",
       " '__hash__',\n",
       " '__iadd__',\n",
       " '__imul__',\n",
       " '__init__',\n",
       " '__init_subclass__',\n",
       " '__iter__',\n",
       " '__le__',\n",
       " '__len__',\n",
       " '__lt__',\n",
       " '__mul__',\n",
       " '__ne__',\n",
       " '__new__',\n",
       " '__reduce__',\n",
       " '__reduce_ex__',\n",
       " '__repr__',\n",
       " '__reversed__',\n",
       " '__rmul__',\n",
       " '__setattr__',\n",
       " '__setitem__',\n",
       " '__sizeof__',\n",
       " '__str__',\n",
       " '__subclasshook__',\n",
       " 'append',\n",
       " 'clear',\n",
       " 'copy',\n",
       " 'count',\n",
       " 'extend',\n",
       " 'index',\n",
       " 'insert',\n",
       " 'pop',\n",
       " 'remove',\n",
       " 'reverse',\n",
       " 'sort']"
      ]
     },
     "execution_count": 71,
     "metadata": {},
     "output_type": "execute_result"
    }
   ],
   "source": [
    "dir(a)"
   ]
  },
  {
   "cell_type": "markdown",
   "id": "0a44df12",
   "metadata": {},
   "source": [
    "### Decorators act as a wrapper for your original function\n"
   ]
  },
  {
   "cell_type": "code",
   "execution_count": 75,
   "id": "0b04fc86",
   "metadata": {},
   "outputs": [],
   "source": [
    "def calc_square(numbers):\n",
    "    result=[]\n",
    "    for number in numbers:\n",
    "        result.append(number*number)\n",
    "    return result"
   ]
  },
  {
   "cell_type": "code",
   "execution_count": 78,
   "id": "0a2c7890",
   "metadata": {},
   "outputs": [],
   "source": [
    "array= range(1,20)\n",
    "out_square=calc_square(array)"
   ]
  },
  {
   "cell_type": "code",
   "execution_count": 79,
   "id": "e209ce6b",
   "metadata": {},
   "outputs": [
    {
     "name": "stdout",
     "output_type": "stream",
     "text": [
      "[1, 4, 9, 16, 25, 36, 49, 64, 81, 100, 121, 144, 169, 196, 225, 256, 289, 324, 361]\n"
     ]
    }
   ],
   "source": [
    "print(out_square)"
   ]
  },
  {
   "cell_type": "code",
   "execution_count": 81,
   "id": "fbbb0f24",
   "metadata": {},
   "outputs": [],
   "source": [
    "def calc_cube(numbers):\n",
    "    result=[]\n",
    "    for number in numbers:\n",
    "        result.append(number*number*number)\n",
    "    return result"
   ]
  },
  {
   "cell_type": "code",
   "execution_count": 82,
   "id": "e1c47ca8",
   "metadata": {},
   "outputs": [],
   "source": [
    "array= range(1,20)\n",
    "out_cube=calc_cube(array)"
   ]
  },
  {
   "cell_type": "code",
   "execution_count": 83,
   "id": "f13d8baf",
   "metadata": {},
   "outputs": [
    {
     "name": "stdout",
     "output_type": "stream",
     "text": [
      "[1, 8, 27, 64, 125, 216, 343, 512, 729, 1000, 1331, 1728, 2197, 2744, 3375, 4096, 4913, 5832, 6859]\n"
     ]
    }
   ],
   "source": [
    "print(out_cube)"
   ]
  },
  {
   "cell_type": "code",
   "execution_count": 84,
   "id": "cf09c24e",
   "metadata": {},
   "outputs": [],
   "source": [
    "def calc_square(numbers):\n",
    "    result=[]\n",
    "    for number in numbers:\n",
    "        result.append(number*number)\n",
    "    return result\n",
    "\n",
    "def calc_cube(numbers):\n",
    "    result=[]\n",
    "    for number in numbers:\n",
    "        result.append(number*number*number)\n",
    "    return result\n",
    "\n",
    "array= range(1,20)\n",
    "out_square=calc_square(array)\n",
    "out_cube=calc_cube(array)"
   ]
  },
  {
   "cell_type": "code",
   "execution_count": 85,
   "id": "daa75aa9",
   "metadata": {},
   "outputs": [
    {
     "name": "stdout",
     "output_type": "stream",
     "text": [
      "[1, 4, 9, 16, 25, 36, 49, 64, 81, 100, 121, 144, 169, 196, 225, 256, 289, 324, 361]\n",
      "\n",
      "[1, 8, 27, 64, 125, 216, 343, 512, 729, 1000, 1331, 1728, 2197, 2744, 3375, 4096, 4913, 5832, 6859]\n"
     ]
    }
   ],
   "source": [
    "print(out_square)\n",
    "print(\"\")\n",
    "print(out_cube)"
   ]
  },
  {
   "cell_type": "code",
   "execution_count": 87,
   "id": "88a484bd",
   "metadata": {},
   "outputs": [],
   "source": [
    "# what to know how time each function took for execution to do so import time library "
   ]
  },
  {
   "cell_type": "code",
   "execution_count": 96,
   "id": "3a935d97",
   "metadata": {},
   "outputs": [
    {
     "name": "stdout",
     "output_type": "stream",
     "text": [
      "Calc_square took 38.896799087524414 mil sec\n",
      "Calc_cube took 31.93521499633789 mil sec\n"
     ]
    }
   ],
   "source": [
    "import time\n",
    "def calc_square(numbers):\n",
    "    start = time.time()\n",
    "    result=[]\n",
    "    for number in numbers:\n",
    "        result.append(number*number)\n",
    "    end = time.time()\n",
    "    print(\"Calc_square took \" + str ((end-start)*1000) + \" mil sec\")\n",
    "    return result\n",
    "\n",
    "def calc_cube(numbers):\n",
    "    start =time.time()\n",
    "    result=[]\n",
    "    for number in numbers:\n",
    "        result.append(number*number*number)\n",
    "    end =time.time()\n",
    "    print(\"Calc_cube took \" + str((end-start)*1000) + \" mil sec\")\n",
    "    return result\n",
    "\n",
    "array= range(1,100000)\n",
    "out_square=calc_square(array)\n",
    "out_cube=calc_cube(array)"
   ]
  },
  {
   "cell_type": "code",
   "execution_count": 98,
   "id": "764e57bc",
   "metadata": {},
   "outputs": [
    {
     "name": "stdout",
     "output_type": "stream",
     "text": [
      "calc_square took 30.915260314941406 mil sec \n",
      "calc_cube took 40.891170501708984 mil sec \n"
     ]
    }
   ],
   "source": [
    "import time\n",
    "\n",
    "def time_it(func):\n",
    "    def wrapper(*args,**kwargs):\n",
    "        start = time.time()\n",
    "        result = func(*args,**kwargs)\n",
    "        end = time.time()\n",
    "        print(func.__name__ + \" took \" + str((end-start)*1000) + \" mil sec \")\n",
    "        return result\n",
    "    return wrapper\n",
    "\n",
    "@time_it\n",
    "def calc_square(numbers):\n",
    "    result=[]\n",
    "    for number in numbers:\n",
    "        result.append(number*number)\n",
    "    return result\n",
    "\n",
    "@time_it\n",
    "def calc_cube(numbers):\n",
    "    result=[]\n",
    "    for number in numbers:\n",
    "        result.append(number*number*number)\n",
    "    return result\n",
    "\n",
    "array= range(1,100000)\n",
    "out_square=calc_square(array)\n",
    "out_cube=calc_cube(array)"
   ]
  },
  {
   "cell_type": "code",
   "execution_count": null,
   "id": "134cf3c6",
   "metadata": {},
   "outputs": [],
   "source": []
  }
 ],
 "metadata": {
  "kernelspec": {
   "display_name": "Python 3",
   "language": "python",
   "name": "python3"
  },
  "language_info": {
   "codemirror_mode": {
    "name": "ipython",
    "version": 3
   },
   "file_extension": ".py",
   "mimetype": "text/x-python",
   "name": "python",
   "nbconvert_exporter": "python",
   "pygments_lexer": "ipython3",
   "version": "3.8.8"
  }
 },
 "nbformat": 4,
 "nbformat_minor": 5
}
