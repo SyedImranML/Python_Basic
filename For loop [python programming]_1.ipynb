{
 "cells": [
  {
   "cell_type": "markdown",
   "id": "05ad6f08",
   "metadata": {},
   "source": [
    "Problem : Store monthly expenses in a list and find out total expenses for all months."
   ]
  },
  {
   "cell_type": "code",
   "execution_count": 2,
   "id": "028d3122",
   "metadata": {},
   "outputs": [
    {
     "name": "stdout",
     "output_type": "stream",
     "text": [
      "13870\n"
     ]
    }
   ],
   "source": [
    "# Normal \n",
    "\n",
    "exp =[2300,2500,3000,2970,3100]\n",
    "total=exp[0]+exp[1]+exp[2]+exp[3]+exp[4]\n",
    "print(total)"
   ]
  },
  {
   "cell_type": "markdown",
   "id": "b97ec097",
   "metadata": {},
   "source": [
    "Use Ctrl / shortcut to comment a line"
   ]
  },
  {
   "cell_type": "code",
   "execution_count": 3,
   "id": "d3a47a0e",
   "metadata": {},
   "outputs": [
    {
     "name": "stdout",
     "output_type": "stream",
     "text": [
      "13870\n"
     ]
    }
   ],
   "source": [
    "# using loop\n",
    "total=0\n",
    "for item in exp:\n",
    "    total=total+item\n",
    "print(total)"
   ]
  },
  {
   "cell_type": "code",
   "execution_count": 5,
   "id": "56d4cba3",
   "metadata": {},
   "outputs": [
    {
     "name": "stdout",
     "output_type": "stream",
     "text": [
      "1\n",
      "4\n",
      "9\n",
      "16\n",
      "25\n",
      "36\n",
      "49\n",
      "64\n",
      "81\n",
      "100\n"
     ]
    }
   ],
   "source": [
    "for i in range(1,11):\n",
    "    print(i*i)"
   ]
  },
  {
   "cell_type": "markdown",
   "id": "b1017566",
   "metadata": {},
   "source": [
    "Problem : In our monthly expense example print month number and expenses and then in the end print total expenses."
   ]
  },
  {
   "cell_type": "code",
   "execution_count": 6,
   "id": "158973cd",
   "metadata": {},
   "outputs": [
    {
     "name": "stdout",
     "output_type": "stream",
     "text": [
      "Month: 1 Expense: 2300\n",
      "Month: 2 Expense: 2500\n",
      "Month: 3 Expense: 3000\n",
      "Month: 4 Expense: 2970\n",
      "Month: 5 Expense: 3100\n",
      "Total expense is : 13870\n"
     ]
    }
   ],
   "source": [
    "exp =[2300,2500,3000,2970,3100]\n",
    "total=0\n",
    "for i in range(len(exp)):\n",
    "    print('Month:', (i+1) , 'Expense:',exp[i])\n",
    "    total=total+exp[i]\n",
    "print('Total expense is :',total)"
   ]
  },
  {
   "cell_type": "code",
   "execution_count": 8,
   "id": "d3708d75",
   "metadata": {},
   "outputs": [
    {
     "name": "stdout",
     "output_type": "stream",
     "text": [
      "Month: 1 Expense: 2300\n",
      "Month: 2 Expense: 2500\n",
      "Month: 3 Expense: 3000\n",
      "Month: 4 Expense: 2970\n",
      "Month: 5 Expense: 3100\n",
      "Total expense is : 13870\n"
     ]
    }
   ],
   "source": [
    "exp =[2300,2500,3000,2970,3100]\n",
    "total=0\n",
    "for i in range(0,5):\n",
    "    print('Month:', (i+1) , 'Expense:',exp[i])\n",
    "    total=total+exp[i]\n",
    "print('Total expense is :',total)"
   ]
  },
  {
   "cell_type": "markdown",
   "id": "d00e736b",
   "metadata": {},
   "source": [
    "Search for lost car key in home and when found stop searching\n"
   ]
  },
  {
   "cell_type": "code",
   "execution_count": 9,
   "id": "de8e76fa",
   "metadata": {},
   "outputs": [
    {
     "name": "stdout",
     "output_type": "stream",
     "text": [
      "Key is not found in  living room\n",
      "Key is not found in  closet\n",
      "Key is not found in  garage\n",
      "Key is found in  chair\n",
      "Key is not found in  setting room\n"
     ]
    }
   ],
   "source": [
    "key_location=\"chair\"\n",
    "locations=[\"living room\",'closet','garage','chair','setting room']\n",
    "for i in locations:\n",
    "    if i==key_location:\n",
    "        print(\"Key is found in \",i)\n",
    "    else:\n",
    "        print(\"Key is not found in \",i)"
   ]
  },
  {
   "cell_type": "code",
   "execution_count": 10,
   "id": "d1897c11",
   "metadata": {},
   "outputs": [
    {
     "name": "stdout",
     "output_type": "stream",
     "text": [
      "Key is not found in  living room\n",
      "Key is not found in  closet\n",
      "Key is not found in  garage\n",
      "Key is found in  chair\n"
     ]
    }
   ],
   "source": [
    "key_location=\"chair\"\n",
    "locations=[\"living room\",'closet','garage','chair','setting room']\n",
    "for i in locations:\n",
    "    if i==key_location:\n",
    "        print(\"Key is found in \",i)\n",
    "        break\n",
    "    else:\n",
    "        print(\"Key is not found in \",i)"
   ]
  },
  {
   "cell_type": "code",
   "execution_count": 11,
   "id": "a1fca0d5",
   "metadata": {},
   "outputs": [
    {
     "data": {
      "text/plain": [
       "{'syed Imran': 1234567, 'John': 2345612, 'Smith': 7654321}"
      ]
     },
     "execution_count": 11,
     "metadata": {},
     "output_type": "execute_result"
    }
   ],
   "source": [
    "# dictionary using for loop\n",
    "d={\"syed Imran\":1234567,\"John\":2345612,\"Smith\":7654321}\n",
    "d"
   ]
  },
  {
   "cell_type": "code",
   "execution_count": 14,
   "id": "9224071f",
   "metadata": {},
   "outputs": [
    {
     "data": {
      "text/plain": [
       "1234567"
      ]
     },
     "execution_count": 14,
     "metadata": {},
     "output_type": "execute_result"
    }
   ],
   "source": [
    "d[\"syed Imran\"]"
   ]
  },
  {
   "cell_type": "code",
   "execution_count": 15,
   "id": "8b13a8d2",
   "metadata": {},
   "outputs": [
    {
     "name": "stdout",
     "output_type": "stream",
     "text": [
      "Key: syed Imran Value: 1234567\n",
      "Key: John Value: 2345612\n",
      "Key: Smith Value: 7654321\n"
     ]
    }
   ],
   "source": [
    "for key in d:\n",
    "    print(\"Key:\",key,\"Value:\",d[key])"
   ]
  },
  {
   "cell_type": "code",
   "execution_count": null,
   "id": "d4c2feef",
   "metadata": {},
   "outputs": [],
   "source": []
  }
 ],
 "metadata": {
  "kernelspec": {
   "display_name": "Python 3",
   "language": "python",
   "name": "python3"
  },
  "language_info": {
   "codemirror_mode": {
    "name": "ipython",
    "version": 3
   },
   "file_extension": ".py",
   "mimetype": "text/x-python",
   "name": "python",
   "nbconvert_exporter": "python",
   "pygments_lexer": "ipython3",
   "version": "3.8.8"
  }
 },
 "nbformat": 4,
 "nbformat_minor": 5
}
