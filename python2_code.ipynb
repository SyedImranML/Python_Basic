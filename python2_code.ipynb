{
 "cells": [
  {
   "cell_type": "code",
   "execution_count": 1,
   "id": "b27ce56e",
   "metadata": {},
   "outputs": [
    {
     "name": "stdout",
     "output_type": "stream",
     "text": [
      "Counter({5: 3, 6: 2, 8: 2, 4: 1, 7: 1, 9: 1, 2: 1, 1: 1, 3: 1})\n"
     ]
    }
   ],
   "source": [
    "#countter\n",
    "\n",
    "from collections import Counter\n",
    "print(Counter([5,6,8,4,7,5,9,6,2,1,3,5,8]))"
   ]
  },
  {
   "cell_type": "code",
   "execution_count": 2,
   "id": "4eac5c18",
   "metadata": {},
   "outputs": [
    {
     "name": "stdout",
     "output_type": "stream",
     "text": [
      "Counter({'d': 6, 'a': 6, 's': 5})\n"
     ]
    }
   ],
   "source": [
    "print(Counter('sdasdasdadasdasda'))  # String"
   ]
  },
  {
   "cell_type": "code",
   "execution_count": 3,
   "id": "37993df7",
   "metadata": {},
   "outputs": [
    {
     "name": "stdout",
     "output_type": "stream",
     "text": [
      "Counter({1.2: 2, 3.2: 1, 3: 1})\n"
     ]
    }
   ],
   "source": [
    "print(Counter([1.2,3.2,1.2,3]))"
   ]
  },
  {
   "cell_type": "code",
   "execution_count": 4,
   "id": "28147126",
   "metadata": {},
   "outputs": [
    {
     "name": "stdout",
     "output_type": "stream",
     "text": [
      "Counter({1: 1, 2: 1, 3: 1, 'hasdh': 1})\n"
     ]
    }
   ],
   "source": [
    "print(Counter([1,2,3,'hasdh']))"
   ]
  },
  {
   "cell_type": "code",
   "execution_count": 5,
   "id": "dc6720ce",
   "metadata": {},
   "outputs": [
    {
     "data": {
      "text/plain": [
       "['16-11-2016']"
      ]
     },
     "execution_count": 5,
     "metadata": {},
     "output_type": "execute_result"
    }
   ],
   "source": [
    "# Regular expression\n",
    "\n",
    "import re\n",
    "patt = r'\\d{2}-\\d{2}-\\d{4}'\n",
    "message=\"His birthday is 16-11-2016\"\n",
    "re.findall(patt,message)"
   ]
  },
  {
   "cell_type": "code",
   "execution_count": 6,
   "id": "427c7299",
   "metadata": {},
   "outputs": [
    {
     "name": "stdout",
     "output_type": "stream",
     "text": [
      "Hello All\n",
      "welcome to python Bootcamp\n",
      "nice to see you all\n"
     ]
    }
   ],
   "source": [
    "# Working with files\n",
    "\n",
    "f=open(\"welcome.txt\",\"r\")\n",
    "print(f.read())\n",
    "f.close()"
   ]
  },
  {
   "cell_type": "code",
   "execution_count": 7,
   "id": "68cbdb4a",
   "metadata": {},
   "outputs": [
    {
     "name": "stdout",
     "output_type": "stream",
     "text": [
      "Hello\n"
     ]
    }
   ],
   "source": [
    "f=open(\"welcome.txt\",\"r\")\n",
    "print(f.read(5))\n",
    "f.close()"
   ]
  },
  {
   "cell_type": "code",
   "execution_count": 8,
   "id": "504f171b",
   "metadata": {},
   "outputs": [
    {
     "name": "stdout",
     "output_type": "stream",
     "text": [
      "Hello All\n",
      "\n"
     ]
    }
   ],
   "source": [
    "f=open(\"welcome.txt\",\"r\")\n",
    "print(f.readline())\n",
    "f.close()"
   ]
  },
  {
   "cell_type": "code",
   "execution_count": 9,
   "id": "927babad",
   "metadata": {},
   "outputs": [
    {
     "name": "stdout",
     "output_type": "stream",
     "text": [
      "Hello All\n",
      "\n",
      "welcome to python Bootcamp\n",
      "\n",
      "nice to see you all\n"
     ]
    }
   ],
   "source": [
    "f=open(\"welcome.txt\",\"r\")\n",
    "for x in f:\n",
    "    print(x)"
   ]
  },
  {
   "cell_type": "code",
   "execution_count": 10,
   "id": "6feb01f5",
   "metadata": {},
   "outputs": [
    {
     "name": "stdout",
     "output_type": "stream",
     "text": [
      "    Age  Salary  Status\n",
      "0    18   82000       0\n",
      "1    29   80000       0\n",
      "2    47   25000       1\n",
      "3    45   26000       1\n",
      "4    46   28000       1\n",
      "5    48   29000       1\n",
      "6    45   22000       1\n",
      "7    47   49000       1\n",
      "8    48   41000       1\n",
      "9    45   22000       1\n",
      "10   46   23000       1\n",
      "11   47   30000       1\n"
     ]
    }
   ],
   "source": [
    "# File Handling Using Pandas\n",
    "\n",
    "import pandas as pd\n",
    "data=pd.read_csv('data_p.csv')\n",
    "print(data.to_string())"
   ]
  },
  {
   "cell_type": "code",
   "execution_count": 11,
   "id": "a740393a",
   "metadata": {},
   "outputs": [
    {
     "name": "stdout",
     "output_type": "stream",
     "text": [
      "(12, 3)\n",
      "             Age        Salary     Status\n",
      "count  12.000000     12.000000  12.000000\n",
      "mean   42.583333  38083.333333   0.833333\n",
      "std     9.278110  21584.751913   0.389249\n",
      "min    18.000000  22000.000000   0.000000\n",
      "25%    45.000000  24500.000000   1.000000\n",
      "50%    46.000000  28500.000000   1.000000\n",
      "75%    47.000000  43000.000000   1.000000\n",
      "max    48.000000  82000.000000   1.000000\n",
      "   Age  Salary  Status\n",
      "0   18   82000       0\n",
      "1   29   80000       0\n",
      "2   47   25000       1\n",
      "3   45   26000       1\n",
      "4   46   28000       1\n"
     ]
    }
   ],
   "source": [
    "import pandas as pd\n",
    "data = pd.read_csv('data_p.csv')\n",
    "print(data.shape)\n",
    "print(data.describe())\n",
    "print(data.head(5))"
   ]
  },
  {
   "cell_type": "code",
   "execution_count": 12,
   "id": "86e3b87f",
   "metadata": {},
   "outputs": [
    {
     "name": "stdout",
     "output_type": "stream",
     "text": [
      "C:\\Users\\hp\n",
      "[' Project 4. Fake News Prediction .ipynb', '.android', '.conda', '.condarc', '.continuum', '.dotnet', '.gradle', '.idlerc', '.ipynb_checkpoints', '.ipython', '.jupyter', '.keras', '.matplotlib', '.nuget', '.qt-license', '.spyder-py3', '.VirtualBox', '02-OP.ipynb', '02-Statements Assessment Test.ipynb', '03-Guessing Game Challenge.ipynb', '03-OP.ipynb', '04-Functions and Methods Homework.ipynb', '04-OP.ipynb', '05-Errors and Exceptions Homework.ipynb', '06-Built-in Functions Assessment Test.ipynb', '06-OP.ipynb', '1-Objects and Data Structures Assessment Test.ipynb', '1.jfif', '1.mp4', '1.OP.ipynb', '2.jpg', '2_linear_regression_multivariate.ipynb', '3.1 Complete Numpy in Python.ipynb', '3.2. Complete Pandas for ML.ipynb', '3.3. Matplotlib  in Python .ipynb', '3.4. Seaborn  in Python.ipynb', '3D Objects', '4.3. Handling Missing Values in Machine Learning.ipynb', '7_logistic_regression.ipynb', 'abc.xlsx', 'Ad_dataset.csv', 'Ad_Sale_Prediction_3 (logistic Regression).ipynb', 'AppData', 'Application Data', 'areas.csv', 'ASSIGNMENT 1.ipynb', 'banglore_home_prices_final.ipynb', 'Basic Functions of CV   D1.ipynb', 'Basic_PythonBootcamp.ipynb', 'bengaluru_house_prices.csv', 'boston12.csv', \"Canada's Per capital Income.ipynb\", 'canda_per_capital_income.csv', 'case study solution 1.ipynb', 'Contacts', 'Cookies', 'dataset', 'dataset.csv', 'data_p.csv', 'Desktop', 'diabetes.csv', 'DL_Fashion_MNIST_dataset_D2.ipynb', 'Documents', 'Download Instagram dp.ipynb', 'Downloads', 'Elephants.jpg', 'Elephants1.jpg', 'ex1.py', 'ex2.py', 'eyes.jpg', 'face+eyes.jpg', 'face.jpg', 'Fake news detection .ipynb', 'Favorites', 'For loop [python programming]_1.ipynb', 'Function_Day3.ipynb', 'game2.py', 'game3.py', 'game4.py', 'gaussianImage.jpg', 'haarcascade_eye.xml', 'haarcascade_frontalface_default.xml', 'haarcascade_smile.xml', 'hangman.py', 'heart.csv', 'hiring.csv', 'homeprice.csv', 'homeprices_mv.csv', 'House Prediction using Linear Regression - Single Variable.ipynb', 'House_price_prediction_using_Linear_Regression_1.ipynb', 'HR_comma_sep.csv', 'image.jpg', 'image1.jpg', 'image2.png', 'images', 'index.jpg', 'insurance_data.csv', 'IntelGraphicsProfiles', 'I_O operations.ipynb', 'Jedi', 'Junck', 'Linear Regression Multiple Variables -1.ipynb', 'Linear Regression with multiple variable _2 (exercise answer).ipynb', 'Links', 'List [Python Programming].ipynb', 'List_operations.ipynb', 'List_operations_1.ipynb', 'List_operations_2.ipynb', 'Local Settings', 'logistic_regression_1.ipynb', 'logistic_regression_2_exercise.ipynb', 'logs', 'main.ipynb', 'MicrosoftEdgeBackups', 'Multiple Inheritance.ipynb', 'Music', 'My Documents', 'myfile.txt', 'MyFirstGame', 'my_functions.ipynb', 'NetHood', 'New Microsoft Excel Worksheet.xlsx', 'news.csv', 'ng12.txt', 'NTUSER.DAT', 'ntuser.dat.LOG1', 'ntuser.dat.LOG2', 'NTUSER.DAT{53b39e88-18c4-11ea-a811-000d3aa4692b}.TM.blf', 'NTUSER.DAT{53b39e88-18c4-11ea-a811-000d3aa4692b}.TMContainer00000000000000000001.regtrans-ms', 'NTUSER.DAT{53b39e88-18c4-11ea-a811-000d3aa4692b}.TMContainer00000000000000000002.regtrans-ms', 'NTUSER.DAT{fd04d57a-5b19-11ec-a7f5-f8281992eb96}.TxR.0.regtrans-ms', 'NTUSER.DAT{fd04d57a-5b19-11ec-a7f5-f8281992eb96}.TxR.1.regtrans-ms', 'NTUSER.DAT{fd04d57a-5b19-11ec-a7f5-f8281992eb96}.TxR.2.regtrans-ms', 'NTUSER.DAT{fd04d57a-5b19-11ec-a7f5-f8281992eb96}.TxR.blf', 'NTUSER.DAT{fd04d57b-5b19-11ec-a7f5-f8281992eb96}.TM.blf', 'NTUSER.DAT{fd04d57b-5b19-11ec-a7f5-f8281992eb96}.TMContainer00000000000000000001.regtrans-ms', 'NTUSER.DAT{fd04d57b-5b19-11ec-a7f5-f8281992eb96}.TMContainer00000000000000000002.regtrans-ms', 'ntuser.ini', 'Object_Sorting.mp4', 'OneDrive', 'Oops - Class and Objects.ipynb', 'Oops - Inheritance in Python.ipynb', 'OpenCV D2.ipynb', 'Open_CV_videos_D3.ipynb', 'Pictures', 'Prediction.csv', 'Print Emoji Using Python Code.ipynb', 'PrintHood', 'Project 10. Heart Disease Prediction.ipynb', 'PycharmProjects', 'Python - Decorators.ipynb', 'Python Bootcamp_2.ipynb', 'Python break and continue.ipynb', 'PYTHON DATA TYPE.ipynb', 'Python Dictionary.ipynb', 'Python for Loop.ipynb', 'Python Functions.ipynb', 'Python if...else Statement_1.ipynb', \"Python OOp's - Public , Protected and Private access modifiers.ipynb\", 'Python Sets.ipynb', 'Python String Methods_2.ipynb', 'Python Strings.ipynb', 'Python Tupes.ipynb', 'Python while Loop.ipynb', 'pythonfile.ipynb', 'Python_090621.ipynb', 'Python_Basic1.ipynb', 'Python_BootCamp_1.ipynb', 'Python_BootCamp_3.ipynb', 'Python_BootCamp_4.ipynb', 'Python_Projects_Beginners.ipynb', 'Python_Projects_Intermediate_level.ipynb', 'Recent', 'resizedImage.jpg', 'result.jpg', 'sample.jpg', 'sample_data', 'sample_exp.xlsx', 'Saved Games', 'script1.py', 'seaborn-data', 'Searches', 'SendTo', 'sheema3022', 'source', 'Start Menu', 'submit.csv', 'Templates', 'test', 'test.csv', 'test.jpg', 'tfod', 'tfod1', 'tfod2', 'thresholdImage2.jpg', 'train.csv', 'train_fakenews.csv', 'Tuple_1.ipynb', 'Untitled Folder', 'Untitled Folder 1', 'Untitled Folder 2', 'Untitled.ipynb', 'Untitled1.ipynb', 'Untitled10.ipynb', 'Untitled11.ipynb', 'Untitled12.ipynb', 'Untitled13.ipynb', 'Untitled14.ipynb', 'Untitled15.ipynb', 'Untitled16.ipynb', 'Untitled17.ipynb', 'Untitled18.ipynb', 'Untitled19.ipynb', 'Untitled2.ipynb', 'Untitled20.ipynb', 'Untitled21.ipynb', 'Untitled22.ipynb', 'Untitled23.ipynb', 'Untitled24.ipynb', 'Untitled25.ipynb', 'Untitled26.ipynb', 'Untitled27.ipynb', 'Untitled28.ipynb', 'Untitled29.ipynb', 'Untitled3.ipynb', 'Untitled30.ipynb', 'Untitled31.ipynb', 'Untitled32.ipynb', 'Untitled33.ipynb', 'Untitled34.ipynb', 'Untitled35.ipynb', 'Untitled36.ipynb', 'Untitled37.ipynb', 'Untitled38.ipynb', 'Untitled39.ipynb', 'Untitled4.ipynb', 'Untitled40.ipynb', 'Untitled41.ipynb', 'Untitled42.ipynb', 'Untitled5.ipynb', 'Untitled6.ipynb', 'Untitled7.ipynb', 'Untitled8.ipynb', 'Untitled9.ipynb', 'video capture - 3.1.ipynb', 'Videos', 'w12.txt.txt', 'welcome.txt', 'zimran.ipynb', '__pycache__']\n"
     ]
    },
    {
     "ename": "FileExistsError",
     "evalue": "[WinError 183] Cannot create a file when that file already exists: 'Junck'",
     "output_type": "error",
     "traceback": [
      "\u001b[1;31m---------------------------------------------------------------------------\u001b[0m",
      "\u001b[1;31mFileExistsError\u001b[0m                           Traceback (most recent call last)",
      "\u001b[1;32m<ipython-input-12-77880645a6a9>\u001b[0m in \u001b[0;36m<module>\u001b[1;34m\u001b[0m\n\u001b[0;32m      4\u001b[0m \u001b[0mprint\u001b[0m\u001b[1;33m(\u001b[0m\u001b[0mos\u001b[0m\u001b[1;33m.\u001b[0m\u001b[0mgetcwd\u001b[0m\u001b[1;33m(\u001b[0m\u001b[1;33m)\u001b[0m\u001b[1;33m)\u001b[0m\u001b[1;33m\u001b[0m\u001b[1;33m\u001b[0m\u001b[0m\n\u001b[0;32m      5\u001b[0m \u001b[0mprint\u001b[0m\u001b[1;33m(\u001b[0m\u001b[0mos\u001b[0m\u001b[1;33m.\u001b[0m\u001b[0mlistdir\u001b[0m\u001b[1;33m(\u001b[0m\u001b[1;33m)\u001b[0m\u001b[1;33m)\u001b[0m\u001b[1;33m\u001b[0m\u001b[1;33m\u001b[0m\u001b[0m\n\u001b[1;32m----> 6\u001b[1;33m \u001b[0mos\u001b[0m\u001b[1;33m.\u001b[0m\u001b[0mmkdir\u001b[0m\u001b[1;33m(\u001b[0m\u001b[1;34m\"Junck\"\u001b[0m\u001b[1;33m)\u001b[0m\u001b[1;33m\u001b[0m\u001b[1;33m\u001b[0m\u001b[0m\n\u001b[0m",
      "\u001b[1;31mFileExistsError\u001b[0m: [WinError 183] Cannot create a file when that file already exists: 'Junck'"
     ]
    }
   ],
   "source": [
    "# Working with Directories\n",
    "\n",
    "import os\n",
    "print(os.getcwd())\n",
    "print(os.listdir())\n",
    "os.mkdir(\"Junck\")"
   ]
  },
  {
   "cell_type": "code",
   "execution_count": 13,
   "id": "053d1cb3",
   "metadata": {},
   "outputs": [],
   "source": [
    "# importing shutil module \n",
    "import shutil \n",
    "  \n",
    "source = \"C:/Users/hp/welcome.txt\"\n",
    "destination =\"C:/Users/hp/Junck\"\n",
    "  \n",
    "# Copy the content of \n",
    "# source to destination \n",
    "dest = shutil.copy(source, destination) "
   ]
  },
  {
   "cell_type": "code",
   "execution_count": 14,
   "id": "e3a43300",
   "metadata": {},
   "outputs": [],
   "source": [
    "# importing shutil module \n",
    "import shutil \n",
    "  \n",
    "source = \"C:/Users/hp/welcome.txt\"\n",
    "destination =\"C:/Users/hp/Junck\"\n",
    "  \n",
    "# Copy the content of \n",
    "# source to destination \n",
    "dest = shutil.copy(source, destination) "
   ]
  },
  {
   "cell_type": "code",
   "execution_count": 15,
   "id": "de67363c",
   "metadata": {},
   "outputs": [],
   "source": [
    "import send2trash\n",
    "os.listdir()\n",
    "send2trash.send2trash('C:/Users/hp/Junck/welcome.txt')"
   ]
  },
  {
   "cell_type": "code",
   "execution_count": 16,
   "id": "8f2c4d84",
   "metadata": {},
   "outputs": [
    {
     "name": "stdout",
     "output_type": "stream",
     "text": [
      "1657120120.9226267\n"
     ]
    }
   ],
   "source": [
    "import time\n",
    "print(time.time())  #time since epoch"
   ]
  },
  {
   "cell_type": "code",
   "execution_count": 17,
   "id": "b47e3b0c",
   "metadata": {},
   "outputs": [
    {
     "name": "stdout",
     "output_type": "stream",
     "text": [
      "time.struct_time(tm_year=2022, tm_mon=7, tm_mday=6, tm_hour=15, tm_min=8, tm_sec=51, tm_wday=2, tm_yday=187, tm_isdst=0)\n"
     ]
    }
   ],
   "source": [
    "print(time.gmtime())"
   ]
  },
  {
   "cell_type": "code",
   "execution_count": 18,
   "id": "72d4b150",
   "metadata": {},
   "outputs": [
    {
     "name": "stdout",
     "output_type": "stream",
     "text": [
      "Wed Jul  6 20:39:04 2022\n"
     ]
    }
   ],
   "source": [
    "print(time.ctime())"
   ]
  },
  {
   "cell_type": "code",
   "execution_count": 19,
   "id": "df844b2c",
   "metadata": {},
   "outputs": [
    {
     "name": "stdout",
     "output_type": "stream",
     "text": [
      "2022-07-06 20:39:22.295115\n"
     ]
    }
   ],
   "source": [
    "import datetime\n",
    "x=datetime.datetime.now()\n",
    "print(x)"
   ]
  },
  {
   "cell_type": "code",
   "execution_count": 20,
   "id": "b4a1ce73",
   "metadata": {},
   "outputs": [
    {
     "name": "stdout",
     "output_type": "stream",
     "text": [
      "March\n"
     ]
    }
   ],
   "source": [
    "import datetime\n",
    "a = datetime.datetime(2021, 3, 15)   #(year,month,date,hour,minitue,second,macros)\n",
    "print(a.strftime(\"%B\"))"
   ]
  },
  {
   "cell_type": "code",
   "execution_count": 21,
   "id": "6703a88c",
   "metadata": {},
   "outputs": [
    {
     "name": "stdout",
     "output_type": "stream",
     "text": [
      "Mon\n"
     ]
    }
   ],
   "source": [
    "import datetime\n",
    "a = datetime.datetime(2021, 3, 15)   #(year,month,date,hour,minitue,second,macros)\n",
    "print(a.strftime(\"%a\"))"
   ]
  },
  {
   "cell_type": "code",
   "execution_count": null,
   "id": "f55b6026",
   "metadata": {},
   "outputs": [],
   "source": []
  }
 ],
 "metadata": {
  "kernelspec": {
   "display_name": "Python 3",
   "language": "python",
   "name": "python3"
  },
  "language_info": {
   "codemirror_mode": {
    "name": "ipython",
    "version": 3
   },
   "file_extension": ".py",
   "mimetype": "text/x-python",
   "name": "python",
   "nbconvert_exporter": "python",
   "pygments_lexer": "ipython3",
   "version": "3.8.8"
  }
 },
 "nbformat": 4,
 "nbformat_minor": 5
}
