{
 "cells": [
  {
   "cell_type": "markdown",
   "id": "0af9eba2",
   "metadata": {},
   "source": [
    "##### Exception handling"
   ]
  },
  {
   "cell_type": "markdown",
   "id": "db26d9c4",
   "metadata": {},
   "source": [
    "Exception handling is a programming paradigm used to manage errors and unexpected situations that may occur during program execution. In Python, exceptions are raised when an error occurs, and they can be caught and handled using try-except blocks."
   ]
  },
  {
   "cell_type": "code",
   "execution_count": null,
   "id": "a9e95ada",
   "metadata": {},
   "outputs": [],
   "source": [
    "try:\n",
    "    # Code block where exceptions may occur\n",
    "    # ...\n",
    "except ExceptionType1:\n",
    "    # Handle ExceptionType1\n",
    "    # ...\n",
    "except ExceptionType2:\n",
    "    # Handle ExceptionType2\n",
    "    # ...\n",
    "else:\n",
    "    # Optional block that runs if no exceptions occur in the try block\n",
    "    # ...\n",
    "finally:\n",
    "    # Optional block that always runs, regardless of whether exceptions occur or not\n",
    "    # ..."
   ]
  },
  {
   "cell_type": "markdown",
   "id": "4f02f71c",
   "metadata": {},
   "source": [
    "#### Handling a ZeroDivisionError:"
   ]
  },
  {
   "cell_type": "code",
   "execution_count": 2,
   "id": "de6d8c9e",
   "metadata": {},
   "outputs": [
    {
     "ename": "ZeroDivisionError",
     "evalue": "division by zero",
     "output_type": "error",
     "traceback": [
      "\u001b[1;31m---------------------------------------------------------------------------\u001b[0m",
      "\u001b[1;31mZeroDivisionError\u001b[0m                         Traceback (most recent call last)",
      "\u001b[1;32m<ipython-input-2-e574edb36883>\u001b[0m in \u001b[0;36m<module>\u001b[1;34m\u001b[0m\n\u001b[1;32m----> 1\u001b[1;33m \u001b[1;36m10\u001b[0m\u001b[1;33m/\u001b[0m\u001b[1;36m0\u001b[0m\u001b[1;33m\u001b[0m\u001b[1;33m\u001b[0m\u001b[0m\n\u001b[0m",
      "\u001b[1;31mZeroDivisionError\u001b[0m: division by zero"
     ]
    }
   ],
   "source": [
    "10/0"
   ]
  },
  {
   "cell_type": "code",
   "execution_count": 1,
   "id": "23b45c9e",
   "metadata": {},
   "outputs": [
    {
     "name": "stdout",
     "output_type": "stream",
     "text": [
      "Cannot divide by zero!\n"
     ]
    }
   ],
   "source": [
    "try:\n",
    "    result = 10 / 0  # Division by zero\n",
    "except ZeroDivisionError:\n",
    "    print(\"Cannot divide by zero!\")"
   ]
  },
  {
   "cell_type": "markdown",
   "id": "0c8c3d54",
   "metadata": {},
   "source": [
    "#### Handling a FileNotFoundError:"
   ]
  },
  {
   "cell_type": "code",
   "execution_count": 3,
   "id": "9d048890",
   "metadata": {},
   "outputs": [
    {
     "name": "stdout",
     "output_type": "stream",
     "text": [
      "File not found!\n"
     ]
    }
   ],
   "source": [
    "try:\n",
    "    file = open(\"nonexistent_file.txt\", \"r\")  # Attempt to open a non-existent file\n",
    "except FileNotFoundError:\n",
    "    print(\"File not found!\")"
   ]
  },
  {
   "cell_type": "code",
   "execution_count": 4,
   "id": "c41b306d",
   "metadata": {},
   "outputs": [],
   "source": [
    "try:\n",
    "    file = open(\"existent_file.txt\", \"r\")  # Attempt to open a non-existent file\n",
    "except FileNotFoundError:\n",
    "    print(\"File not found!\")"
   ]
  },
  {
   "cell_type": "markdown",
   "id": "dd966000",
   "metadata": {},
   "source": [
    "##### Handling multiple exceptions:"
   ]
  },
  {
   "cell_type": "code",
   "execution_count": 6,
   "id": "2ccc7520",
   "metadata": {},
   "outputs": [
    {
     "name": "stdout",
     "output_type": "stream",
     "text": [
      "Enter a number: a\n",
      "Invalid input! Please enter a valid number.\n"
     ]
    }
   ],
   "source": [
    "try:\n",
    "    value = int(input(\"Enter a number: \"))\n",
    "    result = 10 / value  # Division by user input\n",
    "except ZeroDivisionError:\n",
    "    print(\"Cannot divide by zero!\")\n",
    "except ValueError:\n",
    "    print(\"Invalid input! Please enter a valid number.\")"
   ]
  },
  {
   "cell_type": "code",
   "execution_count": 7,
   "id": "a8960831",
   "metadata": {},
   "outputs": [
    {
     "name": "stdout",
     "output_type": "stream",
     "text": [
      "Enter a number: 10\n",
      "Division successful! Result: 1.0\n"
     ]
    }
   ],
   "source": [
    "try:\n",
    "    value = int(input(\"Enter a number: \"))\n",
    "    result = 10 / value  # Division by user input\n",
    "except ZeroDivisionError:\n",
    "    print(\"Cannot divide by zero!\")\n",
    "except ValueError:\n",
    "    print(\"Invalid input! Please enter a valid number.\")\n",
    "else:\n",
    "    print(\"Division successful! Result:\", result)"
   ]
  },
  {
   "cell_type": "code",
   "execution_count": 8,
   "id": "6e90dc02",
   "metadata": {},
   "outputs": [
    {
     "name": "stdout",
     "output_type": "stream",
     "text": [
      "Enter a number: 9\n",
      "Division successful! Result: 1.1111111111111112\n",
      "Execution completed.\n"
     ]
    }
   ],
   "source": [
    "try:\n",
    "    value = int(input(\"Enter a number: \"))\n",
    "    result = 10 / value  # Division by user input\n",
    "except ZeroDivisionError:\n",
    "    print(\"Cannot divide by zero!\")\n",
    "except ValueError:\n",
    "    print(\"Invalid input! Please enter a valid number.\")\n",
    "else:\n",
    "    print(\"Division successful! Result:\", result)\n",
    "finally:\n",
    "    print(\"Execution completed.\")"
   ]
  },
  {
   "cell_type": "code",
   "execution_count": 9,
   "id": "d0e8aff2",
   "metadata": {},
   "outputs": [
    {
     "name": "stdout",
     "output_type": "stream",
     "text": [
      "Deposited $500. New balance: $1500\n",
      "Withdrew $300. New balance: $1200\n",
      "Error: Insufficient funds.\n"
     ]
    }
   ],
   "source": [
    "class BankAccount:\n",
    "    def __init__(self, account_number, balance=0):\n",
    "        self.account_number = account_number\n",
    "        self.balance = balance\n",
    "\n",
    "    def deposit(self, amount):\n",
    "        if amount > 0:\n",
    "            self.balance += amount\n",
    "            print(f\"Deposited ${amount}. New balance: ${self.balance}\")\n",
    "        else:\n",
    "            raise ValueError(\"Deposit amount must be positive.\")\n",
    "\n",
    "    def withdraw(self, amount):\n",
    "        if amount <= self.balance:\n",
    "            self.balance -= amount\n",
    "            print(f\"Withdrew ${amount}. New balance: ${self.balance}\")\n",
    "        else:\n",
    "            raise ValueError(\"Insufficient funds.\")\n",
    "\n",
    "# Example usage:\n",
    "try:\n",
    "    # Create a new bank account\n",
    "    account1 = BankAccount(\"123456\", 1000)\n",
    "\n",
    "    # Deposit some money\n",
    "    account1.deposit(500)\n",
    "\n",
    "    # Withdraw an amount\n",
    "    account1.withdraw(300)\n",
    "\n",
    "    # Attempt to withdraw more than the balance\n",
    "    account1.withdraw(1500)\n",
    "\n",
    "except ValueError as e:\n",
    "    print(\"Error:\", e)"
   ]
  },
  {
   "cell_type": "code",
   "execution_count": null,
   "id": "dc6464a2",
   "metadata": {},
   "outputs": [],
   "source": []
  }
 ],
 "metadata": {
  "kernelspec": {
   "display_name": "Python 3",
   "language": "python",
   "name": "python3"
  },
  "language_info": {
   "codemirror_mode": {
    "name": "ipython",
    "version": 3
   },
   "file_extension": ".py",
   "mimetype": "text/x-python",
   "name": "python",
   "nbconvert_exporter": "python",
   "pygments_lexer": "ipython3",
   "version": "3.8.8"
  }
 },
 "nbformat": 4,
 "nbformat_minor": 5
}
