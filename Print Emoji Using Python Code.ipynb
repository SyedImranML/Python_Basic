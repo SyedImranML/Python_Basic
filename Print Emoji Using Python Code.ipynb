{
 "cells": [
  {
   "cell_type": "markdown",
   "id": "505cd1e5",
   "metadata": {},
   "source": [
    "## Print Emoji Using Python Code By @SyedImran"
   ]
  },
  {
   "cell_type": "code",
   "execution_count": 1,
   "id": "1d7b9a70",
   "metadata": {},
   "outputs": [
    {
     "name": "stdout",
     "output_type": "stream",
     "text": [
      "😀\n"
     ]
    }
   ],
   "source": [
    "print('\\U0001F600')"
   ]
  },
  {
   "cell_type": "code",
   "execution_count": 3,
   "id": "046ca99e",
   "metadata": {},
   "outputs": [
    {
     "name": "stdout",
     "output_type": "stream",
     "text": [
      "😂\n"
     ]
    }
   ],
   "source": [
    "print('\\U0001F602')"
   ]
  },
  {
   "cell_type": "code",
   "execution_count": 4,
   "id": "78409636",
   "metadata": {},
   "outputs": [
    {
     "name": "stdout",
     "output_type": "stream",
     "text": [
      "🥰\n"
     ]
    }
   ],
   "source": [
    "print('\\U0001F970')"
   ]
  },
  {
   "cell_type": "code",
   "execution_count": 5,
   "id": "242118bf",
   "metadata": {},
   "outputs": [
    {
     "name": "stdout",
     "output_type": "stream",
     "text": [
      "😚\n"
     ]
    }
   ],
   "source": [
    "print('\\U0001F61A')"
   ]
  },
  {
   "cell_type": "code",
   "execution_count": 6,
   "id": "1381513a",
   "metadata": {},
   "outputs": [
    {
     "name": "stdout",
     "output_type": "stream",
     "text": [
      "🤑\n"
     ]
    }
   ],
   "source": [
    "print('\\U0001F911')"
   ]
  },
  {
   "cell_type": "code",
   "execution_count": 7,
   "id": "3939f067",
   "metadata": {},
   "outputs": [
    {
     "name": "stdout",
     "output_type": "stream",
     "text": [
      "🤩\n"
     ]
    }
   ],
   "source": [
    "print('\\U0001F929')"
   ]
  },
  {
   "cell_type": "code",
   "execution_count": 8,
   "id": "fd2fa139",
   "metadata": {},
   "outputs": [
    {
     "data": {
      "text/plain": [
       "'C:\\\\Users\\\\hp'"
      ]
     },
     "execution_count": 8,
     "metadata": {},
     "output_type": "execute_result"
    }
   ],
   "source": [
    "pwd\n"
   ]
  },
  {
   "cell_type": "code",
   "execution_count": null,
   "id": "f57d7d80",
   "metadata": {},
   "outputs": [],
   "source": []
  }
 ],
 "metadata": {
  "kernelspec": {
   "display_name": "Python 3",
   "language": "python",
   "name": "python3"
  },
  "language_info": {
   "codemirror_mode": {
    "name": "ipython",
    "version": 3
   },
   "file_extension": ".py",
   "mimetype": "text/x-python",
   "name": "python",
   "nbconvert_exporter": "python",
   "pygments_lexer": "ipython3",
   "version": "3.8.8"
  }
 },
 "nbformat": 4,
 "nbformat_minor": 5
}
