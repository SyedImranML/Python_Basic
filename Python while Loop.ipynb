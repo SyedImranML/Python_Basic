{
 "cells": [
  {
   "cell_type": "markdown",
   "id": "afa98080",
   "metadata": {},
   "source": [
    "# Python while Loop\n"
   ]
  },
  {
   "cell_type": "code",
   "execution_count": 1,
   "id": "111b3890",
   "metadata": {},
   "outputs": [],
   "source": [
    "# repeat a specific block of code.\n",
    "# In Python, the body of the while loop is determined through indentation."
   ]
  },
  {
   "cell_type": "code",
   "execution_count": 9,
   "id": "116429d3",
   "metadata": {},
   "outputs": [
    {
     "name": "stdout",
     "output_type": "stream",
     "text": [
      "Thank you\n",
      "Thank you\n",
      "Thank you\n"
     ]
    }
   ],
   "source": [
    "# Example : 1\n",
    "\n",
    "# Take user input\n",
    "number = 2  \n",
    "\n",
    "# Condition of the while loop\n",
    "while number < 5 :  \n",
    "    print(\"Thank you\")\n",
    "    # Increment the value of the variable \"number by 1\"\n",
    "    number = number+1"
   ]
  },
  {
   "cell_type": "code",
   "execution_count": 2,
   "id": "a0373c80",
   "metadata": {},
   "outputs": [
    {
     "name": "stdout",
     "output_type": "stream",
     "text": [
      "The sum is 55\n"
     ]
    }
   ],
   "source": [
    "# Example: 2 Python while Loop\n",
    "\n",
    "# Program to add natural numbers up to sum = 1+2+3+...+n\n",
    "\n",
    "# To take input from the user,\n",
    "# n = int(input(\"Enter n: \"))\n",
    "\n",
    "n = 10\n",
    "\n",
    "# initialize sum and counter\n",
    "sum = 0\n",
    "i = 1\n",
    "\n",
    "while i <= n:\n",
    "    sum = sum + i\n",
    "    i = i+1    # update counter\n",
    "\n",
    "# print the sum\n",
    "print(\"The sum is\", sum)\n"
   ]
  },
  {
   "cell_type": "code",
   "execution_count": 3,
   "id": "46b77185",
   "metadata": {},
   "outputs": [],
   "source": [
    "# While loop with else\n",
    "# Same as with for loops, while loops can also have an optional else block.\n",
    "# The else part is executed if the condition in the while loop evaluates to False."
   ]
  },
  {
   "cell_type": "code",
   "execution_count": 5,
   "id": "e7c5699e",
   "metadata": {},
   "outputs": [
    {
     "name": "stdout",
     "output_type": "stream",
     "text": [
      "Inside loop\n",
      "Inside loop\n",
      "Inside loop\n",
      "Condition False Goes to  else\n"
     ]
    }
   ],
   "source": [
    "'''Example to illustrate\n",
    "the use of else statement\n",
    "with the while loop'''\n",
    "\n",
    "i = 0\n",
    "\n",
    "while i < 3:\n",
    "    print(\"Inside loop\")\n",
    "    i = i + 1\n",
    "else:\n",
    "    print(\"Condition False Goes to  else\")"
   ]
  },
  {
   "cell_type": "code",
   "execution_count": 6,
   "id": "02a0e165",
   "metadata": {},
   "outputs": [],
   "source": [
    "# On the fourth iteration, the condition in while becomes False. Hence, the else part is executed."
   ]
  },
  {
   "cell_type": "code",
   "execution_count": 7,
   "id": "1896d65b",
   "metadata": {},
   "outputs": [
    {
     "name": "stdout",
     "output_type": "stream",
     "text": [
      "0\n",
      "1\n",
      "2\n",
      "3\n",
      "4\n",
      "5\n",
      "6\n",
      "7\n",
      "8\n",
      "9\n",
      "10\n"
     ]
    }
   ],
   "source": [
    "# Example -3\n",
    "a=0\n",
    "while a<=10:\n",
    "    print(a)\n",
    "    a+=1   #a=a+1"
   ]
  },
  {
   "cell_type": "code",
   "execution_count": 8,
   "id": "d23233e3",
   "metadata": {},
   "outputs": [
    {
     "name": "stdout",
     "output_type": "stream",
     "text": [
      "0\n",
      "Continueee\n",
      "1\n",
      "Continueee\n",
      "2\n",
      "Continueee\n",
      "3\n",
      "Continueee\n",
      "4\n",
      "A is equal to 5\n"
     ]
    }
   ],
   "source": [
    "# While - Break & continue\n",
    "a=0\n",
    "while a<10:\n",
    "    print(a)\n",
    "    a+=1\n",
    "    if a==5:\n",
    "        print(\"A is equal to 5\")\n",
    "        break\n",
    "    else:\n",
    "        print(\"Continueee\")\n",
    "        continue\n",
    "        "
   ]
  },
  {
   "cell_type": "code",
   "execution_count": 10,
   "id": "0af08a7c",
   "metadata": {},
   "outputs": [
    {
     "name": "stdout",
     "output_type": "stream",
     "text": [
      "The number 2 is even\n",
      "The number 3 is odd\n",
      "The number 4 is even\n"
     ]
    }
   ],
   "source": [
    "# Example : 5\n",
    "\n",
    "# Take user input\n",
    "number = 2 \n",
    "\n",
    "\n",
    "while number < 5 :  \n",
    "    \n",
    "    if number%2 == 0:  \n",
    "        print(\"The number \"+str(number)+\" is even\")\n",
    "    else:\n",
    "        print(\"The number \"+str(number)+\" is odd\")\n",
    "\n",
    "    \n",
    "    number = number+1"
   ]
  },
  {
   "cell_type": "code",
   "execution_count": 11,
   "id": "7602a48b",
   "metadata": {},
   "outputs": [
    {
     "name": "stdout",
     "output_type": "stream",
     "text": [
      "4\n",
      "3\n",
      "2\n",
      "1\n"
     ]
    }
   ],
   "source": [
    "# Example : 6\n",
    "# Python while loop with list\n",
    "\n",
    "# checks if list still\n",
    "# contains any element\n",
    "a = [1, 2, 3, 4]\n",
    " \n",
    "while a:\n",
    "    print(a.pop())"
   ]
  },
  {
   "cell_type": "code",
   "execution_count": 12,
   "id": "b6dfc166",
   "metadata": {},
   "outputs": [
    {
     "data": {
      "text/plain": [
       "[]"
      ]
     },
     "execution_count": 12,
     "metadata": {},
     "output_type": "execute_result"
    }
   ],
   "source": [
    "a"
   ]
  },
  {
   "cell_type": "code",
   "execution_count": 13,
   "id": "d2e8a6ed",
   "metadata": {},
   "outputs": [
    {
     "name": "stdout",
     "output_type": "stream",
     "text": [
      "Current Letter : y\n",
      "Current Letter : d\n",
      "Current Letter :  \n",
      "Current Letter : i\n",
      "Current Letter : m\n",
      "Current Letter : r\n",
      "Current Letter : a\n",
      "Current Letter : n\n"
     ]
    }
   ],
   "source": [
    "# Example :7  # Prints all letters except 'e' and 's'\n",
    "i = 0\n",
    "a = 'syed imran'\n",
    " \n",
    "while i < len(a):\n",
    "    if a[i] == 'e' or a[i] == 's':\n",
    "        i += 1\n",
    "        continue\n",
    "         \n",
    "    print('Current Letter :', a[i])\n",
    "    i += 1"
   ]
  },
  {
   "cell_type": "code",
   "execution_count": 15,
   "id": "5b266206",
   "metadata": {},
   "outputs": [
    {
     "name": "stdout",
     "output_type": "stream",
     "text": [
      "Current Letter : p\n"
     ]
    }
   ],
   "source": [
    "# Example :  8 # break the loop as soon it sees 'e'# or 's'\n",
    "i = 0\n",
    "a = 'python'\n",
    " \n",
    "while i < len(a):\n",
    "    if a[i] == 'y' or a[i] == 'n':\n",
    "        i += 1\n",
    "        break\n",
    "         \n",
    "    print('Current Letter :', a[i])\n",
    "    i += 1"
   ]
  },
  {
   "cell_type": "code",
   "execution_count": null,
   "id": "1b2159c1",
   "metadata": {},
   "outputs": [],
   "source": [
    "# Example-9\n",
    "\n",
    "a = int(input('Enter a number (-1 to quit): '))\n",
    " \n",
    "while a != -1:\n",
    "    a = int(input('Enter a number (-1 to quit): '))"
   ]
  },
  {
   "cell_type": "code",
   "execution_count": null,
   "id": "a04eaf38",
   "metadata": {},
   "outputs": [],
   "source": [
    "# Example -10  Program to print table of given numbers\n",
    "\n",
    "i=1    \n",
    "number=0    \n",
    "b=9    \n",
    "number = int(input(\"Enter the number:\"))    \n",
    "while i<=10:    \n",
    "    print(\"%d X %d = %d \\n\"%(number,i,number*i))    \n",
    "    i = i+1    "
   ]
  },
  {
   "cell_type": "code",
   "execution_count": null,
   "id": "1517528a",
   "metadata": {},
   "outputs": [],
   "source": []
  }
 ],
 "metadata": {
  "kernelspec": {
   "display_name": "Python 3",
   "language": "python",
   "name": "python3"
  },
  "language_info": {
   "codemirror_mode": {
    "name": "ipython",
    "version": 3
   },
   "file_extension": ".py",
   "mimetype": "text/x-python",
   "name": "python",
   "nbconvert_exporter": "python",
   "pygments_lexer": "ipython3",
   "version": "3.8.8"
  }
 },
 "nbformat": 4,
 "nbformat_minor": 5
}
