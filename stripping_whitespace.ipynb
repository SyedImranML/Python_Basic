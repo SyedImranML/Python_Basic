{
  "nbformat": 4,
  "nbformat_minor": 0,
  "metadata": {
    "colab": {
      "provenance": [],
      "authorship_tag": "ABX9TyPtvZx/pGHh5HICU3CDb/rw",
      "include_colab_link": true
    },
    "kernelspec": {
      "name": "python3",
      "display_name": "Python 3"
    },
    "language_info": {
      "name": "python"
    }
  },
  "cells": [
    {
      "cell_type": "markdown",
      "metadata": {
        "id": "view-in-github",
        "colab_type": "text"
      },
      "source": [
        "<a href=\"https://colab.research.google.com/github/SyedImranML/Python_Basic/blob/main/stripping_whitespace.ipynb\" target=\"_parent\"><img src=\"https://colab.research.google.com/assets/colab-badge.svg\" alt=\"Open In Colab\"/></a>"
      ]
    },
    {
      "cell_type": "code",
      "execution_count": 1,
      "metadata": {
        "colab": {
          "base_uri": "https://localhost:8080/"
        },
        "id": "5-z0uv3WBI-W",
        "outputId": "7f9b89a1-530d-4613-fb45-aac9a810b85e"
      },
      "outputs": [
        {
          "output_type": "stream",
          "name": "stdout",
          "text": [
            "Enter the number: nbv\n",
            "Invalid input. Please enter a valid integer.\n",
            "Enter the number: \n",
            "Please enter a value.\n",
            "Enter the number: 8\n",
            "You entered: 8\n"
          ]
        }
      ],
      "source": [
        "while True:\n",
        "    user_input = input(\"Enter the number: \")\n",
        "    if user_input.strip():  # Check if the input is not empty after stripping whitespace\n",
        "        try:\n",
        "            number = int(user_input)\n",
        "            print(\"You entered:\", number)\n",
        "            break  # Exit the loop if the input is successfully converted to an integer\n",
        "        except ValueError:\n",
        "            print(\"Invalid input. Please enter a valid integer.\")\n",
        "    else:\n",
        "        print(\"Please enter a value.\")"
      ]
    }
  ]
}