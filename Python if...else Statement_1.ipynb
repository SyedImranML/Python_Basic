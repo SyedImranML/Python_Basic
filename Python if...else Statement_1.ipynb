{
 "cells": [
  {
   "cell_type": "markdown",
   "id": "cfe7ac85",
   "metadata": {},
   "source": [
    "## Python if...else Statement\n"
   ]
  },
  {
   "cell_type": "code",
   "execution_count": null,
   "id": "4c21d1a0",
   "metadata": {},
   "outputs": [],
   "source": [
    "# Python program using if..else statement.\n",
    "# Decision making is required when we want to execute a code only if a certain condition is satisfied.\n"
   ]
  },
  {
   "cell_type": "code",
   "execution_count": 3,
   "id": "0cb688b4",
   "metadata": {},
   "outputs": [
    {
     "name": "stdout",
     "output_type": "stream",
     "text": [
      "Conditional was True\n"
     ]
    }
   ],
   "source": [
    "# General Example\n",
    "if True:\n",
    "    print(\"Conditional was True\")"
   ]
  },
  {
   "cell_type": "code",
   "execution_count": 4,
   "id": "a8419591",
   "metadata": {},
   "outputs": [],
   "source": [
    "if False:\n",
    "    print(\"Conditional was True\")"
   ]
  },
  {
   "cell_type": "code",
   "execution_count": 5,
   "id": "1a08c23b",
   "metadata": {},
   "outputs": [],
   "source": [
    "# Comparisions:\n",
    "# Equal:            ==\n",
    "# Not Equal         !=\n",
    "# Greater Than      >\n",
    "# Less Than         <\n",
    "# Greater or Equal  >=\n",
    "# Less or Equal     <="
   ]
  },
  {
   "cell_type": "code",
   "execution_count": 9,
   "id": "22048ce1",
   "metadata": {},
   "outputs": [
    {
     "name": "stdout",
     "output_type": "stream",
     "text": [
      "Language is python\n"
     ]
    }
   ],
   "source": [
    "language = \"python\"\n",
    "if language == \"python\":\n",
    "    print(\"Language is python\")\n"
   ]
  },
  {
   "cell_type": "code",
   "execution_count": 10,
   "id": "647558ca",
   "metadata": {},
   "outputs": [],
   "source": [
    "language = \"Java\"\n",
    "if language == \"python\":\n",
    "    print(\"Language is python\")\n"
   ]
  },
  {
   "cell_type": "code",
   "execution_count": 12,
   "id": "53b7a771",
   "metadata": {},
   "outputs": [
    {
     "name": "stdout",
     "output_type": "stream",
     "text": [
      "No Match\n"
     ]
    }
   ],
   "source": [
    "language = \"Java\"\n",
    "if language == \"python\":\n",
    "    print(\"Language is python\")\n",
    "else:\n",
    "    print(\"No Match\")"
   ]
  },
  {
   "cell_type": "code",
   "execution_count": 13,
   "id": "f788418c",
   "metadata": {},
   "outputs": [
    {
     "name": "stdout",
     "output_type": "stream",
     "text": [
      "Language is python\n"
     ]
    }
   ],
   "source": [
    "language = \"python\"\n",
    "if language == \"python\":\n",
    "    print(\"Language is python\")\n",
    "elif language == \"Java\":\n",
    "    print(\"Language is Java\")\n",
    "else:\n",
    "    print(\"No Match\")"
   ]
  },
  {
   "cell_type": "code",
   "execution_count": 14,
   "id": "accc3e99",
   "metadata": {},
   "outputs": [
    {
     "name": "stdout",
     "output_type": "stream",
     "text": [
      "Language is JavaScript\n"
     ]
    }
   ],
   "source": [
    "language = \"JavaScript\"\n",
    "if language == \"python\":\n",
    "    print(\"Language is python\")\n",
    "elif language == \"Java\":\n",
    "    print(\"Language is Java\")\n",
    "elif language == \"JavaScript\":\n",
    "    print(\"Language is JavaScript\")\n",
    "else:\n",
    "    print(\"No Match\")"
   ]
  },
  {
   "cell_type": "code",
   "execution_count": 16,
   "id": "acab7e0c",
   "metadata": {},
   "outputs": [
    {
     "name": "stdout",
     "output_type": "stream",
     "text": [
      "Admin Page\n"
     ]
    }
   ],
   "source": [
    "# Example :0\n",
    "\n",
    "user='Admin'\n",
    "logged_in=True\n",
    "if user =='Admin' and logged_in:\n",
    "    print('Admin Page')\n",
    "else:\n",
    "    print('Bad Credentials')"
   ]
  },
  {
   "cell_type": "code",
   "execution_count": 17,
   "id": "53d6ae04",
   "metadata": {},
   "outputs": [
    {
     "name": "stdout",
     "output_type": "stream",
     "text": [
      "Bad Credentials\n"
     ]
    }
   ],
   "source": [
    "user='Admin'\n",
    "logged_in=False\n",
    "if user =='Admin' and logged_in:\n",
    "    print('Admin Page')\n",
    "else:\n",
    "    print('Bad Credentials')"
   ]
  },
  {
   "cell_type": "code",
   "execution_count": 18,
   "id": "914b60a7",
   "metadata": {},
   "outputs": [
    {
     "name": "stdout",
     "output_type": "stream",
     "text": [
      "Admin Page\n"
     ]
    }
   ],
   "source": [
    "user='Admin'\n",
    "logged_in=True\n",
    "if user =='Admin' or logged_in:\n",
    "    print('Admin Page')\n",
    "else:\n",
    "    print('Bad Credentials')"
   ]
  },
  {
   "cell_type": "code",
   "execution_count": 19,
   "id": "b1bd023d",
   "metadata": {},
   "outputs": [
    {
     "name": "stdout",
     "output_type": "stream",
     "text": [
      "Please Logged In..\n"
     ]
    }
   ],
   "source": [
    "logged_in = False\n",
    "\n",
    "if not logged_in:\n",
    "    print(\"Please Logged In..\")\n",
    "else:\n",
    "    print(\"Welcome to NGCC Python Class\")\n"
   ]
  },
  {
   "cell_type": "code",
   "execution_count": 20,
   "id": "ad0de986",
   "metadata": {},
   "outputs": [
    {
     "name": "stdout",
     "output_type": "stream",
     "text": [
      "Welcome to NGCC Python Class\n"
     ]
    }
   ],
   "source": [
    "logged_in = True\n",
    "\n",
    "if not logged_in:\n",
    "    print(\"Please Logged In..\")\n",
    "else:\n",
    "    print(\"Welcome to NGCC Python Class\")\n"
   ]
  },
  {
   "cell_type": "code",
   "execution_count": 21,
   "id": "14c767ce",
   "metadata": {},
   "outputs": [
    {
     "name": "stdout",
     "output_type": "stream",
     "text": [
      "True\n"
     ]
    }
   ],
   "source": [
    "a = [1,2,3]\n",
    "b = [1,2,3]\n",
    "print(a == b)"
   ]
  },
  {
   "cell_type": "code",
   "execution_count": null,
   "id": "885057ad",
   "metadata": {},
   "outputs": [],
   "source": [
    "a = [1,2,3]\n",
    "b = [1,2,3]\n",
    "print(a == b)"
   ]
  },
  {
   "cell_type": "code",
   "execution_count": 22,
   "id": "f6b8b904",
   "metadata": {},
   "outputs": [
    {
     "name": "stdout",
     "output_type": "stream",
     "text": [
      "False\n"
     ]
    }
   ],
   "source": [
    "a = [1,2,3]\n",
    "b = [1,2,3]\n",
    "print(a is b)"
   ]
  },
  {
   "cell_type": "code",
   "execution_count": 23,
   "id": "1bb0192b",
   "metadata": {},
   "outputs": [
    {
     "name": "stdout",
     "output_type": "stream",
     "text": [
      "2290150862016\n",
      "2290150860928\n",
      "False\n"
     ]
    }
   ],
   "source": [
    "a = [1,2,3]\n",
    "b = [1,2,3]\n",
    "print(id(a))\n",
    "print(id(b))\n",
    "print(a is b)"
   ]
  },
  {
   "cell_type": "code",
   "execution_count": 24,
   "id": "bbbae151",
   "metadata": {},
   "outputs": [
    {
     "name": "stdout",
     "output_type": "stream",
     "text": [
      "2290150822464\n",
      "2290150822464\n",
      "True\n"
     ]
    }
   ],
   "source": [
    "a = [1,2,3]\n",
    "b = a\n",
    "print(id(a))\n",
    "print(id(b))\n",
    "print(a is b)"
   ]
  },
  {
   "cell_type": "code",
   "execution_count": 26,
   "id": "ace1f2f5",
   "metadata": {},
   "outputs": [
    {
     "name": "stdout",
     "output_type": "stream",
     "text": [
      "Evaluated to False\n"
     ]
    }
   ],
   "source": [
    "# False Values:\n",
    "# False\n",
    "# None\n",
    "# Zero\n",
    "\n",
    "condition = False\n",
    "\n",
    "if condition:\n",
    "    print('Evaluated to True')\n",
    "else:\n",
    "    print('Evaluated to False')"
   ]
  },
  {
   "cell_type": "code",
   "execution_count": 27,
   "id": "f4369af8",
   "metadata": {},
   "outputs": [
    {
     "name": "stdout",
     "output_type": "stream",
     "text": [
      "Evaluated to True\n"
     ]
    }
   ],
   "source": [
    "condition = True\n",
    "\n",
    "if condition:\n",
    "    print('Evaluated to True')\n",
    "else:\n",
    "    print('Evaluated to False')"
   ]
  },
  {
   "cell_type": "code",
   "execution_count": 28,
   "id": "d1f305e2",
   "metadata": {},
   "outputs": [
    {
     "name": "stdout",
     "output_type": "stream",
     "text": [
      "Evaluated to False\n"
     ]
    }
   ],
   "source": [
    "condition = None\n",
    "\n",
    "if condition:\n",
    "    print('Evaluated to True')\n",
    "else:\n",
    "    print('Evaluated to False')"
   ]
  },
  {
   "cell_type": "code",
   "execution_count": 29,
   "id": "64ca5353",
   "metadata": {},
   "outputs": [
    {
     "name": "stdout",
     "output_type": "stream",
     "text": [
      "Evaluated to False\n"
     ]
    }
   ],
   "source": [
    "condition = 0\n",
    "\n",
    "if condition:\n",
    "    print('Evaluated to True')\n",
    "else:\n",
    "    print('Evaluated to False')"
   ]
  },
  {
   "cell_type": "code",
   "execution_count": 30,
   "id": "117f586d",
   "metadata": {},
   "outputs": [
    {
     "name": "stdout",
     "output_type": "stream",
     "text": [
      "Evaluated to False\n"
     ]
    }
   ],
   "source": [
    "condition = 0\n",
    "\n",
    "if condition:\n",
    "    print('Evaluated to True')\n",
    "else:\n",
    "    print('Evaluated to False')"
   ]
  },
  {
   "cell_type": "code",
   "execution_count": 31,
   "id": "79e55447",
   "metadata": {},
   "outputs": [
    {
     "name": "stdout",
     "output_type": "stream",
     "text": [
      "Evaluated to True\n"
     ]
    }
   ],
   "source": [
    "condition = 10\n",
    "\n",
    "if condition:\n",
    "    print('Evaluated to True')\n",
    "else:\n",
    "    print('Evaluated to False')"
   ]
  },
  {
   "cell_type": "code",
   "execution_count": 34,
   "id": "cf77fe73",
   "metadata": {},
   "outputs": [
    {
     "name": "stdout",
     "output_type": "stream",
     "text": [
      "Evaluated to False\n"
     ]
    }
   ],
   "source": [
    "# Any empty sequence for example , '',(),[]\n",
    "# Any empty mapping: for example {} - dictionary\n",
    "\n",
    "condition = {}\n",
    "\n",
    "if condition:\n",
    "    print('Evaluated to True')\n",
    "else:\n",
    "    print('Evaluated to False')"
   ]
  },
  {
   "cell_type": "code",
   "execution_count": 39,
   "id": "2037238e",
   "metadata": {},
   "outputs": [
    {
     "name": "stdout",
     "output_type": "stream",
     "text": [
      "Enter a dish name :roti\n",
      "Based on little knowledge I have .. I don't know which cuisineis   roti\n"
     ]
    }
   ],
   "source": [
    "''' Write a program that ask user to enter dish name and it should print which cuisine is that dish'''\n",
    "\n",
    "indian = [\"Biryani\",\"Daal\",\"Chapati\",\"naan\",\"samosa\"]\n",
    "chinese = [\"Egg role\",\"Fried rice\",\"Fried chilli chicken\"]\n",
    "italian = [\"pizza\",\"pasta\",\"risotto\"]\n",
    "\n",
    "dish = input(\"Enter a dish name :\")\n",
    "if dish in indian:\n",
    "    print(\"Indian\")\n",
    "elif dish in chinese:\n",
    "    print(\"Chinese\")\n",
    "elif dish in italian:\n",
    "    print(\"Italian\")\n",
    "else:\n",
    "    print(\"Based on little knowledge I have .. I don't know which cuisineis  \", dish)\n",
    "    "
   ]
  },
  {
   "cell_type": "code",
   "execution_count": null,
   "id": "1a867fc9",
   "metadata": {},
   "outputs": [],
   "source": [
    "# Example -1\n",
    "\n",
    "# If the number is positive, we print an appropriate message\n",
    "\n",
    "num = 3\n",
    "if num > 0:\n",
    "    print(num, \"is a positive number.\")\n",
    "print(\"This is always printed.\")\n",
    "\n",
    "num = -1\n",
    "if num > 0:\n",
    "    print(num, \"is a positive number.\")\n",
    "print(\"This is also always printed.\")"
   ]
  },
  {
   "cell_type": "code",
   "execution_count": null,
   "id": "42545e17",
   "metadata": {},
   "outputs": [],
   "source": [
    "# Example -2\n",
    "\n",
    "# Program checks if the number is positive or negative\n",
    "# And displays an appropriate message\n",
    "\n",
    "#num = 3\n",
    "\n",
    "# Try these two variations as well. \n",
    "# num = -5\n",
    "num = 0\n",
    "\n",
    "if num >= 0:\n",
    "    print(\"Positive or Zero\")\n",
    "else:\n",
    "    print(\"Negative number\")"
   ]
  },
  {
   "cell_type": "markdown",
   "id": "9e0f1eb4",
   "metadata": {},
   "source": [
    "##  if...elif...else"
   ]
  },
  {
   "cell_type": "code",
   "execution_count": null,
   "id": "423f763b",
   "metadata": {},
   "outputs": [],
   "source": [
    "# Example -3\n",
    "\n",
    "'''In this program, \n",
    "we check if the number is positive or\n",
    "negative or zero and \n",
    "display an appropriate message '''\n",
    "\n",
    "num = 3.4\n",
    "\n",
    "# Try these two variations as well:\n",
    "# num = 0\n",
    "# num = -4.5\n",
    "\n",
    "if num > 0:\n",
    "    print(\"Positive number\")\n",
    "elif num == 0:\n",
    "    print(\"Zero\")\n",
    "else:\n",
    "    print(\"Negative number\")"
   ]
  },
  {
   "cell_type": "markdown",
   "id": "5bcb9391",
   "metadata": {},
   "source": [
    "## Python Nested if "
   ]
  },
  {
   "cell_type": "code",
   "execution_count": null,
   "id": "b4c83ea4",
   "metadata": {},
   "outputs": [],
   "source": [
    "# Example -4\n",
    "\n",
    "'''In this program, we input a number\n",
    "check if the number is positive or\n",
    "negative or zero and display\n",
    "an appropriate message\n",
    "This time we use nested if statement'''\n",
    "\n",
    "num = float(input(\"Enter a number: \"))\n",
    "if num >= 0:\n",
    "    if num == 0:\n",
    "        print(\"Zero\")\n",
    "    else:\n",
    "        print(\"Positive number\")\n",
    "else:\n",
    "    print(\"Negative number\")"
   ]
  },
  {
   "cell_type": "code",
   "execution_count": null,
   "id": "7cbbd2fa",
   "metadata": {},
   "outputs": [],
   "source": [
    "# Example -5\n",
    "\n",
    "a=10\n",
    "if a%2==0:\n",
    "    print(\"Even Number\")"
   ]
  },
  {
   "cell_type": "code",
   "execution_count": null,
   "id": "b46ba5ce",
   "metadata": {},
   "outputs": [],
   "source": [
    "# Example -6 using input function\n",
    "\n",
    "a=int(input(\"Enter the value\"))\n",
    "if a%2==0:\n",
    "    print(\"Even Number\")"
   ]
  },
  {
   "cell_type": "code",
   "execution_count": null,
   "id": "d82092d0",
   "metadata": {},
   "outputs": [],
   "source": [
    "# Example \n",
    "a = 33\n",
    "b = 200\n",
    "if b > a:\n",
    "  print(\"b is greater than a\")"
   ]
  },
  {
   "cell_type": "code",
   "execution_count": null,
   "id": "3d979819",
   "metadata": {},
   "outputs": [],
   "source": [
    "# Example -7 \n",
    "\n",
    "a=int(input(\"Enter the value\"))\n",
    "if a%2==0:\n",
    "    print(\"Even Number\")\n",
    "else:\n",
    "    print(\"Odd Number\")"
   ]
  },
  {
   "cell_type": "code",
   "execution_count": null,
   "id": "86ec9cda",
   "metadata": {},
   "outputs": [],
   "source": [
    "# If Elif else statement\n",
    "# Example -8\n",
    "\n",
    "per=60\n",
    "if per>=60:\n",
    "    print(\"First Div\")\n",
    "elif per>=50:\n",
    "    print(\"Second Div\")\n",
    "elifper>=35:\n",
    "    print(\"Third Div\")\n",
    "else:\n",
    "    print(\"Fail\")"
   ]
  },
  {
   "cell_type": "code",
   "execution_count": null,
   "id": "6412ac98",
   "metadata": {},
   "outputs": [],
   "source": [
    "# Example \n",
    "a = 200\n",
    "b = 33\n",
    "if b > a:\n",
    "  print(\"b is greater than a\")\n",
    "elif a == b:\n",
    "  print(\"a and b are equal\")\n",
    "else:\n",
    "  print(\"a is greater than b\")"
   ]
  },
  {
   "cell_type": "code",
   "execution_count": null,
   "id": "61ef68a7",
   "metadata": {},
   "outputs": [],
   "source": [
    "# How to Build Simple calculator in python\n",
    "# Example -9\n",
    "\n",
    "print(''' \n",
    "  +  Addition\n",
    "  -  Subtraction \n",
    "  *  Multiply\n",
    "  /  Division''')\n",
    "num1=int(input(\"Enter the Value1\"))\n",
    "num2=int(input(\"Enter the Value2\"))\n",
    "opr=input(\"Enter the Opr.....  (+,-,*,/)\")\n",
    "if opr=='+':\n",
    "    print(num1+num2)\n",
    "elif opr=='-':\n",
    "    print(num1-num2)\n",
    "elif opr=='*':\n",
    "    print(num1*num2)\n",
    "elif opr=='/':\n",
    "    print(num1/num2)\n",
    "else:\n",
    "    print(\"Invalid Operator.....\")"
   ]
  },
  {
   "cell_type": "code",
   "execution_count": null,
   "id": "b2c74c7c",
   "metadata": {},
   "outputs": [],
   "source": [
    "# Example -10\n",
    "\n",
    "print(''' \n",
    "  +  Addition\n",
    "  -  Subtraction \n",
    "  *  Multiply\n",
    "  /  Division''')\n",
    "num1=int(input(\"Enter the Value1\"))\n",
    "num2=int(input(\"Enter the Value2\"))\n",
    "opr=input(\"Enter the Opr.....  (+,-,*,/)\")\n",
    "if opr=='+':\n",
    "    print(num1+num2)\n",
    "if opr=='-':\n",
    "    print(num1-num2)\n",
    "if opr=='*':\n",
    "    print(num1*num2)\n",
    "if opr=='/':\n",
    "    print(num1/num2)\n",
    "if opr!=\"+\" and opr!=\"-\" and opr!=\"*\" and opr!=\"/\":\n",
    "    print(\"Invalid Operator.....\")"
   ]
  },
  {
   "cell_type": "code",
   "execution_count": null,
   "id": "8c732458",
   "metadata": {},
   "outputs": [],
   "source": [
    "# Example\n",
    "\n",
    "a = int(input(\"Enter a? \"));  \n",
    "b = int(input(\"Enter b? \"));  \n",
    "c = int(input(\"Enter c? \"));  \n",
    "if a>b and a>c:  \n",
    "    print(\"a is largest\");  \n",
    "if b>a and b>c:  \n",
    "    print(\"b is largest\");  \n",
    "if c>a and c>b:  \n",
    "    print(\"c is largest\");  "
   ]
  },
  {
   "cell_type": "code",
   "execution_count": null,
   "id": "6f095555",
   "metadata": {},
   "outputs": [],
   "source": [
    "# Example Program to check whether a person is eligible to vote or not.\n",
    "\n",
    "age = int (input(\"Enter your age? \"))  \n",
    "if age>=18:  \n",
    "    print(\"You are eligible to vote !!\");  \n",
    "else:  \n",
    "    print(\"Sorry! you have to wait !!\");  "
   ]
  },
  {
   "cell_type": "code",
   "execution_count": 2,
   "id": "9794b0b0",
   "metadata": {},
   "outputs": [
    {
     "name": "stdout",
     "output_type": "stream",
     "text": [
      "Enter the marks? 45\n",
      "You scored grade B ...\n"
     ]
    }
   ],
   "source": [
    "# Example \n",
    "\n",
    "marks = int(input(\"Enter the marks? \"))  \n",
    "if marks > 85 and marks <= 100:  \n",
    "   print(\"Congrats ! you scored grade A ...\")  \n",
    "elif marks > 60 and marks <= 85:  \n",
    "   print(\"You scored grade B + ...\")  \n",
    "elif marks > 40 and marks <= 60:  \n",
    "   print(\"You scored grade B ...\")  \n",
    "elif (marks > 30 and marks <= 40):  \n",
    "   print(\"You scored grade C ...\")  \n",
    "else:  \n",
    "   print(\"Sorry you are fail ?\")  "
   ]
  },
  {
   "cell_type": "code",
   "execution_count": 40,
   "id": "b5ce6cda",
   "metadata": {},
   "outputs": [
    {
     "name": "stdout",
     "output_type": "stream",
     "text": [
      "price*quantity is less than 500\n",
      "price =  50\n",
      "quantity =  5\n"
     ]
    }
   ],
   "source": [
    "# Example\n",
    "\n",
    "price = 50\n",
    "quantity = 5\n",
    "if price*quantity < 500:\n",
    "    print(\"price*quantity is less than 500\")\n",
    "    print(\"price = \", price)\n",
    "    print(\"quantity = \", quantity)"
   ]
  },
  {
   "cell_type": "code",
   "execution_count": null,
   "id": "160ae719",
   "metadata": {},
   "outputs": [],
   "source": [
    "# Example using conditionalstatement\n",
    "a=10\n",
    "b=8\n",
    "if a > b: print(\"a is greater than b\")"
   ]
  },
  {
   "cell_type": "markdown",
   "id": "fd59df73",
   "metadata": {},
   "source": [
    "## The pass Statement"
   ]
  },
  {
   "cell_type": "code",
   "execution_count": null,
   "id": "d931ed14",
   "metadata": {},
   "outputs": [],
   "source": [
    "# if statements cannot be empty, but if you for some reason have an if statement with no content,\n",
    "# put in the pass statement to avoid getting an error."
   ]
  },
  {
   "cell_type": "code",
   "execution_count": null,
   "id": "42bf5281",
   "metadata": {},
   "outputs": [],
   "source": [
    "# Example \n",
    "a = 33\n",
    "b = 200\n",
    "\n",
    "if b > a:\n",
    "  pass"
   ]
  },
  {
   "cell_type": "code",
   "execution_count": null,
   "id": "3e55ffda",
   "metadata": {},
   "outputs": [],
   "source": []
  }
 ],
 "metadata": {
  "kernelspec": {
   "display_name": "Python 3",
   "language": "python",
   "name": "python3"
  },
  "language_info": {
   "codemirror_mode": {
    "name": "ipython",
    "version": 3
   },
   "file_extension": ".py",
   "mimetype": "text/x-python",
   "name": "python",
   "nbconvert_exporter": "python",
   "pygments_lexer": "ipython3",
   "version": "3.8.8"
  }
 },
 "nbformat": 4,
 "nbformat_minor": 5
}
