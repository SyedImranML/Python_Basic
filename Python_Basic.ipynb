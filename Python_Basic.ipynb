{
  "nbformat": 4,
  "nbformat_minor": 0,
  "metadata": {
    "colab": {
      "name": "Python_Basic.ipynb",
      "provenance": [],
      "collapsed_sections": [],
      "include_colab_link": true
    },
    "kernelspec": {
      "name": "python3",
      "display_name": "Python 3"
    },
    "language_info": {
      "name": "python"
    }
  },
  "cells": [
    {
      "cell_type": "markdown",
      "metadata": {
        "id": "view-in-github",
        "colab_type": "text"
      },
      "source": [
        "<a href=\"https://colab.research.google.com/github/SyedImranML/Python_Basic/blob/main/Python_Basic.ipynb\" target=\"_parent\"><img src=\"https://colab.research.google.com/assets/colab-badge.svg\" alt=\"Open In Colab\"/></a>"
      ]
    },
    {
      "cell_type": "markdown",
      "metadata": {
        "id": "ZDKkIZtpM_mL"
      },
      "source": [
        "##1. ARITHMETIC OPERATION"
      ]
    },
    {
      "cell_type": "markdown",
      "metadata": {
        "id": "sufuTFEnNg_Z"
      },
      "source": [
        "###Simple Arithmetic"
      ]
    },
    {
      "cell_type": "code",
      "metadata": {
        "id": "TtfZ-IOgHfGW",
        "colab": {
          "base_uri": "https://localhost:8080/"
        },
        "outputId": "6bbcdfda-2e04-428c-a1e6-6ae21cc7da8a"
      },
      "source": [
        "a=5\n",
        "b=6\n",
        "c=a+b\n",
        "print(c)"
      ],
      "execution_count": null,
      "outputs": [
        {
          "output_type": "stream",
          "name": "stdout",
          "text": [
            "11\n"
          ]
        }
      ]
    },
    {
      "cell_type": "markdown",
      "metadata": {
        "id": "cHMpw0heNlMR"
      },
      "source": [
        "###Simple Arithmetic - Get input from User (+,-,*,%)"
      ]
    },
    {
      "cell_type": "code",
      "metadata": {
        "id": "Vhx4KcUBKOh2"
      },
      "source": [
        "a = float(input(\"Enter the value of a: \"))\n",
        "b = float(input(\"Enter the value of b: \"))\n",
        "add=a+b\n",
        "print(add)"
      ],
      "execution_count": null,
      "outputs": []
    },
    {
      "cell_type": "code",
      "metadata": {
        "id": "bKxsuv-pNpQe"
      },
      "source": [
        "a = int(input(\"Enter the value of a: \"))\n",
        "b = int(input(\"Enter the value of b: \"))\n",
        "add=a+b\n",
        "sub=a-b\n",
        "mult=a*b\n",
        "div=a/b\n",
        "mod=a%b\n",
        "print(\"ADD:\",add)\n",
        "print(\"Sum: {0}, Diff: {1}, Mult: {2}, Div:{3}, Mod:{4}\".format(add,sub,mult,div,mod)) #Print using Format"
      ],
      "execution_count": null,
      "outputs": []
    },
    {
      "cell_type": "code",
      "metadata": {
        "id": "IjSJ9cjeJSKg"
      },
      "source": [
        "print(\"Sum: %d, Diff: %d, Mult: %d, Div:%15.6f, Mod:%d\"%(add,sub,mult,div,mod)) #Print using PADDING & PRECISION"
      ],
      "execution_count": null,
      "outputs": []
    },
    {
      "cell_type": "code",
      "metadata": {
        "id": "HOKG86Pmd2Jz"
      },
      "source": [
        "print('{0:<4} | {1:^4} | {2:^4} | {3:>4}'.format('Sum','Diff','Mult','Div'))\n",
        "print('{0:<4} | {1:^4} | {2:^4} | {3:>4}'.format(add,sub,mult,div))"
      ],
      "execution_count": null,
      "outputs": []
    },
    {
      "cell_type": "markdown",
      "metadata": {
        "id": "qmmK4KwfS-2c"
      },
      "source": [
        "###Simple Arithmetic - Get input from User (power)"
      ]
    },
    {
      "cell_type": "code",
      "metadata": {
        "id": "8Lbkg5sBTQfB"
      },
      "source": [
        "a=2\n",
        "b=3\n",
        "power=a**b #Power\n",
        "print(power)"
      ],
      "execution_count": null,
      "outputs": []
    },
    {
      "cell_type": "markdown",
      "metadata": {
        "id": "FVME_SkfM_h8"
      },
      "source": [
        "##2. STRINGS"
      ]
    },
    {
      "cell_type": "markdown",
      "metadata": {
        "id": "Zlh0wiu_VdvU"
      },
      "source": [
        "###Create String"
      ]
    },
    {
      "cell_type": "code",
      "metadata": {
        "id": "V-1duhSmVaZY"
      },
      "source": [
        "a = 'Python'\n",
        "b = \"Bootcamp\"\n",
        "print(a+b)"
      ],
      "execution_count": null,
      "outputs": []
    },
    {
      "cell_type": "markdown",
      "metadata": {
        "id": "OrUXHr7eWFWI"
      },
      "source": [
        "###Length of String"
      ]
    },
    {
      "cell_type": "code",
      "metadata": {
        "id": "SDe_zX2FWEZn"
      },
      "source": [
        "a=\"Champ\"\n",
        "print(len(a))"
      ],
      "execution_count": null,
      "outputs": []
    },
    {
      "cell_type": "code",
      "metadata": {
        "id": "e_VcXyr1YdSW"
      },
      "source": [
        "a=\"S\"\n",
        "b=a*5\n",
        "print(b)"
      ],
      "execution_count": null,
      "outputs": []
    },
    {
      "cell_type": "markdown",
      "metadata": {
        "id": "C_SUK4nhWf0v"
      },
      "source": [
        "###String Index "
      ]
    },
    {
      "cell_type": "code",
      "metadata": {
        "id": "aV0n3FvMWlgl"
      },
      "source": [
        "a=\"champ\"\n",
        "print(a[3]) #identifing the element based on index\n",
        "print(a[2:]) #Grab the remaing elements except upto the Index\n",
        "print(a[:2]) #Grab the elements upto the Index\n",
        "print(a[-1]) #Grab the Last element\n",
        "print(a[:-1]) #Grab the elements except last element\n",
        "print(a[::2]) #Grab everything with 2 steps\n",
        "print(a[::-1]) #Print string backwards"
      ],
      "execution_count": null,
      "outputs": []
    },
    {
      "cell_type": "markdown",
      "metadata": {
        "id": "1Ikxg5ypYumu"
      },
      "source": [
        "###String Functions"
      ]
    },
    {
      "cell_type": "code",
      "metadata": {
        "id": "0kuA2ylZYwpO"
      },
      "source": [
        "a=\"Master Class\"\n",
        "print(a.upper()) #Changing to Upper case\n",
        "print(a.lower()) #Changing to Lowerb= a.split() case"
      ],
      "execution_count": null,
      "outputs": []
    },
    {
      "cell_type": "code",
      "metadata": {
        "id": "IARDq5yVdp8a"
      },
      "source": [
        "b= a.split() #Splitting String\n",
        "print(b)\n",
        "print(b[1]) #Printing the splitting string based on Index"
      ],
      "execution_count": null,
      "outputs": []
    },
    {
      "cell_type": "code",
      "metadata": {
        "id": "EBrFZG2eduaB"
      },
      "source": [
        "c=\"ElonMusk,SteveJobs,BillGates\"\n",
        "d=c.split(\",\") #Splitting string based on Delimitter\n",
        "print(d)\n",
        "print(d[1])"
      ],
      "execution_count": null,
      "outputs": []
    },
    {
      "cell_type": "code",
      "metadata": {
        "id": "Zx454moWeA0W"
      },
      "source": [
        "a=\"Master Class\"\n",
        "print(f\"Welcome to Python {a} !\") #Formatting string Literals"
      ],
      "execution_count": null,
      "outputs": []
    },
    {
      "cell_type": "markdown",
      "metadata": {
        "id": "2W2MF7VEex9_"
      },
      "source": [
        "##3. LIST"
      ]
    },
    {
      "cell_type": "markdown",
      "metadata": {
        "id": "HpPAYPkRfBan"
      },
      "source": [
        "###Create List"
      ]
    },
    {
      "cell_type": "code",
      "metadata": {
        "id": "bHrBdmWIezyQ"
      },
      "source": [
        "a = [1,2,3,4,5]\n",
        "b = [\"Champ\",21,99.5]\n",
        "print(a,b)\n",
        "print(len(b)) #Length of List\n",
        "print(b[0]) #Locate list element based on Index\n",
        "print(a[1:]) #print elements except 1st\n",
        "print(a[:2]) #Print elements upto 2nd element\n",
        "print(a+b) #Concatenate 2 list"
      ],
      "execution_count": null,
      "outputs": []
    },
    {
      "cell_type": "code",
      "metadata": {
        "id": "eMPl3oytgQH4"
      },
      "source": [
        "a = [1,2,3,4,5]\n",
        "a.append(6) #inserting new elements to the existing list\n",
        "print(a)"
      ],
      "execution_count": null,
      "outputs": []
    },
    {
      "cell_type": "code",
      "metadata": {
        "id": "kdK761TMhAJx"
      },
      "source": [
        "a = [1,2,3,4,5]\n",
        "a.reverse() #Reverse list\n",
        "print(a)\n",
        "print(min(a)) #Minimum\n",
        "print(max(a)) #Maximum "
      ],
      "execution_count": null,
      "outputs": []
    },
    {
      "cell_type": "code",
      "metadata": {
        "id": "UAMYYkAeAsQI"
      },
      "source": [
        "a = [1,2,3,4,5]\n",
        "from random import shuffle\n",
        "shuffle(a)\n",
        "a"
      ],
      "execution_count": null,
      "outputs": []
    },
    {
      "cell_type": "code",
      "metadata": {
        "id": "mXeXdfb3hS0L"
      },
      "source": [
        "a=[1,2,3]\n",
        "b=[4,5,6]\n",
        "c=[a,b] #Nested List Matrix\n",
        "print(c)\n",
        "print(c[0]) #Printing row\n",
        "print(c[0][0]) #Printing 1st element "
      ],
      "execution_count": null,
      "outputs": []
    },
    {
      "cell_type": "markdown",
      "metadata": {
        "id": "p9h7qc2iiA5W"
      },
      "source": [
        "##4. DICTIONARIES"
      ]
    },
    {
      "cell_type": "markdown",
      "metadata": {
        "id": "ZeI2uhJYiX_C"
      },
      "source": [
        "###Creating Dictionary : Key & Value"
      ]
    },
    {
      "cell_type": "code",
      "metadata": {
        "id": "Wth0bhfMiEyj"
      },
      "source": [
        "a = {\"Name\":\"Elon\",\"Age\":50,\"Company\":[\"SpaceX\",\"Tesla\"]}\n",
        "a"
      ],
      "execution_count": null,
      "outputs": []
    },
    {
      "cell_type": "code",
      "metadata": {
        "id": "asOL47w6icRS"
      },
      "source": [
        "a = {\"Name\":\"Elon\",\"Age\":50,\"Company\":[\"SpaceX\",\"Tesla\"]}\n",
        "print(a[\"Name\"]) #Printing value based on its Key\n",
        "a[\"Age\"]= 51 #Changing values\n",
        "a"
      ],
      "execution_count": null,
      "outputs": []
    },
    {
      "cell_type": "code",
      "metadata": {
        "id": "3VcWsp45kIgR"
      },
      "source": [
        "b={\"Climate\":{\"Condition\":{\"Temperature\":\"38 Degree\",\"Humidity\":\"70 Percentage\"}}}\n",
        "print(b[\"Climate\"][\"Condition\"][\"Humidity\"])"
      ],
      "execution_count": null,
      "outputs": []
    },
    {
      "cell_type": "code",
      "metadata": {
        "id": "eQVX7s6wk1Mv"
      },
      "source": [
        "print(a.keys()) #Printing Keys of the Dictionaries\n",
        "print(a.values()) #Printing Values of the Dictionaries\n",
        "print(a.items()) #Printing Tuple of the all items"
      ],
      "execution_count": null,
      "outputs": []
    },
    {
      "cell_type": "markdown",
      "metadata": {
        "id": "iniC2ZLGlo16"
      },
      "source": [
        "##5. TUPLES"
      ]
    },
    {
      "cell_type": "markdown",
      "metadata": {
        "id": "O7cLAnFxls8O"
      },
      "source": [
        "###Creating Tuples"
      ]
    },
    {
      "cell_type": "code",
      "metadata": {
        "id": "cOW8W-Eolq9b"
      },
      "source": [
        "a = (\"Champ\",21,99.5)\n",
        "a"
      ],
      "execution_count": null,
      "outputs": []
    },
    {
      "cell_type": "code",
      "metadata": {
        "id": "6P9GgeT1lzvb"
      },
      "source": [
        "print(len(a)) #Length of tuple\n",
        "print(a[0]) #Printing elements from tuple via index\n",
        "print(a.index(\"Champ\")) #Getting Index of Elements"
      ],
      "execution_count": null,
      "outputs": []
    },
    {
      "cell_type": "markdown",
      "metadata": {
        "id": "CPDJQZ27nBNB"
      },
      "source": [
        "##6. SETS"
      ]
    },
    {
      "cell_type": "markdown",
      "metadata": {
        "id": "9fRq2c1fnJ-q"
      },
      "source": [
        "###Creating Set"
      ]
    },
    {
      "cell_type": "code",
      "metadata": {
        "id": "mJnSp_RmnFRh"
      },
      "source": [
        "a = set()"
      ],
      "execution_count": null,
      "outputs": []
    },
    {
      "cell_type": "code",
      "metadata": {
        "id": "4Dv5syk4nPn9"
      },
      "source": [
        "a.add(\"Champ\")\n",
        "a"
      ],
      "execution_count": null,
      "outputs": []
    },
    {
      "cell_type": "code",
      "metadata": {
        "id": "oyftaYrmnYUt"
      },
      "source": [
        "a.add(30)\n",
        "a"
      ],
      "execution_count": null,
      "outputs": []
    },
    {
      "cell_type": "code",
      "metadata": {
        "id": "OSR4aGAenoAT"
      },
      "source": [
        "b = [\"Champ\",21,99.5]\n",
        "set(b)"
      ],
      "execution_count": null,
      "outputs": []
    },
    {
      "cell_type": "markdown",
      "metadata": {
        "id": "W_kyyeDnn1pv"
      },
      "source": [
        "##7. BOOLEAN"
      ]
    },
    {
      "cell_type": "markdown",
      "metadata": {
        "id": "3kzjcsHUn-RV"
      },
      "source": [
        "###Creating Boolean"
      ]
    },
    {
      "cell_type": "code",
      "metadata": {
        "id": "3PRhfVm4n4iw"
      },
      "source": [
        "a = True"
      ],
      "execution_count": null,
      "outputs": []
    },
    {
      "cell_type": "code",
      "metadata": {
        "id": "9rfOJjBboBkk"
      },
      "source": [
        "a = 10\n",
        "b = 5\n",
        "c=15\n",
        "print(a<b)\n",
        "print(a>b)\n",
        "print(a==b)\n",
        "print(a!=b)\n",
        "print(a<=b)\n",
        "print(a>=b)\n",
        "print(a<b and c>a)\n",
        "print(a<b or c>a)"
      ],
      "execution_count": null,
      "outputs": []
    },
    {
      "cell_type": "markdown",
      "metadata": {
        "id": "ouleFIQQw8bR"
      },
      "source": [
        "##8.Python Statements"
      ]
    },
    {
      "cell_type": "markdown",
      "metadata": {
        "id": "Llr9gACdx8_a"
      },
      "source": [
        "###If"
      ]
    },
    {
      "cell_type": "code",
      "metadata": {
        "id": "FVnVrqQyxckv"
      },
      "source": [
        "a = True\n",
        "if a:\n",
        "  print(\"Positive\")\n",
        "else:\n",
        "  print(\"negative\")"
      ],
      "execution_count": null,
      "outputs": []
    },
    {
      "cell_type": "code",
      "metadata": {
        "id": "21sn8ZEdz6B4"
      },
      "source": [
        "a=10\n",
        "b=6\n",
        "c=6\n",
        "\n",
        "if a<b:\n",
        "  print(\"a less than b\")\n",
        "elif c==b:\n",
        "  print(\"a is equal to b\")\n",
        "  print(\"a is not less than b\")\n",
        "  if c<a:\n",
        "    print(\"c is less than b\")\n",
        "else:\n",
        "  print(\"a is not less than b\")"
      ],
      "execution_count": null,
      "outputs": []
    },
    {
      "cell_type": "markdown",
      "metadata": {
        "id": "8PXBa4y_0Tas"
      },
      "source": [
        "###For"
      ]
    },
    {
      "cell_type": "code",
      "metadata": {
        "id": "TYnMa0YW0VAh"
      },
      "source": [
        "a = [1,2,3,4,5,6,7,8,9,10]\n",
        "for i in a:\n",
        "  print(i)"
      ],
      "execution_count": null,
      "outputs": []
    },
    {
      "cell_type": "code",
      "metadata": {
        "id": "J_dKeL7XIEOX"
      },
      "source": [
        "a = [i for i in 'Champ']\n",
        "a"
      ],
      "execution_count": null,
      "outputs": []
    },
    {
      "cell_type": "markdown",
      "metadata": {
        "id": "4jtbIiC80zKR"
      },
      "source": [
        "###Odd & Even Number"
      ]
    },
    {
      "cell_type": "code",
      "metadata": {
        "id": "IBPXEpEu025H"
      },
      "source": [
        "a = [1,2,3,4,5,6,7,8,9,10]\n",
        "for i in a:\n",
        "  if i % 2 == 0:\n",
        "    print(i,\"Even Number\")\n",
        "  else:\n",
        "    print(i,\"Odd Number\")"
      ],
      "execution_count": null,
      "outputs": []
    },
    {
      "cell_type": "markdown",
      "metadata": {
        "id": "YQr4SPiO1p1q"
      },
      "source": [
        "###String - For"
      ]
    },
    {
      "cell_type": "code",
      "metadata": {
        "id": "3eUBOYZh1s_H"
      },
      "source": [
        "for a in \"Hello all\":\n",
        "  print(a)"
      ],
      "execution_count": null,
      "outputs": []
    },
    {
      "cell_type": "markdown",
      "metadata": {
        "id": "WYtBZ7Qy19HO"
      },
      "source": [
        "###Dictionary - For"
      ]
    },
    {
      "cell_type": "code",
      "metadata": {
        "id": "wUPeD10P1_9p"
      },
      "source": [
        "a = {\"Name\":\"Elon\",\"Age\":50,\"Company\":[\"SpaceX\",\"Tesla\"]}\n",
        "for k,v in a.items():\n",
        "  print(k)\n",
        "  print(v)"
      ],
      "execution_count": null,
      "outputs": []
    },
    {
      "cell_type": "markdown",
      "metadata": {
        "id": "mX5M0Iub2lqm"
      },
      "source": [
        "###While"
      ]
    },
    {
      "cell_type": "code",
      "metadata": {
        "id": "giMPJG_Z2nnN"
      },
      "source": [
        "a=0\n",
        "while a <11:\n",
        "  print(a)\n",
        "  a+=1 #a=a+1"
      ],
      "execution_count": null,
      "outputs": []
    },
    {
      "cell_type": "markdown",
      "metadata": {
        "id": "mTt9y0-B5f_4"
      },
      "source": [
        "### While - Break & Continue"
      ]
    },
    {
      "cell_type": "code",
      "metadata": {
        "id": "Xzqk3wpc5Nvo"
      },
      "source": [
        "a=0\n",
        "while a < 10:\n",
        "  print(a)\n",
        "  a+=1\n",
        "  if a==5:\n",
        "    print(\"a is equal to 5\")\n",
        "    break\n",
        "  else:\n",
        "    print(\"Continueeee\")\n",
        "    continue"
      ],
      "execution_count": null,
      "outputs": []
    },
    {
      "cell_type": "markdown",
      "metadata": {
        "id": "eG0qdlq92W8g"
      },
      "source": [
        "###Range"
      ]
    },
    {
      "cell_type": "code",
      "metadata": {
        "id": "WnACQSNc2Z9X"
      },
      "source": [
        "for a in range (6):\n",
        "  print(a)"
      ],
      "execution_count": null,
      "outputs": []
    },
    {
      "cell_type": "code",
      "metadata": {
        "id": "rw8UgmgP56NY"
      },
      "source": [
        "for a in range (1,10,1):\n",
        "  print(a)"
      ],
      "execution_count": null,
      "outputs": []
    },
    {
      "cell_type": "code",
      "metadata": {
        "id": "c3WrFlKy6BtS"
      },
      "source": [
        "for a in range (10,0,-3):\n",
        "  print(a)"
      ],
      "execution_count": null,
      "outputs": []
    },
    {
      "cell_type": "code",
      "metadata": {
        "id": "RhySC28sSmf-"
      },
      "source": [
        "a = [i**2 for i in range(0,5)]\n",
        "a"
      ],
      "execution_count": null,
      "outputs": []
    },
    {
      "cell_type": "code",
      "metadata": {
        "id": "CiACxsUxTBJn"
      },
      "source": [
        "a = [i for i in range(10) if i % 2 == 0]\n",
        "a"
      ],
      "execution_count": null,
      "outputs": []
    },
    {
      "cell_type": "markdown",
      "metadata": {
        "id": "N03agy3C6GGH"
      },
      "source": [
        "### Enumerate - To track no. of iteration in the loop, without working with variable increament "
      ]
    },
    {
      "cell_type": "code",
      "metadata": {
        "id": "9AL5CLTl6K7Z"
      },
      "source": [
        "a=0\n",
        "for i,a in enumerate(\"Hello Champ\"):\n",
        "  print(i,a)"
      ],
      "execution_count": null,
      "outputs": []
    },
    {
      "cell_type": "markdown",
      "metadata": {
        "id": "a6ZRJmEw7QTi"
      },
      "source": [
        "### Zip - Creating a tuples by zipping 2 list"
      ]
    },
    {
      "cell_type": "code",
      "metadata": {
        "id": "1dXD3Juc8fdv"
      },
      "source": [
        "a = [\"Name\",\"Age\",\"Country\"]\n",
        "b = [\"Champ\",27,\"India\"]\n",
        "list(zip(a,b))"
      ],
      "execution_count": null,
      "outputs": []
    }
  ]
}