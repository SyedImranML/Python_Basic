{
 "cells": [
  {
   "cell_type": "markdown",
   "id": "cfe7ac85",
   "metadata": {},
   "source": [
    "## Python if...else Statement\n"
   ]
  },
  {
   "cell_type": "code",
   "execution_count": null,
   "id": "4c21d1a0",
   "metadata": {},
   "outputs": [],
   "source": [
    "# Python program using if..else statement.\n",
    "# Decision making is required when we want to execute a code only if a certain condition is satisfied.\n"
   ]
  },
  {
   "cell_type": "code",
   "execution_count": null,
   "id": "1a867fc9",
   "metadata": {},
   "outputs": [],
   "source": [
    "# Example -1\n",
    "\n",
    "# If the number is positive, we print an appropriate message\n",
    "\n",
    "num = 3\n",
    "if num > 0:\n",
    "    print(num, \"is a positive number.\")\n",
    "print(\"This is always printed.\")\n",
    "\n",
    "num = -1\n",
    "if num > 0:\n",
    "    print(num, \"is a positive number.\")\n",
    "print(\"This is also always printed.\")"
   ]
  },
  {
   "cell_type": "code",
   "execution_count": null,
   "id": "42545e17",
   "metadata": {},
   "outputs": [],
   "source": [
    "# Example -2\n",
    "\n",
    "# Program checks if the number is positive or negative\n",
    "# And displays an appropriate message\n",
    "\n",
    "#num = 3\n",
    "\n",
    "# Try these two variations as well. \n",
    "# num = -5\n",
    "num = 0\n",
    "\n",
    "if num >= 0:\n",
    "    print(\"Positive or Zero\")\n",
    "else:\n",
    "    print(\"Negative number\")"
   ]
  },
  {
   "cell_type": "markdown",
   "id": "9e0f1eb4",
   "metadata": {},
   "source": [
    "##  if...elif...else"
   ]
  },
  {
   "cell_type": "code",
   "execution_count": null,
   "id": "423f763b",
   "metadata": {},
   "outputs": [],
   "source": [
    "# Example -3\n",
    "\n",
    "'''In this program, \n",
    "we check if the number is positive or\n",
    "negative or zero and \n",
    "display an appropriate message '''\n",
    "\n",
    "num = 3.4\n",
    "\n",
    "# Try these two variations as well:\n",
    "# num = 0\n",
    "# num = -4.5\n",
    "\n",
    "if num > 0:\n",
    "    print(\"Positive number\")\n",
    "elif num == 0:\n",
    "    print(\"Zero\")\n",
    "else:\n",
    "    print(\"Negative number\")"
   ]
  },
  {
   "cell_type": "markdown",
   "id": "5bcb9391",
   "metadata": {},
   "source": [
    "## Python Nested if "
   ]
  },
  {
   "cell_type": "code",
   "execution_count": null,
   "id": "b4c83ea4",
   "metadata": {},
   "outputs": [],
   "source": [
    "# Example -4\n",
    "\n",
    "'''In this program, we input a number\n",
    "check if the number is positive or\n",
    "negative or zero and display\n",
    "an appropriate message\n",
    "This time we use nested if statement'''\n",
    "\n",
    "num = float(input(\"Enter a number: \"))\n",
    "if num >= 0:\n",
    "    if num == 0:\n",
    "        print(\"Zero\")\n",
    "    else:\n",
    "        print(\"Positive number\")\n",
    "else:\n",
    "    print(\"Negative number\")"
   ]
  },
  {
   "cell_type": "code",
   "execution_count": null,
   "id": "7cbbd2fa",
   "metadata": {},
   "outputs": [],
   "source": [
    "# Example -5\n",
    "\n",
    "a=10\n",
    "if a%2==0:\n",
    "    print(\"Even Number\")"
   ]
  },
  {
   "cell_type": "code",
   "execution_count": null,
   "id": "b46ba5ce",
   "metadata": {},
   "outputs": [],
   "source": [
    "# Example -6 using input function\n",
    "\n",
    "a=int(input(\"Enter the value\"))\n",
    "if a%2==0:\n",
    "    print(\"Even Number\")"
   ]
  },
  {
   "cell_type": "code",
   "execution_count": null,
   "id": "d82092d0",
   "metadata": {},
   "outputs": [],
   "source": [
    "# Example \n",
    "a = 33\n",
    "b = 200\n",
    "if b > a:\n",
    "  print(\"b is greater than a\")"
   ]
  },
  {
   "cell_type": "code",
   "execution_count": null,
   "id": "3d979819",
   "metadata": {},
   "outputs": [],
   "source": [
    "# Example -7 \n",
    "\n",
    "a=int(input(\"Enter the value\"))\n",
    "if a%2==0:\n",
    "    print(\"Even Number\")\n",
    "else:\n",
    "    print(\"Odd Number\")"
   ]
  },
  {
   "cell_type": "code",
   "execution_count": null,
   "id": "86ec9cda",
   "metadata": {},
   "outputs": [],
   "source": [
    "# If Elif else statement\n",
    "# Example -8\n",
    "\n",
    "per=60\n",
    "if per>=60:\n",
    "    print(\"First Div\")\n",
    "elif per>=50:\n",
    "    print(\"Second Div\")\n",
    "elifper>=35:\n",
    "    print(\"Third Div\")\n",
    "else:\n",
    "    print(\"Fail\")"
   ]
  },
  {
   "cell_type": "code",
   "execution_count": null,
   "id": "6412ac98",
   "metadata": {},
   "outputs": [],
   "source": [
    "# Example \n",
    "a = 200\n",
    "b = 33\n",
    "if b > a:\n",
    "  print(\"b is greater than a\")\n",
    "elif a == b:\n",
    "  print(\"a and b are equal\")\n",
    "else:\n",
    "  print(\"a is greater than b\")"
   ]
  },
  {
   "cell_type": "code",
   "execution_count": null,
   "id": "61ef68a7",
   "metadata": {},
   "outputs": [],
   "source": [
    "# How to Build Simple calculator in python\n",
    "# Example -9\n",
    "\n",
    "print(''' \n",
    "  +  Addition\n",
    "  -  Subtraction \n",
    "  *  Multiply\n",
    "  /  Division''')\n",
    "num1=int(input(\"Enter the Value1\"))\n",
    "num2=int(input(\"Enter the Value2\"))\n",
    "opr=input(\"Enter the Opr.....  (+,-,*,/)\")\n",
    "if opr=='+':\n",
    "    print(num1+num2)\n",
    "elif opr=='-':\n",
    "    print(num1-num2)\n",
    "elif opr=='*':\n",
    "    print(num1*num2)\n",
    "elif opr=='/':\n",
    "    print(num1/num2)\n",
    "else:\n",
    "    print(\"Invalid Operator.....\")"
   ]
  },
  {
   "cell_type": "code",
   "execution_count": null,
   "id": "b2c74c7c",
   "metadata": {},
   "outputs": [],
   "source": [
    "# Example -10\n",
    "\n",
    "print(''' \n",
    "  +  Addition\n",
    "  -  Subtraction \n",
    "  *  Multiply\n",
    "  /  Division''')\n",
    "num1=int(input(\"Enter the Value1\"))\n",
    "num2=int(input(\"Enter the Value2\"))\n",
    "opr=input(\"Enter the Opr.....  (+,-,*,/)\")\n",
    "if opr=='+':\n",
    "    print(num1+num2)\n",
    "if opr=='-':\n",
    "    print(num1-num2)\n",
    "if opr=='*':\n",
    "    print(num1*num2)\n",
    "if opr=='/':\n",
    "    print(num1/num2)\n",
    "if opr!=\"+\" and opr!=\"-\" and opr!=\"*\" and opr!=\"/\":\n",
    "    print(\"Invalid Operator.....\")"
   ]
  },
  {
   "cell_type": "code",
   "execution_count": null,
   "id": "8c732458",
   "metadata": {},
   "outputs": [],
   "source": [
    "# Example\n",
    "\n",
    "a = int(input(\"Enter a? \"));  \n",
    "b = int(input(\"Enter b? \"));  \n",
    "c = int(input(\"Enter c? \"));  \n",
    "if a>b and a>c:  \n",
    "    print(\"a is largest\");  \n",
    "if b>a and b>c:  \n",
    "    print(\"b is largest\");  \n",
    "if c>a and c>b:  \n",
    "    print(\"c is largest\");  "
   ]
  },
  {
   "cell_type": "code",
   "execution_count": null,
   "id": "6f095555",
   "metadata": {},
   "outputs": [],
   "source": [
    "# Example Program to check whether a person is eligible to vote or not.\n",
    "\n",
    "age = int (input(\"Enter your age? \"))  \n",
    "if age>=18:  \n",
    "    print(\"You are eligible to vote !!\");  \n",
    "else:  \n",
    "    print(\"Sorry! you have to wait !!\");  "
   ]
  },
  {
   "cell_type": "code",
   "execution_count": null,
   "id": "9794b0b0",
   "metadata": {},
   "outputs": [],
   "source": [
    "# Example \n",
    "\n",
    "marks = int(input(\"Enter the marks? \"))  \n",
    "f marks > 85 and marks <= 100:  \n",
    "   print(\"Congrats ! you scored grade A ...\")  \n",
    "lif marks > 60 and marks <= 85:  \n",
    "   print(\"You scored grade B + ...\")  \n",
    "lif marks > 40 and marks <= 60:  \n",
    "   print(\"You scored grade B ...\")  \n",
    "lif (marks > 30 and marks <= 40):  \n",
    "   print(\"You scored grade C ...\")  \n",
    "lse:  \n",
    "   print(\"Sorry you are fail ?\")  "
   ]
  },
  {
   "cell_type": "code",
   "execution_count": null,
   "id": "b5ce6cda",
   "metadata": {},
   "outputs": [],
   "source": [
    "# Example\n",
    "\n",
    "price = 50\n",
    "quantity = 5\n",
    "if price*quantity < 500:\n",
    "    print(\"price*quantity is less than 500\")\n",
    "    print(\"price = \", price)\n",
    "    print(\"quantity = \", quantity)"
   ]
  },
  {
   "cell_type": "code",
   "execution_count": null,
   "id": "160ae719",
   "metadata": {},
   "outputs": [],
   "source": [
    "# Example using conditionalstatement\n",
    "a=10\n",
    "b=8\n",
    "if a > b: print(\"a is greater than b\")"
   ]
  },
  {
   "cell_type": "markdown",
   "id": "fd59df73",
   "metadata": {},
   "source": [
    "## The pass Statement"
   ]
  },
  {
   "cell_type": "code",
   "execution_count": null,
   "id": "d931ed14",
   "metadata": {},
   "outputs": [],
   "source": [
    "# if statements cannot be empty, but if you for some reason have an if statement with no content,\n",
    "# put in the pass statement to avoid getting an error."
   ]
  },
  {
   "cell_type": "code",
   "execution_count": null,
   "id": "42bf5281",
   "metadata": {},
   "outputs": [],
   "source": [
    "# Example \n",
    "a = 33\n",
    "b = 200\n",
    "\n",
    "if b > a:\n",
    "  pass"
   ]
  },
  {
   "cell_type": "code",
   "execution_count": null,
   "id": "3e55ffda",
   "metadata": {},
   "outputs": [],
   "source": []
  }
 ],
 "metadata": {
  "kernelspec": {
   "display_name": "Python 3",
   "language": "python",
   "name": "python3"
  },
  "language_info": {
   "codemirror_mode": {
    "name": "ipython",
    "version": 3
   },
   "file_extension": ".py",
   "mimetype": "text/x-python",
   "name": "python",
   "nbconvert_exporter": "python",
   "pygments_lexer": "ipython3",
   "version": "3.8.8"
  }
 },
 "nbformat": 4,
 "nbformat_minor": 5
}
