{
 "cells": [
  {
   "cell_type": "markdown",
   "id": "b29075ea",
   "metadata": {},
   "source": [
    "## Python String capitalize()"
   ]
  },
  {
   "cell_type": "code",
   "execution_count": 2,
   "id": "11e8b677",
   "metadata": {},
   "outputs": [],
   "source": [
    "# In Python, the capitalize() method converts first character of a string to uppercase letter \n",
    "# and lowercases all other characters.\n",
    "# Syntax : string.capitalize()"
   ]
  },
  {
   "cell_type": "code",
   "execution_count": 3,
   "id": "88137eae",
   "metadata": {},
   "outputs": [],
   "source": [
    "# capitalize() Parameter\n",
    "# The capitalize()function doesn't take any parameter.\n",
    "# It doesn't modify the original string."
   ]
  },
  {
   "cell_type": "code",
   "execution_count": 6,
   "id": "757822ae",
   "metadata": {},
   "outputs": [
    {
     "name": "stdout",
     "output_type": "stream",
     "text": [
      "Old String:  AWesome Python\n",
      "Capitalized String: Awesome python\n"
     ]
    }
   ],
   "source": [
    "# Example 1: Capitalize \n",
    "\n",
    "str = \"AWesome Python\"\n",
    "\n",
    "cap_str = str.capitalize()\n",
    "\n",
    "print('Old String: ', str)\n",
    "print('Capitalized String:', cap_str) # returns a string with the first letter capitalized \n",
    "                                      # and all other characters lowercased"
   ]
  },
  {
   "cell_type": "code",
   "execution_count": 9,
   "id": "eb4b6471",
   "metadata": {},
   "outputs": [
    {
     "name": "stdout",
     "output_type": "stream",
     "text": [
      "Old String: + is an operator in python\n",
      "New String: + is an operator in python\n"
     ]
    }
   ],
   "source": [
    "# Example 2: Non-alphabetic First Character\n",
    "\n",
    "str = \"+ is an operator in python\"\n",
    "\n",
    "new_str = str.capitalize()\n",
    "\n",
    "print('Old String:', str)\n",
    "print('New String:', new_str)"
   ]
  },
  {
   "cell_type": "markdown",
   "id": "f01f94be",
   "metadata": {},
   "source": [
    "## Python String center()"
   ]
  },
  {
   "cell_type": "code",
   "execution_count": 11,
   "id": "2b6684d9",
   "metadata": {},
   "outputs": [],
   "source": [
    "# The center() method returns a string which is padded with the specified character.\n",
    "# Syntax : string.center(width[, fillchar])\n",
    "# The center() method takes two arguments:\n",
    "# width - length of the string with padded characters\n",
    "# fillchar (optional) - padding character"
   ]
  },
  {
   "cell_type": "code",
   "execution_count": 14,
   "id": "5edec960",
   "metadata": {},
   "outputs": [
    {
     "name": "stdout",
     "output_type": "stream",
     "text": [
      "Centered String:   Python is awesome Languange  \n"
     ]
    }
   ],
   "source": [
    "# Example 1: center() Method With Default fillchar\n",
    "\n",
    "str = \"Python is awesome Languange\"\n",
    "new_str = str.center(30)\n",
    "print(\"Centered String: \", new_str)"
   ]
  },
  {
   "cell_type": "code",
   "execution_count": 22,
   "id": "d2093c76",
   "metadata": {},
   "outputs": [
    {
     "name": "stdout",
     "output_type": "stream",
     "text": [
      "Centered String:  *Python is awesome Languange**\n"
     ]
    }
   ],
   "source": [
    "# Example 2: center() Method With * fillchar\n",
    "\n",
    "str = \"Python is awesome Languange\"\n",
    "new_str = str.center(30, '*')\n",
    "print(\"Centered String: \", new_str)\n"
   ]
  },
  {
   "cell_type": "markdown",
   "id": "23d833a8",
   "metadata": {},
   "source": [
    "## Python String casefold()"
   ]
  },
  {
   "cell_type": "code",
   "execution_count": 24,
   "id": "c783a46f",
   "metadata": {},
   "outputs": [],
   "source": [
    "# The casefold() method removes all case distinctions present in a string. \n",
    "# i.e. ignores cases when comparing.\n",
    "# syntax : string.casefold()"
   ]
  },
  {
   "cell_type": "code",
   "execution_count": 25,
   "id": "aaf66f8d",
   "metadata": {},
   "outputs": [
    {
     "name": "stdout",
     "output_type": "stream",
     "text": [
      "Lowercase string: python is awesome\n"
     ]
    }
   ],
   "source": [
    "# Example 1: Lowercase using casefold()\n",
    "\n",
    "str = \"PYTHON IS AWESOME\"\n",
    "# print lowercase string\n",
    "print(\"Lowercase string:\", str.casefold())"
   ]
  },
  {
   "cell_type": "code",
   "execution_count": 30,
   "id": "3a50e295",
   "metadata": {},
   "outputs": [
    {
     "name": "stdout",
     "output_type": "stream",
     "text": [
      "The strings are equal.\n"
     ]
    }
   ],
   "source": [
    "# Example : 3\n",
    "\n",
    "firstStr = \"HELLO syed Imran\"\n",
    "secondStr = \"hello SYED iMran\"\n",
    "\n",
    "if firstStr.casefold() == secondStr.casefold():\n",
    "    print('The strings are equal.')\n",
    "else:\n",
    "    print('The strings are not equal.')"
   ]
  },
  {
   "cell_type": "markdown",
   "id": "4ec6ccc8",
   "metadata": {},
   "source": [
    "## Python String count()"
   ]
  },
  {
   "cell_type": "code",
   "execution_count": 31,
   "id": "69b0b8ce",
   "metadata": {},
   "outputs": [],
   "source": [
    "# The count() method returns the number of occurrences of a substring in the given string.\n"
   ]
  },
  {
   "cell_type": "code",
   "execution_count": 33,
   "id": "f35dc1ca",
   "metadata": {},
   "outputs": [
    {
     "name": "stdout",
     "output_type": "stream",
     "text": [
      "Number of occurrence of p: 4\n",
      "Number of occurrence of g: 4\n",
      "Number of occurrence of l: 2\n"
     ]
    }
   ],
   "source": [
    "# Example -1 \n",
    "\n",
    "message = 'python is popular programming language'\n",
    "\n",
    "# number of occurrence of 'p' ,'g' &'l'\n",
    "print('Number of occurrence of p:', message.count('p'))\n",
    "print('Number of occurrence of g:', message.count('g'))\n",
    "print('Number of occurrence of l:', message.count('l'))"
   ]
  },
  {
   "cell_type": "code",
   "execution_count": 34,
   "id": "f40f852d",
   "metadata": {},
   "outputs": [],
   "source": [
    "# string.count(substring, start=..., end=...)\n",
    "# substring - string whose count is to be found.\n",
    "#    start (Optional) - starting index within the string where search starts.\n",
    "#    end (Optional) - ending index within the string where search ends."
   ]
  },
  {
   "cell_type": "code",
   "execution_count": 39,
   "id": "4641cbb1",
   "metadata": {},
   "outputs": [
    {
     "name": "stdout",
     "output_type": "stream",
     "text": [
      "The count is: 2\n",
      "The Count on: 1\n"
     ]
    }
   ],
   "source": [
    "# Example 1: Count number of occurrences of a given substring\n",
    "\n",
    "# define string\n",
    "str = \"Python is awesome, isn't it?\"\n",
    "substr = \"is\"\n",
    "substr1 = \"on\"\n",
    "\n",
    "count = str.count(substr)\n",
    "count1 = str.count(substr1)\n",
    "\n",
    "# print count\n",
    "print(\"The count is:\", count)\n",
    "print(\"The Count on:\",count1)"
   ]
  },
  {
   "cell_type": "code",
   "execution_count": 52,
   "id": "0f68b0f5",
   "metadata": {},
   "outputs": [
    {
     "name": "stdout",
     "output_type": "stream",
     "text": [
      "The count is: 1\n",
      "The count is: 2\n"
     ]
    }
   ],
   "source": [
    "# Example 2: Count number of occurrences of a given substring using start and end.\n",
    "\n",
    "# define string\n",
    "str = \"Python?o\"\n",
    "str1 = \"Python?o is o\"\n",
    "substr = \"o\"\n",
    "substr1 = \"o\"\n",
    "\n",
    "# count after first 'i' and before the last 'i'\n",
    "count = str.count(substr,2,6)\n",
    "count1 = str.count(substr1,2,8)\n",
    "\n",
    "# print count\n",
    "print(\"The count is:\", count)\n",
    "print(\"The count is:\", count1)"
   ]
  },
  {
   "cell_type": "markdown",
   "id": "99029688",
   "metadata": {},
   "source": [
    "## Python String endswith()"
   ]
  },
  {
   "cell_type": "code",
   "execution_count": 53,
   "id": "c59ca4fc",
   "metadata": {},
   "outputs": [],
   "source": [
    "# The endswith() method returns True if a string ends with the specified suffix. \n",
    "# If not, it returns False.\n"
   ]
  },
  {
   "cell_type": "code",
   "execution_count": 56,
   "id": "39c3e517",
   "metadata": {},
   "outputs": [
    {
     "name": "stdout",
     "output_type": "stream",
     "text": [
      "True\n",
      "True\n"
     ]
    }
   ],
   "source": [
    "# Example -1 \n",
    "\n",
    "str = 'Python is fun'\n",
    "str1 = 'Python is a language'\n",
    "\n",
    "# check if the message ends with fun\n",
    "print(str.endswith('fun'))\n",
    "print(str1.endswith('language'))\n",
    "# Output: True"
   ]
  },
  {
   "cell_type": "markdown",
   "id": "b8fb293b",
   "metadata": {},
   "source": [
    "## Example 2: endswith() With Tuple Suffix"
   ]
  },
  {
   "cell_type": "code",
   "execution_count": 61,
   "id": "074c3fba",
   "metadata": {},
   "outputs": [
    {
     "name": "stdout",
     "output_type": "stream",
     "text": [
      "False\n",
      "True\n",
      "False\n",
      "True\n"
     ]
    }
   ],
   "source": [
    "text = \"programming is easy\"\n",
    "result = text.endswith(('programming', 'python'))\n",
    "\n",
    "# prints False\n",
    "print(result)\n",
    "\n",
    "result = text.endswith(('python', 'easy', 'java'))\n",
    "\n",
    "#prints True\n",
    "print(result)\n",
    "\n",
    "result = text.endswith(('python', 'hard', 'java'))\n",
    "\n",
    "#prints False\n",
    "print(result)\n",
    "\n",
    "# With start and end parameter\n",
    "# 'programming is' string is checked\n",
    "result = text.endswith(('is', 'an'), 0, 14)\n",
    "\n",
    "# prints True\n",
    "print(result)"
   ]
  },
  {
   "cell_type": "markdown",
   "id": "747be97e",
   "metadata": {},
   "source": [
    "## Python String expandtabs()"
   ]
  },
  {
   "cell_type": "code",
   "execution_count": 62,
   "id": "1c58c303",
   "metadata": {},
   "outputs": [],
   "source": [
    "# The expandtabs() method returns a copy of string with all tab characters '\\t' replaced with whitespace characters\n",
    "# Syntax : string.expandtabs(tabsize)"
   ]
  },
  {
   "cell_type": "code",
   "execution_count": 63,
   "id": "890e2769",
   "metadata": {},
   "outputs": [
    {
     "name": "stdout",
     "output_type": "stream",
     "text": [
      "xyz     12345   abc\n"
     ]
    }
   ],
   "source": [
    "# Example 1: expandtabs() With no Argument\n",
    "\n",
    "str = 'xyz\\t12345\\tabc'\n",
    "\n",
    "# no argument is passed\n",
    "# default tabsize is 8\n",
    "result = str.expandtabs()\n",
    "\n",
    "print(result)\n"
   ]
  },
  {
   "cell_type": "code",
   "execution_count": 64,
   "id": "69f9f525",
   "metadata": {},
   "outputs": [
    {
     "name": "stdout",
     "output_type": "stream",
     "text": [
      "Original String: xyz\t12345\tSyed Imran\n",
      "Tabsize 2: xyz 12345 Syed Imran\n",
      "Tabsize 3: xyz   12345 Syed Imran\n",
      "Tabsize 4: xyz 12345   Syed Imran\n",
      "Tabsize 5: xyz  12345     Syed Imran\n",
      "Tabsize 6: xyz   12345 Syed Imran\n"
     ]
    }
   ],
   "source": [
    "# Example 2: expandtabs() With Different Argument\n",
    "\n",
    "str = \"xyz\\t12345\\tSyed Imran\"\n",
    "print('Original String:', str)\n",
    "\n",
    "# tabsize is set to 2\n",
    "print('Tabsize 2:', str.expandtabs(2))\n",
    "\n",
    "# tabsize is set to 3\n",
    "print('Tabsize 3:', str.expandtabs(3))\n",
    "\n",
    "# tabsize is set to 4\n",
    "print('Tabsize 4:', str.expandtabs(4))\n",
    "\n",
    "# tabsize is set to 5\n",
    "print('Tabsize 5:', str.expandtabs(5))\n",
    "\n",
    "# tabsize is set to 6\n",
    "print('Tabsize 6:', str.expandtabs(6))"
   ]
  },
  {
   "cell_type": "markdown",
   "id": "eb266283",
   "metadata": {},
   "source": [
    "## Python String find()"
   ]
  },
  {
   "cell_type": "code",
   "execution_count": 65,
   "id": "9fe6a23c",
   "metadata": {},
   "outputs": [],
   "source": [
    "# The find() method returns the index of first occurrence of the substring (if found).\n",
    "# If not found, it returns -1."
   ]
  },
  {
   "cell_type": "code",
   "execution_count": 67,
   "id": "d04e2064",
   "metadata": {},
   "outputs": [
    {
     "name": "stdout",
     "output_type": "stream",
     "text": [
      "24\n"
     ]
    }
   ],
   "source": [
    "# Example -1\n",
    "\n",
    "str = 'Python is a programming fun based language'\n",
    "\n",
    "# check the index of 'fun'\n",
    "print(str.find('fun'))\n",
    "\n"
   ]
  },
  {
   "cell_type": "code",
   "execution_count": 68,
   "id": "e453932e",
   "metadata": {},
   "outputs": [
    {
     "name": "stdout",
     "output_type": "stream",
     "text": [
      "Substring 'let it': 11\n",
      "Substring 'small ': -1\n",
      "Contains substring 'be,'\n"
     ]
    }
   ],
   "source": [
    "quote = 'Let it be, let it be, let it be'\n",
    "\n",
    "# first occurance of 'let it'(case sensitive)\n",
    "result = quote.find('let it')\n",
    "print(\"Substring 'let it':\", result)\n",
    "\n",
    "# find returns -1 if substring not found\n",
    "result = quote.find('small')\n",
    "print(\"Substring 'small ':\", result)\n",
    "\n",
    "# How to use find()\n",
    "if (quote.find('be,') != -1):\n",
    "    print(\"Contains substring 'be,'\")\n",
    "else:\n",
    "    print(\"Doesn't contain substring\")"
   ]
  },
  {
   "cell_type": "markdown",
   "id": "32eff2df",
   "metadata": {},
   "source": [
    "## Python String index()"
   ]
  },
  {
   "cell_type": "code",
   "execution_count": 69,
   "id": "628ed8ed",
   "metadata": {},
   "outputs": [
    {
     "name": "stdout",
     "output_type": "stream",
     "text": [
      "7\n"
     ]
    }
   ],
   "source": [
    "text = 'Python is fun'\n",
    "\n",
    "# find the index of is\n",
    "result = text.index('is')\n",
    "print(result)\n",
    "\n",
    "# Output: 7"
   ]
  },
  {
   "cell_type": "markdown",
   "id": "730a21d9",
   "metadata": {},
   "source": [
    "## Python String isalnum()"
   ]
  },
  {
   "cell_type": "code",
   "execution_count": 71,
   "id": "f2e3739f",
   "metadata": {},
   "outputs": [],
   "source": [
    "# The isalnum() method returns True if all characters in the string are alphanumeric (either alphabets or numbers).\n",
    "# If not, it returns False.\n",
    "# Syntax: string.isalnum()"
   ]
  },
  {
   "cell_type": "code",
   "execution_count": 72,
   "id": "8d37952e",
   "metadata": {},
   "outputs": [
    {
     "name": "stdout",
     "output_type": "stream",
     "text": [
      "True\n",
      "False\n",
      "True\n",
      "True\n"
     ]
    }
   ],
   "source": [
    "# Example 1: Working of isalnum()\n",
    "\n",
    "name = \"SyedImran\"\n",
    "print(name.isalnum())\n",
    "\n",
    "# contains space\n",
    "name = \"Syed Imran \"\n",
    "print(name.isalnum())\n",
    "\n",
    "name = \"SyedImran123\"\n",
    "print(name.isalnum())\n",
    "\n",
    "name = \"1345\"\n",
    "print(name.isalnum())"
   ]
  },
  {
   "cell_type": "markdown",
   "id": "15e880f1",
   "metadata": {},
   "source": [
    "## Python String isalpha()"
   ]
  },
  {
   "cell_type": "code",
   "execution_count": 73,
   "id": "524c6741",
   "metadata": {},
   "outputs": [],
   "source": [
    "# The isalpha() method returns True if all characters in the string are alphabets. \n",
    "# If not, it returns False."
   ]
  },
  {
   "cell_type": "code",
   "execution_count": 74,
   "id": "e3f05f07",
   "metadata": {},
   "outputs": [
    {
     "name": "stdout",
     "output_type": "stream",
     "text": [
      "True\n",
      "False\n",
      "False\n"
     ]
    }
   ],
   "source": [
    "# Example -1\n",
    "name = \"SyedImran\"\n",
    "print(name.isalpha())\n",
    "\n",
    "# contains whitespace\n",
    "name = \"Syed Imran\"\n",
    "print(name.isalpha())\n",
    "\n",
    "# contains number\n",
    "name = \"SyedImran1234\"\n",
    "print(name.isalpha())"
   ]
  },
  {
   "cell_type": "code",
   "execution_count": 75,
   "id": "2da8912c",
   "metadata": {},
   "outputs": [
    {
     "name": "stdout",
     "output_type": "stream",
     "text": [
      "All characters are alphabets\n"
     ]
    }
   ],
   "source": [
    "# Example - 2\n",
    "\n",
    "name = \"SyedImran\"\n",
    "\n",
    "if name.isalpha() == True:\n",
    "   print(\"All characters are alphabets\")\n",
    "else:\n",
    "    print(\"All characters are not alphabets.\")"
   ]
  },
  {
   "cell_type": "markdown",
   "id": "a9b8d69d",
   "metadata": {},
   "source": [
    "## Python String isdigit()"
   ]
  },
  {
   "cell_type": "code",
   "execution_count": 76,
   "id": "02d4d285",
   "metadata": {},
   "outputs": [],
   "source": [
    "# The isdigit() method returns True if all characters in a string are digits.\n",
    "# If not, it returns False."
   ]
  },
  {
   "cell_type": "code",
   "execution_count": 77,
   "id": "42a89258",
   "metadata": {},
   "outputs": [
    {
     "name": "stdout",
     "output_type": "stream",
     "text": [
      "True\n",
      "False\n"
     ]
    }
   ],
   "source": [
    "# Example -1\n",
    "\n",
    "str1 = '123'\n",
    "print(str1.isdigit())\n",
    "\n",
    "str2 = 'python'\n",
    "print(str2.isdigit())\n",
    "\n"
   ]
  },
  {
   "cell_type": "markdown",
   "id": "d2c3ee4d",
   "metadata": {},
   "source": [
    "## Python String isidentifier()"
   ]
  },
  {
   "cell_type": "code",
   "execution_count": 78,
   "id": "f8a61a40",
   "metadata": {},
   "outputs": [],
   "source": [
    "# The isidentifier() method returns True if the string is a valid identifier in Python.\n",
    "# If not, it returns False."
   ]
  },
  {
   "cell_type": "code",
   "execution_count": 79,
   "id": "734e1072",
   "metadata": {},
   "outputs": [
    {
     "name": "stdout",
     "output_type": "stream",
     "text": [
      "True\n",
      "False\n",
      "False\n",
      "False\n"
     ]
    }
   ],
   "source": [
    "# Example -1\n",
    "\n",
    "str = 'Python'\n",
    "print(str.isidentifier())\n",
    "\n",
    "str = 'Py thon'\n",
    "print(str.isidentifier())\n",
    "\n",
    "str = '25Python'\n",
    "print(str.isidentifier())\n",
    "\n",
    "str = ''\n",
    "print(str.isidentifier())"
   ]
  },
  {
   "cell_type": "markdown",
   "id": "ff915a5d",
   "metadata": {},
   "source": [
    "## Python String islower()"
   ]
  },
  {
   "cell_type": "code",
   "execution_count": 80,
   "id": "4f2003a1",
   "metadata": {},
   "outputs": [],
   "source": [
    "# The islower() method returns True if all alphabets in a string are lowercase alphabets.\n"
   ]
  },
  {
   "cell_type": "code",
   "execution_count": 82,
   "id": "76d582af",
   "metadata": {},
   "outputs": [
    {
     "name": "stdout",
     "output_type": "stream",
     "text": [
      "True\n",
      "False\n",
      "False\n"
     ]
    }
   ],
   "source": [
    "# Example -1\n",
    "\n",
    "s = 'this is good'\n",
    "print(s.islower())\n",
    "\n",
    "s = 'th!s is a1so G00d'\n",
    "print(s.islower())\n",
    "\n",
    "s = 'this is Not good'\n",
    "print(s.islower())"
   ]
  },
  {
   "cell_type": "code",
   "execution_count": 83,
   "id": "be2a0e46",
   "metadata": {},
   "outputs": [
    {
     "name": "stdout",
     "output_type": "stream",
     "text": [
      "Does not contain uppercase letter.\n",
      "Contains uppercase letter.\n"
     ]
    }
   ],
   "source": [
    "# Example -2\n",
    "\n",
    "s = 'this is good'\n",
    "if s.islower() == True:\n",
    "  print('Does not contain uppercase letter.')\n",
    "else:\n",
    "  print('Contains uppercase letter.')\n",
    "  \n",
    "s = 'this is Good'\n",
    "if s.islower() == True:\n",
    "  print('Does not contain uppercase letter.')\n",
    "else:\n",
    "  print('Contains uppercase letter.')"
   ]
  },
  {
   "cell_type": "markdown",
   "id": "bd623ea4",
   "metadata": {},
   "source": [
    "## Python String istitle()"
   ]
  },
  {
   "cell_type": "code",
   "execution_count": 84,
   "id": "3ade076d",
   "metadata": {},
   "outputs": [],
   "source": [
    "# The istitle() returns True if the string is a titlecased string. If not, it returns False.\n"
   ]
  },
  {
   "cell_type": "code",
   "execution_count": 85,
   "id": "e47b7f60",
   "metadata": {},
   "outputs": [
    {
     "name": "stdout",
     "output_type": "stream",
     "text": [
      "True\n",
      "False\n",
      "True\n",
      "True\n",
      "False\n"
     ]
    }
   ],
   "source": [
    "# Example -1\n",
    "\n",
    "s = 'Python Is Good.'\n",
    "print(s.istitle())\n",
    "\n",
    "s = 'Python is good'\n",
    "print(s.istitle())\n",
    "\n",
    "s = 'This Is @ Symbol.'\n",
    "print(s.istitle())\n",
    "\n",
    "s = '99 Is A Number'\n",
    "print(s.istitle())\n",
    "\n",
    "s = 'PYTHON'\n",
    "print(s.istitle())"
   ]
  },
  {
   "cell_type": "code",
   "execution_count": 86,
   "id": "9492de7c",
   "metadata": {},
   "outputs": [
    {
     "name": "stdout",
     "output_type": "stream",
     "text": [
      "Titlecased String\n",
      "Not a Titlecased String\n"
     ]
    }
   ],
   "source": [
    "# Example -2\n",
    "\n",
    "s = 'I Love Python.'\n",
    "if s.istitle() == True:\n",
    "  print('Titlecased String')\n",
    "else:\n",
    "  print('Not a Titlecased String')\n",
    "  \n",
    "s = 'PYthon'\n",
    "if s.istitle() == True:\n",
    "  print('Titlecased String')\n",
    "else:\n",
    "  print('Not a Titlecased String')"
   ]
  },
  {
   "cell_type": "markdown",
   "id": "8e3076f6",
   "metadata": {},
   "source": [
    "## Python String isupper()"
   ]
  },
  {
   "cell_type": "code",
   "execution_count": 87,
   "id": "390ea325",
   "metadata": {},
   "outputs": [],
   "source": [
    "# The string isupper() method returns whether or not all characters in a string are uppercased or not.\n"
   ]
  },
  {
   "cell_type": "code",
   "execution_count": 88,
   "id": "f17a0302",
   "metadata": {},
   "outputs": [
    {
     "name": "stdout",
     "output_type": "stream",
     "text": [
      "True\n",
      "True\n",
      "False\n"
     ]
    }
   ],
   "source": [
    "# Example -1\n",
    "\n",
    "# example string\n",
    "string = \"THIS IS GOOD!\"\n",
    "print(string.isupper());\n",
    "\n",
    "# numbers in place of alphabets\n",
    "string = \"THIS IS ALSO G00D!\"\n",
    "print(string.isupper());\n",
    "\n",
    "# lowercase string\n",
    "string = \"THIS IS not GOOD!\"\n",
    "print(string.isupper());"
   ]
  },
  {
   "cell_type": "code",
   "execution_count": 89,
   "id": "095be3e3",
   "metadata": {},
   "outputs": [
    {
     "name": "stdout",
     "output_type": "stream",
     "text": [
      "Does not contain lowercase letter.\n",
      "Contains lowercase letter.\n"
     ]
    }
   ],
   "source": [
    "# Example -2\n",
    "\n",
    "string = 'THIS IS GOOD'\n",
    "if string.isupper() == True:\n",
    "  print('Does not contain lowercase letter.')\n",
    "else:\n",
    "  print('Contains lowercase letter.')\n",
    "  \n",
    "string = 'THIS IS gOOD'\n",
    "if string.isupper() == True:\n",
    "  print('Does not contain lowercase letter.')\n",
    "else:\n",
    "  print('Contains lowercase letter.')"
   ]
  },
  {
   "cell_type": "markdown",
   "id": "5dc5c4e4",
   "metadata": {},
   "source": [
    "## Python String join()"
   ]
  },
  {
   "cell_type": "code",
   "execution_count": 90,
   "id": "d54ed342",
   "metadata": {},
   "outputs": [],
   "source": [
    "# The join() string method returns a string by joining all the elements of an iterable\n",
    "# (list, string, tuple),separated by a string separator."
   ]
  },
  {
   "cell_type": "code",
   "execution_count": 94,
   "id": "3332d6d2",
   "metadata": {},
   "outputs": [
    {
     "name": "stdout",
     "output_type": "stream",
     "text": [
      "Python is a fun programming language\n"
     ]
    }
   ],
   "source": [
    "# Example -1\n",
    "\n",
    "text = ['Python', 'is', 'a', 'fun', 'programming', 'language']\n",
    "\n",
    "# join elements of text with space\n",
    "print(' '.join(text))\n",
    "\n"
   ]
  },
  {
   "cell_type": "code",
   "execution_count": null,
   "id": "8a39822b",
   "metadata": {},
   "outputs": [],
   "source": []
  }
 ],
 "metadata": {
  "kernelspec": {
   "display_name": "Python 3",
   "language": "python",
   "name": "python3"
  },
  "language_info": {
   "codemirror_mode": {
    "name": "ipython",
    "version": 3
   },
   "file_extension": ".py",
   "mimetype": "text/x-python",
   "name": "python",
   "nbconvert_exporter": "python",
   "pygments_lexer": "ipython3",
   "version": "3.8.8"
  }
 },
 "nbformat": 4,
 "nbformat_minor": 5
}
