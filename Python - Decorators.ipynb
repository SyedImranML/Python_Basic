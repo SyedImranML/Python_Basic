{
 "cells": [
  {
   "cell_type": "markdown",
   "id": "56c2ea86",
   "metadata": {},
   "source": [
    "### Python Decorators"
   ]
  },
  {
   "cell_type": "markdown",
   "id": "29e87dfd",
   "metadata": {},
   "source": [
    "Function Copy"
   ]
  },
  {
   "cell_type": "code",
   "execution_count": 1,
   "id": "4caec71a",
   "metadata": {},
   "outputs": [],
   "source": [
    "def welcome():\n",
    "    print(\"Welcome to Syed Imran\")"
   ]
  },
  {
   "cell_type": "code",
   "execution_count": 2,
   "id": "d340f3fe",
   "metadata": {},
   "outputs": [
    {
     "name": "stdout",
     "output_type": "stream",
     "text": [
      "Welcome to Syed Imran\n"
     ]
    }
   ],
   "source": [
    "welcome()"
   ]
  },
  {
   "cell_type": "code",
   "execution_count": 4,
   "id": "0be599ed",
   "metadata": {},
   "outputs": [
    {
     "ename": "NameError",
     "evalue": "name 'welome' is not defined",
     "output_type": "error",
     "traceback": [
      "\u001b[1;31m---------------------------------------------------------------------------\u001b[0m",
      "\u001b[1;31mNameError\u001b[0m                                 Traceback (most recent call last)",
      "\u001b[1;32m<ipython-input-4-b682bfe36ac1>\u001b[0m in \u001b[0;36m<module>\u001b[1;34m\u001b[0m\n\u001b[0;32m      1\u001b[0m \u001b[1;31m# function copy into a variable\u001b[0m\u001b[1;33m\u001b[0m\u001b[1;33m\u001b[0m\u001b[1;33m\u001b[0m\u001b[0m\n\u001b[1;32m----> 2\u001b[1;33m \u001b[0mwel\u001b[0m\u001b[1;33m=\u001b[0m\u001b[0mwelome\u001b[0m\u001b[1;33m(\u001b[0m\u001b[1;33m)\u001b[0m\u001b[1;33m\u001b[0m\u001b[1;33m\u001b[0m\u001b[0m\n\u001b[0m",
      "\u001b[1;31mNameError\u001b[0m: name 'welome' is not defined"
     ]
    }
   ],
   "source": [
    "# function copy into a variable   Error\n",
    "wel=welome()"
   ]
  },
  {
   "cell_type": "code",
   "execution_count": 5,
   "id": "ed8c256e",
   "metadata": {},
   "outputs": [
    {
     "ename": "NameError",
     "evalue": "name 'wel' is not defined",
     "output_type": "error",
     "traceback": [
      "\u001b[1;31m---------------------------------------------------------------------------\u001b[0m",
      "\u001b[1;31mNameError\u001b[0m                                 Traceback (most recent call last)",
      "\u001b[1;32m<ipython-input-5-06055b13b862>\u001b[0m in \u001b[0;36m<module>\u001b[1;34m\u001b[0m\n\u001b[1;32m----> 1\u001b[1;33m \u001b[0mwel\u001b[0m\u001b[1;33m\u001b[0m\u001b[1;33m\u001b[0m\u001b[0m\n\u001b[0m",
      "\u001b[1;31mNameError\u001b[0m: name 'wel' is not defined"
     ]
    }
   ],
   "source": [
    "wel"
   ]
  },
  {
   "cell_type": "code",
   "execution_count": 6,
   "id": "b27e6b53",
   "metadata": {},
   "outputs": [],
   "source": [
    "# to copy a function we need to used return statement\n",
    "\n",
    "def welcome():\n",
    "    return \"Welcome to Syed Imran\""
   ]
  },
  {
   "cell_type": "code",
   "execution_count": 7,
   "id": "79a52fe7",
   "metadata": {},
   "outputs": [],
   "source": [
    "wel = welcome()"
   ]
  },
  {
   "cell_type": "code",
   "execution_count": 8,
   "id": "ac07d8bc",
   "metadata": {},
   "outputs": [
    {
     "data": {
      "text/plain": [
       "'Welcome to Syed Imran'"
      ]
     },
     "execution_count": 8,
     "metadata": {},
     "output_type": "execute_result"
    }
   ],
   "source": [
    "welcome()"
   ]
  },
  {
   "cell_type": "code",
   "execution_count": 9,
   "id": "49633626",
   "metadata": {},
   "outputs": [
    {
     "data": {
      "text/plain": [
       "'Welcome to Syed Imran'"
      ]
     },
     "execution_count": 9,
     "metadata": {},
     "output_type": "execute_result"
    }
   ],
   "source": [
    "wel"
   ]
  },
  {
   "cell_type": "code",
   "execution_count": 10,
   "id": "289d8e84",
   "metadata": {},
   "outputs": [],
   "source": [
    "# lets cross varify\n",
    "wel=welcome()\n",
    "del welcome"
   ]
  },
  {
   "cell_type": "code",
   "execution_count": 11,
   "id": "450e5052",
   "metadata": {},
   "outputs": [
    {
     "data": {
      "text/plain": [
       "'Welcome to Syed Imran'"
      ]
     },
     "execution_count": 11,
     "metadata": {},
     "output_type": "execute_result"
    }
   ],
   "source": [
    "wel           # since it is showing output because we have copied in this variable"
   ]
  },
  {
   "cell_type": "code",
   "execution_count": 12,
   "id": "4f80a403",
   "metadata": {},
   "outputs": [
    {
     "ename": "NameError",
     "evalue": "name 'welcome' is not defined",
     "output_type": "error",
     "traceback": [
      "\u001b[1;31m---------------------------------------------------------------------------\u001b[0m",
      "\u001b[1;31mNameError\u001b[0m                                 Traceback (most recent call last)",
      "\u001b[1;32m<ipython-input-12-7ad6bb9f9460>\u001b[0m in \u001b[0;36m<module>\u001b[1;34m\u001b[0m\n\u001b[1;32m----> 1\u001b[1;33m \u001b[0mwelcome\u001b[0m\u001b[1;33m(\u001b[0m\u001b[1;33m)\u001b[0m    \u001b[1;31m# welcome function is delete showing error\u001b[0m\u001b[1;33m\u001b[0m\u001b[1;33m\u001b[0m\u001b[0m\n\u001b[0m",
      "\u001b[1;31mNameError\u001b[0m: name 'welcome' is not defined"
     ]
    }
   ],
   "source": [
    "welcome()    # welcome function is delete showing error"
   ]
  },
  {
   "cell_type": "markdown",
   "id": "0ebaac94",
   "metadata": {},
   "source": [
    "### Closures"
   ]
  },
  {
   "cell_type": "markdown",
   "id": "fc39e11a",
   "metadata": {},
   "source": [
    "Function inside the function is called closures"
   ]
  },
  {
   "cell_type": "code",
   "execution_count": 13,
   "id": "0c97c967",
   "metadata": {},
   "outputs": [],
   "source": [
    "def main_welcome():\n",
    "    msg=\"Hello Everyone\"\n",
    "    def sub_welcome_class():\n",
    "        print(\"Welcome to Syed Imran\")\n",
    "        print(msg)\n",
    "        print(\"Thank you\")\n",
    "    return sub_welcome_class()"
   ]
  },
  {
   "cell_type": "code",
   "execution_count": 14,
   "id": "5a48b6e9",
   "metadata": {},
   "outputs": [
    {
     "name": "stdout",
     "output_type": "stream",
     "text": [
      "Welcome to Syed Imran\n",
      "Hello Everyone\n",
      "Thank you\n"
     ]
    }
   ],
   "source": [
    "main_welcome()"
   ]
  },
  {
   "cell_type": "code",
   "execution_count": 17,
   "id": "5846cd62",
   "metadata": {},
   "outputs": [],
   "source": [
    "def main_welcome(msg):\n",
    "    def sub_welcome_class():\n",
    "        print(\"Welcome to Syed Imran\")\n",
    "        print(msg)\n",
    "        print(\"Thank you\")\n",
    "    return sub_welcome_class()"
   ]
  },
  {
   "cell_type": "code",
   "execution_count": 18,
   "id": "1e6ab36e",
   "metadata": {},
   "outputs": [
    {
     "name": "stdout",
     "output_type": "stream",
     "text": [
      "Welcome to Syed Imran\n",
      "Syed Imran\n",
      "Thank you\n"
     ]
    }
   ],
   "source": [
    "main_welcome('Syed Imran')"
   ]
  },
  {
   "cell_type": "code",
   "execution_count": 19,
   "id": "fdd3c894",
   "metadata": {},
   "outputs": [],
   "source": [
    "# Example -2\n",
    "\n",
    "def main_welcome(func):\n",
    "    def sub_welcome_class():\n",
    "        print(\"Welcome to Syed Imran\")\n",
    "        func()\n",
    "        print(\"Thank you\")\n",
    "    return sub_welcome_class()"
   ]
  },
  {
   "cell_type": "code",
   "execution_count": 21,
   "id": "3498954f",
   "metadata": {},
   "outputs": [
    {
     "name": "stdout",
     "output_type": "stream",
     "text": [
      "Welcome to Syed Imran\n",
      "\n",
      "Thank you\n"
     ]
    }
   ],
   "source": [
    "main_welcome(print)"
   ]
  },
  {
   "cell_type": "code",
   "execution_count": 22,
   "id": "93510bce",
   "metadata": {},
   "outputs": [],
   "source": [
    "def main_welcome(func):\n",
    "    def sub_welcome_class():\n",
    "        print(\"Welcome to Syed Imran\")\n",
    "        func(\"Hello to all\")\n",
    "        print(\"Thank you\")\n",
    "    return sub_welcome_class()"
   ]
  },
  {
   "cell_type": "code",
   "execution_count": 23,
   "id": "a31ed0c1",
   "metadata": {},
   "outputs": [
    {
     "name": "stdout",
     "output_type": "stream",
     "text": [
      "Welcome to Syed Imran\n",
      "Hello to all\n",
      "Thank you\n"
     ]
    }
   ],
   "source": [
    "main_welcome(print)"
   ]
  },
  {
   "cell_type": "markdown",
   "id": "ffc9c5b8",
   "metadata": {},
   "source": [
    "### closures & initial decorators"
   ]
  },
  {
   "cell_type": "code",
   "execution_count": 24,
   "id": "fa3c55e0",
   "metadata": {},
   "outputs": [],
   "source": [
    "def main_welcome(func):\n",
    "    def sub_welcome_class():\n",
    "        print(\"Welcome to Syed Imran\")\n",
    "        print(func([1,2,3,4,5,6,7]))\n",
    "        print(\"Thank you\")\n",
    "    return sub_welcome_class()"
   ]
  },
  {
   "cell_type": "code",
   "execution_count": 25,
   "id": "1cd37064",
   "metadata": {},
   "outputs": [
    {
     "name": "stdout",
     "output_type": "stream",
     "text": [
      "Welcome to Syed Imran\n",
      "7\n",
      "Thank you\n"
     ]
    }
   ],
   "source": [
    "main_welcome(len)"
   ]
  },
  {
   "cell_type": "markdown",
   "id": "bfb64048",
   "metadata": {},
   "source": [
    "### Decorators"
   ]
  },
  {
   "cell_type": "code",
   "execution_count": 26,
   "id": "b76b379b",
   "metadata": {},
   "outputs": [],
   "source": [
    "def main_welcome(func):\n",
    "    def sub_welcome_class():\n",
    "        print(\"Welcome to Syed Imran\")\n",
    "        func()\n",
    "        print(\"Thank you\")\n",
    "    return sub_welcome_class()"
   ]
  },
  {
   "cell_type": "code",
   "execution_count": 27,
   "id": "d6f6afd0",
   "metadata": {},
   "outputs": [],
   "source": [
    "def my_name():\n",
    "    print(\"This is syed imran\")"
   ]
  },
  {
   "cell_type": "code",
   "execution_count": 28,
   "id": "091cbf3e",
   "metadata": {},
   "outputs": [
    {
     "name": "stdout",
     "output_type": "stream",
     "text": [
      "Welcome to Syed Imran\n",
      "This is syed imran\n",
      "Thank you\n"
     ]
    }
   ],
   "source": [
    "main_welcome(my_name)"
   ]
  },
  {
   "cell_type": "code",
   "execution_count": 29,
   "id": "7c70364a",
   "metadata": {},
   "outputs": [],
   "source": [
    "# Example of decorators \n",
    "def main_welcome(func):\n",
    "    def sub_welcome_class():\n",
    "        print(\"Welcome to Syed Imran\")\n",
    "        func()\n",
    "        print(\"Thank you\")\n",
    "    return sub_welcome_class()\n"
   ]
  },
  {
   "cell_type": "code",
   "execution_count": 30,
   "id": "43ce487d",
   "metadata": {},
   "outputs": [
    {
     "name": "stdout",
     "output_type": "stream",
     "text": [
      "Welcome to Syed Imran\n",
      "This is syed imran\n",
      "Thank you\n"
     ]
    }
   ],
   "source": [
    "@main_welcome                 # defining decorators\n",
    "def my_name():\n",
    "    print(\"This is syed imran\")"
   ]
  },
  {
   "cell_type": "code",
   "execution_count": null,
   "id": "c5a4f21b",
   "metadata": {},
   "outputs": [],
   "source": []
  }
 ],
 "metadata": {
  "kernelspec": {
   "display_name": "Python 3",
   "language": "python",
   "name": "python3"
  },
  "language_info": {
   "codemirror_mode": {
    "name": "ipython",
    "version": 3
   },
   "file_extension": ".py",
   "mimetype": "text/x-python",
   "name": "python",
   "nbconvert_exporter": "python",
   "pygments_lexer": "ipython3",
   "version": "3.8.8"
  }
 },
 "nbformat": 4,
 "nbformat_minor": 5
}
