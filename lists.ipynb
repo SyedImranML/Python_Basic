{
  "cells": [
    {
      "cell_type": "markdown",
      "metadata": {
        "id": "view-in-github",
        "colab_type": "text"
      },
      "source": [
        "<a href=\"https://colab.research.google.com/github/SyedImranML/Python_Basic/blob/main/lists.ipynb\" target=\"_parent\"><img src=\"https://colab.research.google.com/assets/colab-badge.svg\" alt=\"Open In Colab\"/></a>"
      ]
    },
    {
      "cell_type": "markdown",
      "metadata": {
        "id": "e60ezHzlMz8h"
      },
      "source": [
        "# List Basics"
      ]
    },
    {
      "cell_type": "markdown",
      "metadata": {
        "id": "rBzNexjlMz8o"
      },
      "source": [
        "A list is a mutable, ordered collection of objects. \"Mutable\" means a list can be altered after it is created. You can, for example, add new items to a list or remove existing items. Lists are heterogeneous, meaning they can hold objects of different types.\n",
        "\n",
        "Construct a list with a comma separated sequence of objects within square brackets:"
      ]
    },
    {
      "cell_type": "code",
      "execution_count": null,
      "metadata": {
        "id": "MSQht5OtMz8p"
      },
      "outputs": [],
      "source": [
        "myfirstlist = [1,2,3]"
      ]
    },
    {
      "cell_type": "code",
      "execution_count": null,
      "metadata": {
        "id": "Zo3ZwdXbMz8r",
        "outputId": "8001443a-d4ef-4468-8b90-5b9683382c75"
      },
      "outputs": [
        {
          "name": "stdout",
          "output_type": "stream",
          "text": [
            "[1, 2, 3]\n"
          ]
        }
      ],
      "source": [
        "print(myfirstlist)"
      ]
    },
    {
      "cell_type": "code",
      "execution_count": null,
      "metadata": {
        "id": "M9jgMAgCMz8t",
        "outputId": "afb0560e-4845-4559-f30b-3340fe9956d6"
      },
      "outputs": [
        {
          "name": "stdout",
          "output_type": "stream",
          "text": [
            "['Lesson', 5, 'Is Fun?', True]\n"
          ]
        }
      ],
      "source": [
        "my_list = [\"Lesson\", 5, \"Is Fun?\", True]\n",
        "\n",
        "print(my_list)"
      ]
    },
    {
      "cell_type": "code",
      "execution_count": null,
      "metadata": {
        "id": "vyJLahWlMz8u",
        "outputId": "a663e27e-84b8-4876-ae03-7e88e8866389"
      },
      "outputs": [
        {
          "name": "stdout",
          "output_type": "stream",
          "text": [
            "[]\n"
          ]
        }
      ],
      "source": [
        "empty_list = []\n",
        "\n",
        "print( empty_list )"
      ]
    },
    {
      "cell_type": "markdown",
      "metadata": {
        "id": "BRmyANU6Mz8u"
      },
      "source": [
        "You can add an item to an existing list with the list.append() function:"
      ]
    },
    {
      "cell_type": "code",
      "execution_count": null,
      "metadata": {
        "id": "rH5RNjlwMz8v",
        "outputId": "0b3d058c-d2e6-456f-c233-26f99e7aaa40"
      },
      "outputs": [
        {
          "name": "stdout",
          "output_type": "stream",
          "text": [
            "[\"I'm no longer empty!, Cool?\"]\n"
          ]
        }
      ],
      "source": [
        "empty_list.append(\"I'm no longer empty!, Cool?\")\n",
        "\n",
        "print(empty_list)"
      ]
    },
    {
      "cell_type": "markdown",
      "metadata": {
        "id": "rpF5WFzWMz8w"
      },
      "source": [
        "Remove a matching item from a list with list.remove():"
      ]
    },
    {
      "cell_type": "code",
      "execution_count": null,
      "metadata": {
        "id": "7_Vfq-qCMz8x",
        "outputId": "eeacaa5c-9b80-4349-9bb9-613475eddb95"
      },
      "outputs": [
        {
          "data": {
            "text/plain": [
              "['Lesson', 5, 'Is Fun?', True]"
            ]
          },
          "execution_count": 6,
          "metadata": {},
          "output_type": "execute_result"
        }
      ],
      "source": [
        "my_list"
      ]
    },
    {
      "cell_type": "code",
      "execution_count": null,
      "metadata": {
        "id": "SM9g_V3vMz8z"
      },
      "outputs": [],
      "source": []
    },
    {
      "cell_type": "code",
      "execution_count": null,
      "metadata": {
        "id": "qDQlRkv6Mz8z",
        "outputId": "baa3050d-e892-45a1-94a7-d238f8a3bf6a"
      },
      "outputs": [
        {
          "name": "stdout",
          "output_type": "stream",
          "text": [
            "['Lesson', 'Is Fun?', True]\n"
          ]
        }
      ],
      "source": [
        "my_list.remove(5)\n",
        "\n",
        "print(my_list)"
      ]
    },
    {
      "cell_type": "markdown",
      "metadata": {
        "id": "giQ3a0TLMz8z"
      },
      "source": [
        "*Note: Remove deletes the first matching item only.*"
      ]
    },
    {
      "cell_type": "markdown",
      "metadata": {
        "id": "72HXWLlUMz80"
      },
      "source": [
        "Join two lists together with the + operator:"
      ]
    },
    {
      "cell_type": "code",
      "execution_count": null,
      "metadata": {
        "id": "nGtxMKcaMz80",
        "outputId": "c7e76980-50c7-4d6f-96ff-8f3f2a01b357"
      },
      "outputs": [
        {
          "name": "stdout",
          "output_type": "stream",
          "text": [
            "['Lesson', 'Is Fun?', True, \"I'm no longer empty!, Cool?\"]\n"
          ]
        }
      ],
      "source": [
        "combined_list = my_list + empty_list\n",
        "# + --> concatenaes 2 list\n",
        "print(combined_list)"
      ]
    },
    {
      "cell_type": "markdown",
      "metadata": {
        "id": "a_lusW3QMz81"
      },
      "source": [
        "You can also add a sequence to the end of an existing list with the list.extend() function:"
      ]
    },
    {
      "cell_type": "code",
      "execution_count": null,
      "metadata": {
        "id": "Dh6uTcXJMz81",
        "outputId": "d3c41fce-3cf3-4b5f-ff40-095cdbc39566"
      },
      "outputs": [
        {
          "name": "stdout",
          "output_type": "stream",
          "text": [
            "['Lesson', 'Is Fun?', True, \"I'm no longer empty!, Cool?\"]\n"
          ]
        }
      ],
      "source": [
        "combined_list = my_list\n",
        "\n",
        "combined_list.extend(empty_list)\n",
        "\n",
        "print(combined_list)"
      ]
    },
    {
      "cell_type": "markdown",
      "metadata": {
        "id": "hJR0ya5rMz82"
      },
      "source": [
        "Check the length, maximum, minimum and sum of a list with the len(), max(), min() and sum() functions, respectively."
      ]
    },
    {
      "cell_type": "code",
      "execution_count": null,
      "metadata": {
        "id": "-Dr5e5gvMz82",
        "outputId": "dfd1b41c-2435-4751-a675-6be20b9d352d"
      },
      "outputs": [
        {
          "name": "stdout",
          "output_type": "stream",
          "text": [
            "5\n",
            "9\n",
            "1\n",
            "25\n",
            "5.0\n"
          ]
        }
      ],
      "source": [
        "num_list = [1, 3, 5, 7, 9]\n",
        "print( len(num_list))                # Check the length\n",
        "print( max(num_list))                # Check the max\n",
        "print( min(num_list))                # Check the min\n",
        "print( sum(num_list))                # Check the sum\n",
        "print( sum(num_list)/len(num_list))  # Check the mean*"
      ]
    },
    {
      "cell_type": "markdown",
      "metadata": {
        "id": "DxD5_chcMz84"
      },
      "source": [
        "*Note: Python does not have a built in function to calculate the mean, but the numpy library we will introduce in upcoming lessons does.*\n",
        "\n",
        "You can check whether a list contains a certain object with the \"in\" keyword:"
      ]
    },
    {
      "cell_type": "code",
      "execution_count": null,
      "metadata": {
        "id": "OA3y96DEMz84",
        "outputId": "a2a2eccb-58f8-4107-9ac1-d3190e81cec1"
      },
      "outputs": [
        {
          "data": {
            "text/plain": [
              "[1, 3, 5, 7, 9]"
            ]
          },
          "execution_count": 11,
          "metadata": {},
          "output_type": "execute_result"
        }
      ],
      "source": [
        "num_list"
      ]
    },
    {
      "cell_type": "code",
      "execution_count": null,
      "metadata": {
        "id": "tzDvmQwEMz84",
        "outputId": "b393d357-83e7-40a4-b601-859ca0ff560b"
      },
      "outputs": [
        {
          "data": {
            "text/plain": [
              "False"
            ]
          },
          "execution_count": 12,
          "metadata": {},
          "output_type": "execute_result"
        }
      ],
      "source": [
        "100 in num_list"
      ]
    },
    {
      "cell_type": "markdown",
      "metadata": {
        "id": "McXYdk_fMz85"
      },
      "source": [
        "Add the keyword \"not\" to test whether a list does not contain an object:"
      ]
    },
    {
      "cell_type": "code",
      "execution_count": null,
      "metadata": {
        "id": "pZkKZL76Mz85",
        "outputId": "8d662eb4-0609-4378-c8ec-49043ff74558"
      },
      "outputs": [
        {
          "data": {
            "text/plain": [
              "True"
            ]
          },
          "execution_count": 13,
          "metadata": {},
          "output_type": "execute_result"
        }
      ],
      "source": [
        "100 not in num_list"
      ]
    },
    {
      "cell_type": "markdown",
      "metadata": {
        "id": "gqywhPhKMz85"
      },
      "source": [
        "Count the occurrences of an object within a list using the list.count() function:"
      ]
    },
    {
      "cell_type": "code",
      "execution_count": null,
      "metadata": {
        "id": "IouEL9ujMz86",
        "outputId": "55c3662d-a96d-4e78-b36f-9539c365ebc5"
      },
      "outputs": [
        {
          "data": {
            "text/plain": [
              "[1, 3, 5, 7, 9]"
            ]
          },
          "execution_count": 14,
          "metadata": {},
          "output_type": "execute_result"
        }
      ],
      "source": [
        "num_list"
      ]
    },
    {
      "cell_type": "code",
      "execution_count": null,
      "metadata": {
        "id": "kD-X8o_cMz86",
        "outputId": "210c4f89-8087-4ff9-b17f-04c09170565e"
      },
      "outputs": [
        {
          "data": {
            "text/plain": [
              "1"
            ]
          },
          "execution_count": 15,
          "metadata": {},
          "output_type": "execute_result"
        }
      ],
      "source": [
        "num_list.count(3)"
      ]
    },
    {
      "cell_type": "markdown",
      "metadata": {
        "id": "9Fzhd8CSMz86"
      },
      "source": [
        "Other common list functions include list.sort() and list.reverse():"
      ]
    },
    {
      "cell_type": "code",
      "execution_count": null,
      "metadata": {
        "id": "PckWQurkMz87",
        "outputId": "4d13bc84-4b66-488a-a947-79c77658b1e1"
      },
      "outputs": [
        {
          "data": {
            "text/plain": [
              "[1, 5, 4, 2, 3, 6]"
            ]
          },
          "execution_count": 16,
          "metadata": {},
          "output_type": "execute_result"
        }
      ],
      "source": [
        "new_list = [1, 5, 4, 2, 3, 6]      # Make a new list\n",
        "new_list"
      ]
    },
    {
      "cell_type": "code",
      "execution_count": null,
      "metadata": {
        "id": "mJ3hSriSMz87",
        "outputId": "cd62f3bf-41c0-47e4-f8cf-33af49253e37"
      },
      "outputs": [
        {
          "name": "stdout",
          "output_type": "stream",
          "text": [
            "Reversed list -  [6, 5, 4, 3, 2, 1]\n"
          ]
        }
      ],
      "source": [
        "new_list.reverse()                 # Reverse the list\n",
        "print(\"Reversed list - \", new_list)"
      ]
    },
    {
      "cell_type": "code",
      "execution_count": null,
      "metadata": {
        "id": "FeBidzGXMz87",
        "outputId": "551ef863-6115-4dfe-ac94-d3f0d8af2546"
      },
      "outputs": [
        {
          "name": "stdout",
          "output_type": "stream",
          "text": [
            "Sorted list -  [1, 2, 3, 4, 5, 6]\n"
          ]
        }
      ],
      "source": [
        "new_list.sort()                    # Sort the list\n",
        "print(\"Sorted list - \", new_list)"
      ]
    },
    {
      "cell_type": "markdown",
      "metadata": {
        "id": "WT9s_hwVMz87"
      },
      "source": [
        "# List Indexing and Slicing"
      ]
    },
    {
      "cell_type": "markdown",
      "metadata": {
        "id": "SCAULXr4Mz88"
      },
      "source": [
        "Lists and other Python sequences are indexed, meaning each position in the sequence has a corresponding number called the index that you can use to look up the value at that position. Python sequences are zero-indexed, so the first element of a sequence is at index position zero, the second element is at index 1 and so on. Retrieve an item from a list by placing the index in square brackets after the name of the list:"
      ]
    },
    {
      "cell_type": "code",
      "execution_count": null,
      "metadata": {
        "id": "QCF8ZfvTMz88",
        "outputId": "170992b2-bd96-4e69-996e-aab5c4e1dd45"
      },
      "outputs": [
        {
          "data": {
            "text/plain": [
              "['Hello', 'my', 'bestest', 'old', 'friend.']"
            ]
          },
          "execution_count": 22,
          "metadata": {},
          "output_type": "execute_result"
        }
      ],
      "source": [
        "another_list = [\"Hello\",\"my\", \"bestest\", \"old\", \"friend.\"]\n",
        "another_list"
      ]
    },
    {
      "cell_type": "code",
      "execution_count": null,
      "metadata": {
        "id": "hIDqu5W9Mz88",
        "outputId": "d9de94e2-d7eb-4832-df3e-1e47f6ba151a"
      },
      "outputs": [
        {
          "name": "stdout",
          "output_type": "stream",
          "text": [
            "Hello\n"
          ]
        }
      ],
      "source": [
        "print (another_list[0])"
      ]
    },
    {
      "cell_type": "code",
      "execution_count": null,
      "metadata": {
        "id": "tVQhXxeUMz88",
        "outputId": "c5a9d538-d097-4803-baba-0fa07467de72"
      },
      "outputs": [
        {
          "name": "stdout",
          "output_type": "stream",
          "text": [
            "bestest\n"
          ]
        }
      ],
      "source": [
        "print (another_list[2])"
      ]
    },
    {
      "cell_type": "markdown",
      "metadata": {
        "id": "VMDFr_QlMz89"
      },
      "source": [
        "If you supply a negative number when indexing into a list, it accesses items starting from the end of the list (-1) going backward:"
      ]
    },
    {
      "cell_type": "code",
      "execution_count": null,
      "metadata": {
        "id": "GKpn0EbfMz89",
        "outputId": "eb230e21-54e0-41ff-8360-1f21d6de50d3"
      },
      "outputs": [
        {
          "name": "stdout",
          "output_type": "stream",
          "text": [
            "friend.\n"
          ]
        }
      ],
      "source": [
        "print (another_list[-1])"
      ]
    },
    {
      "cell_type": "code",
      "execution_count": null,
      "metadata": {
        "id": "8IpW1sltMz89",
        "outputId": "ea7318a9-7ada-4a79-f774-7c98452b116b"
      },
      "outputs": [
        {
          "name": "stdout",
          "output_type": "stream",
          "text": [
            "bestest\n"
          ]
        }
      ],
      "source": [
        "print (another_list[-3])"
      ]
    },
    {
      "cell_type": "markdown",
      "metadata": {
        "id": "lItyPSgKMz9F"
      },
      "source": [
        "Supplying an index outside of a lists range will result in an IndexError:"
      ]
    },
    {
      "cell_type": "code",
      "execution_count": null,
      "metadata": {
        "id": "FkUs-bYUMz9F",
        "outputId": "f025434c-25b0-4ae8-8457-383154adf9f3"
      },
      "outputs": [
        {
          "ename": "IndexError",
          "evalue": "list index out of range",
          "output_type": "error",
          "traceback": [
            "\u001b[0;31m---------------------------------------------------------------------------\u001b[0m",
            "\u001b[0;31mIndexError\u001b[0m                                Traceback (most recent call last)",
            "\u001b[0;32m/var/folders/dq/452wvgp96nv2qcc3dn0dv8240000gn/T/ipykernel_1015/3300203951.py\u001b[0m in \u001b[0;36m<module>\u001b[0;34m\u001b[0m\n\u001b[0;32m----> 1\u001b[0;31m \u001b[0mprint\u001b[0m \u001b[0;34m(\u001b[0m\u001b[0manother_list\u001b[0m\u001b[0;34m[\u001b[0m\u001b[0;36m5\u001b[0m\u001b[0;34m]\u001b[0m\u001b[0;34m)\u001b[0m\u001b[0;34m\u001b[0m\u001b[0;34m\u001b[0m\u001b[0m\n\u001b[0m",
            "\u001b[0;31mIndexError\u001b[0m: list index out of range"
          ]
        }
      ],
      "source": [
        "print (another_list[5])"
      ]
    },
    {
      "cell_type": "markdown",
      "metadata": {
        "id": "K4oDabAVMz9J"
      },
      "source": [
        "If your list contains other indexed objects, you can supply additional indexes to get items contained within the nested objects:"
      ]
    },
    {
      "cell_type": "code",
      "execution_count": null,
      "metadata": {
        "id": "Dt53xTUpMz9K",
        "outputId": "25438eeb-3824-4f24-b19d-6051ce868b97"
      },
      "outputs": [
        {
          "data": {
            "text/plain": [
              "[[1, 2, 3], [4, 5, 6], [7, 8, 9]]"
            ]
          },
          "execution_count": 28,
          "metadata": {},
          "output_type": "execute_result"
        }
      ],
      "source": [
        "nested_list = [[1,2,3],[4,5,6],[7,8,9]]\n",
        "nested_list"
      ]
    },
    {
      "cell_type": "code",
      "execution_count": null,
      "metadata": {
        "id": "1GFLy5u9Mz9K",
        "outputId": "72c70339-b02f-481c-9526-7ca418179d22"
      },
      "outputs": [
        {
          "name": "stdout",
          "output_type": "stream",
          "text": [
            "4\n"
          ]
        }
      ],
      "source": [
        "print (nested_list[1][0])"
      ]
    },
    {
      "cell_type": "markdown",
      "metadata": {
        "id": "e9omVM4GMz9L"
      },
      "source": [
        "You can take a slice (sequential subset) of a list using the syntax [start:stop:step] where start and stop are the starting and ending indexes for the slice and step controls how frequently you sample values along the slice. The default step size is 1, meaning you take all values in the range provided, starting from the first, up to but not including the last:"
      ]
    },
    {
      "cell_type": "code",
      "execution_count": null,
      "metadata": {
        "id": "4RH4NPq7Mz9L",
        "outputId": "4210599e-b13d-43df-ff83-e6d00439ead7"
      },
      "outputs": [
        {
          "data": {
            "text/plain": [
              "['Hello', 'my', 'bestest', 'old', 'friend.']"
            ]
          },
          "execution_count": 31,
          "metadata": {},
          "output_type": "execute_result"
        }
      ],
      "source": [
        "another_list"
      ]
    },
    {
      "cell_type": "code",
      "execution_count": null,
      "metadata": {
        "id": "LvxrzlmGMz9L"
      },
      "outputs": [],
      "source": [
        "my_slice =  another_list[1:2]   # Slice index 1 and 2"
      ]
    },
    {
      "cell_type": "code",
      "execution_count": null,
      "metadata": {
        "id": "L3VKygxsMz9M",
        "outputId": "b825354c-1d76-4fba-d54d-c455654e38b5"
      },
      "outputs": [
        {
          "name": "stdout",
          "output_type": "stream",
          "text": [
            "['my']\n"
          ]
        }
      ],
      "source": [
        "print(my_slice )"
      ]
    },
    {
      "cell_type": "code",
      "execution_count": null,
      "metadata": {
        "id": "1cD1lTF8Mz9M"
      },
      "outputs": [],
      "source": []
    },
    {
      "cell_type": "code",
      "execution_count": null,
      "metadata": {
        "id": "oGc00Wt3Mz9N"
      },
      "outputs": [],
      "source": []
    },
    {
      "cell_type": "code",
      "execution_count": null,
      "metadata": {
        "id": "GsByyqp_Mz9N",
        "outputId": "18f59adc-6942-4ebc-976f-2ce82b79a5b5"
      },
      "outputs": [
        {
          "data": {
            "text/plain": [
              "['Hello', 'my', 'bestest', 'old', 'friend.']"
            ]
          },
          "execution_count": 36,
          "metadata": {},
          "output_type": "execute_result"
        }
      ],
      "source": [
        "another_list"
      ]
    },
    {
      "cell_type": "code",
      "execution_count": null,
      "metadata": {
        "id": "T9DPusLGMz9N",
        "outputId": "f2618c5d-9eac-4fd5-f7d6-0bbd79766c55"
      },
      "outputs": [
        {
          "name": "stdout",
          "output_type": "stream",
          "text": [
            "['Hello', 'bestest', 'friend.']\n"
          ]
        }
      ],
      "source": [
        "# Slice the entire list but use step size 2 to get every other item:\n",
        "\n",
        "my_slice =  another_list[0:6:2]\n",
        "print(my_slice )"
      ]
    },
    {
      "cell_type": "markdown",
      "metadata": {
        "id": "uxR5zV8CMz9O"
      },
      "source": [
        "You can leave the starting or ending index blank to slice from the beginning or up to the end of the list respectively:"
      ]
    },
    {
      "cell_type": "code",
      "execution_count": null,
      "metadata": {
        "id": "clz6n3USMz9O",
        "outputId": "a175de61-74a2-4f64-899a-5962537b7a3a"
      },
      "outputs": [
        {
          "data": {
            "text/plain": [
              "['Hello', 'my', 'bestest', 'old', 'friend.']"
            ]
          },
          "execution_count": 38,
          "metadata": {},
          "output_type": "execute_result"
        }
      ],
      "source": [
        "another_list\n",
        "\n",
        "# [0]\n",
        "# [0:2]"
      ]
    },
    {
      "cell_type": "code",
      "execution_count": null,
      "metadata": {
        "id": "_pKcQl6EMz9P",
        "outputId": "5d080d8e-5a2c-4f03-c505-60c8ecd0282b"
      },
      "outputs": [
        {
          "name": "stdout",
          "output_type": "stream",
          "text": [
            "['Hello', 'my', 'bestest', 'old']\n"
          ]
        }
      ],
      "source": [
        "slice1 = another_list[:4]   # Slice everything up to index 4\n",
        "print(slice1)"
      ]
    },
    {
      "cell_type": "code",
      "execution_count": null,
      "metadata": {
        "id": "hKtOCYoUMz9P",
        "outputId": "7ead3506-4399-410b-aa5d-4916d06a9847"
      },
      "outputs": [
        {
          "name": "stdout",
          "output_type": "stream",
          "text": [
            "['old', 'friend.']\n"
          ]
        }
      ],
      "source": [
        "slice2 = another_list[3:]   # Slice everything from index 3 to the end\n",
        "print(slice2)"
      ]
    },
    {
      "cell_type": "markdown",
      "metadata": {
        "id": "opI32jOpMz9Q"
      },
      "source": [
        "If you provide a negative number as the step, the slice steps backward:"
      ]
    },
    {
      "cell_type": "code",
      "execution_count": null,
      "metadata": {
        "id": "ivahBRQOMz9Q",
        "outputId": "710e32df-ab4c-4d17-e903-808c893ba87b"
      },
      "outputs": [
        {
          "name": "stdout",
          "output_type": "stream",
          "text": [
            "['friend.', 'old']\n"
          ]
        }
      ],
      "source": [
        "# Take a slice starting at index 4, backward to index 2\n",
        "\n",
        "my_slice =  another_list[4:2:-1]\n",
        "print(my_slice )"
      ]
    },
    {
      "cell_type": "markdown",
      "metadata": {
        "id": "lJgmHrJrMz9R"
      },
      "source": [
        "If you don't provide a start or ending index, you slice of the entire list:"
      ]
    },
    {
      "cell_type": "code",
      "execution_count": null,
      "metadata": {
        "id": "ljtDzadPMz9S"
      },
      "outputs": [],
      "source": [
        "my_slice =  another_list[:]   # This slice operation copies the list\n",
        "print(my_slice)"
      ]
    },
    {
      "cell_type": "markdown",
      "metadata": {
        "id": "3g1PFgzHMz9S"
      },
      "source": [
        "Using a step of -1 without a starting or ending index slices the entire list in reverse, providing a shorthand to reverse a list:"
      ]
    },
    {
      "cell_type": "code",
      "execution_count": null,
      "metadata": {
        "id": "C3Q03ZOKMz9T"
      },
      "outputs": [],
      "source": [
        "my_slice =  another_list[::-1] # This slice operation reverses the list\n",
        "print(my_slice)"
      ]
    },
    {
      "cell_type": "markdown",
      "metadata": {
        "id": "wCoKlpcIMz9U"
      },
      "source": [
        "You can use indexing to change the values within a list or delete items in a list:"
      ]
    },
    {
      "cell_type": "code",
      "execution_count": null,
      "metadata": {
        "id": "ua1f8DiMMz9U"
      },
      "outputs": [],
      "source": [
        "another_list[3] = \"new\"   # Set the value at index 3 to \"new\"\n",
        "\n",
        "print(another_list)\n",
        "\n",
        "del(another_list[3])      # Delete the item at index 3\n",
        "\n",
        "print(another_list)"
      ]
    },
    {
      "cell_type": "markdown",
      "metadata": {
        "id": "yQTTNyykMz9V"
      },
      "source": [
        "You can also remove items from a list using the list.pop() function. pop() removes the final item in a list and returns it:"
      ]
    },
    {
      "cell_type": "code",
      "execution_count": null,
      "metadata": {
        "id": "DT31RrylMz9V"
      },
      "outputs": [],
      "source": [
        "next_item = another_list.pop()\n",
        "\n",
        "print(next_item)\n",
        "print(another_list)"
      ]
    },
    {
      "cell_type": "markdown",
      "metadata": {
        "id": "UG2wRRhMMz9V"
      },
      "source": [
        "Notice that the list resizes itself dynamically as you delete or add items to it. Appending items to lists and removing items from the end of list with list.pop() are very fast operations. Deleting items at the front of a list or within the body of a lists is much slower."
      ]
    },
    {
      "cell_type": "code",
      "execution_count": null,
      "metadata": {
        "id": "fbsnmR9sMz9W"
      },
      "outputs": [],
      "source": []
    }
  ],
  "metadata": {
    "kernelspec": {
      "display_name": "Python 3 (ipykernel)",
      "language": "python",
      "name": "python3"
    },
    "language_info": {
      "codemirror_mode": {
        "name": "ipython",
        "version": 3
      },
      "file_extension": ".py",
      "mimetype": "text/x-python",
      "name": "python",
      "nbconvert_exporter": "python",
      "pygments_lexer": "ipython3",
      "version": "3.9.7"
    },
    "colab": {
      "provenance": [],
      "include_colab_link": true
    }
  },
  "nbformat": 4,
  "nbformat_minor": 0
}