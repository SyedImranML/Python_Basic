{
 "cells": [
  {
   "cell_type": "code",
   "execution_count": 2,
   "id": "2b700593",
   "metadata": {},
   "outputs": [],
   "source": [
    "a=0\n",
    "if (a):\n",
    "    print('We are using If condition')\n",
    "    "
   ]
  },
  {
   "cell_type": "code",
   "execution_count": 3,
   "id": "d2e6c787",
   "metadata": {},
   "outputs": [
    {
     "name": "stdout",
     "output_type": "stream",
     "text": [
      "We are in If condition\n"
     ]
    }
   ],
   "source": [
    "a=1\n",
    "if (a):\n",
    "    print('We are in If condition')"
   ]
  },
  {
   "cell_type": "code",
   "execution_count": 4,
   "id": "fc1e7006",
   "metadata": {},
   "outputs": [
    {
     "name": "stdout",
     "output_type": "stream",
     "text": [
      "We are using If condition\n"
     ]
    }
   ],
   "source": [
    "a=8\n",
    "if (a):\n",
    "    print('We are using If condition')"
   ]
  },
  {
   "cell_type": "code",
   "execution_count": 5,
   "id": "b48792b5",
   "metadata": {},
   "outputs": [
    {
     "name": "stdout",
     "output_type": "stream",
     "text": [
      "We are using If condition\n"
     ]
    }
   ],
   "source": [
    "a=-1\n",
    "if (a):\n",
    "    print('We are using If condition')"
   ]
  },
  {
   "cell_type": "code",
   "execution_count": 6,
   "id": "2d109537",
   "metadata": {},
   "outputs": [
    {
     "name": "stdout",
     "output_type": "stream",
     "text": [
      "We are using If condition\n"
     ]
    }
   ],
   "source": [
    "# -1 ,-2 4 6 is considered as true \n",
    "# only 0 is considered as false\n",
    "\n",
    "a=-1\n",
    "if (a):\n",
    "    print('We are using If condition')\n",
    "else:\n",
    "    print('We are in Else')"
   ]
  },
  {
   "cell_type": "code",
   "execution_count": 7,
   "id": "bc239f13",
   "metadata": {},
   "outputs": [
    {
     "name": "stdout",
     "output_type": "stream",
     "text": [
      "We are in Else\n"
     ]
    }
   ],
   "source": [
    "a=0\n",
    "if (a):\n",
    "    print('We are using If condition')\n",
    "else:\n",
    "    print('We are in Else')"
   ]
  },
  {
   "cell_type": "code",
   "execution_count": 8,
   "id": "5d88453b",
   "metadata": {},
   "outputs": [
    {
     "name": "stdout",
     "output_type": "stream",
     "text": [
      "We are in Else\n"
     ]
    }
   ],
   "source": [
    "# emply string value is also False\n",
    "\n",
    "a=''\n",
    "if (a):\n",
    "    print('We are using If condition')\n",
    "else:\n",
    "    print('We are in Else')"
   ]
  },
  {
   "cell_type": "code",
   "execution_count": 9,
   "id": "170b269d",
   "metadata": {},
   "outputs": [
    {
     "name": "stdout",
     "output_type": "stream",
     "text": [
      "We are in Else\n"
     ]
    }
   ],
   "source": [
    "a=0\n",
    "if (''):\n",
    "    print('We are using If condition')\n",
    "else:\n",
    "    print('We are in Else')"
   ]
  },
  {
   "cell_type": "code",
   "execution_count": 10,
   "id": "97d29b91",
   "metadata": {},
   "outputs": [
    {
     "name": "stdout",
     "output_type": "stream",
     "text": [
      "Hi\n",
      "Hello\n"
     ]
    }
   ],
   "source": [
    "# Q. What is the output of the given below program ?\n",
    "\n",
    "a=25\n",
    "if a> 15:\n",
    "    print('Hi')\n",
    "if a <= 30:\n",
    "    print(\"Hello\")\n",
    "else:\n",
    "    print(\"Know Program\")\n",
    "    "
   ]
  },
  {
   "cell_type": "code",
   "execution_count": 11,
   "id": "04734a8a",
   "metadata": {},
   "outputs": [
    {
     "name": "stdout",
     "output_type": "stream",
     "text": [
      "5\n",
      "Positive Number\n"
     ]
    }
   ],
   "source": [
    "# Positive or Negative Number\n",
    "\n",
    "a=int(input())\n",
    "if a>0:\n",
    "      print(\"Positive Number\")\n",
    "elif a==0:\n",
    "      print(\"Zero\")\n",
    "else:\n",
    "      print(\"Negative Number\")\n",
    "      print(\"Hello\")\n",
    "      print(\"World\")"
   ]
  },
  {
   "cell_type": "markdown",
   "id": "4379fad6",
   "metadata": {},
   "source": [
    "### loop"
   ]
  },
  {
   "cell_type": "code",
   "execution_count": 12,
   "id": "57a140b3",
   "metadata": {},
   "outputs": [],
   "source": [
    "# Loop is repeatation of the task or will execute block of code"
   ]
  },
  {
   "cell_type": "code",
   "execution_count": 13,
   "id": "a6a7f477",
   "metadata": {},
   "outputs": [
    {
     "name": "stdout",
     "output_type": "stream",
     "text": [
      "Hello\n",
      "Hello\n",
      "Hello\n",
      "Hello\n",
      "Hello\n"
     ]
    }
   ],
   "source": [
    "print(\"Hello\")\n",
    "print(\"Hello\")\n",
    "print(\"Hello\")\n",
    "print(\"Hello\")\n",
    "print(\"Hello\")"
   ]
  },
  {
   "cell_type": "code",
   "execution_count": 14,
   "id": "f861f5f3",
   "metadata": {},
   "outputs": [
    {
     "name": "stdout",
     "output_type": "stream",
     "text": [
      "Hello\n",
      "Hello\n",
      "Hello\n",
      "Hello\n",
      "Hello\n"
     ]
    }
   ],
   "source": [
    "#Using for Loop\n",
    "i=0\n",
    "for i in range(5):\n",
    "    print(\"Hello\")"
   ]
  },
  {
   "cell_type": "code",
   "execution_count": 15,
   "id": "25d0181c",
   "metadata": {},
   "outputs": [
    {
     "name": "stdout",
     "output_type": "stream",
     "text": [
      "Hello\n",
      "Hello\n",
      "Hello\n",
      "Hello\n",
      "Hello\n"
     ]
    }
   ],
   "source": [
    "# Using While loop\n",
    "\n",
    "i=0\n",
    "while i < 5:\n",
    "    print(\"Hello\")\n",
    "    i+=1"
   ]
  },
  {
   "cell_type": "code",
   "execution_count": 16,
   "id": "5b70ac2c",
   "metadata": {},
   "outputs": [
    {
     "name": "stdout",
     "output_type": "stream",
     "text": [
      "3\n"
     ]
    }
   ],
   "source": [
    "value =0\n",
    "value+=1\n",
    "value+=1\n",
    "value+=1\n",
    "print(value)"
   ]
  },
  {
   "cell_type": "code",
   "execution_count": 17,
   "id": "fb3f68e6",
   "metadata": {},
   "outputs": [
    {
     "name": "stdout",
     "output_type": "stream",
     "text": [
      "3\n"
     ]
    }
   ],
   "source": [
    "value=0\n",
    "for i in range(3):\n",
    "    value+=1\n",
    "\n",
    "print(value)"
   ]
  },
  {
   "cell_type": "code",
   "execution_count": 18,
   "id": "5f27de59",
   "metadata": {},
   "outputs": [],
   "source": [
    "# while problems\n",
    "\n",
    "i=0\n",
    "while i<0:\n",
    "    print(\"Hello\")\n",
    "    i+=1"
   ]
  },
  {
   "cell_type": "code",
   "execution_count": 19,
   "id": "177bf8c1",
   "metadata": {},
   "outputs": [
    {
     "name": "stdout",
     "output_type": "stream",
     "text": [
      "Hello\n",
      "Hello\n",
      "Hello\n",
      "Hello\n",
      "Hello\n"
     ]
    }
   ],
   "source": [
    "i=0\n",
    "while i<10:\n",
    "    print(\"Hello\")\n",
    "    i+=2"
   ]
  },
  {
   "cell_type": "code",
   "execution_count": 20,
   "id": "3b815e0b",
   "metadata": {},
   "outputs": [
    {
     "name": "stdout",
     "output_type": "stream",
     "text": [
      "Hello 0\n",
      "Hello 2\n",
      "Hello 4\n",
      "Hello 6\n",
      "Hello 8\n"
     ]
    }
   ],
   "source": [
    "i=0\n",
    "while i<10:\n",
    "    print(\"Hello\",i)\n",
    "    i+=2"
   ]
  },
  {
   "cell_type": "code",
   "execution_count": 21,
   "id": "660c907f",
   "metadata": {},
   "outputs": [
    {
     "name": "stdout",
     "output_type": "stream",
     "text": [
      "Hello 10\n",
      "Hello 8\n",
      "Hello 6\n",
      "Hello 4\n",
      "Hello 2\n"
     ]
    }
   ],
   "source": [
    "i=10\n",
    "while i>0:\n",
    "    print(\"Hello\",i)\n",
    "    i-=2"
   ]
  },
  {
   "cell_type": "code",
   "execution_count": 22,
   "id": "a0fa3247",
   "metadata": {},
   "outputs": [
    {
     "name": "stdout",
     "output_type": "stream",
     "text": [
      "Hello 10\n",
      "Hello 8\n",
      "Hello 6\n",
      "Hello 4\n",
      "Hello 2\n"
     ]
    }
   ],
   "source": [
    "i=10\n",
    "while i>0:\n",
    "    print(\"Hello\",i)\n",
    "    i-=2"
   ]
  },
  {
   "cell_type": "code",
   "execution_count": 23,
   "id": "d2a8e47e",
   "metadata": {},
   "outputs": [
    {
     "name": "stdout",
     "output_type": "stream",
     "text": [
      "Hello 1\n",
      "Hello 2\n",
      "Hello 4\n",
      "Hello 8\n"
     ]
    }
   ],
   "source": [
    "i=1\n",
    "while i<10:\n",
    "    print(\"Hello\",i)\n",
    "    i*=2"
   ]
  },
  {
   "cell_type": "code",
   "execution_count": null,
   "id": "5b21b985",
   "metadata": {},
   "outputs": [],
   "source": [
    "Suppose you are running a pizza restaurant, and you want to take orders from customers\n",
    "until you run out of ingredients.\n",
    "\n",
    "You have two kinds of pizzas one is cheese pizza and other is Margherita ,\n",
    "\n",
    "for margherita you need flour of 200 units and tomato_sauce of 50 units \n",
    "and cheese of 50 units \n",
    "\n",
    "similarly for cheese pizza only cheese will be used of 100 units \n",
    "other ingredients will be same."
   ]
  },
  {
   "cell_type": "code",
   "execution_count": null,
   "id": "5546ffcc",
   "metadata": {},
   "outputs": [],
   "source": [
    "#Margherita\n",
    "flour = 200 units\n",
    "tomato_sauce =50 units\n",
    "cheese = 50  units\n",
    "\n",
    "#Cheese pizza\n",
    "flour = 200 units\n",
    "tomato_sauce =50 units\n",
    "cheese = 100"
   ]
  },
  {
   "cell_type": "code",
   "execution_count": 44,
   "id": "6e3cdc7a",
   "metadata": {},
   "outputs": [
    {
     "name": "stdout",
     "output_type": "stream",
     "text": [
      "We are Open !!\n",
      "1000 500 200\n",
      "What would you like to order ?: cheese\n",
      "Baking Cheese pizza\n",
      "Here's your cheese pizza\n",
      "800 400 150\n",
      "What would you like to order ?: margherita\n",
      "Baking Margherita pizza\n",
      "Here's your Margherita pizza\n",
      "600 350 100\n",
      "What would you like to order ?: cheese\n",
      "Baking Cheese pizza\n",
      "Here's your cheese pizza\n",
      "400 250 50\n",
      "What would you like to order ?: cheese\n",
      "Baking Cheese pizza\n",
      "Here's your cheese pizza\n",
      "We are close!!!\n"
     ]
    }
   ],
   "source": [
    "print(\"We are Open !!\")\n",
    "flour = 1000\n",
    "cheese =500\n",
    "tomato_sauce=200\n",
    "\n",
    "while flour >0 and cheese > 0 and tomato_sauce > 0:\n",
    "    print(flour,cheese,tomato_sauce)\n",
    "    order = input(\"What would you like to order ?: \")\n",
    "    if order == 'cheese' and cheese >=100 and tomato_sauce >=50 and flour >=200:\n",
    "        cheese-=100\n",
    "        tomato_sauce-=50\n",
    "        flour-=200\n",
    "        print(\"Baking Cheese pizza\")\n",
    "        print(\"Here's your cheese pizza\")\n",
    "    elif order == \"margherita\" and cheese >=50 and tomato_sauce >=50 and flour >=200:\n",
    "        cheese-=50\n",
    "        tomato_sauce-=50\n",
    "        flour-=200\n",
    "        print(\"Baking Margherita pizza\")\n",
    "        print(\"Here's your Margherita pizza\") \n",
    "                        \n",
    "    else:\n",
    "        print(\"Sorry, we don't have the ingredients for that.\")\n",
    "        \n",
    "        \n",
    "print(\"We are close!!!\")\n",
    "            \n",
    "          "
   ]
  },
  {
   "cell_type": "code",
   "execution_count": 45,
   "id": "c1b200e5",
   "metadata": {},
   "outputs": [
    {
     "name": "stdout",
     "output_type": "stream",
     "text": [
      "[10, 20, 30]\n"
     ]
    }
   ],
   "source": [
    "x=[10,20,30]\n",
    "print(x)"
   ]
  },
  {
   "cell_type": "code",
   "execution_count": 46,
   "id": "8de44d42",
   "metadata": {},
   "outputs": [
    {
     "data": {
      "text/plain": [
       "list"
      ]
     },
     "execution_count": 46,
     "metadata": {},
     "output_type": "execute_result"
    }
   ],
   "source": [
    "type(x)"
   ]
  },
  {
   "cell_type": "code",
   "execution_count": 47,
   "id": "f49b982d",
   "metadata": {},
   "outputs": [
    {
     "name": "stdout",
     "output_type": "stream",
     "text": [
      "['hello', 'Python', 10, -10, -1.234, 10.98, True]\n"
     ]
    }
   ],
   "source": [
    "x=5\n",
    "y=[\"hello\",\"Python\",10,-10,-1.234,10.98,True]\n",
    "print(y)"
   ]
  },
  {
   "cell_type": "code",
   "execution_count": 48,
   "id": "41d27e80",
   "metadata": {},
   "outputs": [
    {
     "name": "stdout",
     "output_type": "stream",
     "text": [
      "['hello', 'Python', 10, -10, -1.234, 10.98, True, 5]\n"
     ]
    }
   ],
   "source": [
    "y=[\"hello\",\"Python\",10,-10,-1.234,10.98,True,x]\n",
    "print(y)"
   ]
  },
  {
   "cell_type": "code",
   "execution_count": 49,
   "id": "457bd80b",
   "metadata": {},
   "outputs": [
    {
     "name": "stdout",
     "output_type": "stream",
     "text": [
      "[0, 1, 2, 3, 4]\n"
     ]
    }
   ],
   "source": [
    "# Range function in python - gives continues number uptil a range value\n",
    "\n",
    "result=range(5)\n",
    "print(list(result))"
   ]
  },
  {
   "cell_type": "code",
   "execution_count": 51,
   "id": "8920b963",
   "metadata": {},
   "outputs": [
    {
     "name": "stdout",
     "output_type": "stream",
     "text": [
      "(0, 1, 2, 3, 4)\n"
     ]
    }
   ],
   "source": [
    "result=range(5)\n",
    "print(tuple(result))"
   ]
  },
  {
   "cell_type": "code",
   "execution_count": 52,
   "id": "3ffb4ca8",
   "metadata": {},
   "outputs": [
    {
     "name": "stdout",
     "output_type": "stream",
     "text": [
      "[0, 1]\n"
     ]
    }
   ],
   "source": [
    "result=range(2)\n",
    "print(list(result))"
   ]
  },
  {
   "cell_type": "code",
   "execution_count": 53,
   "id": "c421f440",
   "metadata": {},
   "outputs": [
    {
     "name": "stdout",
     "output_type": "stream",
     "text": [
      "[0]\n"
     ]
    }
   ],
   "source": [
    "result=range(1)\n",
    "print(list(result))"
   ]
  },
  {
   "cell_type": "code",
   "execution_count": 54,
   "id": "31f68583",
   "metadata": {},
   "outputs": [
    {
     "name": "stdout",
     "output_type": "stream",
     "text": [
      "[]\n"
     ]
    }
   ],
   "source": [
    "result=range(0)\n",
    "print(list(result))"
   ]
  },
  {
   "cell_type": "code",
   "execution_count": 55,
   "id": "4384b378",
   "metadata": {},
   "outputs": [
    {
     "name": "stdout",
     "output_type": "stream",
     "text": [
      "[2, 3, 4, 5, 6, 7, 8, 9]\n"
     ]
    }
   ],
   "source": [
    "result=range(2,10)\n",
    "print(list(result))"
   ]
  },
  {
   "cell_type": "code",
   "execution_count": 56,
   "id": "e67dfc9b",
   "metadata": {},
   "outputs": [
    {
     "name": "stdout",
     "output_type": "stream",
     "text": [
      "[1, 2, 3, 4, 5, 6, 7, 8, 9, 10, 11, 12, 13, 14, 15, 16, 17, 18, 19]\n"
     ]
    }
   ],
   "source": [
    "result=range(1,20)\n",
    "print(list(result))"
   ]
  },
  {
   "cell_type": "code",
   "execution_count": 57,
   "id": "597fa094",
   "metadata": {},
   "outputs": [
    {
     "name": "stdout",
     "output_type": "stream",
     "text": [
      "[]\n"
     ]
    }
   ],
   "source": [
    "result=range(20,10)\n",
    "print(list(result))"
   ]
  },
  {
   "cell_type": "code",
   "execution_count": 58,
   "id": "16eb445b",
   "metadata": {},
   "outputs": [
    {
     "name": "stdout",
     "output_type": "stream",
     "text": [
      "[]\n"
     ]
    }
   ],
   "source": [
    "result=range(10,10)\n",
    "print(list(result))"
   ]
  },
  {
   "cell_type": "code",
   "execution_count": 59,
   "id": "4fa6e6e8",
   "metadata": {},
   "outputs": [
    {
     "name": "stdout",
     "output_type": "stream",
     "text": [
      "[-5, -4, -3, -2, -1, 0, 1, 2, 3, 4, 5, 6, 7, 8, 9]\n"
     ]
    }
   ],
   "source": [
    "result=range(-5,10)\n",
    "print(list(result))"
   ]
  },
  {
   "cell_type": "code",
   "execution_count": 60,
   "id": "98bd8172",
   "metadata": {},
   "outputs": [
    {
     "name": "stdout",
     "output_type": "stream",
     "text": [
      "1\n",
      "2\n",
      "3\n",
      "4\n",
      "5\n"
     ]
    }
   ],
   "source": [
    "# for iterator in sequence:\n",
    "#      statements\n",
    "\n",
    "x=[1,2,3,4,5]\n",
    "for var in x:\n",
    "    print(var)"
   ]
  },
  {
   "cell_type": "code",
   "execution_count": 61,
   "id": "2fe6ddc5",
   "metadata": {},
   "outputs": [
    {
     "name": "stdout",
     "output_type": "stream",
     "text": [
      "4\n",
      "5\n",
      "6\n",
      "7\n",
      "8\n",
      "9\n"
     ]
    }
   ],
   "source": [
    "x=range(4,10)\n",
    "for var in x:\n",
    "    print(var)"
   ]
  },
  {
   "cell_type": "code",
   "execution_count": 62,
   "id": "1476e29d",
   "metadata": {},
   "outputs": [
    {
     "name": "stdout",
     "output_type": "stream",
     "text": [
      "Hello 4\n",
      "Hello 5\n",
      "Hello 6\n",
      "Hello 7\n",
      "Hello 8\n",
      "Hello 9\n"
     ]
    }
   ],
   "source": [
    "for var in range(4,10):\n",
    "    print(\"Hello\",var)"
   ]
  },
  {
   "cell_type": "code",
   "execution_count": 64,
   "id": "faf03016",
   "metadata": {},
   "outputs": [
    {
     "name": "stdout",
     "output_type": "stream",
     "text": [
      "Hello 0\n",
      "Welcome\n",
      "--------\n",
      "Hello 1\n",
      "Welcome\n",
      "--------\n",
      "Hello 2\n",
      "Welcome\n",
      "--------\n"
     ]
    }
   ],
   "source": [
    "for var in range(0,3):\n",
    "    print(\"Hello\",var)\n",
    "    print(\"Welcome\")\n",
    "    print('--------')"
   ]
  },
  {
   "cell_type": "code",
   "execution_count": 68,
   "id": "5a57cbbb",
   "metadata": {},
   "outputs": [
    {
     "name": "stdout",
     "output_type": "stream",
     "text": [
      "0\n",
      "1\n",
      "4\n",
      "9\n",
      "16\n"
     ]
    }
   ],
   "source": [
    "# Print Square of each Number\n",
    "\n",
    "for i in range(0,5):\n",
    "    \n",
    "    print(i*i)"
   ]
  },
  {
   "cell_type": "code",
   "execution_count": 69,
   "id": "24365cae",
   "metadata": {},
   "outputs": [
    {
     "name": "stdout",
     "output_type": "stream",
     "text": [
      "3\n",
      "0\n",
      "1\n",
      "4\n"
     ]
    }
   ],
   "source": [
    "n=int(input())\n",
    "for i in range(n):\n",
    "    \n",
    "    print(i*i)"
   ]
  },
  {
   "cell_type": "code",
   "execution_count": 70,
   "id": "f59ea1e6",
   "metadata": {},
   "outputs": [
    {
     "name": "stdout",
     "output_type": "stream",
     "text": [
      "3\n",
      "0\n",
      "1\n",
      "4\n"
     ]
    }
   ],
   "source": [
    "n=int(input())\n",
    "for i in range(n):\n",
    "    \n",
    "    print(i**2)"
   ]
  },
  {
   "cell_type": "code",
   "execution_count": 71,
   "id": "c04ef347",
   "metadata": {},
   "outputs": [
    {
     "name": "stdout",
     "output_type": "stream",
     "text": [
      "3\n",
      "0\n",
      "1\n",
      "4\n"
     ]
    }
   ],
   "source": [
    "n=int(input())\n",
    "i=0\n",
    "while i < n:\n",
    "    print(i**2)\n",
    "    i+=1"
   ]
  },
  {
   "cell_type": "code",
   "execution_count": null,
   "id": "7c6157bd",
   "metadata": {},
   "outputs": [],
   "source": []
  }
 ],
 "metadata": {
  "kernelspec": {
   "display_name": "Python 3",
   "language": "python",
   "name": "python3"
  },
  "language_info": {
   "codemirror_mode": {
    "name": "ipython",
    "version": 3
   },
   "file_extension": ".py",
   "mimetype": "text/x-python",
   "name": "python",
   "nbconvert_exporter": "python",
   "pygments_lexer": "ipython3",
   "version": "3.8.8"
  }
 },
 "nbformat": 4,
 "nbformat_minor": 5
}
