{
 "cells": [
  {
   "cell_type": "markdown",
   "id": "58f4501d",
   "metadata": {},
   "source": [
    "# PythonFor Loop"
   ]
  },
  {
   "cell_type": "code",
   "execution_count": 1,
   "id": "363abe2c",
   "metadata": {},
   "outputs": [],
   "source": [
    "# The for loop in Python is used to iterate over a sequence (list, tuple, string) \n",
    "# or other iterable objects."
   ]
  },
  {
   "cell_type": "code",
   "execution_count": 3,
   "id": "9934141b",
   "metadata": {},
   "outputs": [],
   "source": [
    "# Syntax of for Loop\n",
    "#    for val in sequence:\n",
    "#    loop body\n",
    "\n",
    "# Here, val is the variable that takes the value of the item inside the sequence on each iteration.\n",
    "# Loop continues until we reach the last item in the sequence. "
   ]
  },
  {
   "cell_type": "code",
   "execution_count": 4,
   "id": "07fcb396",
   "metadata": {},
   "outputs": [
    {
     "name": "stdout",
     "output_type": "stream",
     "text": [
      "The sum is 48\n"
     ]
    }
   ],
   "source": [
    "# Example -1\n",
    "\n",
    "# Program to find the sum of all numbers stored in a list\n",
    "\n",
    "# List of numbers\n",
    "numbers = [6, 5, 3, 8, 4, 2, 5, 4, 11]\n",
    "\n",
    "# variable to store the sum\n",
    "sum = 0\n",
    "\n",
    "# iterate over the list\n",
    "for val in numbers:\n",
    "    sum = sum+val\n",
    "\n",
    "print(\"The sum is\", sum)"
   ]
  },
  {
   "cell_type": "code",
   "execution_count": 5,
   "id": "1e237894",
   "metadata": {},
   "outputs": [
    {
     "name": "stdout",
     "output_type": "stream",
     "text": [
      "1\n",
      "2\n",
      "3\n",
      "4\n",
      "5\n",
      "6\n",
      "7\n",
      "8\n",
      "9\n",
      "10\n"
     ]
    }
   ],
   "source": [
    "# Example -2\n",
    "a=[1,2,3,4,5,6,7,8,9,10]\n",
    "for i in a:\n",
    "    print(i)\n",
    "    "
   ]
  },
  {
   "cell_type": "code",
   "execution_count": 8,
   "id": "f848f33a",
   "metadata": {},
   "outputs": [
    {
     "name": "stdout",
     "output_type": "stream",
     "text": [
      "['c', 'h', 'a', 'm', 'p']\n"
     ]
    }
   ],
   "source": [
    "# Example -3\n",
    "a=[x for x in 'champ']\n",
    "print(a)"
   ]
  },
  {
   "cell_type": "code",
   "execution_count": 9,
   "id": "2f1d8443",
   "metadata": {},
   "outputs": [
    {
     "name": "stdout",
     "output_type": "stream",
     "text": [
      "1 Odd Number\n",
      "2 Even Number\n",
      "3 Odd Number\n",
      "4 Even Number\n",
      "5 Odd Number\n",
      "6 Even Number\n",
      "7 Odd Number\n",
      "8 Even Number\n",
      "9 Odd Number\n",
      "10 Even Number\n"
     ]
    }
   ],
   "source": [
    "# Example -4 Odd & Even Number\n",
    "a=[1,2,3,4,5,6,7,8,9,10]\n",
    "for i in a:\n",
    "    if i%2==0:\n",
    "       print(i,\"Even Number\")\n",
    "    else:\n",
    "        print(i,\"Odd Number\")"
   ]
  },
  {
   "cell_type": "code",
   "execution_count": 10,
   "id": "8adc8746",
   "metadata": {},
   "outputs": [
    {
     "name": "stdout",
     "output_type": "stream",
     "text": [
      "H\n",
      "e\n",
      "l\n",
      "l\n",
      "o\n",
      " \n",
      "A\n",
      "l\n",
      "l\n"
     ]
    }
   ],
   "source": [
    "# Example -5 -  String - For\n",
    "for a in \"Hello All\":\n",
    "    print(a)"
   ]
  },
  {
   "cell_type": "code",
   "execution_count": 14,
   "id": "bdb887bd",
   "metadata": {},
   "outputs": [
    {
     "name": "stdout",
     "output_type": "stream",
     "text": [
      "dict_items([('Name', 'Syed Imran'), ('Age', 25), ('Company', ['TCS', 'GenPack'])])\n",
      "Name\n",
      "Syed Imran\n",
      "Age\n",
      "25\n",
      "Company\n",
      "['TCS', 'GenPack']\n"
     ]
    }
   ],
   "source": [
    "# Example -6 - Dictionary -For\n",
    "a={\"Name\":\"Syed Imran\",\"Age\":25,\"Company\":[\"TCS\",\"GenPack\"]}\n",
    "print(a.items())\n",
    "for k,v in a.items():\n",
    "    print(k)\n",
    "    print(v)"
   ]
  },
  {
   "cell_type": "markdown",
   "id": "dff393f5",
   "metadata": {},
   "source": [
    "# The range() function"
   ]
  },
  {
   "cell_type": "code",
   "execution_count": 15,
   "id": "a9d8cb47",
   "metadata": {},
   "outputs": [],
   "source": [
    "# We can generate a sequence of numbers using range() function.\n",
    "# range(10) will generate numbers from 0 to 9 (10 numbers).\n",
    "# We can also define the start, stop and step size as range(start, stop,step_size).\n",
    "# step_size defaults to 1 if not provided."
   ]
  },
  {
   "cell_type": "code",
   "execution_count": 16,
   "id": "b2ecde10",
   "metadata": {},
   "outputs": [
    {
     "name": "stdout",
     "output_type": "stream",
     "text": [
      "0\n",
      "1\n",
      "2\n",
      "3\n",
      "4\n"
     ]
    }
   ],
   "source": [
    "# We can use the range() function in for loops to iterate through a sequence of numbers\n",
    "# Example -1\n",
    "for a in range(5):\n",
    "    print(a)"
   ]
  },
  {
   "cell_type": "code",
   "execution_count": 17,
   "id": "1e819fbb",
   "metadata": {},
   "outputs": [
    {
     "name": "stdout",
     "output_type": "stream",
     "text": [
      "1\n",
      "3\n",
      "5\n",
      "7\n",
      "9\n"
     ]
    }
   ],
   "source": [
    "# Example -2\n",
    "for a in range(1,10,2):\n",
    "    print(a)"
   ]
  },
  {
   "cell_type": "code",
   "execution_count": 18,
   "id": "853a4614",
   "metadata": {},
   "outputs": [
    {
     "name": "stdout",
     "output_type": "stream",
     "text": [
      "10\n",
      "8\n",
      "6\n",
      "4\n",
      "2\n"
     ]
    }
   ],
   "source": [
    "# Example -3\n",
    "for a in range(10,0,-2):\n",
    "    print(a)"
   ]
  },
  {
   "cell_type": "code",
   "execution_count": 19,
   "id": "77414f3e",
   "metadata": {},
   "outputs": [
    {
     "name": "stdout",
     "output_type": "stream",
     "text": [
      "range(0, 10)\n",
      "[0, 1, 2, 3, 4, 5, 6, 7, 8, 9]\n",
      "[2, 3, 4, 5, 6, 7]\n",
      "[2, 5, 8, 11, 14, 17]\n"
     ]
    }
   ],
   "source": [
    "# To force this function to output all the items, we can use the function list().\n",
    "# Example -4\n",
    "\n",
    "print(range(10))\n",
    "print(list(range(10)))\n",
    "print(list(range(2, 8)))\n",
    "print(list(range(2, 20, 3)))"
   ]
  },
  {
   "cell_type": "code",
   "execution_count": 20,
   "id": "86acdb3d",
   "metadata": {},
   "outputs": [
    {
     "name": "stdout",
     "output_type": "stream",
     "text": [
      "I like Allen\n",
      "I like rock\n",
      "I like jazz\n"
     ]
    }
   ],
   "source": [
    "# Example -5\n",
    "\n",
    "# Program to iterate through a list using indexing\n",
    "\n",
    "genre = ['Allen', 'rock', 'jazz']\n",
    "\n",
    "# iterate over the list using index\n",
    "for i in range(len(genre)):\n",
    "    print(\"I like\", genre[i])"
   ]
  },
  {
   "cell_type": "markdown",
   "id": "f9abcea3",
   "metadata": {},
   "source": [
    "# For loop with else"
   ]
  },
  {
   "cell_type": "code",
   "execution_count": 21,
   "id": "dbc8446c",
   "metadata": {},
   "outputs": [],
   "source": [
    "# A for loop can have an optional else block as well. \n",
    "# The else part is executed if the items in the sequence used in for loop exhausts.\n"
   ]
  },
  {
   "cell_type": "code",
   "execution_count": 22,
   "id": "4d956f14",
   "metadata": {},
   "outputs": [
    {
     "name": "stdout",
     "output_type": "stream",
     "text": [
      "0\n",
      "1\n",
      "5\n",
      "No items left.\n"
     ]
    }
   ],
   "source": [
    "# Example -1\n",
    "\n",
    "digits = [0, 1, 5]\n",
    "\n",
    "for i in digits:\n",
    "    print(i)\n",
    "else:\n",
    "    print(\"No items left.\")"
   ]
  },
  {
   "cell_type": "code",
   "execution_count": 23,
   "id": "4897acea",
   "metadata": {},
   "outputs": [
    {
     "name": "stdout",
     "output_type": "stream",
     "text": [
      "No entry with that name found.\n"
     ]
    }
   ],
   "source": [
    "# Example -2\n",
    "\n",
    "# program to display student's marks from record\n",
    "student_name = 'Syed Imran'\n",
    "\n",
    "marks = {'Allen': 90, 'Smith': 55, 'Miller': 77}\n",
    "\n",
    "for student in marks:\n",
    "    if student == student_name:\n",
    "        print(marks[student])\n",
    "        break\n",
    "else:\n",
    "    print('No entry with that name found.')"
   ]
  },
  {
   "cell_type": "code",
   "execution_count": 1,
   "id": "b0620b58",
   "metadata": {},
   "outputs": [
    {
     "name": "stdout",
     "output_type": "stream",
     "text": [
      "90\n"
     ]
    }
   ],
   "source": [
    "# Example -3\n",
    "\n",
    "# program to display student's marks from record\n",
    "student_name = 'Syed Imran'\n",
    "\n",
    "marks = {'Syed Imran': 90, 'Smith': 55, 'Miller': 77}\n",
    "\n",
    "for student in marks:\n",
    "    if student == student_name:\n",
    "        print(marks[student])\n",
    "        break\n",
    "else:\n",
    "    print('No entry with that name found.')"
   ]
  },
  {
   "cell_type": "code",
   "execution_count": 2,
   "id": "616bc8c2",
   "metadata": {},
   "outputs": [
    {
     "data": {
      "text/plain": [
       "[0, 1, 4, 9, 16]"
      ]
     },
     "execution_count": 2,
     "metadata": {},
     "output_type": "execute_result"
    }
   ],
   "source": [
    "# Example-4\n",
    "\n",
    "a=[i**2 for i in range (0,5)]\n",
    "a"
   ]
  },
  {
   "cell_type": "code",
   "execution_count": 3,
   "id": "d2ade649",
   "metadata": {},
   "outputs": [
    {
     "data": {
      "text/plain": [
       "[0, 2, 4, 6, 8]"
      ]
     },
     "execution_count": 3,
     "metadata": {},
     "output_type": "execute_result"
    }
   ],
   "source": [
    "# Example -5\n",
    "a=[i for i in range(10) if i%2==0]\n",
    "a"
   ]
  },
  {
   "cell_type": "code",
   "execution_count": 6,
   "id": "38093166",
   "metadata": {},
   "outputs": [
    {
     "name": "stdout",
     "output_type": "stream",
     "text": [
      "0 H\n",
      "1 e\n",
      "2 l\n",
      "3 l\n",
      "4 o\n",
      "5  \n",
      "6 P\n",
      "7 y\n",
      "8 t\n",
      "9 h\n",
      "10 o\n",
      "11 n\n"
     ]
    }
   ],
   "source": [
    "# Enumerate - To track no. of iteration in the loop without working with variable increament\n",
    "\n",
    "a=0\n",
    "for i,a in enumerate(\"Hello Python\"):\n",
    "  print(i,a)"
   ]
  },
  {
   "cell_type": "code",
   "execution_count": 8,
   "id": "82d59c01",
   "metadata": {},
   "outputs": [
    {
     "data": {
      "text/plain": [
       "[('Name', 'Champ'), ('Age', 27), ('Country', 'India')]"
      ]
     },
     "execution_count": 8,
     "metadata": {},
     "output_type": "execute_result"
    }
   ],
   "source": [
    "# Zip - Creatinga tuples by zipping 2 list\n",
    "a = [\"Name\",\"Age\",\"Country\"]\n",
    "b = [\"Champ\",27,\"India\"]\n",
    "list(zip(a,b))"
   ]
  },
  {
   "cell_type": "code",
   "execution_count": null,
   "id": "eec6b8a9",
   "metadata": {},
   "outputs": [],
   "source": []
  }
 ],
 "metadata": {
  "kernelspec": {
   "display_name": "Python 3",
   "language": "python",
   "name": "python3"
  },
  "language_info": {
   "codemirror_mode": {
    "name": "ipython",
    "version": 3
   },
   "file_extension": ".py",
   "mimetype": "text/x-python",
   "name": "python",
   "nbconvert_exporter": "python",
   "pygments_lexer": "ipython3",
   "version": "3.8.8"
  }
 },
 "nbformat": 4,
 "nbformat_minor": 5
}
